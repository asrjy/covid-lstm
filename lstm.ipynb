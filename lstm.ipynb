{
 "cells": [
  {
   "cell_type": "markdown",
   "metadata": {},
   "source": [
    "## Part 1"
   ]
  },
  {
   "cell_type": "markdown",
   "metadata": {},
   "source": [
    "### Loading the datasets\n",
    "#### 1. Confirmed URL : https://github.com/CSSEGISandData/COVID-19/blob/master/csse_covid_19_data/csse_covid_19_time_series/time_series_19-covid-Confirmed.csv\n",
    "#### 2. Deaths URL: https://github.com/CSSEGISandData/COVID-19/blob/master/csse_covid_19_data/csse_covid_19_time_series/time_series_19-covid-Deaths.csv\n",
    "#### 3. Recovered URL: https://github.com/CSSEGISandData/COVID-19/blob/master/csse_covid_19_data/csse_covid_19_time_series/time_series_19-covid-Recovered.csv"
   ]
  },
  {
   "cell_type": "markdown",
   "metadata": {},
   "source": [
    "#### Starting date on all three datasets is 22/01/2020"
   ]
  },
  {
   "cell_type": "markdown",
   "metadata": {},
   "source": [
    "Steps (Without BeautifulSoup):-\n",
    "1. Import the CSV \n",
    "2. Check if the last column title matches with the last date row in the cleaned dataset.\n",
    "3. If it matches, don't add it to the dataset. \n",
    "4. If it does not match, go back iteratively until it matches and save all of the data.\n"
   ]
  },
  {
   "cell_type": "code",
   "execution_count": 1,
   "metadata": {},
   "outputs": [
    {
     "name": "stderr",
     "output_type": "stream",
     "text": [
      "Using TensorFlow backend.\n"
     ]
    }
   ],
   "source": [
    "import pandas as pd\n",
    "import numpy as np\n",
    "import matplotlib.pyplot as plt\n",
    "import sklearn\n",
    "from keras.preprocessing.sequence import TimeseriesGenerator\n",
    "from sklearn.preprocessing import MinMaxScaler\n",
    "import requests\n",
    "from bs4 import BeautifulSoup\n",
    "from datetime import date\n",
    "today = date.today()"
   ]
  },
  {
   "cell_type": "code",
   "execution_count": 2,
   "metadata": {},
   "outputs": [],
   "source": [
    "confirmed_url = \"https://github.com/CSSEGISandData/COVID-19/raw/master/csse_covid_19_data/csse_covid_19_time_series/time_series_covid19_confirmed_global.csv\"\n",
    "deaths_url = \"https://github.com/CSSEGISandData/COVID-19/raw/master/csse_covid_19_data/csse_covid_19_time_series/time_series_covid19_deaths_global.csv\"\n",
    "recovered_url = \"https://github.com/CSSEGISandData/COVID-19/raw/master/csse_covid_19_data/csse_covid_19_time_series/time_series_covid19_recovered_global.csv\""
   ]
  },
  {
   "cell_type": "code",
   "execution_count": 3,
   "metadata": {},
   "outputs": [
    {
     "data": {
      "text/plain": [
       "'05/19/20'"
      ]
     },
     "execution_count": 3,
     "metadata": {},
     "output_type": "execute_result"
    }
   ],
   "source": [
    "d1 = today.strftime(\"%m/%d/%y\").replace(' 0', ' ')\n",
    "d1"
   ]
  },
  {
   "cell_type": "markdown",
   "metadata": {},
   "source": [
    "### Function to get the number of confirmed cases as a Dataframe"
   ]
  },
  {
   "cell_type": "code",
   "execution_count": 4,
   "metadata": {},
   "outputs": [],
   "source": [
    "def get_confirmed():\n",
    "    con_casesnew = pd.read_csv(confirmed_url)\n",
    "    con_casesnew = con_casesnew.sum(axis=0)\n",
    "    con_casesnew.drop([\"Country/Region\",\"Lat\",\"Long\"], axis=0, inplace=True)\n",
    "    con_casesnew = pd.DataFrame(con_casesnew)\n",
    "    con_casesnew.rename(columns={0: \"Infected\"}, inplace=True)\n",
    "    return con_casesnew"
   ]
  },
  {
   "cell_type": "markdown",
   "metadata": {},
   "source": [
    "### Function to get the number of deaths as a Dataframe"
   ]
  },
  {
   "cell_type": "code",
   "execution_count": 5,
   "metadata": {},
   "outputs": [],
   "source": [
    "def get_deaths():\n",
    "    deaths_new = pd.read_csv(deaths_url)\n",
    "    deaths_new = deaths_new.sum(axis=0)\n",
    "    deaths_new.drop([\"Country/Region\",\"Lat\",\"Long\"], axis=0, inplace=True)\n",
    "    deaths_new = pd.DataFrame(deaths_new)\n",
    "    deaths_new.rename(columns={0: \"Deaths\"}, inplace=True)\n",
    "    return deaths_new"
   ]
  },
  {
   "cell_type": "markdown",
   "metadata": {},
   "source": [
    "### Function to get the number of recoveries as a Dataframe"
   ]
  },
  {
   "cell_type": "code",
   "execution_count": 6,
   "metadata": {},
   "outputs": [],
   "source": [
    "def get_recovered():\n",
    "    rec_new = pd.read_csv(confirmed_url)\n",
    "    rec_new = rec_new.sum(axis=0)\n",
    "    rec_new.drop([\"Country/Region\",\"Lat\",\"Long\"], axis=0, inplace=True)\n",
    "    rec_new = pd.DataFrame(rec_new)\n",
    "    rec_new.rename(columns={0: \"Recovered\"}, inplace=True)\n",
    "    \n",
    "    return rec_new"
   ]
  },
  {
   "cell_type": "markdown",
   "metadata": {},
   "source": [
    "### Scraper"
   ]
  },
  {
   "cell_type": "code",
   "execution_count": 7,
   "metadata": {},
   "outputs": [],
   "source": [
    "def get_newvals():\n",
    "    url_wminfo = \"https://www.worldometers.info/coronavirus/\"\n",
    "    page = requests.get(url_wminfo)\n",
    "    soup = BeautifulSoup(page.content, 'html.parser')\n",
    "    result = soup.find_all(\"div\", {\"id\":\"maincounter-wrap\"})\n",
    "    numbers = []\n",
    "    for r in result:\n",
    "        numbers.append(int(r.text.split(':')[-1].replace(',','').replace(' ','')))\n",
    "    return numbers"
   ]
  },
  {
   "cell_type": "code",
   "execution_count": 8,
   "metadata": {},
   "outputs": [
    {
     "data": {
      "text/plain": [
       "[4916995, 320564, 1922463]"
      ]
     },
     "execution_count": 8,
     "metadata": {},
     "output_type": "execute_result"
    }
   ],
   "source": [
    "numbers = get_newvals()\n",
    "numbers"
   ]
  },
  {
   "cell_type": "markdown",
   "metadata": {},
   "source": [
    "## Forecasting Confirmed Cases"
   ]
  },
  {
   "cell_type": "code",
   "execution_count": 9,
   "metadata": {},
   "outputs": [],
   "source": [
    "df = get_confirmed()"
   ]
  },
  {
   "cell_type": "code",
   "execution_count": 10,
   "metadata": {},
   "outputs": [
    {
     "data": {
      "text/html": [
       "<div>\n",
       "<style scoped>\n",
       "    .dataframe tbody tr th:only-of-type {\n",
       "        vertical-align: middle;\n",
       "    }\n",
       "\n",
       "    .dataframe tbody tr th {\n",
       "        vertical-align: top;\n",
       "    }\n",
       "\n",
       "    .dataframe thead th {\n",
       "        text-align: right;\n",
       "    }\n",
       "</style>\n",
       "<table border=\"1\" class=\"dataframe\">\n",
       "  <thead>\n",
       "    <tr style=\"text-align: right;\">\n",
       "      <th></th>\n",
       "      <th>Infected</th>\n",
       "    </tr>\n",
       "  </thead>\n",
       "  <tbody>\n",
       "    <tr>\n",
       "      <th>5/14/20</th>\n",
       "      <td>4442163</td>\n",
       "    </tr>\n",
       "    <tr>\n",
       "      <th>5/15/20</th>\n",
       "      <td>4542347</td>\n",
       "    </tr>\n",
       "    <tr>\n",
       "      <th>5/16/20</th>\n",
       "      <td>4634068</td>\n",
       "    </tr>\n",
       "    <tr>\n",
       "      <th>5/17/20</th>\n",
       "      <td>4713620</td>\n",
       "    </tr>\n",
       "    <tr>\n",
       "      <th>5/18/20</th>\n",
       "      <td>4801943</td>\n",
       "    </tr>\n",
       "  </tbody>\n",
       "</table>\n",
       "</div>"
      ],
      "text/plain": [
       "        Infected\n",
       "5/14/20  4442163\n",
       "5/15/20  4542347\n",
       "5/16/20  4634068\n",
       "5/17/20  4713620\n",
       "5/18/20  4801943"
      ]
     },
     "execution_count": 10,
     "metadata": {},
     "output_type": "execute_result"
    }
   ],
   "source": [
    "df.tail()"
   ]
  },
  {
   "cell_type": "code",
   "execution_count": 11,
   "metadata": {},
   "outputs": [],
   "source": [
    "close_data = df['Infected'].values\n",
    "close_data = close_data.reshape((-1,1))\n",
    "\n",
    "split_percent = 0.80\n",
    "split = int(split_percent*len(close_data))\n",
    "\n",
    "close_train = close_data[:split]\n",
    "close_test = close_data[split:]\n",
    "\n",
    "cclose = close_data"
   ]
  },
  {
   "cell_type": "code",
   "execution_count": 12,
   "metadata": {},
   "outputs": [],
   "source": [
    "look_back = 2\n",
    "\n",
    "train_generator = TimeseriesGenerator(cclose, cclose, length=look_back, batch_size=20)     \n",
    "test_generator = TimeseriesGenerator(close_test, close_test, length=look_back, batch_size=1)"
   ]
  },
  {
   "cell_type": "code",
   "execution_count": 13,
   "metadata": {},
   "outputs": [
    {
     "name": "stdout",
     "output_type": "stream",
     "text": [
      "Epoch 1/100\n",
      "6/6 [==============================] - 2s 404ms/step - loss: 2709611095053.5571\n",
      "Epoch 2/100\n",
      "6/6 [==============================] - 0s 31ms/step - loss: 2674782434266.7979\n",
      "Epoch 3/100\n",
      "6/6 [==============================] - 0s 30ms/step - loss: 2617536678062.6602\n",
      "Epoch 4/100\n",
      "6/6 [==============================] - 0s 29ms/step - loss: 2582349194329.5366\n",
      "Epoch 5/100\n",
      "6/6 [==============================] - 0s 27ms/step - loss: 2541669492636.6899\n",
      "Epoch 6/100\n",
      "6/6 [==============================] - 0s 21ms/step - loss: 2483775869943.8032\n",
      "Epoch 7/100\n",
      "6/6 [==============================] - 0s 26ms/step - loss: 2435065253906.6011\n",
      "Epoch 8/100\n",
      "6/6 [==============================] - 0s 20ms/step - loss: 2413007232524.6108\n",
      "Epoch 9/100\n",
      "6/6 [==============================] - 0s 22ms/step - loss: 2363131963866.4829\n",
      "Epoch 10/100\n",
      "6/6 [==============================] - 0s 29ms/step - loss: 2306577359381.7534\n",
      "Epoch 11/100\n",
      "6/6 [==============================] - 0s 23ms/step - loss: 2246099334602.4038\n",
      "Epoch 12/100\n",
      "6/6 [==============================] - 0s 34ms/step - loss: 2223947566924.2954\n",
      "Epoch 13/100\n",
      "6/6 [==============================] - 0s 15ms/step - loss: 2163431348542.7388\n",
      "Epoch 14/100\n",
      "6/6 [==============================] - 0s 18ms/step - loss: 2102402312295.4087\n",
      "Epoch 15/100\n",
      "6/6 [==============================] - 0s 10ms/step - loss: 2055814190793.7734\n",
      "Epoch 16/100\n",
      "6/6 [==============================] - 0s 27ms/step - loss: 2020589131197.7930\n",
      "Epoch 17/100\n",
      "6/6 [==============================] - 0s 27ms/step - loss: 1982123869211.7439\n",
      "Epoch 18/100\n",
      "6/6 [==============================] - 0s 20ms/step - loss: 1919715323361.1035\n",
      "Epoch 19/100\n",
      "6/6 [==============================] - 0s 20ms/step - loss: 1852045620897.4187\n",
      "Epoch 20/100\n",
      "6/6 [==============================] - 0s 33ms/step - loss: 1828796507515.9016\n",
      "Epoch 21/100\n",
      "6/6 [==============================] - 0s 26ms/step - loss: 1758302561941.7537\n",
      "Epoch 22/100\n",
      "6/6 [==============================] - 0s 30ms/step - loss: 1718700611092.4927\n",
      "Epoch 23/100\n",
      "6/6 [==============================] - 0s 16ms/step - loss: 1662053462962.4434\n",
      "Epoch 24/100\n",
      "6/6 [==============================] - 0s 16ms/step - loss: 1617807548918.8572\n",
      "Epoch 25/100\n",
      "6/6 [==============================] - 0s 11ms/step - loss: 1555906941260.6108\n",
      "Epoch 26/100\n",
      "6/6 [==============================] - 0s 19ms/step - loss: 1517784876282.6404\n",
      "Epoch 27/100\n",
      "6/6 [==============================] - 0s 22ms/step - loss: 1467042270123.8225\n",
      "Epoch 28/100\n",
      "6/6 [==============================] - 0s 27ms/step - loss: 1413605934993.3398\n",
      "Epoch 29/100\n",
      "6/6 [==============================] - 0s 25ms/step - loss: 1351172423834.6404\n",
      "Epoch 30/100\n",
      "6/6 [==============================] - 0s 35ms/step - loss: 1304488961512.3547\n",
      "Epoch 31/100\n",
      "6/6 [==============================] - 0s 38ms/step - loss: 1284120518543.2908\n",
      "Epoch 32/100\n",
      "6/6 [==============================] - 0s 33ms/step - loss: 1213554465565.9507\n",
      "Epoch 33/100\n",
      "6/6 [==============================] - 0s 23ms/step - loss: 1170505877507.4680\n",
      "Epoch 34/100\n",
      "6/6 [==============================] - 0s 22ms/step - loss: 1118551683672.1184\n",
      "Epoch 35/100\n",
      "6/6 [==============================] - 0s 34ms/step - loss: 1068634816625.1823\n",
      "Epoch 36/100\n",
      "6/6 [==============================] - 0s 32ms/step - loss: 1036227304284.3744\n",
      "Epoch 37/100\n",
      "6/6 [==============================] - 0s 39ms/step - loss: 986176169835.1921\n",
      "Epoch 38/100\n",
      "6/6 [==============================] - 0s 33ms/step - loss: 946234752171.8226\n",
      "Epoch 39/100\n",
      "6/6 [==============================] - 0s 24ms/step - loss: 893346572961.5763\n",
      "Epoch 40/100\n",
      "6/6 [==============================] - 0s 23ms/step - loss: 848724611857.4974\n",
      "Epoch 41/100\n",
      "6/6 [==============================] - 0s 26ms/step - loss: 806908526075.1133\n",
      "Epoch 42/100\n",
      "6/6 [==============================] - 0s 24ms/step - loss: 773339599371.9803\n",
      "Epoch 43/100\n",
      "6/6 [==============================] - 0s 25ms/step - loss: 727434271007.3694\n",
      "Epoch 44/100\n",
      "6/6 [==============================] - 0s 24ms/step - loss: 691134460272.0789\n",
      "Epoch 45/100\n",
      "6/6 [==============================] - 0s 28ms/step - loss: 653390680727.1725\n",
      "Epoch 46/100\n",
      "6/6 [==============================] - 0s 23ms/step - loss: 608004109603.0739\n",
      "Epoch 47/100\n",
      "6/6 [==============================] - 0s 29ms/step - loss: 588901033507.5468\n",
      "Epoch 48/100\n",
      "6/6 [==============================] - 0s 30ms/step - loss: 546429789169.9704\n",
      "Epoch 49/100\n",
      "6/6 [==============================] - 0s 22ms/step - loss: 511520493604.5714\n",
      "Epoch 50/100\n",
      "6/6 [==============================] - 0s 21ms/step - loss: 481892873113.2217\n",
      "Epoch 51/100\n",
      "6/6 [==============================] - 0s 21ms/step - loss: 447173160234.5616\n",
      "Epoch 52/100\n",
      "6/6 [==============================] - 0s 28ms/step - loss: 419110851570.1281\n",
      "Epoch 53/100\n",
      "6/6 [==============================] - 0s 22ms/step - loss: 384524595963.4286\n",
      "Epoch 54/100\n",
      "6/6 [==============================] - 0s 25ms/step - loss: 369087577776.7094\n",
      "Epoch 55/100\n",
      "6/6 [==============================] - 0s 26ms/step - loss: 333684944251.4286\n",
      "Epoch 56/100\n",
      "6/6 [==============================] - 0s 23ms/step - loss: 321507202043.7438\n",
      "Epoch 57/100\n",
      "6/6 [==============================] - 0s 29ms/step - loss: 288547820174.6601\n",
      "Epoch 58/100\n",
      "6/6 [==============================] - 0s 26ms/step - loss: 267287117984.7882\n",
      "Epoch 59/100\n",
      "6/6 [==============================] - 0s 31ms/step - loss: 248608156495.0542\n",
      "Epoch 60/100\n",
      "6/6 [==============================] - 0s 30ms/step - loss: 228894927650.7980\n",
      "Epoch 61/100\n",
      "6/6 [==============================] - 0s 24ms/step - loss: 210374812734.6207\n",
      "Epoch 62/100\n",
      "6/6 [==============================] - 0s 25ms/step - loss: 189519943493.4778\n",
      "Epoch 63/100\n",
      "6/6 [==============================] - 0s 39ms/step - loss: 173927912102.4236\n",
      "Epoch 64/100\n",
      "6/6 [==============================] - 0s 24ms/step - loss: 159132217221.3596\n",
      "Epoch 65/100\n",
      "6/6 [==============================] - 0s 24ms/step - loss: 147851129178.8769\n",
      "Epoch 66/100\n",
      "6/6 [==============================] - 0s 29ms/step - loss: 130924266664.3547\n",
      "Epoch 67/100\n",
      "6/6 [==============================] - 0s 29ms/step - loss: 121096858832.2759\n",
      "Epoch 68/100\n",
      "6/6 [==============================] - 0s 24ms/step - loss: 110602309131.2709\n",
      "Epoch 69/100\n",
      "6/6 [==============================] - 0s 25ms/step - loss: 96325949808.6700\n",
      "Epoch 70/100\n",
      "6/6 [==============================] - 0s 22ms/step - loss: 89188109050.4828\n",
      "Epoch 71/100\n",
      "6/6 [==============================] - 0s 22ms/step - loss: 79274632473.7931\n",
      "Epoch 72/100\n",
      "6/6 [==============================] - 0s 20ms/step - loss: 71136339985.7143\n",
      "Epoch 73/100\n",
      "6/6 [==============================] - 0s 28ms/step - loss: 63962021809.7537\n",
      "Epoch 74/100\n",
      "6/6 [==============================] - 0s 26ms/step - loss: 57838508382.6798\n",
      "Epoch 75/100\n",
      "6/6 [==============================] - 0s 22ms/step - loss: 50137037394.8768\n",
      "Epoch 76/100\n",
      "6/6 [==============================] - 0s 31ms/step - loss: 45646968533.1626\n",
      "Epoch 77/100\n",
      "6/6 [==============================] - 0s 27ms/step - loss: 13952847404.4335\n",
      "Epoch 78/100\n",
      "6/6 [==============================] - 0s 23ms/step - loss: 7100573990.7931\n",
      "Epoch 79/100\n",
      "6/6 [==============================] - 0s 34ms/step - loss: 3358210689.8867\n",
      "Epoch 80/100\n",
      "6/6 [==============================] - 0s 26ms/step - loss: 1612036166.1379\n",
      "Epoch 81/100\n",
      "6/6 [==============================] - 0s 25ms/step - loss: 1283905257.6749\n",
      "Epoch 82/100\n",
      "6/6 [==============================] - 0s 9ms/step - loss: 1152882191.5468\n",
      "Epoch 83/100\n",
      "6/6 [==============================] - 0s 21ms/step - loss: 1253463238.0887\n",
      "Epoch 84/100\n",
      "6/6 [==============================] - 0s 17ms/step - loss: 1312702693.7044\n",
      "Epoch 85/100\n",
      "6/6 [==============================] - 0s 6ms/step - loss: 1302814159.5961\n",
      "Epoch 86/100\n",
      "6/6 [==============================] - 0s 37ms/step - loss: 1272345573.3103\n",
      "Epoch 87/100\n",
      "6/6 [==============================] - 0s 13ms/step - loss: 1255877435.4581\n",
      "Epoch 88/100\n",
      "6/6 [==============================] - 0s 12ms/step - loss: 1236430542.8276\n",
      "Epoch 89/100\n",
      "6/6 [==============================] - 0s 10ms/step - loss: 1229792132.0591\n",
      "Epoch 90/100\n",
      "6/6 [==============================] - 0s 20ms/step - loss: 1242045857.2118\n",
      "Epoch 91/100\n"
     ]
    },
    {
     "name": "stdout",
     "output_type": "stream",
     "text": [
      "6/6 [==============================] - 0s 11ms/step - loss: 1231785934.6404\n",
      "Epoch 92/100\n",
      "6/6 [==============================] - 0s 17ms/step - loss: 1221546588.0985\n",
      "Epoch 93/100\n",
      "6/6 [==============================] - 0s 19ms/step - loss: 1222752546.1084\n",
      "Epoch 94/100\n",
      "6/6 [==============================] - 0s 26ms/step - loss: 1220096928.7980\n",
      "Epoch 95/100\n",
      "6/6 [==============================] - 0s 25ms/step - loss: 1232561366.4828\n",
      "Epoch 96/100\n",
      "6/6 [==============================] - 0s 22ms/step - loss: 1231245483.2808\n",
      "Epoch 97/100\n",
      "6/6 [==============================] - 0s 29ms/step - loss: 1226520981.3990\n",
      "Epoch 98/100\n",
      "6/6 [==============================] - 0s 23ms/step - loss: 1224653642.9951\n",
      "Epoch 99/100\n",
      "6/6 [==============================] - 0s 22ms/step - loss: 1224065486.7094\n",
      "Epoch 100/100\n",
      "6/6 [==============================] - 0s 28ms/step - loss: 1226615783.6453\n"
     ]
    },
    {
     "data": {
      "text/plain": [
       "<keras.callbacks.callbacks.History at 0x7fd9f805de10>"
      ]
     },
     "execution_count": 13,
     "metadata": {},
     "output_type": "execute_result"
    }
   ],
   "source": [
    "from keras.models import Sequential\n",
    "from keras.layers import LSTM, Dense\n",
    "\n",
    "model = Sequential()\n",
    "model.add(\n",
    "    LSTM(10,\n",
    "        activation='relu',\n",
    "        input_shape=(look_back,1))\n",
    ")\n",
    "model.add(Dense(1))\n",
    "model.compile(optimizer='adam', loss='mse')\n",
    "\n",
    "num_epochs = 100\n",
    "model.fit_generator(train_generator, epochs=num_epochs, verbose=1)"
   ]
  },
  {
   "cell_type": "code",
   "execution_count": 14,
   "metadata": {},
   "outputs": [],
   "source": [
    "prediction = model.predict_generator(test_generator)\n",
    "\n",
    "cclose = cclose.reshape((-1))\n",
    "close_train = close_train.reshape((-1))\n",
    "close_test = close_test.reshape((-1))\n",
    "prediction = prediction.reshape((-1))"
   ]
  },
  {
   "cell_type": "code",
   "execution_count": 15,
   "metadata": {},
   "outputs": [],
   "source": [
    "close_data = close_data.reshape((-1))\n",
    "\n",
    "def predict(num_prediction, model):\n",
    "    prediction_list = close_data[-look_back:]\n",
    "    \n",
    "    for _ in range(num_prediction):\n",
    "        x = prediction_list[-look_back:]\n",
    "        x = x.reshape((1, look_back, 1))\n",
    "        out = model.predict(x)[0][0]\n",
    "        prediction_list = np.append(prediction_list, out)\n",
    "    prediction_list = prediction_list[look_back-1:]\n",
    "        \n",
    "    return prediction_list\n",
    "num_prediction = 1\n",
    "forecast = predict(num_prediction, model)\n",
    "forecast = numbers[0]"
   ]
  },
  {
   "cell_type": "code",
   "execution_count": 16,
   "metadata": {},
   "outputs": [
    {
     "data": {
      "text/plain": [
       "4916995"
      ]
     },
     "execution_count": 16,
     "metadata": {},
     "output_type": "execute_result"
    }
   ],
   "source": [
    "forecast"
   ]
  },
  {
   "cell_type": "code",
   "execution_count": 17,
   "metadata": {},
   "outputs": [
    {
     "data": {
      "text/plain": [
       "[<matplotlib.lines.Line2D at 0x7fd9b07ae5d0>]"
      ]
     },
     "execution_count": 17,
     "metadata": {},
     "output_type": "execute_result"
    },
    {
     "data": {
      "image/png": "[encoded data removed]",
      "text/plain": [
       "<Figure size 432x288 with 1 Axes>"
      ]
     },
     "metadata": {
      "needs_background": "light"
     },
     "output_type": "display_data"
    }
   ],
   "source": [
    "plt.plot(df)"
   ]
  },
  {
   "cell_type": "code",
   "execution_count": 18,
   "metadata": {},
   "outputs": [
    {
     "data": {
      "text/html": [
       "<div>\n",
       "<style scoped>\n",
       "    .dataframe tbody tr th:only-of-type {\n",
       "        vertical-align: middle;\n",
       "    }\n",
       "\n",
       "    .dataframe tbody tr th {\n",
       "        vertical-align: top;\n",
       "    }\n",
       "\n",
       "    .dataframe thead th {\n",
       "        text-align: right;\n",
       "    }\n",
       "</style>\n",
       "<table border=\"1\" class=\"dataframe\">\n",
       "  <thead>\n",
       "    <tr style=\"text-align: right;\">\n",
       "      <th></th>\n",
       "      <th>Infected</th>\n",
       "    </tr>\n",
       "  </thead>\n",
       "  <tbody>\n",
       "    <tr>\n",
       "      <th>5/14/20</th>\n",
       "      <td>4442163</td>\n",
       "    </tr>\n",
       "    <tr>\n",
       "      <th>5/15/20</th>\n",
       "      <td>4542347</td>\n",
       "    </tr>\n",
       "    <tr>\n",
       "      <th>5/16/20</th>\n",
       "      <td>4634068</td>\n",
       "    </tr>\n",
       "    <tr>\n",
       "      <th>5/17/20</th>\n",
       "      <td>4713620</td>\n",
       "    </tr>\n",
       "    <tr>\n",
       "      <th>5/18/20</th>\n",
       "      <td>4801943</td>\n",
       "    </tr>\n",
       "  </tbody>\n",
       "</table>\n",
       "</div>"
      ],
      "text/plain": [
       "        Infected\n",
       "5/14/20  4442163\n",
       "5/15/20  4542347\n",
       "5/16/20  4634068\n",
       "5/17/20  4713620\n",
       "5/18/20  4801943"
      ]
     },
     "execution_count": 18,
     "metadata": {},
     "output_type": "execute_result"
    }
   ],
   "source": [
    "df.tail()"
   ]
  },
  {
   "cell_type": "code",
   "execution_count": 19,
   "metadata": {
    "scrolled": true
   },
   "outputs": [
    {
     "data": {
      "text/plain": [
       "4916995"
      ]
     },
     "execution_count": 19,
     "metadata": {},
     "output_type": "execute_result"
    }
   ],
   "source": [
    "forecast"
   ]
  },
  {
   "cell_type": "code",
   "execution_count": 20,
   "metadata": {},
   "outputs": [
    {
     "data": {
      "text/plain": [
       "[<matplotlib.lines.Line2D at 0x7fd9b05479d0>]"
      ]
     },
     "execution_count": 20,
     "metadata": {},
     "output_type": "execute_result"
    },
    {
     "data": {
      "image/png": "[encoded data removed]",
      "text/plain": [
       "<Figure size 432x288 with 1 Axes>"
      ]
     },
     "metadata": {
      "needs_background": "light"
     },
     "output_type": "display_data"
    }
   ],
   "source": [
    "plt.plot(df)\n",
    "plt.plot(forecast)"
   ]
  },
  {
   "cell_type": "code",
   "execution_count": 21,
   "metadata": {},
   "outputs": [],
   "source": [
    "df_temp = df"
   ]
  },
  {
   "cell_type": "code",
   "execution_count": 22,
   "metadata": {},
   "outputs": [],
   "source": [
    "df_temp.loc[d1] = forecast"
   ]
  },
  {
   "cell_type": "code",
   "execution_count": 23,
   "metadata": {},
   "outputs": [
    {
     "data": {
      "text/html": [
       "<div>\n",
       "<style scoped>\n",
       "    .dataframe tbody tr th:only-of-type {\n",
       "        vertical-align: middle;\n",
       "    }\n",
       "\n",
       "    .dataframe tbody tr th {\n",
       "        vertical-align: top;\n",
       "    }\n",
       "\n",
       "    .dataframe thead th {\n",
       "        text-align: right;\n",
       "    }\n",
       "</style>\n",
       "<table border=\"1\" class=\"dataframe\">\n",
       "  <thead>\n",
       "    <tr style=\"text-align: right;\">\n",
       "      <th></th>\n",
       "      <th>Infected</th>\n",
       "    </tr>\n",
       "  </thead>\n",
       "  <tbody>\n",
       "    <tr>\n",
       "      <th>1/22/20</th>\n",
       "      <td>555</td>\n",
       "    </tr>\n",
       "    <tr>\n",
       "      <th>1/23/20</th>\n",
       "      <td>654</td>\n",
       "    </tr>\n",
       "    <tr>\n",
       "      <th>1/24/20</th>\n",
       "      <td>941</td>\n",
       "    </tr>\n",
       "    <tr>\n",
       "      <th>1/25/20</th>\n",
       "      <td>1434</td>\n",
       "    </tr>\n",
       "    <tr>\n",
       "      <th>1/26/20</th>\n",
       "      <td>2118</td>\n",
       "    </tr>\n",
       "    <tr>\n",
       "      <th>...</th>\n",
       "      <td>...</td>\n",
       "    </tr>\n",
       "    <tr>\n",
       "      <th>5/15/20</th>\n",
       "      <td>4542347</td>\n",
       "    </tr>\n",
       "    <tr>\n",
       "      <th>5/16/20</th>\n",
       "      <td>4634068</td>\n",
       "    </tr>\n",
       "    <tr>\n",
       "      <th>5/17/20</th>\n",
       "      <td>4713620</td>\n",
       "    </tr>\n",
       "    <tr>\n",
       "      <th>5/18/20</th>\n",
       "      <td>4801943</td>\n",
       "    </tr>\n",
       "    <tr>\n",
       "      <th>05/19/20</th>\n",
       "      <td>4916995</td>\n",
       "    </tr>\n",
       "  </tbody>\n",
       "</table>\n",
       "<p>119 rows × 1 columns</p>\n",
       "</div>"
      ],
      "text/plain": [
       "         Infected\n",
       "1/22/20       555\n",
       "1/23/20       654\n",
       "1/24/20       941\n",
       "1/25/20      1434\n",
       "1/26/20      2118\n",
       "...           ...\n",
       "5/15/20   4542347\n",
       "5/16/20   4634068\n",
       "5/17/20   4713620\n",
       "5/18/20   4801943\n",
       "05/19/20  4916995\n",
       "\n",
       "[119 rows x 1 columns]"
      ]
     },
     "execution_count": 23,
     "metadata": {},
     "output_type": "execute_result"
    }
   ],
   "source": [
    "df_temp"
   ]
  }
 ],
 "metadata": {
  "kernelspec": {
   "display_name": "Python 3",
   "language": "python",
   "name": "python3"
  },
  "language_info": {
   "codemirror_mode": {
    "name": "ipython",
    "version": 3
   },
   "file_extension": ".py",
   "mimetype": "text/x-python",
   "name": "python",
   "nbconvert_exporter": "python",
   "pygments_lexer": "ipython3",
   "version": "3.7.6"
  }
 },
 "nbformat": 4,
 "nbformat_minor": 4
}
