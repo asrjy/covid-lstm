{
 "cells": [
  {
   "cell_type": "markdown",
   "metadata": {},
   "source": [
    "## Part 1"
   ]
  },
  {
   "cell_type": "markdown",
   "metadata": {},
   "source": [
    "### Loading the datasets\n",
    "#### 1. Confirmed URL : https://github.com/CSSEGISandData/COVID-19/blob/master/csse_covid_19_data/csse_covid_19_time_series/time_series_19-covid-Confirmed.csv\n",
    "#### 2. Deaths URL: https://github.com/CSSEGISandData/COVID-19/blob/master/csse_covid_19_data/csse_covid_19_time_series/time_series_19-covid-Deaths.csv\n",
    "#### 3. Recovered URL: https://github.com/CSSEGISandData/COVID-19/blob/master/csse_covid_19_data/csse_covid_19_time_series/time_series_19-covid-Recovered.csv"
   ]
  },
  {
   "cell_type": "markdown",
   "metadata": {},
   "source": [
    "#### Starting date on all three datasets is 22/01/2020"
   ]
  },
  {
   "cell_type": "markdown",
   "metadata": {},
   "source": [
    "Steps (Without BeautifulSoup):-\n",
    "1. Import the CSV \n",
    "2. Check if the last column title matches with the last date row in the cleaned dataset.\n",
    "3. If it matches, don't add it to the dataset. \n",
    "4. If it does not match, go back iteratively until it matches and save all of the data.\n"
   ]
  },
  {
   "cell_type": "code",
   "execution_count": 1,
   "metadata": {},
   "outputs": [
    {
     "name": "stderr",
     "output_type": "stream",
     "text": [
      "Using TensorFlow backend.\n"
     ]
    }
   ],
   "source": [
    "import pandas as pd\n",
    "import numpy as np\n",
    "import matplotlib.pyplot as plt\n",
    "import sklearn\n",
    "from keras.preprocessing.sequence import TimeseriesGenerator\n",
    "from sklearn.preprocessing import MinMaxScaler\n",
    "import requests\n",
    "from bs4 import BeautifulSoup"
   ]
  },
  {
   "cell_type": "code",
   "execution_count": 2,
   "metadata": {},
   "outputs": [],
   "source": [
    "confirmed_url = \"https://github.com/CSSEGISandData/COVID-19/raw/master/csse_covid_19_data/csse_covid_19_time_series/time_series_19-covid-Confirmed.csv\"\n",
    "deaths_url = \"https://github.com/CSSEGISandData/COVID-19/raw/master/csse_covid_19_data/csse_covid_19_time_series/time_series_19-covid-Deaths.csv\"\n",
    "recovered_url = \"https://github.com/CSSEGISandData/COVID-19/raw/master/csse_covid_19_data/csse_covid_19_time_series/time_series_19-covid-Recovered.csv\""
   ]
  },
  {
   "cell_type": "markdown",
   "metadata": {},
   "source": [
    "### Function to get the number of confirmed cases as a Dataframe"
   ]
  },
  {
   "cell_type": "code",
   "execution_count": 3,
   "metadata": {},
   "outputs": [],
   "source": [
    "def get_confirmed():\n",
    "    con_casesnew = pd.read_csv(confirmed_url)\n",
    "    con_casesnew = con_casesnew.sum(axis=0)\n",
    "    con_casesnew.drop([\"Country/Region\",\"Lat\",\"Long\"], axis=0, inplace=True)\n",
    "    con_casesnew = pd.DataFrame(con_casesnew)\n",
    "    con_casesnew.rename(columns={0: \"Infected\"}, inplace=True)\n",
    "    return con_casesnew"
   ]
  },
  {
   "cell_type": "markdown",
   "metadata": {},
   "source": [
    "### Function to get the number of deaths as a Dataframe"
   ]
  },
  {
   "cell_type": "code",
   "execution_count": 4,
   "metadata": {},
   "outputs": [],
   "source": [
    "def get_deaths():\n",
    "    deaths_new = pd.read_csv(deaths_url)\n",
    "    deaths_new = deaths_new.sum(axis=0)\n",
    "    deaths_new.drop([\"Country/Region\",\"Lat\",\"Long\"], axis=0, inplace=True)\n",
    "    deaths_new = pd.DataFrame(deaths_new)\n",
    "    deaths_new.rename(columns={0: \"Deaths\"}, inplace=True)\n",
    "    return deaths_new"
   ]
  },
  {
   "cell_type": "markdown",
   "metadata": {},
   "source": [
    "### Function to get the number of recoveries as a Dataframe"
   ]
  },
  {
   "cell_type": "code",
   "execution_count": 5,
   "metadata": {},
   "outputs": [],
   "source": [
    "def get_recovered():\n",
    "    rec_new = pd.read_csv(confirmed_url)\n",
    "    rec_new = rec_new.sum(axis=0)\n",
    "    rec_new.drop([\"Country/Region\",\"Lat\",\"Long\"], axis=0, inplace=True)\n",
    "    rec_new = pd.DataFrame(rec_new)\n",
    "    rec_new.rename(columns={0: \"Recovered\"}, inplace=True)\n",
    "    \n",
    "    return rec_new"
   ]
  },
  {
   "cell_type": "markdown",
   "metadata": {},
   "source": [
    "### Scraper"
   ]
  },
  {
   "cell_type": "code",
   "execution_count": 6,
   "metadata": {},
   "outputs": [],
   "source": [
    "def get_newvals():\n",
    "    url_wminfo = \"https://www.worldometers.info/coronavirus/\"\n",
    "    page = requests.get(url_wminfo)\n",
    "    soup = BeautifulSoup(page.content, 'html.parser')\n",
    "    result = soup.find_all(\"div\", {\"id\":\"maincounter-wrap\"})\n",
    "    numbers = []\n",
    "    for r in result:\n",
    "        numbers.append(int(r.text.split(':')[-1].replace(',','').replace(' ','')))\n",
    "    return numbers"
   ]
  },
  {
   "cell_type": "code",
   "execution_count": 7,
   "metadata": {},
   "outputs": [
    {
     "data": {
      "text/plain": [
       "[198712, 7989, 82779]"
      ]
     },
     "execution_count": 7,
     "metadata": {},
     "output_type": "execute_result"
    }
   ],
   "source": [
    "  numbers = get_newvals()\n",
    "numbers"
   ]
  },
  {
   "cell_type": "markdown",
   "metadata": {},
   "source": [
    "### Fixing the dates column"
   ]
  },
  {
   "cell_type": "code",
   "execution_count": 8,
   "metadata": {},
   "outputs": [],
   "source": [
    "# def_nextdate():\n",
    "    "
   ]
  },
  {
   "cell_type": "markdown",
   "metadata": {},
   "source": [
    "## Forecasting Confirmed Cases"
   ]
  },
  {
   "cell_type": "code",
   "execution_count": 9,
   "metadata": {},
   "outputs": [],
   "source": [
    "df = get_confirmed()"
   ]
  },
  {
   "cell_type": "code",
   "execution_count": 10,
   "metadata": {},
   "outputs": [
    {
     "data": {
      "text/html": [
       "<div>\n",
       "<style scoped>\n",
       "    .dataframe tbody tr th:only-of-type {\n",
       "        vertical-align: middle;\n",
       "    }\n",
       "\n",
       "    .dataframe tbody tr th {\n",
       "        vertical-align: top;\n",
       "    }\n",
       "\n",
       "    .dataframe thead th {\n",
       "        text-align: right;\n",
       "    }\n",
       "</style>\n",
       "<table border=\"1\" class=\"dataframe\">\n",
       "  <thead>\n",
       "    <tr style=\"text-align: right;\">\n",
       "      <th></th>\n",
       "      <th>Infected</th>\n",
       "    </tr>\n",
       "  </thead>\n",
       "  <tbody>\n",
       "    <tr>\n",
       "      <th>3/13/20</th>\n",
       "      <td>145193</td>\n",
       "    </tr>\n",
       "    <tr>\n",
       "      <th>3/14/20</th>\n",
       "      <td>156097</td>\n",
       "    </tr>\n",
       "    <tr>\n",
       "      <th>3/15/20</th>\n",
       "      <td>167449</td>\n",
       "    </tr>\n",
       "    <tr>\n",
       "      <th>3/16/20</th>\n",
       "      <td>181531</td>\n",
       "    </tr>\n",
       "    <tr>\n",
       "      <th>3/17/20</th>\n",
       "      <td>197146</td>\n",
       "    </tr>\n",
       "  </tbody>\n",
       "</table>\n",
       "</div>"
      ],
      "text/plain": [
       "        Infected\n",
       "3/13/20   145193\n",
       "3/14/20   156097\n",
       "3/15/20   167449\n",
       "3/16/20   181531\n",
       "3/17/20   197146"
      ]
     },
     "execution_count": 10,
     "metadata": {},
     "output_type": "execute_result"
    }
   ],
   "source": [
    "df.tail()"
   ]
  },
  {
   "cell_type": "code",
   "execution_count": 11,
   "metadata": {},
   "outputs": [],
   "source": [
    "close_data = df['Infected'].values\n",
    "close_data = close_data.reshape((-1,1))\n",
    "\n",
    "split_percent = 0.80\n",
    "split = int(split_percent*len(close_data))\n",
    "\n",
    "close_train = close_data[:split]\n",
    "close_test = close_data[split:]\n",
    "\n",
    "cclose = close_data"
   ]
  },
  {
   "cell_type": "code",
   "execution_count": 12,
   "metadata": {},
   "outputs": [],
   "source": [
    "look_back = 2\n",
    "\n",
    "train_generator = TimeseriesGenerator(cclose, cclose, length=look_back, batch_size=20)     \n",
    "test_generator = TimeseriesGenerator(close_test, close_test, length=look_back, batch_size=1)"
   ]
  },
  {
   "cell_type": "code",
   "execution_count": 13,
   "metadata": {},
   "outputs": [
    {
     "name": "stdout",
     "output_type": "stream",
     "text": [
      "Epoch 1/100\n",
      "3/3 [==============================] - 1s 294ms/step - loss: 8131225147.2593\n",
      "Epoch 2/100\n",
      "3/3 [==============================] - 0s 18ms/step - loss: 8131225103.4074\n",
      "Epoch 3/100\n",
      "3/3 [==============================] - 0s 28ms/step - loss: 8131224511.4074\n",
      "Epoch 4/100\n",
      "3/3 [==============================] - 0s 29ms/step - loss: 8131223822.8148\n",
      "Epoch 5/100\n",
      "3/3 [==============================] - 0s 17ms/step - loss: 8131223800.8889\n",
      "Epoch 6/100\n",
      "3/3 [==============================] - 0s 27ms/step - loss: 8131223406.2222\n",
      "Epoch 7/100\n",
      "3/3 [==============================] - 0s 31ms/step - loss: 8131223406.2222\n",
      "Epoch 8/100\n",
      "3/3 [==============================] - 0s 22ms/step - loss: 8131222836.1481\n",
      "Epoch 9/100\n",
      "3/3 [==============================] - 0s 25ms/step - loss: 8131222125.6296\n",
      "Epoch 10/100\n",
      "3/3 [==============================] - 0s 28ms/step - loss: 8131221480.8889\n",
      "Epoch 11/100\n",
      "3/3 [==============================] - 0s 33ms/step - loss: 8131221437.0370\n",
      "Epoch 12/100\n",
      "3/3 [==============================] - 0s 31ms/step - loss: 8131221064.2963\n",
      "Epoch 13/100\n",
      "3/3 [==============================] - 0s 23ms/step - loss: 8131221020.4444\n",
      "Epoch 14/100\n",
      "3/3 [==============================] - 0s 32ms/step - loss: 8131220331.8519\n",
      "Epoch 15/100\n",
      "3/3 [==============================] - 0s 24ms/step - loss: 8131219783.7037\n",
      "Epoch 16/100\n",
      "3/3 [==============================] - 0s 30ms/step - loss: 8131219739.8519\n",
      "Epoch 17/100\n",
      "3/3 [==============================] - 0s 31ms/step - loss: 8131219345.1852\n",
      "Epoch 18/100\n",
      "3/3 [==============================] - 0s 42ms/step - loss: 8131218678.5185\n",
      "Epoch 19/100\n",
      "3/3 [==============================] - 0s 34ms/step - loss: 8131218634.6667\n",
      "Epoch 20/100\n",
      "3/3 [==============================] - 0s 31ms/step - loss: 8131218218.0741\n",
      "Epoch 21/100\n",
      "3/3 [==============================] - 0s 33ms/step - loss: 8131218174.2222\n",
      "Epoch 22/100\n",
      "3/3 [==============================] - 0s 35ms/step - loss: 8131218152.2963\n",
      "Epoch 23/100\n",
      "3/3 [==============================] - 0s 39ms/step - loss: 8131216818.9630\n",
      "Epoch 24/100\n",
      "3/3 [==============================] - 0s 21ms/step - loss: 8131216424.2963\n",
      "Epoch 25/100\n",
      "3/3 [==============================] - 0s 39ms/step - loss: 8131216402.3704\n",
      "Epoch 26/100\n",
      "3/3 [==============================] - 0s 31ms/step - loss: 8131215735.7037\n",
      "Epoch 27/100\n",
      "3/3 [==============================] - 0s 28ms/step - loss: 8131215165.6296\n",
      "Epoch 28/100\n",
      "3/3 [==============================] - 0s 29ms/step - loss: 8131214477.0370\n",
      "Epoch 29/100\n",
      "3/3 [==============================] - 0s 25ms/step - loss: 8131214455.1111\n",
      "Epoch 30/100\n",
      "3/3 [==============================] - 0s 25ms/step - loss: 8131214104.2963\n",
      "Epoch 31/100\n",
      "3/3 [==============================] - 0s 32ms/step - loss: 8131214038.5185\n",
      "Epoch 32/100\n",
      "3/3 [==============================] - 0s 28ms/step - loss: 8131213950.8148\n",
      "Epoch 33/100\n",
      "3/3 [==============================] - 0s 37ms/step - loss: 8131212757.9259\n",
      "Epoch 34/100\n",
      "3/3 [==============================] - 0s 39ms/step - loss: 8131212113.1852\n",
      "Epoch 35/100\n",
      "3/3 [==============================] - 0s 32ms/step - loss: 8131212047.4074\n",
      "Epoch 36/100\n",
      "3/3 [==============================] - 0s 32ms/step - loss: 8131211696.5926\n",
      "Epoch 37/100\n",
      "3/3 [==============================] - 0s 24ms/step - loss: 8131211652.7407\n",
      "Epoch 38/100\n",
      "3/3 [==============================] - 0s 24ms/step - loss: 8131211608.8889\n",
      "Epoch 39/100\n",
      "3/3 [==============================] - 0s 32ms/step - loss: 8131210591.4074\n",
      "Epoch 40/100\n",
      "3/3 [==============================] - 0s 37ms/step - loss: 8131210525.6296\n",
      "Epoch 41/100\n",
      "3/3 [==============================] - 0s 46ms/step - loss: 8131209310.8148\n",
      "Epoch 42/100\n",
      "3/3 [==============================] - 0s 23ms/step - loss: 8131209266.9630\n",
      "Epoch 43/100\n",
      "3/3 [==============================] - 0s 31ms/step - loss: 8131209266.9630\n",
      "Epoch 44/100\n",
      "3/3 [==============================] - 0s 27ms/step - loss: 8131209201.1852\n",
      "Epoch 45/100\n",
      "3/3 [==============================] - 0s 33ms/step - loss: 8131208030.2222\n",
      "Epoch 46/100\n",
      "3/3 [==============================] - 0s 36ms/step - loss: 8131207319.7037\n",
      "Epoch 47/100\n",
      "3/3 [==============================] - 0s 30ms/step - loss: 8131207275.8519\n",
      "Epoch 48/100\n",
      "3/3 [==============================] - 0s 41ms/step - loss: 8131206280.2963\n",
      "Epoch 49/100\n",
      "3/3 [==============================] - 0s 35ms/step - loss: 8131206214.5185\n",
      "Epoch 50/100\n",
      "3/3 [==============================] - 0s 34ms/step - loss: 8131206192.5926\n",
      "Epoch 51/100\n",
      "3/3 [==============================] - 0s 31ms/step - loss: 8131205841.7778\n",
      "Epoch 52/100\n",
      "3/3 [==============================] - 0s 39ms/step - loss: 8131205109.3333\n",
      "Epoch 53/100\n",
      "3/3 [==============================] - 0s 31ms/step - loss: 8131205109.3333\n",
      "Epoch 54/100\n",
      "3/3 [==============================] - 0s 32ms/step - loss: 8131204692.7407\n",
      "Epoch 55/100\n",
      "3/3 [==============================] - 0s 29ms/step - loss: 8131204670.8148\n",
      "Epoch 56/100\n",
      "3/3 [==============================] - 0s 26ms/step - loss: 8131204583.1111\n",
      "Epoch 57/100\n",
      "3/3 [==============================] - 0s 34ms/step - loss: 8131203214.8148\n",
      "Epoch 58/100\n",
      "3/3 [==============================] - 0s 30ms/step - loss: 8131202548.1481\n",
      "Epoch 59/100\n",
      "3/3 [==============================] - 0s 29ms/step - loss: 8131202504.2963\n",
      "Epoch 60/100\n",
      "3/3 [==============================] - 0s 39ms/step - loss: 8131202306.9630\n",
      "Epoch 61/100\n",
      "3/3 [==============================] - 0s 32ms/step - loss: 8131202263.1111\n",
      "Epoch 62/100\n",
      "3/3 [==============================] - 0s 30ms/step - loss: 8131202241.1852\n",
      "Epoch 63/100\n",
      "3/3 [==============================] - 0s 26ms/step - loss: 8131201004.4444\n",
      "Epoch 64/100\n",
      "3/3 [==============================] - 0s 26ms/step - loss: 8131200337.7778\n",
      "Epoch 65/100\n",
      "3/3 [==============================] - 0s 25ms/step - loss: 8131200337.7778\n",
      "Epoch 66/100\n",
      "3/3 [==============================] - 0s 23ms/step - loss: 8131199943.1111\n",
      "Epoch 67/100\n",
      "3/3 [==============================] - 0s 21ms/step - loss: 8131199877.3333\n",
      "Epoch 68/100\n",
      "3/3 [==============================] - 0s 22ms/step - loss: 8131199833.4815\n",
      "Epoch 69/100\n",
      "3/3 [==============================] - 0s 34ms/step - loss: 8131198640.5926\n",
      "Epoch 70/100\n",
      "3/3 [==============================] - 0s 45ms/step - loss: 8131197952.0000\n",
      "Epoch 71/100\n",
      "3/3 [==============================] - 0s 24ms/step - loss: 8131197908.1481\n",
      "Epoch 72/100\n",
      "3/3 [==============================] - 0s 38ms/step - loss: 8131196846.8148\n",
      "Epoch 73/100\n",
      "3/3 [==============================] - 0s 42ms/step - loss: 8131196846.8148\n",
      "Epoch 74/100\n",
      "3/3 [==============================] - 0s 46ms/step - loss: 8131196846.8148\n",
      "Epoch 75/100\n",
      "3/3 [==============================] - 0s 45ms/step - loss: 8131196276.7407\n",
      "Epoch 76/100\n",
      "3/3 [==============================] - 0s 23ms/step - loss: 8131196210.9630\n",
      "Epoch 77/100\n",
      "3/3 [==============================] - 0s 27ms/step - loss: 8131195566.2222\n",
      "Epoch 78/100\n",
      "3/3 [==============================] - 0s 27ms/step - loss: 8131195149.6296\n",
      "Epoch 79/100\n",
      "3/3 [==============================] - 0s 33ms/step - loss: 8131195105.7778\n",
      "Epoch 80/100\n",
      "3/3 [==============================] - 0s 36ms/step - loss: 8131195105.7778\n",
      "Epoch 81/100\n",
      "3/3 [==============================] - 0s 33ms/step - loss: 8131193869.0370\n",
      "Epoch 82/100\n",
      "3/3 [==============================] - 0s 30ms/step - loss: 8131193180.4444\n",
      "Epoch 83/100\n",
      "3/3 [==============================] - 0s 22ms/step - loss: 8131193136.5926\n",
      "Epoch 84/100\n",
      "3/3 [==============================] - 0s 43ms/step - loss: 8131192939.2593\n",
      "Epoch 85/100\n",
      "3/3 [==============================] - 0s 25ms/step - loss: 8131192873.4815\n",
      "Epoch 86/100\n",
      "3/3 [==============================] - 0s 21ms/step - loss: 8131192851.5556\n",
      "Epoch 87/100\n",
      "3/3 [==============================] - 0s 28ms/step - loss: 8131191505.1852\n",
      "Epoch 88/100\n",
      "3/3 [==============================] - 0s 28ms/step - loss: 8131191461.3333\n",
      "Epoch 89/100\n",
      "3/3 [==============================] - 0s 27ms/step - loss: 8131190750.8148\n",
      "Epoch 90/100\n",
      "3/3 [==============================] - 0s 29ms/step - loss: 8131189908.7407\n",
      "Epoch 91/100\n",
      "3/3 [==============================] - 0s 29ms/step - loss: 8131189864.8889\n",
      "Epoch 92/100\n",
      "3/3 [==============================] - 0s 38ms/step - loss: 8131189799.1111\n",
      "Epoch 93/100\n"
     ]
    },
    {
     "name": "stdout",
     "output_type": "stream",
     "text": [
      "3/3 [==============================] - 0s 36ms/step - loss: 8131189272.8889\n",
      "Epoch 94/100\n",
      "3/3 [==============================] - 0s 27ms/step - loss: 8131188584.2963\n",
      "Epoch 95/100\n",
      "3/3 [==============================] - 0s 33ms/step - loss: 8131188584.2963\n",
      "Epoch 96/100\n",
      "3/3 [==============================] - 0s 35ms/step - loss: 8131188189.6296\n",
      "Epoch 97/100\n",
      "3/3 [==============================] - 0s 35ms/step - loss: 8131187479.1111\n",
      "Epoch 98/100\n",
      "3/3 [==============================] - 0s 31ms/step - loss: 8131187413.3333\n",
      "Epoch 99/100\n",
      "3/3 [==============================] - 0s 22ms/step - loss: 8131186887.1111\n",
      "Epoch 100/100\n",
      "3/3 [==============================] - 0s 20ms/step - loss: 8131186843.2593\n"
     ]
    },
    {
     "data": {
      "text/plain": [
       "<keras.callbacks.callbacks.History at 0x7f76604bfbd0>"
      ]
     },
     "execution_count": 13,
     "metadata": {},
     "output_type": "execute_result"
    }
   ],
   "source": [
    "from keras.models import Sequential\n",
    "from keras.layers import LSTM, Dense\n",
    "\n",
    "model = Sequential()\n",
    "model.add(\n",
    "    LSTM(10,\n",
    "        activation='relu',\n",
    "        input_shape=(look_back,1))\n",
    ")\n",
    "model.add(Dense(1))\n",
    "model.compile(optimizer='adam', loss='mse')\n",
    "\n",
    "num_epochs = 100\n",
    "model.fit_generator(train_generator, epochs=num_epochs, verbose=1)"
   ]
  },
  {
   "cell_type": "code",
   "execution_count": 14,
   "metadata": {},
   "outputs": [],
   "source": [
    "prediction = model.predict_generator(test_generator)\n",
    "\n",
    "cclose = cclose.reshape((-1))\n",
    "close_train = close_train.reshape((-1))\n",
    "close_test = close_test.reshape((-1))\n",
    "prediction = prediction.reshape((-1))"
   ]
  },
  {
   "cell_type": "code",
   "execution_count": 15,
   "metadata": {},
   "outputs": [],
   "source": [
    "close_data = close_data.reshape((-1))\n",
    "\n",
    "def predict(num_prediction, model):\n",
    "    prediction_list = close_data[-look_back:]\n",
    "    \n",
    "    for _ in range(num_prediction):\n",
    "        x = prediction_list[-look_back:]\n",
    "        x = x.reshape((1, look_back, 1))\n",
    "        out = model.predict(x)[0][0]\n",
    "        prediction_list = np.append(prediction_list, out)\n",
    "    prediction_list = prediction_list[look_back-1:]\n",
    "        \n",
    "    return prediction_list\n",
    "num_prediction = 1\n",
    "forecast = predict(num_prediction, model)\n",
    "forecast = numbers[0]"
   ]
  },
  {
   "cell_type": "code",
   "execution_count": 16,
   "metadata": {},
   "outputs": [
    {
     "data": {
      "text/plain": [
       "198712"
      ]
     },
     "execution_count": 16,
     "metadata": {},
     "output_type": "execute_result"
    }
   ],
   "source": [
    "forecast"
   ]
  },
  {
   "cell_type": "code",
   "execution_count": 17,
   "metadata": {},
   "outputs": [
    {
     "data": {
      "text/plain": [
       "[<matplotlib.lines.Line2D at 0x7f76484b3a90>]"
      ]
     },
     "execution_count": 17,
     "metadata": {},
     "output_type": "execute_result"
    },
    {
     "data": {
      "image/png": "[encoded data removed]",
      "text/plain": [
       "<Figure size 432x288 with 1 Axes>"
      ]
     },
     "metadata": {
      "needs_background": "light"
     },
     "output_type": "display_data"
    }
   ],
   "source": [
    "plt.plot(df)"
   ]
  },
  {
   "cell_type": "code",
   "execution_count": 18,
   "metadata": {},
   "outputs": [
    {
     "data": {
      "text/html": [
       "<div>\n",
       "<style scoped>\n",
       "    .dataframe tbody tr th:only-of-type {\n",
       "        vertical-align: middle;\n",
       "    }\n",
       "\n",
       "    .dataframe tbody tr th {\n",
       "        vertical-align: top;\n",
       "    }\n",
       "\n",
       "    .dataframe thead th {\n",
       "        text-align: right;\n",
       "    }\n",
       "</style>\n",
       "<table border=\"1\" class=\"dataframe\">\n",
       "  <thead>\n",
       "    <tr style=\"text-align: right;\">\n",
       "      <th></th>\n",
       "      <th>Infected</th>\n",
       "    </tr>\n",
       "  </thead>\n",
       "  <tbody>\n",
       "    <tr>\n",
       "      <th>3/13/20</th>\n",
       "      <td>145193</td>\n",
       "    </tr>\n",
       "    <tr>\n",
       "      <th>3/14/20</th>\n",
       "      <td>156097</td>\n",
       "    </tr>\n",
       "    <tr>\n",
       "      <th>3/15/20</th>\n",
       "      <td>167449</td>\n",
       "    </tr>\n",
       "    <tr>\n",
       "      <th>3/16/20</th>\n",
       "      <td>181531</td>\n",
       "    </tr>\n",
       "    <tr>\n",
       "      <th>3/17/20</th>\n",
       "      <td>197146</td>\n",
       "    </tr>\n",
       "  </tbody>\n",
       "</table>\n",
       "</div>"
      ],
      "text/plain": [
       "        Infected\n",
       "3/13/20   145193\n",
       "3/14/20   156097\n",
       "3/15/20   167449\n",
       "3/16/20   181531\n",
       "3/17/20   197146"
      ]
     },
     "execution_count": 18,
     "metadata": {},
     "output_type": "execute_result"
    }
   ],
   "source": [
    "df.tail()"
   ]
  },
  {
   "cell_type": "code",
   "execution_count": 19,
   "metadata": {},
   "outputs": [
    {
     "data": {
      "text/plain": [
       "198712"
      ]
     },
     "execution_count": 19,
     "metadata": {},
     "output_type": "execute_result"
    }
   ],
   "source": [
    "forecast"
   ]
  },
  {
   "cell_type": "code",
   "execution_count": 20,
   "metadata": {},
   "outputs": [
    {
     "data": {
      "text/plain": [
       "[<matplotlib.lines.Line2D at 0x7f764839b8d0>]"
      ]
     },
     "execution_count": 20,
     "metadata": {},
     "output_type": "execute_result"
    },
    {
     "data": {
      "image/png": "[encoded data removed]",
      "text/plain": [
       "<Figure size 432x288 with 1 Axes>"
      ]
     },
     "metadata": {
      "needs_background": "light"
     },
     "output_type": "display_data"
    }
   ],
   "source": [
    "plt.plot(df)\n",
    "plt.plot(forecast)"
   ]
  },
  {
   "cell_type": "code",
   "execution_count": 21,
   "metadata": {},
   "outputs": [
    {
     "data": {
      "text/plain": [
       "pandas.core.indexes.base.Index"
      ]
     },
     "execution_count": 21,
     "metadata": {},
     "output_type": "execute_result"
    }
   ],
   "source": [
    "type(df.index)"
   ]
  },
  {
   "cell_type": "code",
   "execution_count": 22,
   "metadata": {},
   "outputs": [
    {
     "data": {
      "text/html": [
       "<div>\n",
       "<style scoped>\n",
       "    .dataframe tbody tr th:only-of-type {\n",
       "        vertical-align: middle;\n",
       "    }\n",
       "\n",
       "    .dataframe tbody tr th {\n",
       "        vertical-align: top;\n",
       "    }\n",
       "\n",
       "    .dataframe thead th {\n",
       "        text-align: right;\n",
       "    }\n",
       "</style>\n",
       "<table border=\"1\" class=\"dataframe\">\n",
       "  <thead>\n",
       "    <tr style=\"text-align: right;\">\n",
       "      <th></th>\n",
       "      <th>Infected</th>\n",
       "    </tr>\n",
       "  </thead>\n",
       "  <tbody>\n",
       "    <tr>\n",
       "      <th>3/13/20</th>\n",
       "      <td>145193</td>\n",
       "    </tr>\n",
       "    <tr>\n",
       "      <th>3/14/20</th>\n",
       "      <td>156097</td>\n",
       "    </tr>\n",
       "    <tr>\n",
       "      <th>3/15/20</th>\n",
       "      <td>167449</td>\n",
       "    </tr>\n",
       "    <tr>\n",
       "      <th>3/16/20</th>\n",
       "      <td>181531</td>\n",
       "    </tr>\n",
       "    <tr>\n",
       "      <th>3/17/20</th>\n",
       "      <td>197146</td>\n",
       "    </tr>\n",
       "  </tbody>\n",
       "</table>\n",
       "</div>"
      ],
      "text/plain": [
       "        Infected\n",
       "3/13/20   145193\n",
       "3/14/20   156097\n",
       "3/15/20   167449\n",
       "3/16/20   181531\n",
       "3/17/20   197146"
      ]
     },
     "execution_count": 22,
     "metadata": {},
     "output_type": "execute_result"
    }
   ],
   "source": [
    "df.tail()"
   ]
  },
  {
   "cell_type": "code",
   "execution_count": 23,
   "metadata": {},
   "outputs": [
    {
     "data": {
      "text/html": [
       "<div>\n",
       "<style scoped>\n",
       "    .dataframe tbody tr th:only-of-type {\n",
       "        vertical-align: middle;\n",
       "    }\n",
       "\n",
       "    .dataframe tbody tr th {\n",
       "        vertical-align: top;\n",
       "    }\n",
       "\n",
       "    .dataframe thead th {\n",
       "        text-align: right;\n",
       "    }\n",
       "</style>\n",
       "<table border=\"1\" class=\"dataframe\">\n",
       "  <thead>\n",
       "    <tr style=\"text-align: right;\">\n",
       "      <th></th>\n",
       "      <th>Infected</th>\n",
       "    </tr>\n",
       "  </thead>\n",
       "  <tbody>\n",
       "    <tr>\n",
       "      <th>3/8/20</th>\n",
       "      <td>109795</td>\n",
       "    </tr>\n",
       "    <tr>\n",
       "      <th>3/9/20</th>\n",
       "      <td>113561</td>\n",
       "    </tr>\n",
       "    <tr>\n",
       "      <th>3/10/20</th>\n",
       "      <td>118592</td>\n",
       "    </tr>\n",
       "    <tr>\n",
       "      <th>3/11/20</th>\n",
       "      <td>125865</td>\n",
       "    </tr>\n",
       "    <tr>\n",
       "      <th>3/12/20</th>\n",
       "      <td>128343</td>\n",
       "    </tr>\n",
       "    <tr>\n",
       "      <th>3/13/20</th>\n",
       "      <td>145193</td>\n",
       "    </tr>\n",
       "    <tr>\n",
       "      <th>3/14/20</th>\n",
       "      <td>156097</td>\n",
       "    </tr>\n",
       "    <tr>\n",
       "      <th>3/15/20</th>\n",
       "      <td>167449</td>\n",
       "    </tr>\n",
       "    <tr>\n",
       "      <th>3/16/20</th>\n",
       "      <td>181531</td>\n",
       "    </tr>\n",
       "    <tr>\n",
       "      <th>3/17/20</th>\n",
       "      <td>197146</td>\n",
       "    </tr>\n",
       "  </tbody>\n",
       "</table>\n",
       "</div>"
      ],
      "text/plain": [
       "        Infected\n",
       "3/8/20    109795\n",
       "3/9/20    113561\n",
       "3/10/20   118592\n",
       "3/11/20   125865\n",
       "3/12/20   128343\n",
       "3/13/20   145193\n",
       "3/14/20   156097\n",
       "3/15/20   167449\n",
       "3/16/20   181531\n",
       "3/17/20   197146"
      ]
     },
     "execution_count": 23,
     "metadata": {},
     "output_type": "execute_result"
    }
   ],
   "source": [
    "df.tail(10)"
   ]
  },
  {
   "cell_type": "code",
   "execution_count": 24,
   "metadata": {},
   "outputs": [
    {
     "ename": "NameError",
     "evalue": "name 'd' is not defined",
     "output_type": "error",
     "traceback": [
      "\u001b[0;31m------------------------------------------------------------\u001b[0m",
      "\u001b[0;31mNameError\u001b[0m                  Traceback (most recent call last)",
      "\u001b[0;32m<ipython-input-24-e983f374794d>\u001b[0m in \u001b[0;36m<module>\u001b[0;34m\u001b[0m\n\u001b[0;32m----> 1\u001b[0;31m \u001b[0md\u001b[0m\u001b[0;34m\u001b[0m\u001b[0;34m\u001b[0m\u001b[0m\n\u001b[0m",
      "\u001b[0;31mNameError\u001b[0m: name 'd' is not defined"
     ]
    }
   ],
   "source": [
    "d"
   ]
  }
 ],
 "metadata": {
  "kernelspec": {
   "display_name": "Python 3",
   "language": "python",
   "name": "python3"
  },
  "language_info": {
   "codemirror_mode": {
    "name": "ipython",
    "version": 3
   },
   "file_extension": ".py",
   "mimetype": "text/x-python",
   "name": "python",
   "nbconvert_exporter": "python",
   "pygments_lexer": "ipython3",
   "version": "3.7.6"
  }
 },
 "nbformat": 4,
 "nbformat_minor": 4
}
