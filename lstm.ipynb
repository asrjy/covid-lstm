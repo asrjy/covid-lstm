{
 "cells": [
  {
   "cell_type": "markdown",
   "metadata": {
    "colab_type": "text",
    "id": "YHe71IaEoh8C"
   },
   "source": [
    "## Part 1"
   ]
  },
  {
   "cell_type": "markdown",
   "metadata": {
    "colab_type": "text",
    "id": "IxOg8L6Poh8I"
   },
   "source": [
    "### Loading the datasets\n",
    "#### 1. Confirmed URL : https://github.com/CSSEGISandData/COVID-19/blob/master/csse_covid_19_data/csse_covid_19_time_series/time_series_19-covid-Confirmed.csv\n",
    "#### 2. Deaths URL: https://github.com/CSSEGISandData/COVID-19/blob/master/csse_covid_19_data/csse_covid_19_time_series/time_series_19-covid-Deaths.csv\n",
    "#### 3. Recovered URL: https://github.com/CSSEGISandData/COVID-19/blob/master/csse_covid_19_data/csse_covid_19_time_series/time_series_19-covid-Recovered.csv"
   ]
  },
  {
   "cell_type": "markdown",
   "metadata": {
    "colab_type": "text",
    "id": "GWgNqRjUoh8L"
   },
   "source": [
    "#### Starting date on all three datasets is 22/01/2020"
   ]
  },
  {
   "cell_type": "markdown",
   "metadata": {
    "colab_type": "text",
    "id": "i8gySPBkoh8O"
   },
   "source": [
    "Steps (Without BeautifulSoup):-\n",
    "1. Import the CSV \n",
    "2. Check if the last column title matches with the last date row in the cleaned dataset.\n",
    "3. If it matches, don't add it to the dataset. \n",
    "4. If it does not match, go back iteratively until it matches and save all of the data.\n"
   ]
  },
  {
   "cell_type": "code",
   "execution_count": 185,
   "metadata": {
    "colab": {},
    "colab_type": "code",
    "id": "mPAOzOHcoh8R"
   },
   "outputs": [],
   "source": [
    "import pandas as pd\n",
    "import numpy as np\n",
    "import matplotlib.pyplot as plt\n",
    "import sklearn\n",
    "from keras.preprocessing.sequence import TimeseriesGenerator\n",
    "from keras.models import Sequential\n",
    "from keras.layers import Dense\n",
    "from keras.layers import LSTM\n",
    "from keras.layers import Dropout\n",
    "from sklearn.preprocessing import MinMaxScaler\n",
    "import requests\n",
    "from bs4 import BeautifulSoup\n",
    "from datetime import date\n",
    "import warnings\n",
    "from matplotlib.pyplot import figure\n",
    "from matplotlib.ticker import ScalarFormatter\n",
    "warnings.filterwarnings(\"ignore\")\n",
    "today = date.today()\n",
    "from matplotlib.ticker import ScalarFormatter\n",
    "y_formatter = matplotlib.ticker.ScalarFormatter(useOffset=True)\n",
    "ax.yaxis.set_major_formatter(y_formatter)"
   ]
  },
  {
   "cell_type": "code",
   "execution_count": 186,
   "metadata": {
    "colab": {},
    "colab_type": "code",
    "id": "4Jq2U2Cgoh8g"
   },
   "outputs": [],
   "source": [
    "confirmed_url = \"https://github.com/CSSEGISandData/COVID-19/raw/master/csse_covid_19_data/csse_covid_19_time_series/time_series_covid19_confirmed_global.csv\"\n",
    "deaths_url = \"https://github.com/CSSEGISandData/COVID-19/raw/master/csse_covid_19_data/csse_covid_19_time_series/time_series_covid19_deaths_global.csv\"\n",
    "recovered_url = \"https://github.com/CSSEGISandData/COVID-19/raw/master/csse_covid_19_data/csse_covid_19_time_series/time_series_covid19_recovered_global.csv\""
   ]
  },
  {
   "cell_type": "code",
   "execution_count": 187,
   "metadata": {
    "colab": {
     "base_uri": "https://localhost:8080/",
     "height": 34
    },
    "colab_type": "code",
    "id": "ZKmZsa1voh8t",
    "outputId": "c232212c-fae6-4eee-b001-8a9b57445263"
   },
   "outputs": [
    {
     "data": {
      "text/plain": [
       "'06/19/20'"
      ]
     },
     "execution_count": 187,
     "metadata": {},
     "output_type": "execute_result"
    }
   ],
   "source": [
    "d1 = today.strftime(\"%m/%d/%y\").replace(' 0', ' ')\n",
    "d1"
   ]
  },
  {
   "cell_type": "markdown",
   "metadata": {
    "colab_type": "text",
    "id": "4ukNxfvhoh82"
   },
   "source": [
    "### Function to get the number of confirmed cases as a Dataframe"
   ]
  },
  {
   "cell_type": "code",
   "execution_count": 188,
   "metadata": {
    "colab": {},
    "colab_type": "code",
    "id": "Gg0-k3ukoh83"
   },
   "outputs": [],
   "source": [
    "def get_confirmed():\n",
    "    con_casesnew = pd.read_csv(confirmed_url)\n",
    "    con_casesnew = con_casesnew.sum(axis=0)\n",
    "    con_casesnew.drop([\"Country/Region\",\"Lat\",\"Long\"], axis=0, inplace=True)\n",
    "    con_casesnew = pd.DataFrame(con_casesnew)\n",
    "    con_casesnew.rename(columns={0: \"Infected\"}, inplace=True)\n",
    "    return con_casesnew"
   ]
  },
  {
   "cell_type": "markdown",
   "metadata": {
    "colab_type": "text",
    "id": "mCdSibRzoh8-"
   },
   "source": [
    "### Function to get the number of deaths as a Dataframe"
   ]
  },
  {
   "cell_type": "code",
   "execution_count": 189,
   "metadata": {
    "colab": {},
    "colab_type": "code",
    "id": "77wPIRnYoh8_"
   },
   "outputs": [],
   "source": [
    "def get_deaths():\n",
    "    deaths_new = pd.read_csv(deaths_url)\n",
    "    deaths_new = deaths_new.sum(axis=0)\n",
    "    deaths_new.drop([\"Country/Region\",\"Lat\",\"Long\"], axis=0, inplace=True)\n",
    "    deaths_new = pd.DataFrame(deaths_new)\n",
    "    deaths_new.rename(columns={0: \"Deaths\"}, inplace=True)\n",
    "    return deaths_new"
   ]
  },
  {
   "cell_type": "markdown",
   "metadata": {
    "colab_type": "text",
    "id": "LHkyQKXRoh9F"
   },
   "source": [
    "### Function to get the number of recoveries as a Dataframe"
   ]
  },
  {
   "cell_type": "code",
   "execution_count": 190,
   "metadata": {
    "colab": {},
    "colab_type": "code",
    "id": "odqGaUCDoh9G"
   },
   "outputs": [],
   "source": [
    "def get_recoveries():\n",
    "    rec_new = pd.read_csv(recovered_url)\n",
    "    rec_new = rec_new.sum(axis=0)\n",
    "    rec_new.drop([\"Country/Region\",\"Lat\",\"Long\"], axis=0, inplace=True)\n",
    "    rec_new = pd.DataFrame(rec_new)\n",
    "    rec_new.rename(columns={0: \"Recovered\"}, inplace=True)\n",
    "    \n",
    "    return rec_new"
   ]
  },
  {
   "cell_type": "markdown",
   "metadata": {
    "colab_type": "text",
    "id": "IOWMLBkQoh9N"
   },
   "source": [
    "### Scraper"
   ]
  },
  {
   "cell_type": "code",
   "execution_count": 191,
   "metadata": {
    "colab": {},
    "colab_type": "code",
    "id": "xUVFSBiIoh9O"
   },
   "outputs": [],
   "source": [
    "def get_newvals():\n",
    "    url_wminfo = \"https://www.worldometers.info/coronavirus/\"\n",
    "    page = requests.get(url_wminfo)\n",
    "    soup = BeautifulSoup(page.content, 'html.parser')\n",
    "    result = soup.find_all(\"div\", {\"id\":\"maincounter-wrap\"})\n",
    "    numbers = []\n",
    "    for r in result:\n",
    "        numbers.append(int(r.text.split(':')[-1].replace(',','').replace(' ','')))\n",
    "    return numbers"
   ]
  },
  {
   "cell_type": "code",
   "execution_count": 192,
   "metadata": {
    "colab": {
     "base_uri": "https://localhost:8080/",
     "height": 34
    },
    "colab_type": "code",
    "id": "gBlzETJmoh9S",
    "outputId": "f9e9ceda-9206-40b9-a3ef-98ae94067615"
   },
   "outputs": [
    {
     "data": {
      "text/plain": [
       "[8614657, 457025, 4562185]"
      ]
     },
     "execution_count": 192,
     "metadata": {},
     "output_type": "execute_result"
    }
   ],
   "source": [
    "numbers = get_newvals()\n",
    "numbers"
   ]
  },
  {
   "cell_type": "markdown",
   "metadata": {
    "colab_type": "text",
    "id": "R-Bppul_oh9W"
   },
   "source": [
    "## Forecasting Confirmed Cases"
   ]
  },
  {
   "cell_type": "code",
   "execution_count": 193,
   "metadata": {
    "colab": {
     "base_uri": "https://localhost:8080/",
     "height": 195
    },
    "colab_type": "code",
    "id": "l5FbqJcHoh9W",
    "outputId": "210e7a0a-69bb-4505-ff9c-c9e9a499d2d7"
   },
   "outputs": [
    {
     "data": {
      "text/html": [
       "<div>\n",
       "<style scoped>\n",
       "    .dataframe tbody tr th:only-of-type {\n",
       "        vertical-align: middle;\n",
       "    }\n",
       "\n",
       "    .dataframe tbody tr th {\n",
       "        vertical-align: top;\n",
       "    }\n",
       "\n",
       "    .dataframe thead th {\n",
       "        text-align: right;\n",
       "    }\n",
       "</style>\n",
       "<table border=\"1\" class=\"dataframe\">\n",
       "  <thead>\n",
       "    <tr style=\"text-align: right;\">\n",
       "      <th></th>\n",
       "      <th>Infected</th>\n",
       "    </tr>\n",
       "  </thead>\n",
       "  <tbody>\n",
       "    <tr>\n",
       "      <th>6/14/20</th>\n",
       "      <td>7912426</td>\n",
       "    </tr>\n",
       "    <tr>\n",
       "      <th>6/15/20</th>\n",
       "      <td>8034461</td>\n",
       "    </tr>\n",
       "    <tr>\n",
       "      <th>6/16/20</th>\n",
       "      <td>8173940</td>\n",
       "    </tr>\n",
       "    <tr>\n",
       "      <th>6/17/20</th>\n",
       "      <td>8349950</td>\n",
       "    </tr>\n",
       "    <tr>\n",
       "      <th>6/18/20</th>\n",
       "      <td>8488976</td>\n",
       "    </tr>\n",
       "  </tbody>\n",
       "</table>\n",
       "</div>"
      ],
      "text/plain": [
       "        Infected\n",
       "6/14/20  7912426\n",
       "6/15/20  8034461\n",
       "6/16/20  8173940\n",
       "6/17/20  8349950\n",
       "6/18/20  8488976"
      ]
     },
     "execution_count": 193,
     "metadata": {},
     "output_type": "execute_result"
    }
   ],
   "source": [
    "df_conf = get_confirmed()\n",
    "df_conf.tail()"
   ]
  },
  {
   "cell_type": "code",
   "execution_count": 194,
   "metadata": {
    "colab": {},
    "colab_type": "code",
    "id": "Tp03TYL7SIWy"
   },
   "outputs": [],
   "source": [
    "scaler = MinMaxScaler()\n",
    "train_conf = df_conf\n",
    "scaler.fit(train_conf)\n",
    "train_conf = scaler.transform(train_conf)"
   ]
  },
  {
   "cell_type": "code",
   "execution_count": 195,
   "metadata": {
    "colab": {},
    "colab_type": "code",
    "id": "s2pPB-3bW6wE"
   },
   "outputs": [],
   "source": [
    "n_input = 1\n",
    "n_features = 1\n",
    "generator_conf = TimeseriesGenerator(train_conf, train_conf, length=n_input, batch_size=6)\n",
    "model = Sequential()\n",
    "model.add(LSTM(200, activation='relu', input_shape=(n_input, n_features)))\n",
    "model.add(Dropout(0.15))\n",
    "model.add(Dense(1))\n",
    "model.compile(optimizer='adam', loss='mse')"
   ]
  },
  {
   "cell_type": "code",
   "execution_count": 196,
   "metadata": {
    "colab": {
     "base_uri": "https://localhost:8080/",
     "height": 1000
    },
    "colab_type": "code",
    "id": "Fh2MZj2BYXWO",
    "outputId": "c8361cbf-65ce-4d1b-8cf2-8394df037c62"
   },
   "outputs": [
    {
     "name": "stdout",
     "output_type": "stream",
     "text": [
      "Epoch 1/150\n",
      "25/25 [==============================] - 3s 102ms/step - loss: 0.1636\n",
      "Epoch 2/150\n",
      "25/25 [==============================] - 1s 37ms/step - loss: 0.1275\n",
      "Epoch 3/150\n",
      "25/25 [==============================] - 1s 31ms/step - loss: 0.0953\n",
      "Epoch 4/150\n",
      "25/25 [==============================] - 0s 18ms/step - loss: 0.0727\n",
      "Epoch 5/150\n",
      "25/25 [==============================] - 1s 24ms/step - loss: 0.0572\n",
      "Epoch 6/150\n",
      "25/25 [==============================] - 1s 27ms/step - loss: 0.0489\n",
      "Epoch 7/150\n",
      "25/25 [==============================] - 1s 21ms/step - loss: 0.0410\n",
      "Epoch 8/150\n",
      "25/25 [==============================] - 1s 24ms/step - loss: 0.0367\n",
      "Epoch 9/150\n",
      "25/25 [==============================] - 1s 22ms/step - loss: 0.0299\n",
      "Epoch 10/150\n",
      "25/25 [==============================] - 0s 20ms/step - loss: 0.0264\n",
      "Epoch 11/150\n",
      "25/25 [==============================] - 1s 23ms/step - loss: 0.0236\n",
      "Epoch 12/150\n",
      "25/25 [==============================] - 1s 25ms/step - loss: 0.0176\n",
      "Epoch 13/150\n",
      "25/25 [==============================] - 0s 17ms/step - loss: 0.0146\n",
      "Epoch 14/150\n",
      "25/25 [==============================] - 1s 26ms/step - loss: 0.0104\n",
      "Epoch 15/150\n",
      "25/25 [==============================] - 1s 29ms/step - loss: 0.0089\n",
      "Epoch 16/150\n",
      "25/25 [==============================] - 1s 35ms/step - loss: 0.0056\n",
      "Epoch 17/150\n",
      "25/25 [==============================] - 1s 34ms/step - loss: 0.0046\n",
      "Epoch 18/150\n",
      "25/25 [==============================] - 1s 29ms/step - loss: 0.0029\n",
      "Epoch 19/150\n",
      "25/25 [==============================] - 1s 33ms/step - loss: 0.0022\n",
      "Epoch 20/150\n",
      "25/25 [==============================] - 0s 19ms/step - loss: 0.0014\n",
      "Epoch 21/150\n",
      "25/25 [==============================] - 1s 23ms/step - loss: 0.0014\n",
      "Epoch 22/150\n",
      "25/25 [==============================] - 1s 28ms/step - loss: 0.0012\n",
      "Epoch 23/150\n",
      "25/25 [==============================] - 1s 35ms/step - loss: 9.7040e-04\n",
      "Epoch 24/150\n",
      "25/25 [==============================] - 1s 22ms/step - loss: 7.4037e-04\n",
      "Epoch 25/150\n",
      "25/25 [==============================] - 1s 24ms/step - loss: 7.6851e-04\n",
      "Epoch 26/150\n",
      "25/25 [==============================] - 1s 31ms/step - loss: 7.9360e-04\n",
      "Epoch 27/150\n",
      "25/25 [==============================] - 0s 20ms/step - loss: 6.2534e-04\n",
      "Epoch 28/150\n",
      "25/25 [==============================] - 1s 25ms/step - loss: 6.5040e-04\n",
      "Epoch 29/150\n",
      "25/25 [==============================] - 1s 23ms/step - loss: 7.6221e-04\n",
      "Epoch 30/150\n",
      "25/25 [==============================] - 0s 17ms/step - loss: 6.2466e-04\n",
      "Epoch 31/150\n",
      "25/25 [==============================] - 1s 20ms/step - loss: 9.1624e-04\n",
      "Epoch 32/150\n",
      "25/25 [==============================] - 1s 23ms/step - loss: 8.6249e-04\n",
      "Epoch 33/150\n",
      "25/25 [==============================] - 1s 23ms/step - loss: 5.8891e-04\n",
      "Epoch 34/150\n",
      "25/25 [==============================] - 1s 21ms/step - loss: 6.1921e-04\n",
      "Epoch 35/150\n",
      "25/25 [==============================] - 1s 21ms/step - loss: 9.1051e-04\n",
      "Epoch 36/150\n",
      "25/25 [==============================] - 1s 25ms/step - loss: 8.5626e-04\n",
      "Epoch 37/150\n",
      "25/25 [==============================] - 1s 27ms/step - loss: 7.8200e-04\n",
      "Epoch 38/150\n",
      "25/25 [==============================] - 1s 34ms/step - loss: 0.0012\n",
      "Epoch 39/150\n",
      "25/25 [==============================] - 1s 27ms/step - loss: 7.9130e-04\n",
      "Epoch 40/150\n",
      "25/25 [==============================] - 1s 23ms/step - loss: 5.9379e-04\n",
      "Epoch 41/150\n",
      "25/25 [==============================] - 1s 30ms/step - loss: 6.7139e-04\n",
      "Epoch 42/150\n",
      "25/25 [==============================] - 1s 21ms/step - loss: 7.4045e-04\n",
      "Epoch 43/150\n",
      "25/25 [==============================] - 1s 22ms/step - loss: 0.0011\n",
      "Epoch 44/150\n",
      "25/25 [==============================] - 1s 25ms/step - loss: 7.0837e-04\n",
      "Epoch 45/150\n",
      "25/25 [==============================] - 1s 20ms/step - loss: 5.1053e-04\n",
      "Epoch 46/150\n",
      "25/25 [==============================] - 1s 22ms/step - loss: 7.6616e-04\n",
      "Epoch 47/150\n",
      "25/25 [==============================] - 1s 22ms/step - loss: 6.3610e-04\n",
      "Epoch 48/150\n",
      "25/25 [==============================] - 1s 32ms/step - loss: 5.7902e-04\n",
      "Epoch 49/150\n",
      "25/25 [==============================] - 1s 33ms/step - loss: 9.3561e-04\n",
      "Epoch 50/150\n",
      "25/25 [==============================] - 1s 28ms/step - loss: 6.8200e-04\n",
      "Epoch 51/150\n",
      "25/25 [==============================] - 1s 24ms/step - loss: 9.2616e-04\n",
      "Epoch 52/150\n",
      "25/25 [==============================] - 1s 22ms/step - loss: 6.8744e-04\n",
      "Epoch 53/150\n",
      "25/25 [==============================] - 1s 21ms/step - loss: 6.5312e-04\n",
      "Epoch 54/150\n",
      "25/25 [==============================] - 1s 22ms/step - loss: 8.4445e-04\n",
      "Epoch 55/150\n",
      "25/25 [==============================] - 1s 21ms/step - loss: 8.9387e-04\n",
      "Epoch 56/150\n",
      "25/25 [==============================] - 1s 29ms/step - loss: 6.5682e-04\n",
      "Epoch 57/150\n",
      "25/25 [==============================] - 1s 21ms/step - loss: 7.3373e-04\n",
      "Epoch 58/150\n",
      "25/25 [==============================] - 0s 18ms/step - loss: 7.0471e-04\n",
      "Epoch 59/150\n",
      "25/25 [==============================] - 1s 26ms/step - loss: 0.0010\n",
      "Epoch 60/150\n",
      "25/25 [==============================] - 1s 27ms/step - loss: 8.4792e-04\n",
      "Epoch 61/150\n",
      "25/25 [==============================] - 1s 24ms/step - loss: 6.6094e-04\n",
      "Epoch 62/150\n",
      "25/25 [==============================] - 1s 20ms/step - loss: 6.9999e-04\n",
      "Epoch 63/150\n",
      "25/25 [==============================] - 0s 18ms/step - loss: 5.8570e-04\n",
      "Epoch 64/150\n",
      "25/25 [==============================] - 1s 23ms/step - loss: 5.5182e-04\n",
      "Epoch 65/150\n",
      "25/25 [==============================] - 0s 19ms/step - loss: 8.3945e-04\n",
      "Epoch 66/150\n",
      "25/25 [==============================] - 1s 24ms/step - loss: 6.7330e-04\n",
      "Epoch 67/150\n",
      "25/25 [==============================] - 1s 23ms/step - loss: 5.1386e-04\n",
      "Epoch 68/150\n",
      "25/25 [==============================] - 0s 16ms/step - loss: 7.1440e-04\n",
      "Epoch 69/150\n",
      "25/25 [==============================] - 1s 22ms/step - loss: 6.9640e-04\n",
      "Epoch 70/150\n",
      "25/25 [==============================] - 0s 18ms/step - loss: 6.7906e-04\n",
      "Epoch 71/150\n",
      "25/25 [==============================] - 1s 29ms/step - loss: 5.7282e-04\n",
      "Epoch 72/150\n",
      "25/25 [==============================] - 1s 23ms/step - loss: 9.7728e-04\n",
      "Epoch 73/150\n",
      "25/25 [==============================] - 1s 23ms/step - loss: 5.3172e-04\n",
      "Epoch 74/150\n",
      "25/25 [==============================] - 1s 29ms/step - loss: 5.4819e-04\n",
      "Epoch 75/150\n",
      "25/25 [==============================] - 1s 23ms/step - loss: 6.9823e-04\n",
      "Epoch 76/150\n",
      "25/25 [==============================] - 1s 23ms/step - loss: 6.9849e-04\n",
      "Epoch 77/150\n",
      "25/25 [==============================] - 1s 27ms/step - loss: 5.8701e-04\n",
      "Epoch 78/150\n",
      "25/25 [==============================] - 1s 23ms/step - loss: 8.3898e-04\n",
      "Epoch 79/150\n",
      "25/25 [==============================] - 1s 21ms/step - loss: 5.2584e-04\n",
      "Epoch 80/150\n",
      "25/25 [==============================] - 1s 27ms/step - loss: 4.7827e-04\n",
      "Epoch 81/150\n",
      "25/25 [==============================] - 0s 18ms/step - loss: 8.5061e-04\n",
      "Epoch 82/150\n",
      "25/25 [==============================] - 1s 22ms/step - loss: 8.7912e-04\n",
      "Epoch 83/150\n",
      "25/25 [==============================] - 1s 23ms/step - loss: 6.7630e-04\n",
      "Epoch 84/150\n",
      "25/25 [==============================] - 0s 18ms/step - loss: 7.3236e-04\n",
      "Epoch 85/150\n",
      "25/25 [==============================] - 0s 20ms/step - loss: 8.9063e-04\n",
      "Epoch 86/150\n",
      "25/25 [==============================] - 1s 28ms/step - loss: 5.9053e-04\n",
      "Epoch 87/150\n",
      "25/25 [==============================] - 1s 32ms/step - loss: 5.7278e-04\n",
      "Epoch 88/150\n",
      "25/25 [==============================] - 1s 22ms/step - loss: 8.0023e-04\n",
      "Epoch 89/150\n",
      "25/25 [==============================] - 1s 23ms/step - loss: 5.6666e-04\n",
      "Epoch 90/150\n",
      "25/25 [==============================] - 1s 23ms/step - loss: 5.8094e-04\n",
      "Epoch 91/150\n",
      "25/25 [==============================] - 1s 23ms/step - loss: 5.9648e-04\n",
      "Epoch 92/150\n",
      "25/25 [==============================] - 1s 24ms/step - loss: 7.3489e-04\n",
      "Epoch 93/150\n",
      "25/25 [==============================] - 1s 29ms/step - loss: 7.6408e-04\n",
      "Epoch 94/150\n",
      "25/25 [==============================] - 1s 27ms/step - loss: 7.5430e-04\n",
      "Epoch 95/150\n",
      "25/25 [==============================] - 1s 24ms/step - loss: 6.7756e-04\n",
      "Epoch 96/150\n",
      "25/25 [==============================] - 1s 32ms/step - loss: 7.1189e-04\n",
      "Epoch 97/150\n"
     ]
    },
    {
     "name": "stdout",
     "output_type": "stream",
     "text": [
      "25/25 [==============================] - 1s 24ms/step - loss: 5.2045e-04\n",
      "Epoch 98/150\n",
      "25/25 [==============================] - 0s 20ms/step - loss: 4.4206e-04\n",
      "Epoch 99/150\n",
      "25/25 [==============================] - 1s 25ms/step - loss: 7.0031e-04\n",
      "Epoch 100/150\n",
      "25/25 [==============================] - 0s 19ms/step - loss: 5.9916e-04\n",
      "Epoch 101/150\n",
      "25/25 [==============================] - 1s 23ms/step - loss: 6.8404e-04\n",
      "Epoch 102/150\n",
      "25/25 [==============================] - 1s 27ms/step - loss: 5.0198e-04\n",
      "Epoch 103/150\n",
      "25/25 [==============================] - 1s 22ms/step - loss: 5.5814e-04\n",
      "Epoch 104/150\n",
      "25/25 [==============================] - 1s 24ms/step - loss: 7.0453e-04\n",
      "Epoch 105/150\n",
      "25/25 [==============================] - 1s 29ms/step - loss: 5.1506e-04\n",
      "Epoch 106/150\n",
      "25/25 [==============================] - 1s 29ms/step - loss: 4.7192e-04\n",
      "Epoch 107/150\n",
      "25/25 [==============================] - 1s 29ms/step - loss: 5.2189e-04\n",
      "Epoch 108/150\n",
      "25/25 [==============================] - 1s 28ms/step - loss: 6.5473e-04\n",
      "Epoch 109/150\n",
      "25/25 [==============================] - 1s 30ms/step - loss: 4.4021e-04\n",
      "Epoch 110/150\n",
      "25/25 [==============================] - 1s 24ms/step - loss: 6.3148e-04\n",
      "Epoch 111/150\n",
      "25/25 [==============================] - 1s 34ms/step - loss: 8.3583e-04\n",
      "Epoch 112/150\n",
      "25/25 [==============================] - 1s 21ms/step - loss: 7.6553e-04\n",
      "Epoch 113/150\n",
      "25/25 [==============================] - 1s 22ms/step - loss: 6.0051e-04\n",
      "Epoch 114/150\n",
      "25/25 [==============================] - 1s 27ms/step - loss: 5.5448e-04\n",
      "Epoch 115/150\n",
      "25/25 [==============================] - 1s 22ms/step - loss: 6.4641e-04\n",
      "Epoch 116/150\n",
      "25/25 [==============================] - 1s 32ms/step - loss: 5.1743e-04\n",
      "Epoch 117/150\n",
      "25/25 [==============================] - 1s 31ms/step - loss: 7.9586e-04\n",
      "Epoch 118/150\n",
      "25/25 [==============================] - 1s 25ms/step - loss: 6.4175e-04\n",
      "Epoch 119/150\n",
      "25/25 [==============================] - 1s 29ms/step - loss: 9.4257e-04\n",
      "Epoch 120/150\n",
      "25/25 [==============================] - 1s 27ms/step - loss: 5.5190e-04\n",
      "Epoch 121/150\n",
      "25/25 [==============================] - 1s 23ms/step - loss: 8.3770e-04\n",
      "Epoch 122/150\n",
      "25/25 [==============================] - 1s 29ms/step - loss: 7.9111e-04\n",
      "Epoch 123/150\n",
      "25/25 [==============================] - 1s 27ms/step - loss: 0.0011\n",
      "Epoch 124/150\n",
      "25/25 [==============================] - 1s 24ms/step - loss: 6.3894e-04\n",
      "Epoch 125/150\n",
      "25/25 [==============================] - 1s 29ms/step - loss: 7.7817e-04\n",
      "Epoch 126/150\n",
      "25/25 [==============================] - 1s 31ms/step - loss: 5.2461e-04\n",
      "Epoch 127/150\n",
      "25/25 [==============================] - 0s 20ms/step - loss: 8.2962e-04\n",
      "Epoch 128/150\n",
      "25/25 [==============================] - 1s 25ms/step - loss: 9.3236e-04\n",
      "Epoch 129/150\n",
      "25/25 [==============================] - 1s 23ms/step - loss: 6.0422e-04\n",
      "Epoch 130/150\n",
      "25/25 [==============================] - 1s 21ms/step - loss: 5.2368e-04\n",
      "Epoch 131/150\n",
      "25/25 [==============================] - 1s 26ms/step - loss: 4.8662e-04\n",
      "Epoch 132/150\n",
      "25/25 [==============================] - 1s 22ms/step - loss: 5.2026e-04\n",
      "Epoch 133/150\n",
      "25/25 [==============================] - 1s 22ms/step - loss: 5.8865e-04\n",
      "Epoch 134/150\n",
      "25/25 [==============================] - 1s 28ms/step - loss: 7.1742e-04\n",
      "Epoch 135/150\n",
      "25/25 [==============================] - 1s 24ms/step - loss: 5.2253e-04\n",
      "Epoch 136/150\n",
      "25/25 [==============================] - 1s 26ms/step - loss: 4.3403e-04\n",
      "Epoch 137/150\n",
      "25/25 [==============================] - 1s 27ms/step - loss: 4.7065e-04\n",
      "Epoch 138/150\n",
      "25/25 [==============================] - 1s 25ms/step - loss: 6.7647e-04\n",
      "Epoch 139/150\n",
      "25/25 [==============================] - 0s 15ms/step - loss: 6.1337e-04\n",
      "Epoch 140/150\n",
      "25/25 [==============================] - 1s 28ms/step - loss: 5.1366e-04\n",
      "Epoch 141/150\n",
      "25/25 [==============================] - 1s 23ms/step - loss: 6.7098e-04\n",
      "Epoch 142/150\n",
      "25/25 [==============================] - 1s 24ms/step - loss: 6.2718e-04\n",
      "Epoch 143/150\n",
      "25/25 [==============================] - 1s 26ms/step - loss: 7.9530e-04\n",
      "Epoch 144/150\n",
      "25/25 [==============================] - 1s 28ms/step - loss: 7.3833e-04\n",
      "Epoch 145/150\n",
      "25/25 [==============================] - 1s 30ms/step - loss: 6.3291e-04\n",
      "Epoch 146/150\n",
      "25/25 [==============================] - 1s 31ms/step - loss: 3.5084e-04\n",
      "Epoch 147/150\n",
      "25/25 [==============================] - 1s 20ms/step - loss: 6.8201e-04\n",
      "Epoch 148/150\n",
      "25/25 [==============================] - 1s 23ms/step - loss: 4.6213e-04\n",
      "Epoch 149/150\n",
      "25/25 [==============================] - 1s 34ms/step - loss: 4.6596e-04\n",
      "Epoch 150/150\n",
      "25/25 [==============================] - 1s 24ms/step - loss: 3.9547e-04\n"
     ]
    },
    {
     "data": {
      "text/plain": [
       "<keras.callbacks.callbacks.History at 0x7f536c7f6040>"
      ]
     },
     "execution_count": 196,
     "metadata": {},
     "output_type": "execute_result"
    }
   ],
   "source": [
    "model.fit_generator(generator_conf,epochs=150)"
   ]
  },
  {
   "cell_type": "code",
   "execution_count": 197,
   "metadata": {
    "colab": {},
    "colab_type": "code",
    "id": "a9mcgdNtYZuW"
   },
   "outputs": [],
   "source": [
    "pred_list_conf = []\n",
    "batch = train_conf[-n_input:].reshape((1, n_input, n_features))\n",
    "for i in range(n_input):   \n",
    "    pred_list_conf.append(model.predict(batch)[0]) \n",
    "    batch = np.append(batch[:,1:,:],[[pred_list_conf[i]]],axis=1)"
   ]
  },
  {
   "cell_type": "code",
   "execution_count": 198,
   "metadata": {
    "colab": {
     "base_uri": "https://localhost:8080/",
     "height": 34
    },
    "colab_type": "code",
    "id": "GsIctJL-ZAeC",
    "outputId": "fe3fa74f-6088-4245-c69a-58e2ab872f05"
   },
   "outputs": [
    {
     "data": {
      "text/plain": [
       "8740332.633284211"
      ]
     },
     "execution_count": 198,
     "metadata": {},
     "output_type": "execute_result"
    }
   ],
   "source": [
    "pred_list_conf = scaler.inverse_transform(pred_list_conf)\n",
    "fc_conf = pred_list_conf[0][0]\n",
    "fc_conf"
   ]
  },
  {
   "cell_type": "markdown",
   "metadata": {
    "colab_type": "text",
    "id": "kGmKY9nTkrWr"
   },
   "source": [
    "## Forecasting Deaths"
   ]
  },
  {
   "cell_type": "code",
   "execution_count": 199,
   "metadata": {
    "colab": {
     "base_uri": "https://localhost:8080/",
     "height": 195
    },
    "colab_type": "code",
    "id": "0pi37oV8ctS7",
    "outputId": "d67894c7-c68b-4988-c754-b77165f1da05"
   },
   "outputs": [
    {
     "data": {
      "text/html": [
       "<div>\n",
       "<style scoped>\n",
       "    .dataframe tbody tr th:only-of-type {\n",
       "        vertical-align: middle;\n",
       "    }\n",
       "\n",
       "    .dataframe tbody tr th {\n",
       "        vertical-align: top;\n",
       "    }\n",
       "\n",
       "    .dataframe thead th {\n",
       "        text-align: right;\n",
       "    }\n",
       "</style>\n",
       "<table border=\"1\" class=\"dataframe\">\n",
       "  <thead>\n",
       "    <tr style=\"text-align: right;\">\n",
       "      <th></th>\n",
       "      <th>Deaths</th>\n",
       "    </tr>\n",
       "  </thead>\n",
       "  <tbody>\n",
       "    <tr>\n",
       "      <th>6/14/20</th>\n",
       "      <td>433391</td>\n",
       "    </tr>\n",
       "    <tr>\n",
       "      <th>6/15/20</th>\n",
       "      <td>436899</td>\n",
       "    </tr>\n",
       "    <tr>\n",
       "      <th>6/16/20</th>\n",
       "      <td>443685</td>\n",
       "    </tr>\n",
       "    <tr>\n",
       "      <th>6/17/20</th>\n",
       "      <td>448959</td>\n",
       "    </tr>\n",
       "    <tr>\n",
       "      <th>6/18/20</th>\n",
       "      <td>453981</td>\n",
       "    </tr>\n",
       "  </tbody>\n",
       "</table>\n",
       "</div>"
      ],
      "text/plain": [
       "         Deaths\n",
       "6/14/20  433391\n",
       "6/15/20  436899\n",
       "6/16/20  443685\n",
       "6/17/20  448959\n",
       "6/18/20  453981"
      ]
     },
     "execution_count": 199,
     "metadata": {},
     "output_type": "execute_result"
    }
   ],
   "source": [
    "df_dea = get_deaths()\n",
    "df_dea.tail()"
   ]
  },
  {
   "cell_type": "code",
   "execution_count": 200,
   "metadata": {
    "colab": {},
    "colab_type": "code",
    "id": "XWVZ0CovdO1L"
   },
   "outputs": [],
   "source": [
    "train_dea = df_dea\n",
    "scaler.fit(train_dea)\n",
    "train_dea = scaler.transform(train_dea)"
   ]
  },
  {
   "cell_type": "code",
   "execution_count": 201,
   "metadata": {
    "colab": {},
    "colab_type": "code",
    "id": "FbpKfzw1e1Rq"
   },
   "outputs": [],
   "source": [
    "n_input = 1\n",
    "n_features = 1\n",
    "generator_dea = TimeseriesGenerator(train_dea, train_dea, length=n_input, batch_size=6)\n",
    "model = Sequential()\n",
    "model.add(LSTM(200, activation='relu', input_shape=(n_input, n_features)))\n",
    "model.add(Dropout(0.15))\n",
    "model.add(Dense(1))\n",
    "model.compile(optimizer='adam', loss='mse')"
   ]
  },
  {
   "cell_type": "code",
   "execution_count": 202,
   "metadata": {
    "colab": {
     "base_uri": "https://localhost:8080/",
     "height": 1000
    },
    "colab_type": "code",
    "id": "35QFXIcXe8bw",
    "outputId": "66888b46-1111-4aff-f646-db49f5126661"
   },
   "outputs": [
    {
     "name": "stdout",
     "output_type": "stream",
     "text": [
      "Epoch 1/150\n",
      "25/25 [==============================] - 2s 97ms/step - loss: 0.1979\n",
      "Epoch 2/150\n",
      "25/25 [==============================] - 1s 28ms/step - loss: 0.1547\n",
      "Epoch 3/150\n",
      "25/25 [==============================] - 1s 27ms/step - loss: 0.1128\n",
      "Epoch 4/150\n",
      "25/25 [==============================] - 1s 26ms/step - loss: 0.0847\n",
      "Epoch 5/150\n",
      "25/25 [==============================] - 1s 27ms/step - loss: 0.0654\n",
      "Epoch 6/150\n",
      "25/25 [==============================] - 1s 20ms/step - loss: 0.0524\n",
      "Epoch 7/150\n",
      "25/25 [==============================] - 1s 27ms/step - loss: 0.0440\n",
      "Epoch 8/150\n",
      "25/25 [==============================] - 1s 26ms/step - loss: 0.0369\n",
      "Epoch 9/150\n",
      "25/25 [==============================] - 1s 25ms/step - loss: 0.0322\n",
      "Epoch 10/150\n",
      "25/25 [==============================] - 1s 29ms/step - loss: 0.0264\n",
      "Epoch 11/150\n",
      "25/25 [==============================] - 1s 36ms/step - loss: 0.0227\n",
      "Epoch 12/150\n",
      "25/25 [==============================] - 1s 28ms/step - loss: 0.0178\n",
      "Epoch 13/150\n",
      "25/25 [==============================] - 1s 26ms/step - loss: 0.0135\n",
      "Epoch 14/150\n",
      "25/25 [==============================] - 0s 20ms/step - loss: 0.0101\n",
      "Epoch 15/150\n",
      "25/25 [==============================] - 1s 25ms/step - loss: 0.0076\n",
      "Epoch 16/150\n",
      "25/25 [==============================] - 1s 24ms/step - loss: 0.0062\n",
      "Epoch 17/150\n",
      "25/25 [==============================] - 1s 24ms/step - loss: 0.0047\n",
      "Epoch 18/150\n",
      "25/25 [==============================] - 1s 26ms/step - loss: 0.0033\n",
      "Epoch 19/150\n",
      "25/25 [==============================] - 1s 20ms/step - loss: 0.0021\n",
      "Epoch 20/150\n",
      "25/25 [==============================] - 1s 22ms/step - loss: 0.0019\n",
      "Epoch 21/150\n",
      "25/25 [==============================] - 1s 21ms/step - loss: 0.0014\n",
      "Epoch 22/150\n",
      "25/25 [==============================] - 1s 29ms/step - loss: 0.0012\n",
      "Epoch 23/150\n",
      "25/25 [==============================] - 1s 24ms/step - loss: 0.0011\n",
      "Epoch 24/150\n",
      "25/25 [==============================] - 1s 21ms/step - loss: 0.0013\n",
      "Epoch 25/150\n",
      "25/25 [==============================] - 1s 23ms/step - loss: 0.0012\n",
      "Epoch 26/150\n",
      "25/25 [==============================] - 1s 29ms/step - loss: 0.0012\n",
      "Epoch 27/150\n",
      "25/25 [==============================] - 1s 22ms/step - loss: 0.0010\n",
      "Epoch 28/150\n",
      "25/25 [==============================] - 1s 24ms/step - loss: 0.0011\n",
      "Epoch 29/150\n",
      "25/25 [==============================] - 1s 21ms/step - loss: 0.0011\n",
      "Epoch 30/150\n",
      "25/25 [==============================] - 1s 26ms/step - loss: 0.0012\n",
      "Epoch 31/150\n",
      "25/25 [==============================] - 0s 20ms/step - loss: 0.0010\n",
      "Epoch 32/150\n",
      "25/25 [==============================] - 1s 24ms/step - loss: 8.5834e-04\n",
      "Epoch 33/150\n",
      "25/25 [==============================] - 1s 21ms/step - loss: 0.0011\n",
      "Epoch 34/150\n",
      "25/25 [==============================] - 1s 26ms/step - loss: 0.0013\n",
      "Epoch 35/150\n",
      "25/25 [==============================] - 1s 21ms/step - loss: 0.0011\n",
      "Epoch 36/150\n",
      "25/25 [==============================] - 1s 34ms/step - loss: 8.9760e-04\n",
      "Epoch 37/150\n",
      "25/25 [==============================] - 1s 29ms/step - loss: 0.0012\n",
      "Epoch 38/150\n",
      "25/25 [==============================] - 1s 25ms/step - loss: 9.9505e-04\n",
      "Epoch 39/150\n",
      "25/25 [==============================] - 1s 24ms/step - loss: 9.8532e-04\n",
      "Epoch 40/150\n",
      "25/25 [==============================] - 1s 29ms/step - loss: 0.0011\n",
      "Epoch 41/150\n",
      "25/25 [==============================] - 1s 26ms/step - loss: 8.8129e-04\n",
      "Epoch 42/150\n",
      "25/25 [==============================] - 1s 23ms/step - loss: 9.0986e-04\n",
      "Epoch 43/150\n",
      "25/25 [==============================] - 0s 17ms/step - loss: 0.0012\n",
      "Epoch 44/150\n",
      "25/25 [==============================] - 1s 32ms/step - loss: 8.8537e-04\n",
      "Epoch 45/150\n",
      "25/25 [==============================] - 1s 30ms/step - loss: 8.4847e-04\n",
      "Epoch 46/150\n",
      "25/25 [==============================] - 1s 29ms/step - loss: 7.9329e-04\n",
      "Epoch 47/150\n",
      "25/25 [==============================] - 1s 33ms/step - loss: 9.9691e-04\n",
      "Epoch 48/150\n",
      "25/25 [==============================] - 1s 28ms/step - loss: 8.2935e-04\n",
      "Epoch 49/150\n",
      "25/25 [==============================] - 0s 18ms/step - loss: 0.0010\n",
      "Epoch 50/150\n",
      "25/25 [==============================] - 1s 25ms/step - loss: 0.0011\n",
      "Epoch 51/150\n",
      "25/25 [==============================] - 1s 30ms/step - loss: 8.8291e-04\n",
      "Epoch 52/150\n",
      "25/25 [==============================] - 0s 16ms/step - loss: 7.7307e-04\n",
      "Epoch 53/150\n",
      "25/25 [==============================] - 1s 25ms/step - loss: 7.4186e-04\n",
      "Epoch 54/150\n",
      "25/25 [==============================] - 1s 24ms/step - loss: 0.0010\n",
      "Epoch 55/150\n",
      "25/25 [==============================] - 1s 26ms/step - loss: 0.0012\n",
      "Epoch 56/150\n",
      "25/25 [==============================] - 0s 20ms/step - loss: 8.4950e-04\n",
      "Epoch 57/150\n",
      "25/25 [==============================] - 1s 23ms/step - loss: 8.5601e-04\n",
      "Epoch 58/150\n",
      "25/25 [==============================] - 1s 34ms/step - loss: 0.0012\n",
      "Epoch 59/150\n",
      "25/25 [==============================] - 1s 32ms/step - loss: 0.0011\n",
      "Epoch 60/150\n",
      "25/25 [==============================] - 1s 29ms/step - loss: 0.0012\n",
      "Epoch 61/150\n",
      "25/25 [==============================] - 1s 34ms/step - loss: 8.3944e-04\n",
      "Epoch 62/150\n",
      "25/25 [==============================] - 1s 32ms/step - loss: 0.0011\n",
      "Epoch 63/150\n",
      "25/25 [==============================] - 1s 41ms/step - loss: 8.2864e-04\n",
      "Epoch 64/150\n",
      "25/25 [==============================] - 1s 28ms/step - loss: 6.8058e-04\n",
      "Epoch 65/150\n",
      "25/25 [==============================] - 1s 34ms/step - loss: 7.5941e-04\n",
      "Epoch 66/150\n",
      "25/25 [==============================] - 1s 35ms/step - loss: 9.6322e-04\n",
      "Epoch 67/150\n",
      "25/25 [==============================] - 1s 35ms/step - loss: 0.0013\n",
      "Epoch 68/150\n",
      "25/25 [==============================] - 1s 21ms/step - loss: 8.9274e-04\n",
      "Epoch 69/150\n",
      "25/25 [==============================] - 1s 30ms/step - loss: 7.9448e-04\n",
      "Epoch 70/150\n",
      "25/25 [==============================] - 1s 28ms/step - loss: 0.0011\n",
      "Epoch 71/150\n",
      "25/25 [==============================] - 1s 31ms/step - loss: 8.0205e-04\n",
      "Epoch 72/150\n",
      "25/25 [==============================] - 1s 26ms/step - loss: 9.2788e-04\n",
      "Epoch 73/150\n",
      "25/25 [==============================] - 1s 29ms/step - loss: 8.0373e-04\n",
      "Epoch 74/150\n",
      "25/25 [==============================] - 1s 32ms/step - loss: 9.0103e-04\n",
      "Epoch 75/150\n",
      "25/25 [==============================] - 1s 37ms/step - loss: 9.3042e-04\n",
      "Epoch 76/150\n",
      "25/25 [==============================] - 1s 27ms/step - loss: 0.0013\n",
      "Epoch 77/150\n",
      "25/25 [==============================] - 1s 33ms/step - loss: 0.0014\n",
      "Epoch 78/150\n",
      "25/25 [==============================] - 1s 37ms/step - loss: 0.0010\n",
      "Epoch 79/150\n",
      "25/25 [==============================] - 1s 23ms/step - loss: 0.0010\n",
      "Epoch 80/150\n",
      "25/25 [==============================] - 1s 29ms/step - loss: 6.1090e-04\n",
      "Epoch 81/150\n",
      "25/25 [==============================] - 1s 23ms/step - loss: 0.0012\n",
      "Epoch 82/150\n",
      "25/25 [==============================] - 1s 42ms/step - loss: 0.0013\n",
      "Epoch 83/150\n",
      "25/25 [==============================] - 1s 40ms/step - loss: 7.4072e-04\n",
      "Epoch 84/150\n",
      "25/25 [==============================] - 1s 31ms/step - loss: 7.7197e-04\n",
      "Epoch 85/150\n",
      "25/25 [==============================] - 1s 31ms/step - loss: 7.6842e-04\n",
      "Epoch 86/150\n",
      "25/25 [==============================] - 1s 34ms/step - loss: 0.0011\n",
      "Epoch 87/150\n",
      "25/25 [==============================] - 1s 54ms/step - loss: 8.6851e-04\n",
      "Epoch 88/150\n",
      "25/25 [==============================] - 1s 55ms/step - loss: 0.0012\n",
      "Epoch 89/150\n",
      "25/25 [==============================] - 1s 48ms/step - loss: 9.2657e-04\n",
      "Epoch 90/150\n",
      "25/25 [==============================] - 1s 48ms/step - loss: 8.3584e-04\n",
      "Epoch 91/150\n",
      "25/25 [==============================] - 1s 41ms/step - loss: 9.4624e-04\n",
      "Epoch 92/150\n",
      "25/25 [==============================] - 1s 49ms/step - loss: 0.0012\n",
      "Epoch 93/150\n",
      "25/25 [==============================] - 1s 53ms/step - loss: 0.0013\n",
      "Epoch 94/150\n",
      "25/25 [==============================] - 1s 44ms/step - loss: 0.0011\n",
      "Epoch 95/150\n",
      "25/25 [==============================] - 1s 38ms/step - loss: 8.3325e-04\n",
      "Epoch 96/150\n",
      "25/25 [==============================] - 1s 29ms/step - loss: 9.5008e-04\n",
      "Epoch 97/150\n",
      "25/25 [==============================] - 1s 45ms/step - loss: 9.5866e-04\n",
      "Epoch 98/150\n",
      "25/25 [==============================] - 1s 37ms/step - loss: 0.0011\n",
      "Epoch 99/150\n"
     ]
    },
    {
     "name": "stdout",
     "output_type": "stream",
     "text": [
      "25/25 [==============================] - 1s 32ms/step - loss: 0.0010\n",
      "Epoch 100/150\n",
      "25/25 [==============================] - 1s 35ms/step - loss: 9.4422e-04\n",
      "Epoch 101/150\n",
      "25/25 [==============================] - 1s 39ms/step - loss: 0.0012\n",
      "Epoch 102/150\n",
      "25/25 [==============================] - 1s 34ms/step - loss: 0.0011\n",
      "Epoch 103/150\n",
      "25/25 [==============================] - 1s 35ms/step - loss: 9.5559e-04\n",
      "Epoch 104/150\n",
      "25/25 [==============================] - 1s 33ms/step - loss: 7.2042e-04\n",
      "Epoch 105/150\n",
      "25/25 [==============================] - 1s 24ms/step - loss: 8.5186e-04\n",
      "Epoch 106/150\n",
      "25/25 [==============================] - 1s 28ms/step - loss: 0.0011\n",
      "Epoch 107/150\n",
      "25/25 [==============================] - 1s 34ms/step - loss: 7.3313e-04\n",
      "Epoch 108/150\n",
      "25/25 [==============================] - 1s 28ms/step - loss: 0.0010\n",
      "Epoch 109/150\n",
      "25/25 [==============================] - 1s 33ms/step - loss: 9.3068e-04\n",
      "Epoch 110/150\n",
      "25/25 [==============================] - 1s 23ms/step - loss: 0.0010\n",
      "Epoch 111/150\n",
      "25/25 [==============================] - 1s 22ms/step - loss: 0.0012\n",
      "Epoch 112/150\n",
      "25/25 [==============================] - 1s 35ms/step - loss: 8.2078e-04\n",
      "Epoch 113/150\n",
      "25/25 [==============================] - 1s 26ms/step - loss: 7.1487e-04\n",
      "Epoch 114/150\n",
      "25/25 [==============================] - 1s 33ms/step - loss: 0.0013\n",
      "Epoch 115/150\n",
      "25/25 [==============================] - 1s 32ms/step - loss: 7.0605e-04\n",
      "Epoch 116/150\n",
      "25/25 [==============================] - 1s 32ms/step - loss: 8.6773e-04\n",
      "Epoch 117/150\n",
      "25/25 [==============================] - 1s 38ms/step - loss: 0.0012\n",
      "Epoch 118/150\n",
      "25/25 [==============================] - 1s 48ms/step - loss: 0.0010\n",
      "Epoch 119/150\n",
      "25/25 [==============================] - 1s 44ms/step - loss: 0.0010\n",
      "Epoch 120/150\n",
      "25/25 [==============================] - 1s 53ms/step - loss: 8.1544e-04\n",
      "Epoch 121/150\n",
      "25/25 [==============================] - 1s 47ms/step - loss: 6.7529e-04\n",
      "Epoch 122/150\n",
      "25/25 [==============================] - 1s 42ms/step - loss: 9.7457e-04\n",
      "Epoch 123/150\n",
      "25/25 [==============================] - 1s 49ms/step - loss: 6.6318e-04\n",
      "Epoch 124/150\n",
      "25/25 [==============================] - 1s 40ms/step - loss: 8.7265e-04\n",
      "Epoch 125/150\n",
      "25/25 [==============================] - 1s 34ms/step - loss: 4.3415e-04\n",
      "Epoch 126/150\n",
      "25/25 [==============================] - 1s 40ms/step - loss: 6.5173e-04\n",
      "Epoch 127/150\n",
      "25/25 [==============================] - 1s 35ms/step - loss: 8.3353e-04\n",
      "Epoch 128/150\n",
      "25/25 [==============================] - 1s 33ms/step - loss: 7.1660e-04\n",
      "Epoch 129/150\n",
      "25/25 [==============================] - 1s 39ms/step - loss: 8.3871e-04\n",
      "Epoch 130/150\n",
      "25/25 [==============================] - 1s 42ms/step - loss: 9.1866e-04\n",
      "Epoch 131/150\n",
      "25/25 [==============================] - 1s 37ms/step - loss: 9.7753e-04\n",
      "Epoch 132/150\n",
      "25/25 [==============================] - 1s 34ms/step - loss: 0.0013\n",
      "Epoch 133/150\n",
      "25/25 [==============================] - 1s 36ms/step - loss: 8.7506e-04\n",
      "Epoch 134/150\n",
      "25/25 [==============================] - 1s 37ms/step - loss: 6.6143e-04\n",
      "Epoch 135/150\n",
      "25/25 [==============================] - 1s 35ms/step - loss: 8.9528e-04\n",
      "Epoch 136/150\n",
      "25/25 [==============================] - 1s 42ms/step - loss: 6.5785e-04\n",
      "Epoch 137/150\n",
      "25/25 [==============================] - 1s 29ms/step - loss: 0.0010\n",
      "Epoch 138/150\n",
      "25/25 [==============================] - 1s 25ms/step - loss: 0.0010\n",
      "Epoch 139/150\n",
      "25/25 [==============================] - 1s 32ms/step - loss: 0.0010\n",
      "Epoch 140/150\n",
      "25/25 [==============================] - 1s 35ms/step - loss: 8.2713e-04\n",
      "Epoch 141/150\n",
      "25/25 [==============================] - 1s 37ms/step - loss: 0.0011\n",
      "Epoch 142/150\n",
      "25/25 [==============================] - 1s 37ms/step - loss: 0.0013\n",
      "Epoch 143/150\n",
      "25/25 [==============================] - 1s 37ms/step - loss: 8.9321e-04\n",
      "Epoch 144/150\n",
      "25/25 [==============================] - 1s 37ms/step - loss: 6.3319e-04\n",
      "Epoch 145/150\n",
      "25/25 [==============================] - 1s 40ms/step - loss: 7.0417e-04\n",
      "Epoch 146/150\n",
      "25/25 [==============================] - 1s 32ms/step - loss: 5.9832e-04\n",
      "Epoch 147/150\n",
      "25/25 [==============================] - 1s 33ms/step - loss: 9.0097e-04\n",
      "Epoch 148/150\n",
      "25/25 [==============================] - 1s 43ms/step - loss: 8.4468e-04\n",
      "Epoch 149/150\n",
      "25/25 [==============================] - 1s 35ms/step - loss: 0.0011\n",
      "Epoch 150/150\n",
      "25/25 [==============================] - 1s 57ms/step - loss: 6.9834e-04\n"
     ]
    },
    {
     "data": {
      "text/plain": [
       "<keras.callbacks.callbacks.History at 0x7f536c61d670>"
      ]
     },
     "execution_count": 202,
     "metadata": {},
     "output_type": "execute_result"
    }
   ],
   "source": [
    "model.fit_generator(generator_dea,epochs=150)"
   ]
  },
  {
   "cell_type": "code",
   "execution_count": 203,
   "metadata": {
    "colab": {},
    "colab_type": "code",
    "id": "m0TVDkFTfAyD"
   },
   "outputs": [],
   "source": [
    "pred_list_dea = []\n",
    "batch = train_dea[-n_input:].reshape((1, n_input, n_features))\n",
    "for i in range(n_input):   \n",
    "    pred_list_dea.append(model.predict(batch)[0]) \n",
    "    batch = np.append(batch[:,1:,:],[[pred_list_dea[i]]],axis=1)"
   ]
  },
  {
   "cell_type": "code",
   "execution_count": 204,
   "metadata": {
    "colab": {
     "base_uri": "https://localhost:8080/",
     "height": 34
    },
    "colab_type": "code",
    "id": "dBxuOMa7fJ_E",
    "outputId": "b2082aaf-040e-41c6-98f0-7be764b32846"
   },
   "outputs": [
    {
     "data": {
      "text/plain": [
       "465171.2565860748"
      ]
     },
     "execution_count": 204,
     "metadata": {},
     "output_type": "execute_result"
    }
   ],
   "source": [
    "pred_list_dea = scaler.inverse_transform(pred_list_dea)\n",
    "fc_dea = pred_list_dea[0][0]\n",
    "fc_dea"
   ]
  },
  {
   "cell_type": "markdown",
   "metadata": {
    "colab_type": "text",
    "id": "xAEp8JEpku0c"
   },
   "source": [
    "## Forecasting Recoveries"
   ]
  },
  {
   "cell_type": "code",
   "execution_count": 205,
   "metadata": {
    "colab": {
     "base_uri": "https://localhost:8080/",
     "height": 195
    },
    "colab_type": "code",
    "id": "IlqGLD-0fRvN",
    "outputId": "bac68fb1-64a2-404a-c074-19b0d5ed04d2"
   },
   "outputs": [
    {
     "data": {
      "text/html": [
       "<div>\n",
       "<style scoped>\n",
       "    .dataframe tbody tr th:only-of-type {\n",
       "        vertical-align: middle;\n",
       "    }\n",
       "\n",
       "    .dataframe tbody tr th {\n",
       "        vertical-align: top;\n",
       "    }\n",
       "\n",
       "    .dataframe thead th {\n",
       "        text-align: right;\n",
       "    }\n",
       "</style>\n",
       "<table border=\"1\" class=\"dataframe\">\n",
       "  <thead>\n",
       "    <tr style=\"text-align: right;\">\n",
       "      <th></th>\n",
       "      <th>Recovered</th>\n",
       "    </tr>\n",
       "  </thead>\n",
       "  <tbody>\n",
       "    <tr>\n",
       "      <th>6/14/20</th>\n",
       "      <td>3777131</td>\n",
       "    </tr>\n",
       "    <tr>\n",
       "      <th>6/15/20</th>\n",
       "      <td>3857338</td>\n",
       "    </tr>\n",
       "    <tr>\n",
       "      <th>6/16/20</th>\n",
       "      <td>3955169</td>\n",
       "    </tr>\n",
       "    <tr>\n",
       "      <th>6/17/20</th>\n",
       "      <td>4073955</td>\n",
       "    </tr>\n",
       "    <tr>\n",
       "      <th>6/18/20</th>\n",
       "      <td>4155099</td>\n",
       "    </tr>\n",
       "  </tbody>\n",
       "</table>\n",
       "</div>"
      ],
      "text/plain": [
       "        Recovered\n",
       "6/14/20   3777131\n",
       "6/15/20   3857338\n",
       "6/16/20   3955169\n",
       "6/17/20   4073955\n",
       "6/18/20   4155099"
      ]
     },
     "execution_count": 205,
     "metadata": {},
     "output_type": "execute_result"
    }
   ],
   "source": [
    "df_rec = get_recoveries()\n",
    "df_rec.tail()"
   ]
  },
  {
   "cell_type": "code",
   "execution_count": 206,
   "metadata": {
    "colab": {},
    "colab_type": "code",
    "id": "PYodefdbhOAE"
   },
   "outputs": [],
   "source": [
    "train_rec = df_rec\n",
    "scaler.fit(train_rec)\n",
    "train_rec = scaler.transform(train_rec)"
   ]
  },
  {
   "cell_type": "code",
   "execution_count": 207,
   "metadata": {
    "colab": {},
    "colab_type": "code",
    "id": "TdmihegZiAtZ"
   },
   "outputs": [],
   "source": [
    "n_input = 1\n",
    "n_features = 1\n",
    "generator_rec = TimeseriesGenerator(train_rec, train_rec, length=n_input, batch_size=6)\n",
    "model = Sequential()\n",
    "model.add(LSTM(200, activation='relu', input_shape=(n_input, n_features)))\n",
    "model.add(Dropout(0.15))\n",
    "model.add(Dense(1))\n",
    "model.compile(optimizer='adam', loss='mse')"
   ]
  },
  {
   "cell_type": "code",
   "execution_count": 208,
   "metadata": {
    "colab": {},
    "colab_type": "code",
    "id": "qag87o48iHvL"
   },
   "outputs": [
    {
     "name": "stdout",
     "output_type": "stream",
     "text": [
      "Epoch 1/90\n",
      "25/25 [==============================] - 3s 116ms/step - loss: 0.1176\n",
      "Epoch 2/90\n",
      "25/25 [==============================] - 1s 36ms/step - loss: 0.0938\n",
      "Epoch 3/90\n",
      "25/25 [==============================] - 1s 37ms/step - loss: 0.0772\n",
      "Epoch 4/90\n",
      "25/25 [==============================] - 1s 40ms/step - loss: 0.0624\n",
      "Epoch 5/90\n",
      "25/25 [==============================] - 1s 34ms/step - loss: 0.0557\n",
      "Epoch 6/90\n",
      "25/25 [==============================] - 1s 37ms/step - loss: 0.0484\n",
      "Epoch 7/90\n",
      "25/25 [==============================] - 1s 39ms/step - loss: 0.0446\n",
      "Epoch 8/90\n",
      "25/25 [==============================] - 1s 38ms/step - loss: 0.0389\n",
      "Epoch 9/90\n",
      "25/25 [==============================] - 1s 30ms/step - loss: 0.0336\n",
      "Epoch 10/90\n",
      "25/25 [==============================] - 1s 28ms/step - loss: 0.0309\n",
      "Epoch 11/90\n",
      "25/25 [==============================] - 1s 28ms/step - loss: 0.0280\n",
      "Epoch 12/90\n",
      "25/25 [==============================] - 1s 33ms/step - loss: 0.0221\n",
      "Epoch 13/90\n",
      "25/25 [==============================] - 1s 34ms/step - loss: 0.0189\n",
      "Epoch 14/90\n",
      "25/25 [==============================] - 1s 32ms/step - loss: 0.0164\n",
      "Epoch 15/90\n",
      "25/25 [==============================] - 1s 33ms/step - loss: 0.0112\n",
      "Epoch 16/90\n",
      "25/25 [==============================] - 1s 26ms/step - loss: 0.0090\n",
      "Epoch 17/90\n",
      "25/25 [==============================] - 1s 34ms/step - loss: 0.0072\n",
      "Epoch 18/90\n",
      "25/25 [==============================] - 1s 38ms/step - loss: 0.0050\n",
      "Epoch 19/90\n",
      "25/25 [==============================] - 1s 30ms/step - loss: 0.0035\n",
      "Epoch 20/90\n",
      "25/25 [==============================] - 1s 39ms/step - loss: 0.0027\n",
      "Epoch 21/90\n",
      "25/25 [==============================] - 1s 39ms/step - loss: 0.0022\n",
      "Epoch 22/90\n",
      "25/25 [==============================] - 1s 30ms/step - loss: 0.0015\n",
      "Epoch 23/90\n",
      "25/25 [==============================] - 1s 31ms/step - loss: 0.0011\n",
      "Epoch 24/90\n",
      "25/25 [==============================] - 1s 29ms/step - loss: 0.0013\n",
      "Epoch 25/90\n",
      "25/25 [==============================] - 1s 31ms/step - loss: 9.6500e-04\n",
      "Epoch 26/90\n",
      "25/25 [==============================] - 0s 20ms/step - loss: 9.7934e-04\n",
      "Epoch 27/90\n",
      "25/25 [==============================] - 1s 25ms/step - loss: 5.5139e-04\n",
      "Epoch 28/90\n",
      "25/25 [==============================] - 1s 39ms/step - loss: 4.7157e-04\n",
      "Epoch 29/90\n",
      "25/25 [==============================] - 1s 25ms/step - loss: 0.0011\n",
      "Epoch 30/90\n",
      "25/25 [==============================] - 1s 36ms/step - loss: 7.4206e-04\n",
      "Epoch 31/90\n",
      "25/25 [==============================] - 1s 36ms/step - loss: 8.8219e-04\n",
      "Epoch 32/90\n",
      "25/25 [==============================] - 1s 32ms/step - loss: 5.6084e-04\n",
      "Epoch 33/90\n",
      "25/25 [==============================] - 1s 39ms/step - loss: 6.4612e-04\n",
      "Epoch 34/90\n",
      "25/25 [==============================] - 1s 30ms/step - loss: 6.6392e-04\n",
      "Epoch 35/90\n",
      "25/25 [==============================] - 1s 29ms/step - loss: 6.2077e-04\n",
      "Epoch 36/90\n",
      "25/25 [==============================] - 1s 34ms/step - loss: 8.9985e-04\n",
      "Epoch 37/90\n",
      "25/25 [==============================] - 1s 33ms/step - loss: 6.3047e-04\n",
      "Epoch 38/90\n",
      "25/25 [==============================] - 1s 29ms/step - loss: 8.3538e-04\n",
      "Epoch 39/90\n",
      "25/25 [==============================] - 1s 33ms/step - loss: 5.2613e-04\n",
      "Epoch 40/90\n",
      "25/25 [==============================] - 1s 35ms/step - loss: 7.8588e-04\n",
      "Epoch 41/90\n",
      "25/25 [==============================] - 1s 31ms/step - loss: 7.5961e-04\n",
      "Epoch 42/90\n",
      "25/25 [==============================] - 1s 37ms/step - loss: 7.7651e-04\n",
      "Epoch 43/90\n",
      "25/25 [==============================] - 1s 33ms/step - loss: 6.2900e-04\n",
      "Epoch 44/90\n",
      "25/25 [==============================] - 1s 31ms/step - loss: 5.8746e-04\n",
      "Epoch 45/90\n",
      "25/25 [==============================] - 1s 36ms/step - loss: 7.3482e-04\n",
      "Epoch 46/90\n",
      "25/25 [==============================] - 1s 39ms/step - loss: 6.6897e-04\n",
      "Epoch 47/90\n",
      "25/25 [==============================] - 1s 37ms/step - loss: 0.0011\n",
      "Epoch 48/90\n",
      "25/25 [==============================] - 1s 34ms/step - loss: 6.4502e-04\n",
      "Epoch 49/90\n",
      "25/25 [==============================] - 1s 47ms/step - loss: 5.5696e-04\n",
      "Epoch 50/90\n",
      "25/25 [==============================] - 1s 35ms/step - loss: 5.4834e-04\n",
      "Epoch 51/90\n",
      "25/25 [==============================] - 1s 50ms/step - loss: 6.5985e-04\n",
      "Epoch 52/90\n",
      "25/25 [==============================] - 1s 53ms/step - loss: 7.9835e-04\n",
      "Epoch 53/90\n",
      "25/25 [==============================] - 1s 38ms/step - loss: 7.4067e-04\n",
      "Epoch 54/90\n",
      "25/25 [==============================] - 1s 36ms/step - loss: 8.3201e-04\n",
      "Epoch 55/90\n",
      "25/25 [==============================] - 1s 51ms/step - loss: 5.0744e-04\n",
      "Epoch 56/90\n",
      "25/25 [==============================] - 1s 42ms/step - loss: 6.4666e-04\n",
      "Epoch 57/90\n",
      "25/25 [==============================] - 1s 40ms/step - loss: 6.7771e-04\n",
      "Epoch 58/90\n",
      "25/25 [==============================] - 1s 34ms/step - loss: 4.8672e-04\n",
      "Epoch 59/90\n",
      "25/25 [==============================] - 1s 30ms/step - loss: 7.6524e-04\n",
      "Epoch 60/90\n",
      "25/25 [==============================] - 1s 38ms/step - loss: 5.3289e-04\n",
      "Epoch 61/90\n",
      "25/25 [==============================] - 1s 43ms/step - loss: 7.1207e-04\n",
      "Epoch 62/90\n",
      "25/25 [==============================] - 1s 38ms/step - loss: 7.3917e-04\n",
      "Epoch 63/90\n",
      "25/25 [==============================] - 1s 43ms/step - loss: 5.9500e-04\n",
      "Epoch 64/90\n",
      "25/25 [==============================] - 1s 35ms/step - loss: 7.8379e-04\n",
      "Epoch 65/90\n",
      "25/25 [==============================] - 1s 34ms/step - loss: 3.8850e-04\n",
      "Epoch 66/90\n",
      "25/25 [==============================] - 1s 30ms/step - loss: 5.6761e-04\n",
      "Epoch 67/90\n",
      "25/25 [==============================] - 1s 30ms/step - loss: 7.1819e-04\n",
      "Epoch 68/90\n",
      "25/25 [==============================] - 1s 39ms/step - loss: 5.4792e-04\n",
      "Epoch 69/90\n",
      "25/25 [==============================] - 1s 37ms/step - loss: 6.4946e-04\n",
      "Epoch 70/90\n",
      "25/25 [==============================] - 1s 39ms/step - loss: 9.8022e-04\n",
      "Epoch 71/90\n",
      "25/25 [==============================] - 1s 36ms/step - loss: 9.5025e-04\n",
      "Epoch 72/90\n",
      "25/25 [==============================] - 1s 50ms/step - loss: 5.2402e-04\n",
      "Epoch 73/90\n",
      "25/25 [==============================] - 1s 49ms/step - loss: 4.7269e-04\n",
      "Epoch 74/90\n",
      "25/25 [==============================] - 1s 44ms/step - loss: 3.4591e-04\n",
      "Epoch 75/90\n",
      "25/25 [==============================] - 1s 32ms/step - loss: 7.3733e-04\n",
      "Epoch 76/90\n",
      "25/25 [==============================] - 1s 32ms/step - loss: 6.1328e-04\n",
      "Epoch 77/90\n",
      "25/25 [==============================] - 1s 40ms/step - loss: 5.3819e-04\n",
      "Epoch 78/90\n",
      "25/25 [==============================] - 1s 42ms/step - loss: 7.8942e-04\n",
      "Epoch 79/90\n",
      "25/25 [==============================] - 1s 41ms/step - loss: 9.5969e-04\n",
      "Epoch 80/90\n",
      "25/25 [==============================] - 1s 39ms/step - loss: 6.6877e-04\n",
      "Epoch 81/90\n",
      "25/25 [==============================] - 1s 34ms/step - loss: 7.4019e-04\n",
      "Epoch 82/90\n",
      "25/25 [==============================] - 1s 41ms/step - loss: 6.3552e-04\n",
      "Epoch 83/90\n",
      "25/25 [==============================] - 1s 47ms/step - loss: 6.2072e-04\n",
      "Epoch 84/90\n",
      "25/25 [==============================] - 1s 41ms/step - loss: 4.6483e-04\n",
      "Epoch 85/90\n",
      "25/25 [==============================] - 1s 39ms/step - loss: 5.0011e-04\n",
      "Epoch 86/90\n",
      "25/25 [==============================] - 1s 60ms/step - loss: 7.4088e-04\n",
      "Epoch 87/90\n",
      "25/25 [==============================] - 1s 43ms/step - loss: 6.1995e-04\n",
      "Epoch 88/90\n",
      "25/25 [==============================] - 1s 48ms/step - loss: 4.6404e-04\n",
      "Epoch 89/90\n",
      "25/25 [==============================] - 1s 45ms/step - loss: 9.6954e-04\n",
      "Epoch 90/90\n",
      "25/25 [==============================] - 1s 36ms/step - loss: 7.3450e-04\n"
     ]
    },
    {
     "data": {
      "text/plain": [
       "<keras.callbacks.callbacks.History at 0x7f5405c56400>"
      ]
     },
     "execution_count": 208,
     "metadata": {},
     "output_type": "execute_result"
    }
   ],
   "source": [
    "model.fit_generator(generator_rec,epochs=90)"
   ]
  },
  {
   "cell_type": "code",
   "execution_count": 209,
   "metadata": {
    "colab": {},
    "colab_type": "code",
    "id": "PLwEVXd9iKps"
   },
   "outputs": [],
   "source": [
    "pred_list_rec = []\n",
    "batch = train_rec[-n_input:].reshape((1, n_input, n_features))\n",
    "for i in range(n_input):   \n",
    "    pred_list_rec.append(model.predict(batch)[0]) \n",
    "    batch = np.append(batch[:,1:,:],[[pred_list_rec[i]]],axis=1)"
   ]
  },
  {
   "cell_type": "code",
   "execution_count": 210,
   "metadata": {
    "colab": {
     "base_uri": "https://localhost:8080/",
     "height": 34
    },
    "colab_type": "code",
    "id": "PRX2zP4Gidt7",
    "outputId": "064a7c31-a35b-4721-99a2-64e2965f4180"
   },
   "outputs": [
    {
     "data": {
      "text/plain": [
       "4377056.235995054"
      ]
     },
     "execution_count": 210,
     "metadata": {},
     "output_type": "execute_result"
    }
   ],
   "source": [
    "pred_list_rec = scaler.inverse_transform(pred_list_rec)\n",
    "fc_rec = pred_list_rec[0][0]\n",
    "fc_rec"
   ]
  },
  {
   "cell_type": "markdown",
   "metadata": {
    "colab_type": "text",
    "id": "8ON8BPIBsTxG"
   },
   "source": [
    "## Summary"
   ]
  },
  {
   "cell_type": "code",
   "execution_count": 211,
   "metadata": {
    "colab": {
     "base_uri": "https://localhost:8080/",
     "height": 260
    },
    "colab_type": "code",
    "id": "qfmCiHWxsVtG",
    "outputId": "324a0420-11ac-496f-d5aa-c639fab3d1c8"
   },
   "outputs": [
    {
     "name": "stdout",
     "output_type": "stream",
     "text": [
      "Date 06/19/20 \n",
      "\n",
      "Confirmed cases Yesterday: 8488976\n",
      "Current confirmed cases per Worldometers(LIVE) 8614657\n",
      "Confirmed cases forecasted by model 8740332 \n",
      "\n",
      "Deaths Yesterday: 453981\n",
      "Current deaths per Worldometers(LIVE) 457025\n",
      "Deaths forecasted by model 465171 \n",
      "\n",
      "Recoveries Yesterday: 4155099\n",
      "Current recoveries per Worldometers 4562185\n",
      "Recoveries forecasted by model 4377056 \n",
      "\n"
     ]
    }
   ],
   "source": [
    "def get_summary():\n",
    "    print(\"Date\", d1, \"\\n\")\n",
    "    print(\"Confirmed cases Yesterday:\", df_conf.iloc[-1]['Infected'])\n",
    "    print(\"Current confirmed cases per Worldometers(LIVE)\", numbers[0])\n",
    "    print(\"Confirmed cases forecasted by model\", int(fc_conf), \"\\n\")\n",
    "    print(\"Deaths Yesterday:\", df_dea.iloc[-1]['Deaths'])\n",
    "    print(\"Current deaths per Worldometers(LIVE)\", numbers[1])\n",
    "    print(\"Deaths forecasted by model\", int(fc_dea), \"\\n\")\n",
    "    print(\"Recoveries Yesterday:\", df_rec.iloc[-1]['Recovered'])\n",
    "    print(\"Current recoveries per Worldometers\", numbers[2])\n",
    "    print(\"Recoveries forecasted by model\", int(fc_rec), \"\\n\")\n",
    "get_summary()"
   ]
  },
  {
   "cell_type": "code",
   "execution_count": 212,
   "metadata": {
    "colab": {},
    "colab_type": "code",
    "id": "-w6p1a-bHN6L"
   },
   "outputs": [
    {
     "data": {
      "text/html": [
       "<div>\n",
       "<style scoped>\n",
       "    .dataframe tbody tr th:only-of-type {\n",
       "        vertical-align: middle;\n",
       "    }\n",
       "\n",
       "    .dataframe tbody tr th {\n",
       "        vertical-align: top;\n",
       "    }\n",
       "\n",
       "    .dataframe thead th {\n",
       "        text-align: right;\n",
       "    }\n",
       "</style>\n",
       "<table border=\"1\" class=\"dataframe\">\n",
       "  <thead>\n",
       "    <tr style=\"text-align: right;\">\n",
       "      <th></th>\n",
       "      <th>Date</th>\n",
       "      <th>Type</th>\n",
       "      <th>Previous Day</th>\n",
       "      <th>Live Data</th>\n",
       "      <th>Forecasted Data</th>\n",
       "    </tr>\n",
       "  </thead>\n",
       "  <tbody>\n",
       "    <tr>\n",
       "      <th>0</th>\n",
       "      <td>06/19/20</td>\n",
       "      <td>Infected</td>\n",
       "      <td>8488976</td>\n",
       "      <td>8614657</td>\n",
       "      <td>8740332</td>\n",
       "    </tr>\n",
       "    <tr>\n",
       "      <th>1</th>\n",
       "      <td>06/19/20</td>\n",
       "      <td>Deaths</td>\n",
       "      <td>453981</td>\n",
       "      <td>457025</td>\n",
       "      <td>465171</td>\n",
       "    </tr>\n",
       "    <tr>\n",
       "      <th>2</th>\n",
       "      <td>06/19/20</td>\n",
       "      <td>Recovered</td>\n",
       "      <td>4155099</td>\n",
       "      <td>4562185</td>\n",
       "      <td>4377056</td>\n",
       "    </tr>\n",
       "  </tbody>\n",
       "</table>\n",
       "</div>"
      ],
      "text/plain": [
       "       Date       Type Previous Day Live Data Forecasted Data\n",
       "0  06/19/20   Infected      8488976   8614657         8740332\n",
       "1  06/19/20     Deaths       453981    457025          465171\n",
       "2  06/19/20  Recovered      4155099   4562185         4377056"
      ]
     },
     "execution_count": 212,
     "metadata": {},
     "output_type": "execute_result"
    }
   ],
   "source": [
    "summary_conf = pd.DataFrame(columns=['Date', 'Type', \"Previous Day\", 'Live Data', 'Forecasted Data'])\n",
    "summary_conf = summary_conf.append({'Date': d1, 'Type' : 'Infected', \"Previous Day\": df_conf.iloc[-1]['Infected'], 'Live Data': numbers[0], 'Forecasted Data': int(fc_conf)}, ignore_index=True)\n",
    "summary_conf = summary_conf.append({'Date': d1, 'Type' : 'Deaths', \"Previous Day\": df_dea.iloc[-1]['Deaths'], 'Live Data': numbers[1], 'Forecasted Data': int(fc_dea)}, ignore_index=True)\n",
    "summary_conf = summary_conf.append({'Date': d1, 'Type' : 'Recovered', \"Previous Day\": df_rec.iloc[-1]['Recovered'], 'Live Data': numbers[2], 'Forecasted Data': int(fc_rec)}, ignore_index=True)\n",
    "summary_conf"
   ]
  },
  {
   "cell_type": "code",
   "execution_count": 213,
   "metadata": {},
   "outputs": [
    {
     "data": {
      "text/plain": [
       "<matplotlib.legend.Legend at 0x7f54060497c0>"
      ]
     },
     "execution_count": 213,
     "metadata": {},
     "output_type": "execute_result"
    },
    {
     "data": {
      "image/png": "[encoded data removed]",
      "text/plain": [
       "<Figure size 864x144 with 1 Axes>"
      ]
     },
     "metadata": {
      "needs_background": "light"
     },
     "output_type": "display_data"
    },
    {
     "data": {
      "image/png": "[encoded data removed]",
      "text/plain": [
       "<Figure size 864x144 with 1 Axes>"
      ]
     },
     "metadata": {
      "needs_background": "light"
     },
     "output_type": "display_data"
    },
    {
     "data": {
      "image/png": "[encoded data removed]",
      "text/plain": [
       "<Figure size 864x144 with 1 Axes>"
      ]
     },
     "metadata": {
      "needs_background": "light"
     },
     "output_type": "display_data"
    }
   ],
   "source": [
    "plt.figure(figsize=(12, 2))\n",
    "plt.plot(df_conf[-10:], linestyle='--', marker='o', color='b', label='Confirmed')\n",
    "plt.scatter(d1, fc_conf, color='y', label='Forecasted Infections')\n",
    "plt.legend(loc=\"upper left\")\n",
    "plt.figure(figsize=(12, 2))\n",
    "plt.plot(df_rec[-10:], linestyle='--', marker='o', color='g', label='Recoveries')\n",
    "plt.scatter(d1, fc_rec, color='y', label='Forecasted Recoveries')\n",
    "plt.legend(loc=\"upper left\")\n",
    "plt.figure(figsize=(12, 2))\n",
    "plt.plot(df_dea[-10:], linestyle='--', marker='o', color='r', label='Deaths')\n",
    "plt.scatter(d1, fc_dea, color='y', label='Forecasted Deaths')\n",
    "plt.legend(loc=\"upper left\")"
   ]
  },
  {
   "cell_type": "code",
   "execution_count": null,
   "metadata": {},
   "outputs": [],
   "source": []
  }
 ],
 "metadata": {
  "colab": {
   "collapsed_sections": [],
   "name": "lstm2.ipynb",
   "provenance": []
  },
  "kernelspec": {
   "display_name": "Python 3",
   "language": "python",
   "name": "python3"
  },
  "language_info": {
   "codemirror_mode": {
    "name": "ipython",
    "version": 3
   },
   "file_extension": ".py",
   "mimetype": "text/x-python",
   "name": "python",
   "nbconvert_exporter": "python",
   "pygments_lexer": "ipython3",
   "version": "3.8.3"
  }
 },
 "nbformat": 4,
 "nbformat_minor": 1
}
