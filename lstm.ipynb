{
 "cells": [
  {
   "cell_type": "markdown",
   "metadata": {},
   "source": [
    "## Part 1"
   ]
  },
  {
   "cell_type": "markdown",
   "metadata": {},
   "source": [
    "### Loading the datasets\n",
    "#### 1. Confirmed URL : https://github.com/CSSEGISandData/COVID-19/blob/master/csse_covid_19_data/csse_covid_19_time_series/time_series_19-covid-Confirmed.csv\n",
    "#### 2. Deaths URL: https://github.com/CSSEGISandData/COVID-19/blob/master/csse_covid_19_data/csse_covid_19_time_series/time_series_19-covid-Deaths.csv\n",
    "#### 3. Recovered URL: https://github.com/CSSEGISandData/COVID-19/blob/master/csse_covid_19_data/csse_covid_19_time_series/time_series_19-covid-Recovered.csv"
   ]
  },
  {
   "cell_type": "markdown",
   "metadata": {},
   "source": [
    "#### Starting date on all three datasets is 22/01/2020"
   ]
  },
  {
   "cell_type": "markdown",
   "metadata": {},
   "source": [
    "Steps (Without BeautifulSoup):-\n",
    "1. Import the CSV \n",
    "2. Check if the last column title matches with the last date row in the cleaned dataset.\n",
    "3. If it matches, don't add it to the dataset. \n",
    "4. If it does not match, go back iteratively until it matches and save all of the data.\n"
   ]
  },
  {
   "cell_type": "code",
   "execution_count": 1,
   "metadata": {},
   "outputs": [
    {
     "name": "stderr",
     "output_type": "stream",
     "text": [
      "Using TensorFlow backend.\n"
     ]
    }
   ],
   "source": [
    "import pandas as pd\n",
    "import numpy as np\n",
    "import matplotlib.pyplot as plt\n",
    "import sklearn\n",
    "from keras.preprocessing.sequence import TimeseriesGenerator\n",
    "from sklearn.preprocessing import MinMaxScaler\n",
    "import requests\n",
    "from bs4 import BeautifulSoup\n",
    "from datetime import date\n",
    "today = date.today()"
   ]
  },
  {
   "cell_type": "code",
   "execution_count": 2,
   "metadata": {},
   "outputs": [],
   "source": [
    "confirmed_url = \"https://github.com/CSSEGISandData/COVID-19/raw/master/csse_covid_19_data/csse_covid_19_time_series/time_series_covid19_confirmed_global.csv\"\n",
    "deaths_url = \"https://github.com/CSSEGISandData/COVID-19/raw/master/csse_covid_19_data/csse_covid_19_time_series/time_series_covid19_deaths_global.csv\"\n",
    "recovered_url = \"https://github.com/CSSEGISandData/COVID-19/raw/master/csse_covid_19_data/csse_covid_19_time_series/time_series_covid19_recovered_global.csv\""
   ]
  },
  {
   "cell_type": "code",
   "execution_count": 3,
   "metadata": {},
   "outputs": [
    {
     "data": {
      "text/plain": [
       "'05/21/20'"
      ]
     },
     "execution_count": 3,
     "metadata": {},
     "output_type": "execute_result"
    }
   ],
   "source": [
    "d1 = today.strftime(\"%m/%d/%y\").replace(' 0', ' ')\n",
    "d1"
   ]
  },
  {
   "cell_type": "markdown",
   "metadata": {},
   "source": [
    "### Function to get the number of confirmed cases as a Dataframe"
   ]
  },
  {
   "cell_type": "code",
   "execution_count": 4,
   "metadata": {},
   "outputs": [],
   "source": [
    "def get_confirmed():\n",
    "    con_casesnew = pd.read_csv(confirmed_url)\n",
    "    con_casesnew = con_casesnew.sum(axis=0)\n",
    "    con_casesnew.drop([\"Country/Region\",\"Lat\",\"Long\"], axis=0, inplace=True)\n",
    "    con_casesnew = pd.DataFrame(con_casesnew)\n",
    "    con_casesnew.rename(columns={0: \"Infected\"}, inplace=True)\n",
    "    return con_casesnew"
   ]
  },
  {
   "cell_type": "markdown",
   "metadata": {},
   "source": [
    "### Function to get the number of deaths as a Dataframe"
   ]
  },
  {
   "cell_type": "code",
   "execution_count": 5,
   "metadata": {},
   "outputs": [],
   "source": [
    "def get_deaths():\n",
    "    deaths_new = pd.read_csv(deaths_url)\n",
    "    deaths_new = deaths_new.sum(axis=0)\n",
    "    deaths_new.drop([\"Country/Region\",\"Lat\",\"Long\"], axis=0, inplace=True)\n",
    "    deaths_new = pd.DataFrame(deaths_new)\n",
    "    deaths_new.rename(columns={0: \"Deaths\"}, inplace=True)\n",
    "    return deaths_new"
   ]
  },
  {
   "cell_type": "markdown",
   "metadata": {},
   "source": [
    "### Function to get the number of recoveries as a Dataframe"
   ]
  },
  {
   "cell_type": "code",
   "execution_count": 6,
   "metadata": {},
   "outputs": [],
   "source": [
    "def get_recovered():\n",
    "    rec_new = pd.read_csv(confirmed_url)\n",
    "    rec_new = rec_new.sum(axis=0)\n",
    "    rec_new.drop([\"Country/Region\",\"Lat\",\"Long\"], axis=0, inplace=True)\n",
    "    rec_new = pd.DataFrame(rec_new)\n",
    "    rec_new.rename(columns={0: \"Recovered\"}, inplace=True)\n",
    "    \n",
    "    return rec_new"
   ]
  },
  {
   "cell_type": "markdown",
   "metadata": {},
   "source": [
    "### Scraper"
   ]
  },
  {
   "cell_type": "code",
   "execution_count": 7,
   "metadata": {},
   "outputs": [],
   "source": [
    "def get_newvals():\n",
    "    url_wminfo = \"https://www.worldometers.info/coronavirus/\"\n",
    "    page = requests.get(url_wminfo)\n",
    "    soup = BeautifulSoup(page.content, 'html.parser')\n",
    "    result = soup.find_all(\"div\", {\"id\":\"maincounter-wrap\"})\n",
    "    numbers = []\n",
    "    for r in result:\n",
    "        numbers.append(int(r.text.split(':')[-1].replace(',','').replace(' ','')))\n",
    "    return numbers"
   ]
  },
  {
   "cell_type": "code",
   "execution_count": 8,
   "metadata": {},
   "outputs": [
    {
     "data": {
      "text/plain": [
       "[5089978, 329729, 2024221]"
      ]
     },
     "execution_count": 8,
     "metadata": {},
     "output_type": "execute_result"
    }
   ],
   "source": [
    "numbers = get_newvals()\n",
    "numbers"
   ]
  },
  {
   "cell_type": "markdown",
   "metadata": {},
   "source": [
    "## Forecasting Confirmed Cases"
   ]
  },
  {
   "cell_type": "code",
   "execution_count": 9,
   "metadata": {},
   "outputs": [],
   "source": [
    "df = get_confirmed()"
   ]
  },
  {
   "cell_type": "code",
   "execution_count": 10,
   "metadata": {},
   "outputs": [
    {
     "data": {
      "text/html": [
       "<div>\n",
       "<style scoped>\n",
       "    .dataframe tbody tr th:only-of-type {\n",
       "        vertical-align: middle;\n",
       "    }\n",
       "\n",
       "    .dataframe tbody tr th {\n",
       "        vertical-align: top;\n",
       "    }\n",
       "\n",
       "    .dataframe thead th {\n",
       "        text-align: right;\n",
       "    }\n",
       "</style>\n",
       "<table border=\"1\" class=\"dataframe\">\n",
       "  <thead>\n",
       "    <tr style=\"text-align: right;\">\n",
       "      <th></th>\n",
       "      <th>Infected</th>\n",
       "    </tr>\n",
       "  </thead>\n",
       "  <tbody>\n",
       "    <tr>\n",
       "      <th>5/16/20</th>\n",
       "      <td>4634068</td>\n",
       "    </tr>\n",
       "    <tr>\n",
       "      <th>5/17/20</th>\n",
       "      <td>4713620</td>\n",
       "    </tr>\n",
       "    <tr>\n",
       "      <th>5/18/20</th>\n",
       "      <td>4801943</td>\n",
       "    </tr>\n",
       "    <tr>\n",
       "      <th>5/19/20</th>\n",
       "      <td>4897492</td>\n",
       "    </tr>\n",
       "    <tr>\n",
       "      <th>5/20/20</th>\n",
       "      <td>4996472</td>\n",
       "    </tr>\n",
       "  </tbody>\n",
       "</table>\n",
       "</div>"
      ],
      "text/plain": [
       "        Infected\n",
       "5/16/20  4634068\n",
       "5/17/20  4713620\n",
       "5/18/20  4801943\n",
       "5/19/20  4897492\n",
       "5/20/20  4996472"
      ]
     },
     "execution_count": 10,
     "metadata": {},
     "output_type": "execute_result"
    }
   ],
   "source": [
    "df.tail()"
   ]
  },
  {
   "cell_type": "code",
   "execution_count": 11,
   "metadata": {},
   "outputs": [],
   "source": [
    "close_data = df['Infected'].values\n",
    "close_data = close_data.reshape((-1,1))\n",
    "\n",
    "split_percent = 0.80\n",
    "split = int(split_percent*len(close_data))\n",
    "\n",
    "close_train = close_data[:split]\n",
    "close_test = close_data[split:]\n",
    "\n",
    "cclose = close_data"
   ]
  },
  {
   "cell_type": "code",
   "execution_count": 12,
   "metadata": {},
   "outputs": [],
   "source": [
    "look_back = 2\n",
    "\n",
    "train_generator = TimeseriesGenerator(cclose, cclose, length=look_back, batch_size=20)     \n",
    "test_generator = TimeseriesGenerator(close_test, close_test, length=look_back, batch_size=1)"
   ]
  },
  {
   "cell_type": "code",
   "execution_count": 13,
   "metadata": {},
   "outputs": [
    {
     "name": "stdout",
     "output_type": "stream",
     "text": [
      "Epoch 1/100\n",
      "6/6 [==============================] - 2s 379ms/step - loss: 4443421659202.4795\n",
      "Epoch 2/100\n",
      "6/6 [==============================] - 0s 10ms/step - loss: 4443421658304.3096\n",
      "Epoch 3/100\n",
      "6/6 [==============================] - 0s 7ms/step - loss: 4443421658272.2324\n",
      "Epoch 4/100\n",
      "6/6 [==============================] - 0s 18ms/step - loss: 4443421656700.4355\n",
      "Epoch 5/100\n",
      "6/6 [==============================] - 0s 17ms/step - loss: 4443421656411.7383\n",
      "Epoch 6/100\n",
      "6/6 [==============================] - 0s 6ms/step - loss: 4443421656390.3535\n",
      "Epoch 7/100\n",
      "6/6 [==============================] - 0s 18ms/step - loss: 4443421656368.9688\n",
      "Epoch 8/100\n",
      "6/6 [==============================] - 0s 17ms/step - loss: 4443421656251.3506\n",
      "Epoch 9/100\n",
      "6/6 [==============================] - 0s 11ms/step - loss: 4443421656229.9658\n",
      "Epoch 10/100\n",
      "6/6 [==============================] - 0s 16ms/step - loss: 4443421655855.7285\n",
      "Epoch 11/100\n",
      "6/6 [==============================] - 0s 17ms/step - loss: 4443421655171.4092\n",
      "Epoch 12/100\n",
      "6/6 [==============================] - 0s 17ms/step - loss: 4443421654861.3271\n",
      "Epoch 13/100\n",
      "6/6 [==============================] - 0s 8ms/step - loss: 4443421654059.3896\n",
      "Epoch 14/100\n",
      "6/6 [==============================] - 0s 18ms/step - loss: 4443421653353.6855\n",
      "Epoch 15/100\n",
      "6/6 [==============================] - 0s 16ms/step - loss: 4443421653075.6807\n",
      "Epoch 16/100\n",
      "6/6 [==============================] - 0s 11ms/step - loss: 4443421653054.2949\n",
      "Epoch 17/100\n",
      "6/6 [==============================] - 0s 16ms/step - loss: 4443421652861.8301\n",
      "Epoch 18/100\n",
      "6/6 [==============================] - 0s 17ms/step - loss: 4443421652808.3682\n",
      "Epoch 19/100\n",
      "6/6 [==============================] - 0s 10ms/step - loss: 4443421651856.7363\n",
      "Epoch 20/100\n",
      "6/6 [==============================] - 0s 7ms/step - loss: 4443421629915.7383\n",
      "Epoch 21/100\n",
      "6/6 [==============================] - 0s 15ms/step - loss: 4443421629733.9658\n",
      "Epoch 22/100\n",
      "6/6 [==============================] - 0s 17ms/step - loss: 4443421629017.5693\n",
      "Epoch 23/100\n",
      "6/6 [==============================] - 0s 17ms/step - loss: 4443421628974.7988\n",
      "Epoch 24/100\n",
      "6/6 [==============================] - 0s 15ms/step - loss: 4443421628793.0264\n",
      "Epoch 25/100\n",
      "6/6 [==============================] - 0s 8ms/step - loss: 4443421606178.4014\n",
      "Epoch 26/100\n",
      "6/6 [==============================] - 0s 17ms/step - loss: 4443421605889.7051\n",
      "Epoch 27/100\n",
      "6/6 [==============================] - 0s 17ms/step - loss: 4443421605772.0869\n",
      "Epoch 28/100\n",
      "6/6 [==============================] - 0s 8ms/step - loss: 4443421605665.1621\n",
      "Epoch 29/100\n",
      "6/6 [==============================] - 0s 9ms/step - loss: 4443421604275.1377\n",
      "Epoch 30/100\n",
      "6/6 [==============================] - 0s 18ms/step - loss: 4443421603986.4404\n",
      "Epoch 31/100\n",
      "6/6 [==============================] - 0s 16ms/step - loss: 4443421603943.6709\n",
      "Epoch 32/100\n",
      "6/6 [==============================] - 0s 13ms/step - loss: 4443421516254.5283\n",
      "Epoch 33/100\n",
      "6/6 [==============================] - 0s 16ms/step - loss: 4443421516222.4502\n",
      "Epoch 34/100\n",
      "6/6 [==============================] - 0s 16ms/step - loss: 4443421515249.4336\n",
      "Epoch 35/100\n",
      "6/6 [==============================] - 0s 16ms/step - loss: 4443421515238.7412\n",
      "Epoch 36/100\n",
      "6/6 [==============================] - 0s 10ms/step - loss: 4443421513495.8643\n",
      "Epoch 37/100\n",
      "6/6 [==============================] - 0s 20ms/step - loss: 4443421513463.7871\n",
      "Epoch 38/100\n",
      "6/6 [==============================] - 0s 10ms/step - loss: 4443421513356.8623\n",
      "Epoch 39/100\n",
      "6/6 [==============================] - 0s 16ms/step - loss: 4443421513153.7051\n",
      "Epoch 40/100\n",
      "6/6 [==============================] - 0s 16ms/step - loss: 4443421512373.1523\n",
      "Epoch 41/100\n",
      "6/6 [==============================] - 0s 17ms/step - loss: 4443421512169.9951\n",
      "Epoch 42/100\n",
      "6/6 [==============================] - 0s 10ms/step - loss: 4443421512137.9170\n",
      "Epoch 43/100\n",
      "6/6 [==============================] - 0s 8ms/step - loss: 4443421511945.4521\n",
      "Epoch 44/100\n",
      "6/6 [==============================] - 0s 14ms/step - loss: 4443421511229.0557\n",
      "Epoch 45/100\n",
      "6/6 [==============================] - 0s 11ms/step - loss: 4443421511186.2861\n",
      "Epoch 46/100\n",
      "6/6 [==============================] - 0s 13ms/step - loss: 4443421510897.5879\n",
      "Epoch 47/100\n",
      "6/6 [==============================] - 0s 12ms/step - loss: 4443421510715.8154\n",
      "Epoch 48/100\n",
      "6/6 [==============================] - 0s 15ms/step - loss: 4443421488111.8838\n",
      "Epoch 49/100\n",
      "6/6 [==============================] - 0s 16ms/step - loss: 4443421487823.1865\n",
      "Epoch 50/100\n",
      "6/6 [==============================] - 0s 16ms/step - loss: 4443421487117.4824\n",
      "Epoch 51/100\n",
      "6/6 [==============================] - 0s 14ms/step - loss: 4443421487010.5566\n",
      "Epoch 52/100\n",
      "6/6 [==============================] - 0s 9ms/step - loss: 4443421486957.0947\n",
      "Epoch 53/100\n",
      "6/6 [==============================] - 0s 18ms/step - loss: 4443421486005.4629\n",
      "Epoch 54/100\n",
      "6/6 [==============================] - 0s 8ms/step - loss: 4443421485984.0771\n",
      "Epoch 55/100\n",
      "6/6 [==============================] - 0s 17ms/step - loss: 4443421485011.0605\n",
      "Epoch 56/100\n",
      "6/6 [==============================] - 0s 15ms/step - loss: 4443421484978.9834\n",
      "Epoch 57/100\n",
      "6/6 [==============================] - 0s 11ms/step - loss: 4443421484754.4404\n",
      "Epoch 58/100\n",
      "6/6 [==============================] - 0s 11ms/step - loss: 4443421484733.0557\n",
      "Epoch 59/100\n",
      "6/6 [==============================] - 0s 14ms/step - loss: 4443421484476.4355\n",
      "Epoch 60/100\n",
      "6/6 [==============================] - 0s 11ms/step - loss: 4443421483054.3340\n",
      "Epoch 61/100\n",
      "6/6 [==============================] - 0s 16ms/step - loss: 4443421482861.8691\n",
      "Epoch 62/100\n",
      "6/6 [==============================] - 0s 15ms/step - loss: 4443421482829.7920\n",
      "Epoch 63/100\n",
      "6/6 [==============================] - 0s 17ms/step - loss: 4443421482637.3271\n",
      "Epoch 64/100\n",
      "6/6 [==============================] - 0s 7ms/step - loss: 4443421137311.4580\n",
      "Epoch 65/100\n",
      "6/6 [==============================] - 0s 16ms/step - loss: 4443421137033.4521\n",
      "Epoch 66/100\n",
      "6/6 [==============================] - 0s 17ms/step - loss: 4443421136317.0557\n",
      "Epoch 67/100\n",
      "6/6 [==============================] - 0s 15ms/step - loss: 4443421136124.5908\n",
      "Epoch 68/100\n",
      "6/6 [==============================] - 0s 9ms/step - loss: 4443421135440.2715\n",
      "Epoch 69/100\n",
      "6/6 [==============================] - 0s 15ms/step - loss: 4443421135151.5732\n",
      "Epoch 70/100\n",
      "6/6 [==============================] - 0s 15ms/step - loss: 4443421134435.1768\n",
      "Epoch 71/100\n",
      "6/6 [==============================] - 0s 10ms/step - loss: 4443421134381.7139\n",
      "Epoch 72/100\n",
      "6/6 [==============================] - 0s 13ms/step - loss: 4443421134285.4824\n",
      "Epoch 73/100\n",
      "6/6 [==============================] - 0s 25ms/step - loss: 4443421133986.0918\n",
      "Epoch 74/100\n",
      "6/6 [==============================] - 0s 8ms/step - loss: 4443421133301.7725\n",
      "Epoch 75/100\n",
      "6/6 [==============================] - 0s 15ms/step - loss: 4443421133023.7676\n",
      "Epoch 76/100\n",
      "6/6 [==============================] - 0s 17ms/step - loss: 4443421132296.6777\n",
      "Epoch 77/100\n",
      "6/6 [==============================] - 0s 14ms/step - loss: 4443421132093.5205\n",
      "Epoch 78/100\n",
      "6/6 [==============================] - 0s 8ms/step - loss: 4443421131377.1230\n",
      "Epoch 79/100\n",
      "6/6 [==============================] - 0s 15ms/step - loss: 4443421131206.0439\n",
      "Epoch 80/100\n",
      "6/6 [==============================] - 0s 16ms/step - loss: 4443421087120.8916\n",
      "Epoch 81/100\n",
      "6/6 [==============================] - 0s 17ms/step - loss: 4443421087099.5059\n",
      "Epoch 82/100\n",
      "6/6 [==============================] - 0s 7ms/step - loss: 4443421087046.0439\n",
      "Epoch 83/100\n",
      "6/6 [==============================] - 0s 8ms/step - loss: 4443421086874.9639\n",
      "Epoch 84/100\n",
      "6/6 [==============================] - 0s 16ms/step - loss: 4443421085452.8623\n",
      "Epoch 85/100\n",
      "6/6 [==============================] - 0s 17ms/step - loss: 4443421085249.7051\n",
      "Epoch 86/100\n",
      "6/6 [==============================] - 0s 14ms/step - loss: 4443421084544.0000\n",
      "Epoch 87/100\n",
      "6/6 [==============================] - 0s 7ms/step - loss: 4443421084255.3027\n",
      "Epoch 88/100\n",
      "6/6 [==============================] - 0s 16ms/step - loss: 4443421084255.3027\n",
      "Epoch 89/100\n",
      "6/6 [==============================] - 0s 16ms/step - loss: 4443421083945.2207\n",
      "Epoch 90/100\n"
     ]
    },
    {
     "name": "stdout",
     "output_type": "stream",
     "text": [
      "6/6 [==============================] - 0s 12ms/step - loss: 4443421083945.2207\n",
      "Epoch 91/100\n",
      "6/6 [==============================] - 0s 15ms/step - loss: 4443421083720.6777\n",
      "Epoch 92/100\n",
      "6/6 [==============================] - 0s 11ms/step - loss: 4443421082352.0381\n",
      "Epoch 93/100\n",
      "6/6 [==============================] - 0s 15ms/step - loss: 4443421082148.8809\n",
      "Epoch 94/100\n",
      "6/6 [==============================] - 0s 16ms/step - loss: 4443421081935.0312\n",
      "Epoch 95/100\n",
      "6/6 [==============================] - 0s 14ms/step - loss: 4443420906727.8262\n",
      "Epoch 96/100\n",
      "6/6 [==============================] - 0s 11ms/step - loss: 4443420906706.4404\n",
      "Epoch 97/100\n",
      "6/6 [==============================] - 0s 15ms/step - loss: 4443420906407.0508\n",
      "Epoch 98/100\n",
      "6/6 [==============================] - 0s 16ms/step - loss: 4443420905006.3340\n",
      "Epoch 99/100\n",
      "6/6 [==============================] - 0s 14ms/step - loss: 4443420904717.6367\n",
      "Epoch 100/100\n",
      "6/6 [==============================] - 0s 17ms/step - loss: 4443420904525.1719\n"
     ]
    },
    {
     "data": {
      "text/plain": [
       "<keras.callbacks.callbacks.History at 0x7f25c9fcfe90>"
      ]
     },
     "execution_count": 13,
     "metadata": {},
     "output_type": "execute_result"
    }
   ],
   "source": [
    "from keras.models import Sequential\n",
    "from keras.layers import LSTM, Dense\n",
    "\n",
    "model = Sequential()\n",
    "model.add(\n",
    "    LSTM(10,\n",
    "        activation='relu',\n",
    "        input_shape=(look_back,1))\n",
    ")\n",
    "model.add(Dense(1))\n",
    "model.compile(optimizer='adam', loss='mse')\n",
    "\n",
    "num_epochs = 100\n",
    "model.fit_generator(train_generator, epochs=num_epochs, verbose=1)"
   ]
  },
  {
   "cell_type": "code",
   "execution_count": 14,
   "metadata": {},
   "outputs": [],
   "source": [
    "prediction = model.predict_generator(test_generator)\n",
    "\n",
    "cclose = cclose.reshape((-1))\n",
    "close_train = close_train.reshape((-1))\n",
    "close_test = close_test.reshape((-1))\n",
    "prediction = prediction.reshape((-1))"
   ]
  },
  {
   "cell_type": "code",
   "execution_count": 15,
   "metadata": {},
   "outputs": [],
   "source": [
    "close_data = close_data.reshape((-1))\n",
    "\n",
    "def predict(num_prediction, model):\n",
    "    prediction_list = close_data[-look_back:]\n",
    "    \n",
    "    for _ in range(num_prediction):\n",
    "        x = prediction_list[-look_back:]\n",
    "        x = x.reshape((1, look_back, 1))\n",
    "        out = model.predict(x)[0][0]\n",
    "        prediction_list = np.append(prediction_list, out)\n",
    "    prediction_list = prediction_list[look_back-1:]\n",
    "        \n",
    "    return prediction_list\n",
    "num_prediction = 1\n",
    "forecast = predict(num_prediction, model)\n",
    "forecast = numbers[0]"
   ]
  },
  {
   "cell_type": "code",
   "execution_count": 16,
   "metadata": {},
   "outputs": [
    {
     "data": {
      "text/plain": [
       "5089978"
      ]
     },
     "execution_count": 16,
     "metadata": {},
     "output_type": "execute_result"
    }
   ],
   "source": [
    "forecast"
   ]
  },
  {
   "cell_type": "code",
   "execution_count": 37,
   "metadata": {},
   "outputs": [
    {
     "data": {
      "text/plain": [
       "[<matplotlib.lines.Line2D at 0x7f25cb2085d0>]"
      ]
     },
     "execution_count": 37,
     "metadata": {},
     "output_type": "execute_result"
    },
    {
     "data": {
      "image/png": "[encoded data removed]",
      "text/plain": [
       "<Figure size 432x288 with 1 Axes>"
      ]
     },
     "metadata": {
      "needs_background": "light"
     },
     "output_type": "display_data"
    }
   ],
   "source": [
    "plt.plot(df)"
   ]
  },
  {
   "cell_type": "code",
   "execution_count": 18,
   "metadata": {},
   "outputs": [
    {
     "data": {
      "text/html": [
       "<div>\n",
       "<style scoped>\n",
       "    .dataframe tbody tr th:only-of-type {\n",
       "        vertical-align: middle;\n",
       "    }\n",
       "\n",
       "    .dataframe tbody tr th {\n",
       "        vertical-align: top;\n",
       "    }\n",
       "\n",
       "    .dataframe thead th {\n",
       "        text-align: right;\n",
       "    }\n",
       "</style>\n",
       "<table border=\"1\" class=\"dataframe\">\n",
       "  <thead>\n",
       "    <tr style=\"text-align: right;\">\n",
       "      <th></th>\n",
       "      <th>Infected</th>\n",
       "    </tr>\n",
       "  </thead>\n",
       "  <tbody>\n",
       "    <tr>\n",
       "      <th>5/16/20</th>\n",
       "      <td>4634068</td>\n",
       "    </tr>\n",
       "    <tr>\n",
       "      <th>5/17/20</th>\n",
       "      <td>4713620</td>\n",
       "    </tr>\n",
       "    <tr>\n",
       "      <th>5/18/20</th>\n",
       "      <td>4801943</td>\n",
       "    </tr>\n",
       "    <tr>\n",
       "      <th>5/19/20</th>\n",
       "      <td>4897492</td>\n",
       "    </tr>\n",
       "    <tr>\n",
       "      <th>5/20/20</th>\n",
       "      <td>4996472</td>\n",
       "    </tr>\n",
       "  </tbody>\n",
       "</table>\n",
       "</div>"
      ],
      "text/plain": [
       "        Infected\n",
       "5/16/20  4634068\n",
       "5/17/20  4713620\n",
       "5/18/20  4801943\n",
       "5/19/20  4897492\n",
       "5/20/20  4996472"
      ]
     },
     "execution_count": 18,
     "metadata": {},
     "output_type": "execute_result"
    }
   ],
   "source": [
    "df.tail()"
   ]
  },
  {
   "cell_type": "code",
   "execution_count": 19,
   "metadata": {
    "scrolled": true
   },
   "outputs": [
    {
     "data": {
      "text/plain": [
       "5089978"
      ]
     },
     "execution_count": 19,
     "metadata": {},
     "output_type": "execute_result"
    }
   ],
   "source": [
    "forecast"
   ]
  },
  {
   "cell_type": "code",
   "execution_count": 27,
   "metadata": {},
   "outputs": [
    {
     "data": {
      "text/plain": [
       "[<matplotlib.lines.Line2D at 0x7f25cac09b90>]"
      ]
     },
     "execution_count": 27,
     "metadata": {},
     "output_type": "execute_result"
    },
    {
     "data": {
      "image/png": "[encoded data removed]",
      "text/plain": [
       "<Figure size 432x288 with 1 Axes>"
      ]
     },
     "metadata": {
      "needs_background": "light"
     },
     "output_type": "display_data"
    }
   ],
   "source": [
    "plt.plot(df)\n",
    "plt.plot(forecast)"
   ]
  },
  {
   "cell_type": "code",
   "execution_count": 21,
   "metadata": {},
   "outputs": [],
   "source": [
    "df_temp = df"
   ]
  },
  {
   "cell_type": "code",
   "execution_count": 22,
   "metadata": {},
   "outputs": [],
   "source": [
    "df_temp.loc[d1] = forecast"
   ]
  },
  {
   "cell_type": "code",
   "execution_count": 28,
   "metadata": {},
   "outputs": [
    {
     "data": {
      "text/html": [
       "<div>\n",
       "<style scoped>\n",
       "    .dataframe tbody tr th:only-of-type {\n",
       "        vertical-align: middle;\n",
       "    }\n",
       "\n",
       "    .dataframe tbody tr th {\n",
       "        vertical-align: top;\n",
       "    }\n",
       "\n",
       "    .dataframe thead th {\n",
       "        text-align: right;\n",
       "    }\n",
       "</style>\n",
       "<table border=\"1\" class=\"dataframe\">\n",
       "  <thead>\n",
       "    <tr style=\"text-align: right;\">\n",
       "      <th></th>\n",
       "      <th>Infected</th>\n",
       "    </tr>\n",
       "  </thead>\n",
       "  <tbody>\n",
       "    <tr>\n",
       "      <th>1/22/20</th>\n",
       "      <td>555</td>\n",
       "    </tr>\n",
       "    <tr>\n",
       "      <th>1/23/20</th>\n",
       "      <td>654</td>\n",
       "    </tr>\n",
       "    <tr>\n",
       "      <th>1/24/20</th>\n",
       "      <td>941</td>\n",
       "    </tr>\n",
       "    <tr>\n",
       "      <th>1/25/20</th>\n",
       "      <td>1434</td>\n",
       "    </tr>\n",
       "    <tr>\n",
       "      <th>1/26/20</th>\n",
       "      <td>2118</td>\n",
       "    </tr>\n",
       "    <tr>\n",
       "      <th>...</th>\n",
       "      <td>...</td>\n",
       "    </tr>\n",
       "    <tr>\n",
       "      <th>5/17/20</th>\n",
       "      <td>4713620</td>\n",
       "    </tr>\n",
       "    <tr>\n",
       "      <th>5/18/20</th>\n",
       "      <td>4801943</td>\n",
       "    </tr>\n",
       "    <tr>\n",
       "      <th>5/19/20</th>\n",
       "      <td>4897492</td>\n",
       "    </tr>\n",
       "    <tr>\n",
       "      <th>5/20/20</th>\n",
       "      <td>4996472</td>\n",
       "    </tr>\n",
       "    <tr>\n",
       "      <th>05/21/20</th>\n",
       "      <td>5089978</td>\n",
       "    </tr>\n",
       "  </tbody>\n",
       "</table>\n",
       "<p>121 rows × 1 columns</p>\n",
       "</div>"
      ],
      "text/plain": [
       "         Infected\n",
       "1/22/20       555\n",
       "1/23/20       654\n",
       "1/24/20       941\n",
       "1/25/20      1434\n",
       "1/26/20      2118\n",
       "...           ...\n",
       "5/17/20   4713620\n",
       "5/18/20   4801943\n",
       "5/19/20   4897492\n",
       "5/20/20   4996472\n",
       "05/21/20  5089978\n",
       "\n",
       "[121 rows x 1 columns]"
      ]
     },
     "execution_count": 28,
     "metadata": {},
     "output_type": "execute_result"
    }
   ],
   "source": [
    "df_temp"
   ]
  },
  {
   "cell_type": "code",
   "execution_count": 38,
   "metadata": {},
   "outputs": [
    {
     "ename": "ValueError",
     "evalue": "Unrecognized marker style 5089978",
     "output_type": "error",
     "traceback": [
      "\u001b[0;31m---------------------------------------------------------------------------\u001b[0m",
      "\u001b[0;31mValueError\u001b[0m                                Traceback (most recent call last)",
      "\u001b[0;32m/home/yash/miniconda3/envs/covid-lstm/lib/python3.7/site-packages/matplotlib/markers.py\u001b[0m in \u001b[0;36mset_marker\u001b[0;34m(self, marker)\u001b[0m\n\u001b[1;32m    308\u001b[0m             \u001b[0;32mtry\u001b[0m\u001b[0;34m:\u001b[0m\u001b[0;34m\u001b[0m\u001b[0;34m\u001b[0m\u001b[0m\n\u001b[0;32m--> 309\u001b[0;31m                 \u001b[0mPath\u001b[0m\u001b[0;34m(\u001b[0m\u001b[0mmarker\u001b[0m\u001b[0;34m)\u001b[0m\u001b[0;34m\u001b[0m\u001b[0;34m\u001b[0m\u001b[0m\n\u001b[0m\u001b[1;32m    310\u001b[0m                 \u001b[0mself\u001b[0m\u001b[0;34m.\u001b[0m\u001b[0m_marker_function\u001b[0m \u001b[0;34m=\u001b[0m \u001b[0mself\u001b[0m\u001b[0;34m.\u001b[0m\u001b[0m_set_vertices\u001b[0m\u001b[0;34m\u001b[0m\u001b[0;34m\u001b[0m\u001b[0m\n",
      "\u001b[0;32m/home/yash/miniconda3/envs/covid-lstm/lib/python3.7/site-packages/matplotlib/path.py\u001b[0m in \u001b[0;36m__init__\u001b[0;34m(self, vertices, codes, _interpolation_steps, closed, readonly)\u001b[0m\n\u001b[1;32m    129\u001b[0m             raise ValueError(\n\u001b[0;32m--> 130\u001b[0;31m                 \"'vertices' must be a 2D list or array with shape Nx2\")\n\u001b[0m\u001b[1;32m    131\u001b[0m \u001b[0;34m\u001b[0m\u001b[0m\n",
      "\u001b[0;31mValueError\u001b[0m: 'vertices' must be a 2D list or array with shape Nx2",
      "\nDuring handling of the above exception, another exception occurred:\n",
      "\u001b[0;31mValueError\u001b[0m                                Traceback (most recent call last)",
      "\u001b[0;32m<ipython-input-38-308525d48fd2>\u001b[0m in \u001b[0;36m<module>\u001b[0;34m\u001b[0m\n\u001b[0;32m----> 1\u001b[0;31m \u001b[0mplt\u001b[0m\u001b[0;34m.\u001b[0m\u001b[0mplot\u001b[0m\u001b[0;34m(\u001b[0m\u001b[0mdf_temp\u001b[0m\u001b[0;34m[\u001b[0m\u001b[0;34m-\u001b[0m\u001b[0;36m20\u001b[0m\u001b[0;34m:\u001b[0m\u001b[0;34m]\u001b[0m\u001b[0;34m,\u001b[0m \u001b[0mmarker\u001b[0m\u001b[0;34m=\u001b[0m\u001b[0mforecast\u001b[0m\u001b[0;34m)\u001b[0m\u001b[0;34m\u001b[0m\u001b[0;34m\u001b[0m\u001b[0m\n\u001b[0m",
      "\u001b[0;32m/home/yash/miniconda3/envs/covid-lstm/lib/python3.7/site-packages/matplotlib/pyplot.py\u001b[0m in \u001b[0;36mplot\u001b[0;34m(scalex, scaley, data, *args, **kwargs)\u001b[0m\n\u001b[1;32m   2794\u001b[0m     return gca().plot(\n\u001b[1;32m   2795\u001b[0m         *args, scalex=scalex, scaley=scaley, **({\"data\": data} if data\n\u001b[0;32m-> 2796\u001b[0;31m         is not None else {}), **kwargs)\n\u001b[0m\u001b[1;32m   2797\u001b[0m \u001b[0;34m\u001b[0m\u001b[0m\n\u001b[1;32m   2798\u001b[0m \u001b[0;34m\u001b[0m\u001b[0m\n",
      "\u001b[0;32m/home/yash/miniconda3/envs/covid-lstm/lib/python3.7/site-packages/matplotlib/axes/_axes.py\u001b[0m in \u001b[0;36mplot\u001b[0;34m(self, scalex, scaley, data, *args, **kwargs)\u001b[0m\n\u001b[1;32m   1663\u001b[0m         \"\"\"\n\u001b[1;32m   1664\u001b[0m         \u001b[0mkwargs\u001b[0m \u001b[0;34m=\u001b[0m \u001b[0mcbook\u001b[0m\u001b[0;34m.\u001b[0m\u001b[0mnormalize_kwargs\u001b[0m\u001b[0;34m(\u001b[0m\u001b[0mkwargs\u001b[0m\u001b[0;34m,\u001b[0m \u001b[0mmlines\u001b[0m\u001b[0;34m.\u001b[0m\u001b[0mLine2D\u001b[0m\u001b[0;34m.\u001b[0m\u001b[0m_alias_map\u001b[0m\u001b[0;34m)\u001b[0m\u001b[0;34m\u001b[0m\u001b[0;34m\u001b[0m\u001b[0m\n\u001b[0;32m-> 1665\u001b[0;31m         \u001b[0mlines\u001b[0m \u001b[0;34m=\u001b[0m \u001b[0;34m[\u001b[0m\u001b[0;34m*\u001b[0m\u001b[0mself\u001b[0m\u001b[0;34m.\u001b[0m\u001b[0m_get_lines\u001b[0m\u001b[0;34m(\u001b[0m\u001b[0;34m*\u001b[0m\u001b[0margs\u001b[0m\u001b[0;34m,\u001b[0m \u001b[0mdata\u001b[0m\u001b[0;34m=\u001b[0m\u001b[0mdata\u001b[0m\u001b[0;34m,\u001b[0m \u001b[0;34m**\u001b[0m\u001b[0mkwargs\u001b[0m\u001b[0;34m)\u001b[0m\u001b[0;34m]\u001b[0m\u001b[0;34m\u001b[0m\u001b[0;34m\u001b[0m\u001b[0m\n\u001b[0m\u001b[1;32m   1666\u001b[0m         \u001b[0;32mfor\u001b[0m \u001b[0mline\u001b[0m \u001b[0;32min\u001b[0m \u001b[0mlines\u001b[0m\u001b[0;34m:\u001b[0m\u001b[0;34m\u001b[0m\u001b[0;34m\u001b[0m\u001b[0m\n\u001b[1;32m   1667\u001b[0m             \u001b[0mself\u001b[0m\u001b[0;34m.\u001b[0m\u001b[0madd_line\u001b[0m\u001b[0;34m(\u001b[0m\u001b[0mline\u001b[0m\u001b[0;34m)\u001b[0m\u001b[0;34m\u001b[0m\u001b[0;34m\u001b[0m\u001b[0m\n",
      "\u001b[0;32m/home/yash/miniconda3/envs/covid-lstm/lib/python3.7/site-packages/matplotlib/axes/_base.py\u001b[0m in \u001b[0;36m__call__\u001b[0;34m(self, *args, **kwargs)\u001b[0m\n\u001b[1;32m    223\u001b[0m                 \u001b[0mthis\u001b[0m \u001b[0;34m+=\u001b[0m \u001b[0margs\u001b[0m\u001b[0;34m[\u001b[0m\u001b[0;36m0\u001b[0m\u001b[0;34m]\u001b[0m\u001b[0;34m,\u001b[0m\u001b[0;34m\u001b[0m\u001b[0;34m\u001b[0m\u001b[0m\n\u001b[1;32m    224\u001b[0m                 \u001b[0margs\u001b[0m \u001b[0;34m=\u001b[0m \u001b[0margs\u001b[0m\u001b[0;34m[\u001b[0m\u001b[0;36m1\u001b[0m\u001b[0;34m:\u001b[0m\u001b[0;34m]\u001b[0m\u001b[0;34m\u001b[0m\u001b[0;34m\u001b[0m\u001b[0m\n\u001b[0;32m--> 225\u001b[0;31m             \u001b[0;32myield\u001b[0m \u001b[0;32mfrom\u001b[0m \u001b[0mself\u001b[0m\u001b[0;34m.\u001b[0m\u001b[0m_plot_args\u001b[0m\u001b[0;34m(\u001b[0m\u001b[0mthis\u001b[0m\u001b[0;34m,\u001b[0m \u001b[0mkwargs\u001b[0m\u001b[0;34m)\u001b[0m\u001b[0;34m\u001b[0m\u001b[0;34m\u001b[0m\u001b[0m\n\u001b[0m\u001b[1;32m    226\u001b[0m \u001b[0;34m\u001b[0m\u001b[0m\n\u001b[1;32m    227\u001b[0m     \u001b[0;32mdef\u001b[0m \u001b[0mget_next_color\u001b[0m\u001b[0;34m(\u001b[0m\u001b[0mself\u001b[0m\u001b[0;34m)\u001b[0m\u001b[0;34m:\u001b[0m\u001b[0;34m\u001b[0m\u001b[0;34m\u001b[0m\u001b[0m\n",
      "\u001b[0;32m/home/yash/miniconda3/envs/covid-lstm/lib/python3.7/site-packages/matplotlib/axes/_base.py\u001b[0m in \u001b[0;36m_plot_args\u001b[0;34m(self, tup, kwargs)\u001b[0m\n\u001b[1;32m    403\u001b[0m                 \"non-matching shapes is deprecated.\")\n\u001b[1;32m    404\u001b[0m         \u001b[0;32mfor\u001b[0m \u001b[0mj\u001b[0m \u001b[0;32min\u001b[0m \u001b[0mrange\u001b[0m\u001b[0;34m(\u001b[0m\u001b[0mmax\u001b[0m\u001b[0;34m(\u001b[0m\u001b[0mncx\u001b[0m\u001b[0;34m,\u001b[0m \u001b[0mncy\u001b[0m\u001b[0;34m)\u001b[0m\u001b[0;34m)\u001b[0m\u001b[0;34m:\u001b[0m\u001b[0;34m\u001b[0m\u001b[0;34m\u001b[0m\u001b[0m\n\u001b[0;32m--> 405\u001b[0;31m             \u001b[0mseg\u001b[0m \u001b[0;34m=\u001b[0m \u001b[0mfunc\u001b[0m\u001b[0;34m(\u001b[0m\u001b[0mx\u001b[0m\u001b[0;34m[\u001b[0m\u001b[0;34m:\u001b[0m\u001b[0;34m,\u001b[0m \u001b[0mj\u001b[0m \u001b[0;34m%\u001b[0m \u001b[0mncx\u001b[0m\u001b[0;34m]\u001b[0m\u001b[0;34m,\u001b[0m \u001b[0my\u001b[0m\u001b[0;34m[\u001b[0m\u001b[0;34m:\u001b[0m\u001b[0;34m,\u001b[0m \u001b[0mj\u001b[0m \u001b[0;34m%\u001b[0m \u001b[0mncy\u001b[0m\u001b[0;34m]\u001b[0m\u001b[0;34m,\u001b[0m \u001b[0mkw\u001b[0m\u001b[0;34m,\u001b[0m \u001b[0mkwargs\u001b[0m\u001b[0;34m)\u001b[0m\u001b[0;34m\u001b[0m\u001b[0;34m\u001b[0m\u001b[0m\n\u001b[0m\u001b[1;32m    406\u001b[0m             \u001b[0mret\u001b[0m\u001b[0;34m.\u001b[0m\u001b[0mappend\u001b[0m\u001b[0;34m(\u001b[0m\u001b[0mseg\u001b[0m\u001b[0;34m)\u001b[0m\u001b[0;34m\u001b[0m\u001b[0;34m\u001b[0m\u001b[0m\n\u001b[1;32m    407\u001b[0m         \u001b[0;32mreturn\u001b[0m \u001b[0mret\u001b[0m\u001b[0;34m\u001b[0m\u001b[0;34m\u001b[0m\u001b[0m\n",
      "\u001b[0;32m/home/yash/miniconda3/envs/covid-lstm/lib/python3.7/site-packages/matplotlib/axes/_base.py\u001b[0m in \u001b[0;36m_makeline\u001b[0;34m(self, x, y, kw, kwargs)\u001b[0m\n\u001b[1;32m    310\u001b[0m         \u001b[0mdefault_dict\u001b[0m \u001b[0;34m=\u001b[0m \u001b[0mself\u001b[0m\u001b[0;34m.\u001b[0m\u001b[0m_getdefaults\u001b[0m\u001b[0;34m(\u001b[0m\u001b[0mset\u001b[0m\u001b[0;34m(\u001b[0m\u001b[0;34m)\u001b[0m\u001b[0;34m,\u001b[0m \u001b[0mkw\u001b[0m\u001b[0;34m)\u001b[0m\u001b[0;34m\u001b[0m\u001b[0;34m\u001b[0m\u001b[0m\n\u001b[1;32m    311\u001b[0m         \u001b[0mself\u001b[0m\u001b[0;34m.\u001b[0m\u001b[0m_setdefaults\u001b[0m\u001b[0;34m(\u001b[0m\u001b[0mdefault_dict\u001b[0m\u001b[0;34m,\u001b[0m \u001b[0mkw\u001b[0m\u001b[0;34m)\u001b[0m\u001b[0;34m\u001b[0m\u001b[0;34m\u001b[0m\u001b[0m\n\u001b[0;32m--> 312\u001b[0;31m         \u001b[0mseg\u001b[0m \u001b[0;34m=\u001b[0m \u001b[0mmlines\u001b[0m\u001b[0;34m.\u001b[0m\u001b[0mLine2D\u001b[0m\u001b[0;34m(\u001b[0m\u001b[0mx\u001b[0m\u001b[0;34m,\u001b[0m \u001b[0my\u001b[0m\u001b[0;34m,\u001b[0m \u001b[0;34m**\u001b[0m\u001b[0mkw\u001b[0m\u001b[0;34m)\u001b[0m\u001b[0;34m\u001b[0m\u001b[0;34m\u001b[0m\u001b[0m\n\u001b[0m\u001b[1;32m    313\u001b[0m         \u001b[0;32mreturn\u001b[0m \u001b[0mseg\u001b[0m\u001b[0;34m\u001b[0m\u001b[0;34m\u001b[0m\u001b[0m\n\u001b[1;32m    314\u001b[0m \u001b[0;34m\u001b[0m\u001b[0m\n",
      "\u001b[0;32m/home/yash/miniconda3/envs/covid-lstm/lib/python3.7/site-packages/matplotlib/lines.py\u001b[0m in \u001b[0;36m__init__\u001b[0;34m(self, xdata, ydata, linewidth, linestyle, color, marker, markersize, markeredgewidth, markeredgecolor, markerfacecolor, markerfacecoloralt, fillstyle, antialiased, dash_capstyle, solid_capstyle, dash_joinstyle, solid_joinstyle, pickradius, drawstyle, markevery, **kwargs)\u001b[0m\n\u001b[1;32m    380\u001b[0m         \u001b[0mself\u001b[0m\u001b[0;34m.\u001b[0m\u001b[0m_color\u001b[0m \u001b[0;34m=\u001b[0m \u001b[0;32mNone\u001b[0m\u001b[0;34m\u001b[0m\u001b[0;34m\u001b[0m\u001b[0m\n\u001b[1;32m    381\u001b[0m         \u001b[0mself\u001b[0m\u001b[0;34m.\u001b[0m\u001b[0mset_color\u001b[0m\u001b[0;34m(\u001b[0m\u001b[0mcolor\u001b[0m\u001b[0;34m)\u001b[0m\u001b[0;34m\u001b[0m\u001b[0;34m\u001b[0m\u001b[0m\n\u001b[0;32m--> 382\u001b[0;31m         \u001b[0mself\u001b[0m\u001b[0;34m.\u001b[0m\u001b[0m_marker\u001b[0m \u001b[0;34m=\u001b[0m \u001b[0mMarkerStyle\u001b[0m\u001b[0;34m(\u001b[0m\u001b[0mmarker\u001b[0m\u001b[0;34m,\u001b[0m \u001b[0mfillstyle\u001b[0m\u001b[0;34m)\u001b[0m\u001b[0;34m\u001b[0m\u001b[0;34m\u001b[0m\u001b[0m\n\u001b[0m\u001b[1;32m    383\u001b[0m \u001b[0;34m\u001b[0m\u001b[0m\n\u001b[1;32m    384\u001b[0m         \u001b[0mself\u001b[0m\u001b[0;34m.\u001b[0m\u001b[0m_markevery\u001b[0m \u001b[0;34m=\u001b[0m \u001b[0;32mNone\u001b[0m\u001b[0;34m\u001b[0m\u001b[0;34m\u001b[0m\u001b[0m\n",
      "\u001b[0;32m/home/yash/miniconda3/envs/covid-lstm/lib/python3.7/site-packages/matplotlib/markers.py\u001b[0m in \u001b[0;36m__init__\u001b[0;34m(self, marker, fillstyle)\u001b[0m\n\u001b[1;32m    241\u001b[0m         \u001b[0mself\u001b[0m\u001b[0;34m.\u001b[0m\u001b[0m_marker_function\u001b[0m \u001b[0;34m=\u001b[0m \u001b[0;32mNone\u001b[0m\u001b[0;34m\u001b[0m\u001b[0;34m\u001b[0m\u001b[0m\n\u001b[1;32m    242\u001b[0m         \u001b[0mself\u001b[0m\u001b[0;34m.\u001b[0m\u001b[0mset_fillstyle\u001b[0m\u001b[0;34m(\u001b[0m\u001b[0mfillstyle\u001b[0m\u001b[0;34m)\u001b[0m\u001b[0;34m\u001b[0m\u001b[0;34m\u001b[0m\u001b[0m\n\u001b[0;32m--> 243\u001b[0;31m         \u001b[0mself\u001b[0m\u001b[0;34m.\u001b[0m\u001b[0mset_marker\u001b[0m\u001b[0;34m(\u001b[0m\u001b[0mmarker\u001b[0m\u001b[0;34m)\u001b[0m\u001b[0;34m\u001b[0m\u001b[0;34m\u001b[0m\u001b[0m\n\u001b[0m\u001b[1;32m    244\u001b[0m \u001b[0;34m\u001b[0m\u001b[0m\n\u001b[1;32m    245\u001b[0m     \u001b[0;32mdef\u001b[0m \u001b[0m_recache\u001b[0m\u001b[0;34m(\u001b[0m\u001b[0mself\u001b[0m\u001b[0;34m)\u001b[0m\u001b[0;34m:\u001b[0m\u001b[0;34m\u001b[0m\u001b[0;34m\u001b[0m\u001b[0m\n",
      "\u001b[0;32m/home/yash/miniconda3/envs/covid-lstm/lib/python3.7/site-packages/matplotlib/markers.py\u001b[0m in \u001b[0;36mset_marker\u001b[0;34m(self, marker)\u001b[0m\n\u001b[1;32m    311\u001b[0m             \u001b[0;32mexcept\u001b[0m \u001b[0mValueError\u001b[0m\u001b[0;34m:\u001b[0m\u001b[0;34m\u001b[0m\u001b[0;34m\u001b[0m\u001b[0m\n\u001b[1;32m    312\u001b[0m                 raise ValueError('Unrecognized marker style {!r}'\n\u001b[0;32m--> 313\u001b[0;31m                                  .format(marker))\n\u001b[0m\u001b[1;32m    314\u001b[0m \u001b[0;34m\u001b[0m\u001b[0m\n\u001b[1;32m    315\u001b[0m         \u001b[0mself\u001b[0m\u001b[0;34m.\u001b[0m\u001b[0m_marker\u001b[0m \u001b[0;34m=\u001b[0m \u001b[0mmarker\u001b[0m\u001b[0;34m\u001b[0m\u001b[0;34m\u001b[0m\u001b[0m\n",
      "\u001b[0;31mValueError\u001b[0m: Unrecognized marker style 5089978"
     ]
    },
    {
     "data": {
      "image/png": "[encoded data removed]",
      "text/plain": [
       "<Figure size 432x288 with 1 Axes>"
      ]
     },
     "metadata": {
      "needs_background": "light"
     },
     "output_type": "display_data"
    }
   ],
   "source": [
    "plt.plot(df_temp[-20:], marker=forecast)"
   ]
  }
 ],
 "metadata": {
  "kernelspec": {
   "display_name": "Python 3",
   "language": "python",
   "name": "python3"
  },
  "language_info": {
   "codemirror_mode": {
    "name": "ipython",
    "version": 3
   },
   "file_extension": ".py",
   "mimetype": "text/x-python",
   "name": "python",
   "nbconvert_exporter": "python",
   "pygments_lexer": "ipython3",
   "version": "3.7.6"
  }
 },
 "nbformat": 4,
 "nbformat_minor": 4
}
