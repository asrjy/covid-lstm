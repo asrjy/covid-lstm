{
 "cells": [
  {
   "cell_type": "markdown",
   "metadata": {},
   "source": [
    "## Part 1"
   ]
  },
  {
   "cell_type": "markdown",
   "metadata": {},
   "source": [
    "### Loading the datasets\n",
    "#### 1. Confirmed URL : https://github.com/CSSEGISandData/COVID-19/blob/master/csse_covid_19_data/csse_covid_19_time_series/time_series_19-covid-Confirmed.csv\n",
    "#### 2. Deaths URL: https://github.com/CSSEGISandData/COVID-19/blob/master/csse_covid_19_data/csse_covid_19_time_series/time_series_19-covid-Deaths.csv\n",
    "#### 3. Recovered URL: https://github.com/CSSEGISandData/COVID-19/blob/master/csse_covid_19_data/csse_covid_19_time_series/time_series_19-covid-Recovered.csv"
   ]
  },
  {
   "cell_type": "markdown",
   "metadata": {},
   "source": [
    "#### Starting date on all three datasets is 22/01/2020"
   ]
  },
  {
   "cell_type": "markdown",
   "metadata": {},
   "source": [
    "Steps (Without BeautifulSoup):-\n",
    "1. Import the CSV \n",
    "2. Check if the last column title matches with the last date row in the cleaned dataset.\n",
    "3. If it matches, don't add it to the dataset. \n",
    "4. If it does not match, go back iteratively until it matches and save all of the data.\n"
   ]
  },
  {
   "cell_type": "code",
   "execution_count": 10,
   "metadata": {},
   "outputs": [],
   "source": [
    "import pandas as pd\n",
    "import numpy as np\n",
    "import matplotlib.pyplot as plt\n",
    "import sklearn\n",
    "from keras.preprocessing.sequence import TimeseriesGenerator\n",
    "from sklearn.preprocessing import MinMaxScaler\n",
    "import requests\n",
    "from bs4 import BeautifulSoup"
   ]
  },
  {
   "cell_type": "code",
   "execution_count": 20,
   "metadata": {},
   "outputs": [],
   "source": [
    "confirmed_url = \"https://github.com/CSSEGISandData/COVID-19/raw/master/csse_covid_19_data/csse_covid_19_time_series/time_series_covid19_confirmed_global.csv\"\n",
    "deaths_url = \"https://github.com/CSSEGISandData/COVID-19/raw/master/csse_covid_19_data/csse_covid_19_time_series/time_series_covid19_deaths_global.csv\"\n",
    "recovered_url = \"https://github.com/CSSEGISandData/COVID-19/raw/master/csse_covid_19_data/csse_covid_19_time_series/time_series_covid19_recovered_global.csv\""
   ]
  },
  {
   "cell_type": "markdown",
   "metadata": {},
   "source": [
    "### Function to get the number of confirmed cases as a Dataframe"
   ]
  },
  {
   "cell_type": "code",
   "execution_count": 21,
   "metadata": {},
   "outputs": [],
   "source": [
    "def get_confirmed():\n",
    "    con_casesnew = pd.read_csv(confirmed_url)\n",
    "    con_casesnew = con_casesnew.sum(axis=0)\n",
    "    con_casesnew.drop([\"Country/Region\",\"Lat\",\"Long\"], axis=0, inplace=True)\n",
    "    con_casesnew = pd.DataFrame(con_casesnew)\n",
    "    con_casesnew.rename(columns={0: \"Infected\"}, inplace=True)\n",
    "    return con_casesnew"
   ]
  },
  {
   "cell_type": "markdown",
   "metadata": {},
   "source": [
    "### Function to get the number of deaths as a Dataframe"
   ]
  },
  {
   "cell_type": "code",
   "execution_count": 22,
   "metadata": {},
   "outputs": [],
   "source": [
    "def get_deaths():\n",
    "    deaths_new = pd.read_csv(deaths_url)\n",
    "    deaths_new = deaths_new.sum(axis=0)\n",
    "    deaths_new.drop([\"Country/Region\",\"Lat\",\"Long\"], axis=0, inplace=True)\n",
    "    deaths_new = pd.DataFrame(deaths_new)\n",
    "    deaths_new.rename(columns={0: \"Deaths\"}, inplace=True)\n",
    "    return deaths_new"
   ]
  },
  {
   "cell_type": "markdown",
   "metadata": {},
   "source": [
    "### Function to get the number of recoveries as a Dataframe"
   ]
  },
  {
   "cell_type": "code",
   "execution_count": 23,
   "metadata": {},
   "outputs": [],
   "source": [
    "def get_recovered():\n",
    "    rec_new = pd.read_csv(confirmed_url)\n",
    "    rec_new = rec_new.sum(axis=0)\n",
    "    rec_new.drop([\"Country/Region\",\"Lat\",\"Long\"], axis=0, inplace=True)\n",
    "    rec_new = pd.DataFrame(rec_new)\n",
    "    rec_new.rename(columns={0: \"Recovered\"}, inplace=True)\n",
    "    \n",
    "    return rec_new"
   ]
  },
  {
   "cell_type": "markdown",
   "metadata": {},
   "source": [
    "### Scraper"
   ]
  },
  {
   "cell_type": "code",
   "execution_count": 24,
   "metadata": {},
   "outputs": [],
   "source": [
    "def get_newvals():\n",
    "    url_wminfo = \"https://www.worldometers.info/coronavirus/\"\n",
    "    page = requests.get(url_wminfo)\n",
    "    soup = BeautifulSoup(page.content, 'html.parser')\n",
    "    result = soup.find_all(\"div\", {\"id\":\"maincounter-wrap\"})\n",
    "    numbers = []\n",
    "    for r in result:\n",
    "        numbers.append(int(r.text.split(':')[-1].replace(',','').replace(' ','')))\n",
    "    return numbers"
   ]
  },
  {
   "cell_type": "code",
   "execution_count": 25,
   "metadata": {},
   "outputs": [
    {
     "data": {
      "text/plain": [
       "[886112, 44228, 185274]"
      ]
     },
     "execution_count": 25,
     "metadata": {},
     "output_type": "execute_result"
    }
   ],
   "source": [
    "numbers = get_newvals()\n",
    "numbers"
   ]
  },
  {
   "cell_type": "markdown",
   "metadata": {},
   "source": [
    "### Fixing the dates column"
   ]
  },
  {
   "cell_type": "code",
   "execution_count": 26,
   "metadata": {},
   "outputs": [],
   "source": [
    "# def_nextdate():\n",
    "    "
   ]
  },
  {
   "cell_type": "markdown",
   "metadata": {},
   "source": [
    "## Forecasting Confirmed Cases"
   ]
  },
  {
   "cell_type": "code",
   "execution_count": 27,
   "metadata": {},
   "outputs": [],
   "source": [
    "df = get_confirmed()"
   ]
  },
  {
   "cell_type": "code",
   "execution_count": 28,
   "metadata": {},
   "outputs": [
    {
     "data": {
      "text/html": [
       "<div>\n",
       "<style scoped>\n",
       "    .dataframe tbody tr th:only-of-type {\n",
       "        vertical-align: middle;\n",
       "    }\n",
       "\n",
       "    .dataframe tbody tr th {\n",
       "        vertical-align: top;\n",
       "    }\n",
       "\n",
       "    .dataframe thead th {\n",
       "        text-align: right;\n",
       "    }\n",
       "</style>\n",
       "<table border=\"1\" class=\"dataframe\">\n",
       "  <thead>\n",
       "    <tr style=\"text-align: right;\">\n",
       "      <th></th>\n",
       "      <th>Infected</th>\n",
       "    </tr>\n",
       "  </thead>\n",
       "  <tbody>\n",
       "    <tr>\n",
       "      <th>3/27/20</th>\n",
       "      <td>593291</td>\n",
       "    </tr>\n",
       "    <tr>\n",
       "      <th>3/28/20</th>\n",
       "      <td>660706</td>\n",
       "    </tr>\n",
       "    <tr>\n",
       "      <th>3/29/20</th>\n",
       "      <td>720117</td>\n",
       "    </tr>\n",
       "    <tr>\n",
       "      <th>3/30/20</th>\n",
       "      <td>782365</td>\n",
       "    </tr>\n",
       "    <tr>\n",
       "      <th>3/31/20</th>\n",
       "      <td>857487</td>\n",
       "    </tr>\n",
       "  </tbody>\n",
       "</table>\n",
       "</div>"
      ],
      "text/plain": [
       "        Infected\n",
       "3/27/20   593291\n",
       "3/28/20   660706\n",
       "3/29/20   720117\n",
       "3/30/20   782365\n",
       "3/31/20   857487"
      ]
     },
     "execution_count": 28,
     "metadata": {},
     "output_type": "execute_result"
    }
   ],
   "source": [
    "df.tail()"
   ]
  },
  {
   "cell_type": "code",
   "execution_count": 29,
   "metadata": {},
   "outputs": [],
   "source": [
    "close_data = df['Infected'].values\n",
    "close_data = close_data.reshape((-1,1))\n",
    "\n",
    "split_percent = 0.80\n",
    "split = int(split_percent*len(close_data))\n",
    "\n",
    "close_train = close_data[:split]\n",
    "close_test = close_data[split:]\n",
    "\n",
    "cclose = close_data"
   ]
  },
  {
   "cell_type": "code",
   "execution_count": 30,
   "metadata": {},
   "outputs": [],
   "source": [
    "look_back = 2\n",
    "\n",
    "train_generator = TimeseriesGenerator(cclose, cclose, length=look_back, batch_size=20)     \n",
    "test_generator = TimeseriesGenerator(close_test, close_test, length=look_back, batch_size=1)"
   ]
  },
  {
   "cell_type": "code",
   "execution_count": 31,
   "metadata": {},
   "outputs": [
    {
     "name": "stdout",
     "output_type": "stream",
     "text": [
      "Epoch 1/100\n",
      "4/4 [==============================] - 2s 492ms/step - loss: 35206759150.3059\n",
      "Epoch 2/100\n",
      "4/4 [==============================] - 0s 12ms/step - loss: 34799289910.9647\n",
      "Epoch 3/100\n",
      "4/4 [==============================] - 0s 13ms/step - loss: 33704652734.4941\n",
      "Epoch 4/100\n",
      "4/4 [==============================] - 0s 18ms/step - loss: 33259546494.4941\n",
      "Epoch 5/100\n",
      "4/4 [==============================] - 0s 21ms/step - loss: 32291868193.8824\n",
      "Epoch 6/100\n",
      "4/4 [==============================] - 0s 15ms/step - loss: 31532799301.2706\n",
      "Epoch 7/100\n",
      "4/4 [==============================] - 0s 19ms/step - loss: 30946369412.5176\n",
      "Epoch 8/100\n",
      "4/4 [==============================] - 0s 21ms/step - loss: 30183973113.2235\n",
      "Epoch 9/100\n",
      "4/4 [==============================] - 0s 20ms/step - loss: 29152333805.9294\n",
      "Epoch 10/100\n",
      "4/4 [==============================] - 0s 17ms/step - loss: 28445846853.2706\n",
      "Epoch 11/100\n",
      "4/4 [==============================] - 0s 19ms/step - loss: 27881360097.1294\n",
      "Epoch 12/100\n",
      "4/4 [==============================] - 0s 19ms/step - loss: 27179662343.5294\n",
      "Epoch 13/100\n",
      "4/4 [==============================] - 0s 15ms/step - loss: 26300398682.3529\n",
      "Epoch 14/100\n",
      "4/4 [==============================] - 0s 17ms/step - loss: 25847293660.2353\n",
      "Epoch 15/100\n",
      "4/4 [==============================] - 0s 19ms/step - loss: 25072666602.1647\n",
      "Epoch 16/100\n",
      "4/4 [==============================] - 0s 18ms/step - loss: 24339107632.9412\n",
      "Epoch 17/100\n",
      "4/4 [==============================] - 0s 17ms/step - loss: 23610112907.6706\n",
      "Epoch 18/100\n",
      "4/4 [==============================] - 0s 22ms/step - loss: 22749788465.6941\n",
      "Epoch 19/100\n",
      "4/4 [==============================] - 0s 17ms/step - loss: 22137680432.5647\n",
      "Epoch 20/100\n",
      "4/4 [==============================] - 0s 12ms/step - loss: 21100428016.5647\n",
      "Epoch 21/100\n",
      "4/4 [==============================] - 0s 22ms/step - loss: 14555885306.1647\n",
      "Epoch 22/100\n",
      "4/4 [==============================] - 0s 25ms/step - loss: 13858565136.9412\n",
      "Epoch 23/100\n",
      "4/4 [==============================] - 0s 13ms/step - loss: 13256407672.0941\n",
      "Epoch 24/100\n",
      "4/4 [==============================] - 0s 30ms/step - loss: 12458661502.4941\n",
      "Epoch 25/100\n",
      "4/4 [==============================] - 0s 11ms/step - loss: 11631911663.8118\n",
      "Epoch 26/100\n",
      "4/4 [==============================] - 0s 23ms/step - loss: 10973621203.0118\n",
      "Epoch 27/100\n",
      "4/4 [==============================] - 0s 15ms/step - loss: 10729054507.1059\n",
      "Epoch 28/100\n",
      "4/4 [==============================] - 0s 9ms/step - loss: 9823735993.1294\n",
      "Epoch 29/100\n",
      "4/4 [==============================] - 0s 12ms/step - loss: 9323184761.7882\n",
      "Epoch 30/100\n",
      "4/4 [==============================] - 0s 16ms/step - loss: 8392463048.3765\n",
      "Epoch 31/100\n",
      "4/4 [==============================] - 0s 19ms/step - loss: 7919471387.2000\n",
      "Epoch 32/100\n",
      "4/4 [==============================] - 0s 13ms/step - loss: 7725471005.5529\n",
      "Epoch 33/100\n",
      "4/4 [==============================] - 0s 20ms/step - loss: 6885893299.3882\n",
      "Epoch 34/100\n",
      "4/4 [==============================] - 0s 20ms/step - loss: 6532402488.3765\n",
      "Epoch 35/100\n",
      "4/4 [==============================] - 0s 20ms/step - loss: 5995426803.2000\n",
      "Epoch 36/100\n",
      "4/4 [==============================] - 0s 14ms/step - loss: 5593022391.1529\n",
      "Epoch 37/100\n",
      "4/4 [==============================] - 0s 15ms/step - loss: 5446090580.9882\n",
      "Epoch 38/100\n",
      "4/4 [==============================] - 0s 23ms/step - loss: 4986928183.1529\n",
      "Epoch 39/100\n",
      "4/4 [==============================] - 0s 19ms/step - loss: 4566397758.8706\n",
      "Epoch 40/100\n",
      "4/4 [==============================] - 0s 13ms/step - loss: 4135907022.7765\n",
      "Epoch 41/100\n",
      "4/4 [==============================] - 0s 18ms/step - loss: 3768771470.1176\n",
      "Epoch 42/100\n",
      "4/4 [==============================] - 0s 18ms/step - loss: 3543501348.0471\n",
      "Epoch 43/100\n",
      "4/4 [==============================] - 0s 19ms/step - loss: 3300518200.0000\n",
      "Epoch 44/100\n",
      "4/4 [==============================] - 0s 12ms/step - loss: 2917899641.1294\n",
      "Epoch 45/100\n",
      "4/4 [==============================] - 0s 12ms/step - loss: 2688874091.9059\n",
      "Epoch 46/100\n",
      "4/4 [==============================] - 0s 21ms/step - loss: 2555997153.3176\n",
      "Epoch 47/100\n",
      "4/4 [==============================] - 0s 20ms/step - loss: 2279090031.5059\n",
      "Epoch 48/100\n",
      "4/4 [==============================] - 0s 15ms/step - loss: 2005494744.1882\n",
      "Epoch 49/100\n",
      "4/4 [==============================] - 0s 19ms/step - loss: 1940027384.3529\n",
      "Epoch 50/100\n",
      "4/4 [==============================] - 0s 20ms/step - loss: 1751951868.4471\n",
      "Epoch 51/100\n",
      "4/4 [==============================] - 0s 19ms/step - loss: 1578817419.4588\n",
      "Epoch 52/100\n",
      "4/4 [==============================] - 0s 13ms/step - loss: 1402865237.3412\n",
      "Epoch 53/100\n",
      "4/4 [==============================] - 0s 18ms/step - loss: 1292969738.6588\n",
      "Epoch 54/100\n",
      "4/4 [==============================] - 0s 10ms/step - loss: 1122433672.4471\n",
      "Epoch 55/100\n",
      "4/4 [==============================] - 0s 10ms/step - loss: 1020935918.8706\n",
      "Epoch 56/100\n",
      "4/4 [==============================] - 0s 18ms/step - loss: 961737373.6941\n",
      "Epoch 57/100\n",
      "4/4 [==============================] - 0s 17ms/step - loss: 837707442.7529\n",
      "Epoch 58/100\n",
      "4/4 [==============================] - 0s 16ms/step - loss: 774216657.9647\n",
      "Epoch 59/100\n",
      "4/4 [==============================] - 0s 16ms/step - loss: 688272672.5647\n",
      "Epoch 60/100\n",
      "4/4 [==============================] - 0s 18ms/step - loss: 593014519.1765\n",
      "Epoch 61/100\n",
      "4/4 [==============================] - 0s 17ms/step - loss: 562517523.6941\n",
      "Epoch 62/100\n",
      "4/4 [==============================] - 0s 19ms/step - loss: 480048869.9529\n",
      "Epoch 63/100\n",
      "4/4 [==============================] - 0s 17ms/step - loss: 428456549.9647\n",
      "Epoch 64/100\n",
      "4/4 [==============================] - 0s 24ms/step - loss: 389462383.3647\n",
      "Epoch 65/100\n",
      "4/4 [==============================] - 0s 10ms/step - loss: 361288198.8235\n",
      "Epoch 66/100\n",
      "4/4 [==============================] - 0s 25ms/step - loss: 337962076.6235\n",
      "Epoch 67/100\n",
      "4/4 [==============================] - 0s 15ms/step - loss: 295639287.1294\n",
      "Epoch 68/100\n",
      "4/4 [==============================] - 0s 9ms/step - loss: 255638801.0471\n",
      "Epoch 69/100\n",
      "4/4 [==============================] - 0s 19ms/step - loss: 243443312.5765\n",
      "Epoch 70/100\n",
      "4/4 [==============================] - 0s 18ms/step - loss: 215528498.2824\n",
      "Epoch 71/100\n",
      "4/4 [==============================] - 0s 19ms/step - loss: 200349367.4118\n",
      "Epoch 72/100\n",
      "4/4 [==============================] - 0s 20ms/step - loss: 186109122.9294\n",
      "Epoch 73/100\n",
      "4/4 [==============================] - 0s 16ms/step - loss: 164041616.0118\n",
      "Epoch 74/100\n",
      "4/4 [==============================] - 0s 18ms/step - loss: 156733700.0000\n",
      "Epoch 75/100\n",
      "4/4 [==============================] - 0s 20ms/step - loss: 144212308.5294\n",
      "Epoch 76/100\n",
      "4/4 [==============================] - 0s 13ms/step - loss: 130767054.9882\n",
      "Epoch 77/100\n",
      "4/4 [==============================] - 0s 10ms/step - loss: 124961528.3529\n",
      "Epoch 78/100\n",
      "4/4 [==============================] - 0s 18ms/step - loss: 115914741.5412\n",
      "Epoch 79/100\n",
      "4/4 [==============================] - 0s 18ms/step - loss: 109459187.7647\n",
      "Epoch 80/100\n",
      "4/4 [==============================] - 0s 22ms/step - loss: 104807153.7176\n",
      "Epoch 81/100\n",
      "4/4 [==============================] - 0s 15ms/step - loss: 100617283.5765\n",
      "Epoch 82/100\n",
      "4/4 [==============================] - 0s 18ms/step - loss: 97062036.2235\n",
      "Epoch 83/100\n",
      "4/4 [==============================] - 0s 21ms/step - loss: 96541058.4824\n",
      "Epoch 84/100\n",
      "4/4 [==============================] - 0s 17ms/step - loss: 90762131.8353\n",
      "Epoch 85/100\n",
      "4/4 [==============================] - 0s 9ms/step - loss: 89346855.7882\n",
      "Epoch 86/100\n",
      "4/4 [==============================] - 0s 16ms/step - loss: 87459998.2471\n",
      "Epoch 87/100\n",
      "4/4 [==============================] - 0s 17ms/step - loss: 85589667.7412\n",
      "Epoch 88/100\n",
      "4/4 [==============================] - 0s 19ms/step - loss: 83434333.6353\n",
      "Epoch 89/100\n",
      "4/4 [==============================] - 0s 13ms/step - loss: 83527295.7882\n",
      "Epoch 90/100\n",
      "4/4 [==============================] - 0s 17ms/step - loss: 81736523.4824\n",
      "Epoch 91/100\n",
      "4/4 [==============================] - 0s 19ms/step - loss: 81228621.3882\n",
      "Epoch 92/100\n",
      "4/4 [==============================] - 0s 14ms/step - loss: 80340741.8235\n",
      "Epoch 93/100\n",
      "4/4 [==============================] - 0s 13ms/step - loss: 79450616.6941\n",
      "Epoch 94/100\n",
      "4/4 [==============================] - 0s 19ms/step - loss: 78865136.2824\n",
      "Epoch 95/100\n",
      "4/4 [==============================] - 0s 20ms/step - loss: 78862033.1059\n",
      "Epoch 96/100\n",
      "4/4 [==============================] - 0s 13ms/step - loss: 78220805.0588\n",
      "Epoch 97/100\n",
      "4/4 [==============================] - 0s 20ms/step - loss: 78312326.2824\n",
      "Epoch 98/100\n",
      "4/4 [==============================] - 0s 19ms/step - loss: 78095127.3882\n",
      "Epoch 99/100\n",
      "4/4 [==============================] - 0s 11ms/step - loss: 77740376.0118\n",
      "Epoch 100/100\n",
      "4/4 [==============================] - 0s 18ms/step - loss: 77530766.9765\n"
     ]
    },
    {
     "data": {
      "text/plain": [
       "<keras.callbacks.callbacks.History at 0x7f630e1ffe50>"
      ]
     },
     "execution_count": 31,
     "metadata": {},
     "output_type": "execute_result"
    }
   ],
   "source": [
    "from keras.models import Sequential\n",
    "from keras.layers import LSTM, Dense\n",
    "\n",
    "model = Sequential()\n",
    "model.add(\n",
    "    LSTM(10,\n",
    "        activation='relu',\n",
    "        input_shape=(look_back,1))\n",
    ")\n",
    "model.add(Dense(1))\n",
    "model.compile(optimizer='adam', loss='mse')\n",
    "\n",
    "num_epochs = 100\n",
    "model.fit_generator(train_generator, epochs=num_epochs, verbose=1)"
   ]
  },
  {
   "cell_type": "code",
   "execution_count": 32,
   "metadata": {},
   "outputs": [],
   "source": [
    "prediction = model.predict_generator(test_generator)\n",
    "\n",
    "cclose = cclose.reshape((-1))\n",
    "close_train = close_train.reshape((-1))\n",
    "close_test = close_test.reshape((-1))\n",
    "prediction = prediction.reshape((-1))"
   ]
  },
  {
   "cell_type": "code",
   "execution_count": 33,
   "metadata": {},
   "outputs": [],
   "source": [
    "close_data = close_data.reshape((-1))\n",
    "\n",
    "def predict(num_prediction, model):\n",
    "    prediction_list = close_data[-look_back:]\n",
    "    \n",
    "    for _ in range(num_prediction):\n",
    "        x = prediction_list[-look_back:]\n",
    "        x = x.reshape((1, look_back, 1))\n",
    "        out = model.predict(x)[0][0]\n",
    "        prediction_list = np.append(prediction_list, out)\n",
    "    prediction_list = prediction_list[look_back-1:]\n",
    "        \n",
    "    return prediction_list\n",
    "num_prediction = 1\n",
    "forecast = predict(num_prediction, model)\n",
    "forecast = numbers[0]"
   ]
  },
  {
   "cell_type": "code",
   "execution_count": 34,
   "metadata": {},
   "outputs": [
    {
     "data": {
      "text/plain": [
       "886112"
      ]
     },
     "execution_count": 34,
     "metadata": {},
     "output_type": "execute_result"
    }
   ],
   "source": [
    "forecast"
   ]
  },
  {
   "cell_type": "code",
   "execution_count": 35,
   "metadata": {},
   "outputs": [
    {
     "data": {
      "text/plain": [
       "[<matplotlib.lines.Line2D at 0x7f630edfa990>]"
      ]
     },
     "execution_count": 35,
     "metadata": {},
     "output_type": "execute_result"
    },
    {
     "data": {
      "image/png": "[encoded data removed]",
      "text/plain": [
       "<Figure size 432x288 with 1 Axes>"
      ]
     },
     "metadata": {
      "needs_background": "light"
     },
     "output_type": "display_data"
    }
   ],
   "source": [
    "plt.plot(df)"
   ]
  },
  {
   "cell_type": "code",
   "execution_count": 36,
   "metadata": {},
   "outputs": [
    {
     "data": {
      "text/html": [
       "<div>\n",
       "<style scoped>\n",
       "    .dataframe tbody tr th:only-of-type {\n",
       "        vertical-align: middle;\n",
       "    }\n",
       "\n",
       "    .dataframe tbody tr th {\n",
       "        vertical-align: top;\n",
       "    }\n",
       "\n",
       "    .dataframe thead th {\n",
       "        text-align: right;\n",
       "    }\n",
       "</style>\n",
       "<table border=\"1\" class=\"dataframe\">\n",
       "  <thead>\n",
       "    <tr style=\"text-align: right;\">\n",
       "      <th></th>\n",
       "      <th>Infected</th>\n",
       "    </tr>\n",
       "  </thead>\n",
       "  <tbody>\n",
       "    <tr>\n",
       "      <th>3/27/20</th>\n",
       "      <td>593291</td>\n",
       "    </tr>\n",
       "    <tr>\n",
       "      <th>3/28/20</th>\n",
       "      <td>660706</td>\n",
       "    </tr>\n",
       "    <tr>\n",
       "      <th>3/29/20</th>\n",
       "      <td>720117</td>\n",
       "    </tr>\n",
       "    <tr>\n",
       "      <th>3/30/20</th>\n",
       "      <td>782365</td>\n",
       "    </tr>\n",
       "    <tr>\n",
       "      <th>3/31/20</th>\n",
       "      <td>857487</td>\n",
       "    </tr>\n",
       "  </tbody>\n",
       "</table>\n",
       "</div>"
      ],
      "text/plain": [
       "        Infected\n",
       "3/27/20   593291\n",
       "3/28/20   660706\n",
       "3/29/20   720117\n",
       "3/30/20   782365\n",
       "3/31/20   857487"
      ]
     },
     "execution_count": 36,
     "metadata": {},
     "output_type": "execute_result"
    }
   ],
   "source": [
    "df.tail()"
   ]
  },
  {
   "cell_type": "code",
   "execution_count": 37,
   "metadata": {},
   "outputs": [
    {
     "data": {
      "text/plain": [
       "886112"
      ]
     },
     "execution_count": 37,
     "metadata": {},
     "output_type": "execute_result"
    }
   ],
   "source": [
    "forecast"
   ]
  },
  {
   "cell_type": "code",
   "execution_count": 38,
   "metadata": {},
   "outputs": [
    {
     "data": {
      "text/plain": [
       "[<matplotlib.lines.Line2D at 0x7f630ded9210>]"
      ]
     },
     "execution_count": 38,
     "metadata": {},
     "output_type": "execute_result"
    },
    {
     "data": {
      "image/png": "[encoded data removed]",
      "text/plain": [
       "<Figure size 432x288 with 1 Axes>"
      ]
     },
     "metadata": {
      "needs_background": "light"
     },
     "output_type": "display_data"
    }
   ],
   "source": [
    "plt.plot(df)\n",
    "plt.plot(forecast)"
   ]
  },
  {
   "cell_type": "code",
   "execution_count": 39,
   "metadata": {},
   "outputs": [
    {
     "data": {
      "text/plain": [
       "pandas.core.indexes.base.Index"
      ]
     },
     "execution_count": 39,
     "metadata": {},
     "output_type": "execute_result"
    }
   ],
   "source": [
    "type(df.index)"
   ]
  },
  {
   "cell_type": "code",
   "execution_count": 40,
   "metadata": {},
   "outputs": [
    {
     "data": {
      "text/html": [
       "<div>\n",
       "<style scoped>\n",
       "    .dataframe tbody tr th:only-of-type {\n",
       "        vertical-align: middle;\n",
       "    }\n",
       "\n",
       "    .dataframe tbody tr th {\n",
       "        vertical-align: top;\n",
       "    }\n",
       "\n",
       "    .dataframe thead th {\n",
       "        text-align: right;\n",
       "    }\n",
       "</style>\n",
       "<table border=\"1\" class=\"dataframe\">\n",
       "  <thead>\n",
       "    <tr style=\"text-align: right;\">\n",
       "      <th></th>\n",
       "      <th>Infected</th>\n",
       "    </tr>\n",
       "  </thead>\n",
       "  <tbody>\n",
       "    <tr>\n",
       "      <th>3/27/20</th>\n",
       "      <td>593291</td>\n",
       "    </tr>\n",
       "    <tr>\n",
       "      <th>3/28/20</th>\n",
       "      <td>660706</td>\n",
       "    </tr>\n",
       "    <tr>\n",
       "      <th>3/29/20</th>\n",
       "      <td>720117</td>\n",
       "    </tr>\n",
       "    <tr>\n",
       "      <th>3/30/20</th>\n",
       "      <td>782365</td>\n",
       "    </tr>\n",
       "    <tr>\n",
       "      <th>3/31/20</th>\n",
       "      <td>857487</td>\n",
       "    </tr>\n",
       "  </tbody>\n",
       "</table>\n",
       "</div>"
      ],
      "text/plain": [
       "        Infected\n",
       "3/27/20   593291\n",
       "3/28/20   660706\n",
       "3/29/20   720117\n",
       "3/30/20   782365\n",
       "3/31/20   857487"
      ]
     },
     "execution_count": 40,
     "metadata": {},
     "output_type": "execute_result"
    }
   ],
   "source": [
    "df.tail()"
   ]
  },
  {
   "cell_type": "code",
   "execution_count": 41,
   "metadata": {},
   "outputs": [
    {
     "data": {
      "text/html": [
       "<div>\n",
       "<style scoped>\n",
       "    .dataframe tbody tr th:only-of-type {\n",
       "        vertical-align: middle;\n",
       "    }\n",
       "\n",
       "    .dataframe tbody tr th {\n",
       "        vertical-align: top;\n",
       "    }\n",
       "\n",
       "    .dataframe thead th {\n",
       "        text-align: right;\n",
       "    }\n",
       "</style>\n",
       "<table border=\"1\" class=\"dataframe\">\n",
       "  <thead>\n",
       "    <tr style=\"text-align: right;\">\n",
       "      <th></th>\n",
       "      <th>Infected</th>\n",
       "    </tr>\n",
       "  </thead>\n",
       "  <tbody>\n",
       "    <tr>\n",
       "      <th>3/22/20</th>\n",
       "      <td>336953</td>\n",
       "    </tr>\n",
       "    <tr>\n",
       "      <th>3/23/20</th>\n",
       "      <td>378235</td>\n",
       "    </tr>\n",
       "    <tr>\n",
       "      <th>3/24/20</th>\n",
       "      <td>418045</td>\n",
       "    </tr>\n",
       "    <tr>\n",
       "      <th>3/25/20</th>\n",
       "      <td>467653</td>\n",
       "    </tr>\n",
       "    <tr>\n",
       "      <th>3/26/20</th>\n",
       "      <td>529591</td>\n",
       "    </tr>\n",
       "    <tr>\n",
       "      <th>3/27/20</th>\n",
       "      <td>593291</td>\n",
       "    </tr>\n",
       "    <tr>\n",
       "      <th>3/28/20</th>\n",
       "      <td>660706</td>\n",
       "    </tr>\n",
       "    <tr>\n",
       "      <th>3/29/20</th>\n",
       "      <td>720117</td>\n",
       "    </tr>\n",
       "    <tr>\n",
       "      <th>3/30/20</th>\n",
       "      <td>782365</td>\n",
       "    </tr>\n",
       "    <tr>\n",
       "      <th>3/31/20</th>\n",
       "      <td>857487</td>\n",
       "    </tr>\n",
       "  </tbody>\n",
       "</table>\n",
       "</div>"
      ],
      "text/plain": [
       "        Infected\n",
       "3/22/20   336953\n",
       "3/23/20   378235\n",
       "3/24/20   418045\n",
       "3/25/20   467653\n",
       "3/26/20   529591\n",
       "3/27/20   593291\n",
       "3/28/20   660706\n",
       "3/29/20   720117\n",
       "3/30/20   782365\n",
       "3/31/20   857487"
      ]
     },
     "execution_count": 41,
     "metadata": {},
     "output_type": "execute_result"
    }
   ],
   "source": [
    "df.tail(10)"
   ]
  },
  {
   "cell_type": "code",
   "execution_count": null,
   "metadata": {},
   "outputs": [],
   "source": []
  }
 ],
 "metadata": {
  "kernelspec": {
   "display_name": "Python 3",
   "language": "python",
   "name": "python3"
  },
  "language_info": {
   "codemirror_mode": {
    "name": "ipython",
    "version": 3
   },
   "file_extension": ".py",
   "mimetype": "text/x-python",
   "name": "python",
   "nbconvert_exporter": "python",
   "pygments_lexer": "ipython3",
   "version": "3.7.6"
  }
 },
 "nbformat": 4,
 "nbformat_minor": 4
}
