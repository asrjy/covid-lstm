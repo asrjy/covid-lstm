{
 "cells": [
  {
   "cell_type": "markdown",
   "metadata": {},
   "source": [
    "## Part 1"
   ]
  },
  {
   "cell_type": "markdown",
   "metadata": {},
   "source": [
    "### Loading the datasets\n",
    "#### 1. Confirmed URL : https://github.com/CSSEGISandData/COVID-19/blob/master/csse_covid_19_data/csse_covid_19_time_series/time_series_19-covid-Confirmed.csv\n",
    "#### 2. Deaths URL: https://github.com/CSSEGISandData/COVID-19/blob/master/csse_covid_19_data/csse_covid_19_time_series/time_series_19-covid-Deaths.csv\n",
    "#### 3. Recovered URL: https://github.com/CSSEGISandData/COVID-19/blob/master/csse_covid_19_data/csse_covid_19_time_series/time_series_19-covid-Recovered.csv"
   ]
  },
  {
   "cell_type": "markdown",
   "metadata": {},
   "source": [
    "#### Starting date on all three datasets is 22/01/2020"
   ]
  },
  {
   "cell_type": "markdown",
   "metadata": {},
   "source": [
    "Steps (Without BeautifulSoup):-\n",
    "1. Import the CSV \n",
    "2. Check if the last column title matches with the last date row in the cleaned dataset.\n",
    "3. If it matches, don't add it to the dataset. \n",
    "4. If it does not match, go back iteratively until it matches and save all of the data.\n"
   ]
  },
  {
   "cell_type": "code",
   "execution_count": 30,
   "metadata": {},
   "outputs": [],
   "source": [
    "import pandas as pd\n",
    "import numpy as np\n",
    "import matplotlib.pyplot as plt\n",
    "import sklearn\n",
    "from keras.preprocessing.sequence import TimeseriesGenerator\n",
    "from sklearn.preprocessing import MinMaxScaler\n",
    "import requests\n",
    "from bs4 import BeautifulSoup"
   ]
  },
  {
   "cell_type": "code",
   "execution_count": 31,
   "metadata": {},
   "outputs": [],
   "source": [
    "confirmed_url = \"https://github.com/CSSEGISandData/COVID-19/raw/master/csse_covid_19_data/csse_covid_19_time_series/time_series_19-covid-Confirmed.csv\"\n",
    "deaths_url = \"https://github.com/CSSEGISandData/COVID-19/raw/master/csse_covid_19_data/csse_covid_19_time_series/time_series_19-covid-Deaths.csv\"\n",
    "recovered_url = \"https://github.com/CSSEGISandData/COVID-19/raw/master/csse_covid_19_data/csse_covid_19_time_series/time_series_19-covid-Recovered.csv\""
   ]
  },
  {
   "cell_type": "markdown",
   "metadata": {},
   "source": [
    "### Function to get the number of confirmed cases as a Dataframe"
   ]
  },
  {
   "cell_type": "code",
   "execution_count": 32,
   "metadata": {},
   "outputs": [],
   "source": [
    "def get_confirmed():\n",
    "    con_casesnew = pd.read_csv(confirmed_url)\n",
    "    con_casesnew = con_casesnew.sum(axis=0)\n",
    "    con_casesnew.drop([\"Country/Region\",\"Lat\",\"Long\"], axis=0, inplace=True)\n",
    "    con_casesnew = pd.DataFrame(con_casesnew)\n",
    "    con_casesnew.rename(columns={0: \"Infected\"}, inplace=True)\n",
    "    return con_casesnew"
   ]
  },
  {
   "cell_type": "markdown",
   "metadata": {},
   "source": [
    "### Function to get the number of deaths as a Dataframe"
   ]
  },
  {
   "cell_type": "code",
   "execution_count": 33,
   "metadata": {},
   "outputs": [],
   "source": [
    "def get_deaths():\n",
    "    deaths_new = pd.read_csv(deaths_url)\n",
    "    deaths_new = deaths_new.sum(axis=0)\n",
    "    deaths_new.drop([\"Country/Region\",\"Lat\",\"Long\"], axis=0, inplace=True)\n",
    "    deaths_new = pd.DataFrame(deaths_new)\n",
    "    deaths_new.rename(columns={0: \"Deaths\"}, inplace=True)\n",
    "    return deaths_new"
   ]
  },
  {
   "cell_type": "markdown",
   "metadata": {},
   "source": [
    "### Function to get the number of recoveries as a Dataframe"
   ]
  },
  {
   "cell_type": "code",
   "execution_count": 34,
   "metadata": {},
   "outputs": [],
   "source": [
    "def get_recovered():\n",
    "    rec_new = pd.read_csv(confirmed_url)\n",
    "    rec_new = rec_new.sum(axis=0)\n",
    "    rec_new.drop([\"Country/Region\",\"Lat\",\"Long\"], axis=0, inplace=True)\n",
    "    rec_new = pd.DataFrame(rec_new)\n",
    "    rec_new.rename(columns={0: \"Recovered\"}, inplace=True)\n",
    "    return rec_new"
   ]
  },
  {
   "cell_type": "markdown",
   "metadata": {},
   "source": [
    "### Scraper"
   ]
  },
  {
   "cell_type": "code",
   "execution_count": 35,
   "metadata": {},
   "outputs": [],
   "source": [
    "def get_newvals():\n",
    "    url_wminfo = \"https://www.worldometers.info/coronavirus/\"\n",
    "    page = requests.get(url_wminfo)\n",
    "    soup = BeautifulSoup(page.content, 'html.parser')\n",
    "    result = soup.find_all(\"div\", {\"id\":\"maincounter-wrap\"})\n",
    "    numbers = []\n",
    "    for r in result:\n",
    "        numbers.append(int(r.text.split(':')[-1].replace(',','').replace(' ','')))\n",
    "    return numbers"
   ]
  },
  {
   "cell_type": "code",
   "execution_count": 36,
   "metadata": {},
   "outputs": [
    {
     "data": {
      "text/plain": [
       "[119177, 4295, 66617]"
      ]
     },
     "execution_count": 36,
     "metadata": {},
     "output_type": "execute_result"
    }
   ],
   "source": [
    "  numbers = get_newvals()\n",
    "numbers"
   ]
  },
  {
   "cell_type": "markdown",
   "metadata": {},
   "source": [
    "### Fixing the dates column"
   ]
  },
  {
   "cell_type": "code",
   "execution_count": 37,
   "metadata": {},
   "outputs": [],
   "source": [
    "# def_nextdate():\n",
    "    "
   ]
  },
  {
   "cell_type": "markdown",
   "metadata": {},
   "source": [
    "## Forecasting Confirmed Cases"
   ]
  },
  {
   "cell_type": "code",
   "execution_count": 38,
   "metadata": {},
   "outputs": [],
   "source": [
    "df = get_confirmed()"
   ]
  },
  {
   "cell_type": "code",
   "execution_count": 39,
   "metadata": {},
   "outputs": [
    {
     "data": {
      "text/html": [
       "<div>\n",
       "<style scoped>\n",
       "    .dataframe tbody tr th:only-of-type {\n",
       "        vertical-align: middle;\n",
       "    }\n",
       "\n",
       "    .dataframe tbody tr th {\n",
       "        vertical-align: top;\n",
       "    }\n",
       "\n",
       "    .dataframe thead th {\n",
       "        text-align: right;\n",
       "    }\n",
       "</style>\n",
       "<table border=\"1\" class=\"dataframe\">\n",
       "  <thead>\n",
       "    <tr style=\"text-align: right;\">\n",
       "      <th></th>\n",
       "      <th>Infected</th>\n",
       "    </tr>\n",
       "  </thead>\n",
       "  <tbody>\n",
       "    <tr>\n",
       "      <th>3/6/20</th>\n",
       "      <td>101799</td>\n",
       "    </tr>\n",
       "    <tr>\n",
       "      <th>3/7/20</th>\n",
       "      <td>105835</td>\n",
       "    </tr>\n",
       "    <tr>\n",
       "      <th>3/8/20</th>\n",
       "      <td>109814</td>\n",
       "    </tr>\n",
       "    <tr>\n",
       "      <th>3/9/20</th>\n",
       "      <td>113583</td>\n",
       "    </tr>\n",
       "    <tr>\n",
       "      <th>3/10/20</th>\n",
       "      <td>118582</td>\n",
       "    </tr>\n",
       "  </tbody>\n",
       "</table>\n",
       "</div>"
      ],
      "text/plain": [
       "        Infected\n",
       "3/6/20    101799\n",
       "3/7/20    105835\n",
       "3/8/20    109814\n",
       "3/9/20    113583\n",
       "3/10/20   118582"
      ]
     },
     "execution_count": 39,
     "metadata": {},
     "output_type": "execute_result"
    }
   ],
   "source": [
    "df.tail()"
   ]
  },
  {
   "cell_type": "code",
   "execution_count": 40,
   "metadata": {},
   "outputs": [],
   "source": [
    "close_data = df['Infected'].values\n",
    "close_data = close_data.reshape((-1,1))\n",
    "\n",
    "split_percent = 0.80\n",
    "split = int(split_percent*len(close_data))\n",
    "\n",
    "close_train = close_data[:split]\n",
    "close_test = close_data[split:]\n",
    "\n",
    "cclose = close_data"
   ]
  },
  {
   "cell_type": "code",
   "execution_count": 41,
   "metadata": {},
   "outputs": [],
   "source": [
    "look_back = 2\n",
    "\n",
    "train_generator = TimeseriesGenerator(cclose, cclose, length=look_back, batch_size=20)     \n",
    "test_generator = TimeseriesGenerator(close_test, close_test, length=look_back, batch_size=1)"
   ]
  },
  {
   "cell_type": "code",
   "execution_count": 42,
   "metadata": {},
   "outputs": [
    {
     "name": "stdout",
     "output_type": "stream",
     "text": [
      "Epoch 1/100\n",
      "3/3 [==============================] - 1s 448ms/step - loss: 6938985223.1489\n",
      "Epoch 2/100\n",
      "3/3 [==============================] - 0s 13ms/step - loss: 6878107091.4043\n",
      "Epoch 3/100\n",
      "3/3 [==============================] - 0s 11ms/step - loss: 6818608643.4043\n",
      "Epoch 4/100\n",
      "3/3 [==============================] - 0s 11ms/step - loss: 6755733890.0426\n",
      "Epoch 5/100\n",
      "3/3 [==============================] - 0s 11ms/step - loss: 6699762164.7660\n",
      "Epoch 6/100\n",
      "3/3 [==============================] - 0s 12ms/step - loss: 6612676763.9149\n",
      "Epoch 7/100\n",
      "3/3 [==============================] - 0s 12ms/step - loss: 6553426430.9787\n",
      "Epoch 8/100\n",
      "3/3 [==============================] - 0s 11ms/step - loss: 6485580631.8298\n",
      "Epoch 9/100\n",
      "3/3 [==============================] - 0s 12ms/step - loss: 6424482444.2553\n",
      "Epoch 10/100\n",
      "3/3 [==============================] - 0s 12ms/step - loss: 6354339652.0851\n",
      "Epoch 11/100\n",
      "3/3 [==============================] - 0s 12ms/step - loss: 6292515210.2128\n",
      "Epoch 12/100\n",
      "3/3 [==============================] - 0s 11ms/step - loss: 6221480451.0638\n",
      "Epoch 13/100\n",
      "3/3 [==============================] - 0s 12ms/step - loss: 6151050855.4894\n",
      "Epoch 14/100\n",
      "3/3 [==============================] - 0s 12ms/step - loss: 6080967616.6809\n",
      "Epoch 15/100\n",
      "3/3 [==============================] - 0s 12ms/step - loss: 5993929499.9149\n",
      "Epoch 16/100\n",
      "3/3 [==============================] - 0s 13ms/step - loss: 5937567081.8723\n",
      "Epoch 17/100\n",
      "3/3 [==============================] - 0s 11ms/step - loss: 5875763846.1277\n",
      "Epoch 18/100\n",
      "3/3 [==============================] - 0s 11ms/step - loss: 5800741137.0213\n",
      "Epoch 19/100\n",
      "3/3 [==============================] - 0s 11ms/step - loss: 5733869766.8085\n",
      "Epoch 20/100\n",
      "3/3 [==============================] - 0s 13ms/step - loss: 5658718791.4894\n",
      "Epoch 21/100\n",
      "3/3 [==============================] - 0s 13ms/step - loss: 5574021166.2979\n",
      "Epoch 22/100\n",
      "3/3 [==============================] - 0s 12ms/step - loss: 5505991150.6383\n",
      "Epoch 23/100\n",
      "3/3 [==============================] - 0s 11ms/step - loss: 5433378374.4681\n",
      "Epoch 24/100\n",
      "3/3 [==============================] - 0s 11ms/step - loss: 5378001048.5106\n",
      "Epoch 25/100\n",
      "3/3 [==============================] - 0s 11ms/step - loss: 5296782014.9787\n",
      "Epoch 26/100\n",
      "3/3 [==============================] - 0s 11ms/step - loss: 5232405530.8936\n",
      "Epoch 27/100\n",
      "3/3 [==============================] - 0s 12ms/step - loss: 5157679994.2128\n",
      "Epoch 28/100\n",
      "3/3 [==============================] - 0s 12ms/step - loss: 5087927150.9787\n",
      "Epoch 29/100\n",
      "3/3 [==============================] - 0s 14ms/step - loss: 5008216820.4255\n",
      "Epoch 30/100\n",
      "3/3 [==============================] - 0s 12ms/step - loss: 4933883043.0638\n",
      "Epoch 31/100\n",
      "3/3 [==============================] - 0s 12ms/step - loss: 4867811828.7660\n",
      "Epoch 32/100\n",
      "3/3 [==============================] - 0s 12ms/step - loss: 4772897573.7872\n",
      "Epoch 33/100\n",
      "3/3 [==============================] - 0s 11ms/step - loss: 4720183775.3191\n",
      "Epoch 34/100\n",
      "3/3 [==============================] - 0s 11ms/step - loss: 4627422526.9787\n",
      "Epoch 35/100\n",
      "3/3 [==============================] - 0s 11ms/step - loss: 4555325589.1064\n",
      "Epoch 36/100\n",
      "3/3 [==============================] - 0s 11ms/step - loss: 4482169188.4255\n",
      "Epoch 37/100\n",
      "3/3 [==============================] - 0s 11ms/step - loss: 4415361738.8936\n",
      "Epoch 38/100\n",
      "3/3 [==============================] - 0s 11ms/step - loss: 4342908203.2340\n",
      "Epoch 39/100\n",
      "3/3 [==============================] - 0s 7ms/step - loss: 4265291841.0213\n",
      "Epoch 40/100\n",
      "3/3 [==============================] - 0s 7ms/step - loss: 4187934890.2128\n",
      "Epoch 41/100\n",
      "3/3 [==============================] - 0s 12ms/step - loss: 4105926861.9574\n",
      "Epoch 42/100\n",
      "3/3 [==============================] - 0s 12ms/step - loss: 4019069065.8723\n",
      "Epoch 43/100\n",
      "3/3 [==============================] - 0s 11ms/step - loss: 3960988834.2128\n",
      "Epoch 44/100\n",
      "3/3 [==============================] - 0s 10ms/step - loss: 3870958624.6809\n",
      "Epoch 45/100\n",
      "3/3 [==============================] - 0s 11ms/step - loss: 3812832106.2128\n",
      "Epoch 46/100\n",
      "3/3 [==============================] - 0s 13ms/step - loss: 3710366090.5532\n",
      "Epoch 47/100\n",
      "3/3 [==============================] - 0s 12ms/step - loss: 3657049015.8298\n",
      "Epoch 48/100\n",
      "3/3 [==============================] - 0s 11ms/step - loss: 3559384252.2553\n",
      "Epoch 49/100\n",
      "3/3 [==============================] - 0s 12ms/step - loss: 3489837548.7660\n",
      "Epoch 50/100\n",
      "3/3 [==============================] - 0s 12ms/step - loss: 3410951678.4681\n",
      "Epoch 51/100\n",
      "3/3 [==============================] - 0s 11ms/step - loss: 3360419751.6596\n",
      "Epoch 52/100\n",
      "3/3 [==============================] - 0s 11ms/step - loss: 3279229126.4681\n",
      "Epoch 53/100\n",
      "3/3 [==============================] - 0s 11ms/step - loss: 3180568194.5532\n",
      "Epoch 54/100\n",
      "3/3 [==============================] - 0s 11ms/step - loss: 3122620569.0213\n",
      "Epoch 55/100\n",
      "3/3 [==============================] - 0s 12ms/step - loss: 3030057981.4468\n",
      "Epoch 56/100\n",
      "3/3 [==============================] - 0s 12ms/step - loss: 2953546961.5319\n",
      "Epoch 57/100\n",
      "3/3 [==============================] - 0s 11ms/step - loss: 2881688800.3404\n",
      "Epoch 58/100\n",
      "3/3 [==============================] - 0s 13ms/step - loss: 2812785029.4468\n",
      "Epoch 59/100\n",
      "3/3 [==============================] - 0s 12ms/step - loss: 2754251722.5532\n",
      "Epoch 60/100\n",
      "3/3 [==============================] - 0s 13ms/step - loss: 2665151829.9574\n",
      "Epoch 61/100\n",
      "3/3 [==============================] - 0s 12ms/step - loss: 2585963189.6170\n",
      "Epoch 62/100\n",
      "3/3 [==============================] - 0s 12ms/step - loss: 2518715565.2766\n",
      "Epoch 63/100\n",
      "3/3 [==============================] - 0s 12ms/step - loss: 2449819836.9362\n",
      "Epoch 64/100\n",
      "3/3 [==============================] - 0s 11ms/step - loss: 2385262197.1064\n",
      "Epoch 65/100\n",
      "3/3 [==============================] - 0s 11ms/step - loss: 2301221661.2766\n",
      "Epoch 66/100\n",
      "3/3 [==============================] - 0s 11ms/step - loss: 2231738317.2766\n",
      "Epoch 67/100\n",
      "3/3 [==============================] - 0s 12ms/step - loss: 2177135281.7021\n",
      "Epoch 68/100\n",
      "3/3 [==============================] - 0s 12ms/step - loss: 2088101816.6809\n",
      "Epoch 69/100\n",
      "3/3 [==============================] - 0s 13ms/step - loss: 2022570232.0000\n",
      "Epoch 70/100\n",
      "3/3 [==============================] - 0s 12ms/step - loss: 1977829853.1064\n",
      "Epoch 71/100\n",
      "3/3 [==============================] - 0s 12ms/step - loss: 1886675513.7872\n",
      "Epoch 72/100\n",
      "3/3 [==============================] - 0s 12ms/step - loss: 1823585470.0426\n",
      "Epoch 73/100\n",
      "3/3 [==============================] - 0s 11ms/step - loss: 1763789542.0426\n",
      "Epoch 74/100\n",
      "3/3 [==============================] - 0s 12ms/step - loss: 1697097911.2340\n",
      "Epoch 75/100\n",
      "3/3 [==============================] - 0s 12ms/step - loss: 1651862487.6596\n",
      "Epoch 76/100\n",
      "3/3 [==============================] - 0s 11ms/step - loss: 1586772646.6383\n",
      "Epoch 77/100\n",
      "3/3 [==============================] - 0s 14ms/step - loss: 1508745554.9787\n",
      "Epoch 78/100\n",
      "3/3 [==============================] - 0s 12ms/step - loss: 1471374120.6809\n",
      "Epoch 79/100\n",
      "3/3 [==============================] - 0s 13ms/step - loss: 1402767802.8936\n",
      "Epoch 80/100\n",
      "3/3 [==============================] - 0s 12ms/step - loss: 1365315443.0638\n",
      "Epoch 81/100\n",
      "3/3 [==============================] - 0s 11ms/step - loss: 1321569968.5106\n",
      "Epoch 82/100\n",
      "3/3 [==============================] - 0s 11ms/step - loss: 1270158060.9362\n",
      "Epoch 83/100\n",
      "3/3 [==============================] - 0s 12ms/step - loss: 1223394794.0426\n",
      "Epoch 84/100\n",
      "3/3 [==============================] - 0s 11ms/step - loss: 1170672405.1064\n",
      "Epoch 85/100\n",
      "3/3 [==============================] - 0s 11ms/step - loss: 1132248354.0426\n",
      "Epoch 86/100\n",
      "3/3 [==============================] - 0s 11ms/step - loss: 1082076635.1489\n",
      "Epoch 87/100\n",
      "3/3 [==============================] - 0s 12ms/step - loss: 1042483774.5532\n",
      "Epoch 88/100\n",
      "3/3 [==============================] - 0s 12ms/step - loss: 1008182958.4681\n",
      "Epoch 89/100\n",
      "3/3 [==============================] - 0s 14ms/step - loss: 955752588.4255\n",
      "Epoch 90/100\n",
      "3/3 [==============================] - 0s 12ms/step - loss: 919302138.1277\n",
      "Epoch 91/100\n",
      "3/3 [==============================] - 0s 11ms/step - loss: 880490925.1915\n",
      "Epoch 92/100\n",
      "3/3 [==============================] - 0s 11ms/step - loss: 852251366.8511\n",
      "Epoch 93/100\n"
     ]
    },
    {
     "name": "stdout",
     "output_type": "stream",
     "text": [
      "3/3 [==============================] - 0s 11ms/step - loss: 810445660.2979\n",
      "Epoch 94/100\n",
      "3/3 [==============================] - 0s 11ms/step - loss: 767279432.0851\n",
      "Epoch 95/100\n",
      "3/3 [==============================] - 0s 12ms/step - loss: 729669097.1915\n",
      "Epoch 96/100\n",
      "3/3 [==============================] - 0s 12ms/step - loss: 696630197.7872\n",
      "Epoch 97/100\n",
      "3/3 [==============================] - 0s 12ms/step - loss: 670605679.7447\n",
      "Epoch 98/100\n",
      "3/3 [==============================] - 0s 13ms/step - loss: 636620332.8085\n",
      "Epoch 99/100\n",
      "3/3 [==============================] - 0s 12ms/step - loss: 600899976.3830\n",
      "Epoch 100/100\n",
      "3/3 [==============================] - 0s 12ms/step - loss: 570992962.8085\n"
     ]
    },
    {
     "data": {
      "text/plain": [
       "<keras.callbacks.callbacks.History at 0x7f90ec154c10>"
      ]
     },
     "execution_count": 42,
     "metadata": {},
     "output_type": "execute_result"
    }
   ],
   "source": [
    "from keras.models import Sequential\n",
    "from keras.layers import LSTM, Dense\n",
    "\n",
    "model = Sequential()\n",
    "model.add(\n",
    "    LSTM(10,\n",
    "        activation='relu',\n",
    "        input_shape=(look_back,1))\n",
    ")\n",
    "model.add(Dense(1))\n",
    "model.compile(optimizer='adam', loss='mse')\n",
    "\n",
    "num_epochs = 100\n",
    "model.fit_generator(train_generator, epochs=num_epochs, verbose=1)"
   ]
  },
  {
   "cell_type": "code",
   "execution_count": 43,
   "metadata": {},
   "outputs": [],
   "source": [
    "prediction = model.predict_generator(test_generator)\n",
    "\n",
    "cclose = cclose.reshape((-1))\n",
    "close_train = close_train.reshape((-1))\n",
    "close_test = close_test.reshape((-1))\n",
    "prediction = prediction.reshape((-1))"
   ]
  },
  {
   "cell_type": "code",
   "execution_count": 44,
   "metadata": {},
   "outputs": [],
   "source": [
    "close_data = close_data.reshape((-1))\n",
    "\n",
    "def predict(num_prediction, model):\n",
    "    prediction_list = close_data[-look_back:]\n",
    "    \n",
    "    for _ in range(num_prediction):\n",
    "        x = prediction_list[-look_back:]\n",
    "        x = x.reshape((1, look_back, 1))\n",
    "        out = model.predict(x)[0][0]\n",
    "        prediction_list = np.append(prediction_list, out)\n",
    "    prediction_list = prediction_list[look_back-1:]\n",
    "        \n",
    "    return prediction_list\n",
    "num_prediction = 1\n",
    "forecast = predict(num_prediction, model)\n",
    "forecast = numbers[0]"
   ]
  },
  {
   "cell_type": "code",
   "execution_count": 45,
   "metadata": {},
   "outputs": [
    {
     "data": {
      "text/plain": [
       "119177"
      ]
     },
     "execution_count": 45,
     "metadata": {},
     "output_type": "execute_result"
    }
   ],
   "source": [
    "forecast"
   ]
  },
  {
   "cell_type": "code",
   "execution_count": 46,
   "metadata": {},
   "outputs": [
    {
     "data": {
      "text/plain": [
       "[<matplotlib.lines.Line2D at 0x7f90ebe06f50>]"
      ]
     },
     "execution_count": 46,
     "metadata": {},
     "output_type": "execute_result"
    },
    {
     "data": {
      "image/png": "[encoded data removed]",
      "text/plain": [
       "<Figure size 432x288 with 1 Axes>"
      ]
     },
     "metadata": {
      "needs_background": "light"
     },
     "output_type": "display_data"
    }
   ],
   "source": [
    "plt.plot(df)"
   ]
  },
  {
   "cell_type": "code",
   "execution_count": 47,
   "metadata": {},
   "outputs": [
    {
     "data": {
      "text/html": [
       "<div>\n",
       "<style scoped>\n",
       "    .dataframe tbody tr th:only-of-type {\n",
       "        vertical-align: middle;\n",
       "    }\n",
       "\n",
       "    .dataframe tbody tr th {\n",
       "        vertical-align: top;\n",
       "    }\n",
       "\n",
       "    .dataframe thead th {\n",
       "        text-align: right;\n",
       "    }\n",
       "</style>\n",
       "<table border=\"1\" class=\"dataframe\">\n",
       "  <thead>\n",
       "    <tr style=\"text-align: right;\">\n",
       "      <th></th>\n",
       "      <th>Infected</th>\n",
       "    </tr>\n",
       "  </thead>\n",
       "  <tbody>\n",
       "    <tr>\n",
       "      <th>3/6/20</th>\n",
       "      <td>101799</td>\n",
       "    </tr>\n",
       "    <tr>\n",
       "      <th>3/7/20</th>\n",
       "      <td>105835</td>\n",
       "    </tr>\n",
       "    <tr>\n",
       "      <th>3/8/20</th>\n",
       "      <td>109814</td>\n",
       "    </tr>\n",
       "    <tr>\n",
       "      <th>3/9/20</th>\n",
       "      <td>113583</td>\n",
       "    </tr>\n",
       "    <tr>\n",
       "      <th>3/10/20</th>\n",
       "      <td>118582</td>\n",
       "    </tr>\n",
       "  </tbody>\n",
       "</table>\n",
       "</div>"
      ],
      "text/plain": [
       "        Infected\n",
       "3/6/20    101799\n",
       "3/7/20    105835\n",
       "3/8/20    109814\n",
       "3/9/20    113583\n",
       "3/10/20   118582"
      ]
     },
     "execution_count": 47,
     "metadata": {},
     "output_type": "execute_result"
    }
   ],
   "source": [
    "df.tail()"
   ]
  },
  {
   "cell_type": "code",
   "execution_count": 48,
   "metadata": {},
   "outputs": [
    {
     "data": {
      "text/plain": [
       "119177"
      ]
     },
     "execution_count": 48,
     "metadata": {},
     "output_type": "execute_result"
    }
   ],
   "source": [
    "forecast"
   ]
  },
  {
   "cell_type": "code",
   "execution_count": 49,
   "metadata": {},
   "outputs": [
    {
     "data": {
      "text/plain": [
       "[<matplotlib.lines.Line2D at 0x7f90ec142590>]"
      ]
     },
     "execution_count": 49,
     "metadata": {},
     "output_type": "execute_result"
    },
    {
     "data": {
      "image/png": "[encoded data removed]",
      "text/plain": [
       "<Figure size 432x288 with 1 Axes>"
      ]
     },
     "metadata": {
      "needs_background": "light"
     },
     "output_type": "display_data"
    }
   ],
   "source": [
    "plt.plot(df)\n",
    "plt.plot(forecast)"
   ]
  },
  {
   "cell_type": "code",
   "execution_count": 50,
   "metadata": {},
   "outputs": [
    {
     "data": {
      "text/plain": [
       "pandas.core.indexes.base.Index"
      ]
     },
     "execution_count": 50,
     "metadata": {},
     "output_type": "execute_result"
    }
   ],
   "source": [
    "type(df.index)"
   ]
  },
  {
   "cell_type": "code",
   "execution_count": null,
   "metadata": {},
   "outputs": [],
   "source": []
  }
 ],
 "metadata": {
  "kernelspec": {
   "display_name": "Python 3",
   "language": "python",
   "name": "python3"
  },
  "language_info": {
   "codemirror_mode": {
    "name": "ipython",
    "version": 3
   },
   "file_extension": ".py",
   "mimetype": "text/x-python",
   "name": "python",
   "nbconvert_exporter": "python",
   "pygments_lexer": "ipython3",
   "version": "3.7.6"
  }
 },
 "nbformat": 4,
 "nbformat_minor": 4
}
