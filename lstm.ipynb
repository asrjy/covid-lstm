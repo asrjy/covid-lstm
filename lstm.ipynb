{
 "cells": [
  {
   "cell_type": "markdown",
   "metadata": {},
   "source": [
    "## Part 1"
   ]
  },
  {
   "cell_type": "markdown",
   "metadata": {},
   "source": [
    "### Loading the datasets\n",
    "#### 1. Confirmed URL : https://github.com/CSSEGISandData/COVID-19/blob/master/csse_covid_19_data/csse_covid_19_time_series/time_series_19-covid-Confirmed.csv\n",
    "#### 2. Deaths URL: https://github.com/CSSEGISandData/COVID-19/blob/master/csse_covid_19_data/csse_covid_19_time_series/time_series_19-covid-Deaths.csv\n",
    "#### 3. Recovered URL: https://github.com/CSSEGISandData/COVID-19/blob/master/csse_covid_19_data/csse_covid_19_time_series/time_series_19-covid-Recovered.csv"
   ]
  },
  {
   "cell_type": "markdown",
   "metadata": {},
   "source": [
    "#### Starting date on all three datasets is 22/01/2020"
   ]
  },
  {
   "cell_type": "markdown",
   "metadata": {},
   "source": [
    "Steps (Without BeautifulSoup):-\n",
    "1. Import the CSV \n",
    "2. Check if the last column title matches with the last date row in the cleaned dataset.\n",
    "3. If it matches, don't add it to the dataset. \n",
    "4. If it does not match, go back iteratively until it matches and save all of the data.\n"
   ]
  },
  {
   "cell_type": "code",
   "execution_count": 177,
   "metadata": {},
   "outputs": [],
   "source": [
    "import pandas as pd\n",
    "import numpy as np\n",
    "import matplotlib.pyplot as plt\n",
    "import sklearn\n",
    "from keras.preprocessing.sequence import TimeseriesGenerator\n",
    "from sklearn.preprocessing import MinMaxScaler\n",
    "import requests\n",
    "from bs4 import BeautifulSoup\n",
    "from datetime import date\n",
    "today = date.today()"
   ]
  },
  {
   "cell_type": "code",
   "execution_count": 178,
   "metadata": {},
   "outputs": [],
   "source": [
    "confirmed_url = \"https://github.com/CSSEGISandData/COVID-19/raw/master/csse_covid_19_data/csse_covid_19_time_series/time_series_covid19_confirmed_global.csv\"\n",
    "deaths_url = \"https://github.com/CSSEGISandData/COVID-19/raw/master/csse_covid_19_data/csse_covid_19_time_series/time_series_covid19_deaths_global.csv\"\n",
    "recovered_url = \"https://github.com/CSSEGISandData/COVID-19/raw/master/csse_covid_19_data/csse_covid_19_time_series/time_series_covid19_recovered_global.csv\""
   ]
  },
  {
   "cell_type": "code",
   "execution_count": 179,
   "metadata": {},
   "outputs": [
    {
     "data": {
      "text/plain": [
       "'5/24/20'"
      ]
     },
     "execution_count": 179,
     "metadata": {},
     "output_type": "execute_result"
    }
   ],
   "source": [
    "d1 = today.strftime(\"%m/%d/%y\").replace(' 0', ' ')\n",
    "if(d1[0] == '0'):\n",
    "    d1 = d1[1:]\n",
    "d1"
   ]
  },
  {
   "cell_type": "markdown",
   "metadata": {},
   "source": [
    "### Function to get the number of confirmed cases as a Dataframe"
   ]
  },
  {
   "cell_type": "code",
   "execution_count": 180,
   "metadata": {},
   "outputs": [
    {
     "data": {
      "text/html": [
       "<div>\n",
       "<style scoped>\n",
       "    .dataframe tbody tr th:only-of-type {\n",
       "        vertical-align: middle;\n",
       "    }\n",
       "\n",
       "    .dataframe tbody tr th {\n",
       "        vertical-align: top;\n",
       "    }\n",
       "\n",
       "    .dataframe thead th {\n",
       "        text-align: right;\n",
       "    }\n",
       "</style>\n",
       "<table border=\"1\" class=\"dataframe\">\n",
       "  <thead>\n",
       "    <tr style=\"text-align: right;\">\n",
       "      <th></th>\n",
       "      <th>Infected</th>\n",
       "    </tr>\n",
       "  </thead>\n",
       "  <tbody>\n",
       "    <tr>\n",
       "      <th>1/22/20</th>\n",
       "      <td>555</td>\n",
       "    </tr>\n",
       "    <tr>\n",
       "      <th>1/23/20</th>\n",
       "      <td>654</td>\n",
       "    </tr>\n",
       "    <tr>\n",
       "      <th>1/24/20</th>\n",
       "      <td>941</td>\n",
       "    </tr>\n",
       "    <tr>\n",
       "      <th>1/25/20</th>\n",
       "      <td>1434</td>\n",
       "    </tr>\n",
       "    <tr>\n",
       "      <th>1/26/20</th>\n",
       "      <td>2118</td>\n",
       "    </tr>\n",
       "    <tr>\n",
       "      <th>...</th>\n",
       "      <td>...</td>\n",
       "    </tr>\n",
       "    <tr>\n",
       "      <th>5/19/20</th>\n",
       "      <td>4897492</td>\n",
       "    </tr>\n",
       "    <tr>\n",
       "      <th>5/20/20</th>\n",
       "      <td>4996472</td>\n",
       "    </tr>\n",
       "    <tr>\n",
       "      <th>5/21/20</th>\n",
       "      <td>5102424</td>\n",
       "    </tr>\n",
       "    <tr>\n",
       "      <th>5/22/20</th>\n",
       "      <td>5210817</td>\n",
       "    </tr>\n",
       "    <tr>\n",
       "      <th>5/23/20</th>\n",
       "      <td>5310362</td>\n",
       "    </tr>\n",
       "  </tbody>\n",
       "</table>\n",
       "<p>123 rows × 1 columns</p>\n",
       "</div>"
      ],
      "text/plain": [
       "        Infected\n",
       "1/22/20      555\n",
       "1/23/20      654\n",
       "1/24/20      941\n",
       "1/25/20     1434\n",
       "1/26/20     2118\n",
       "...          ...\n",
       "5/19/20  4897492\n",
       "5/20/20  4996472\n",
       "5/21/20  5102424\n",
       "5/22/20  5210817\n",
       "5/23/20  5310362\n",
       "\n",
       "[123 rows x 1 columns]"
      ]
     },
     "execution_count": 180,
     "metadata": {},
     "output_type": "execute_result"
    }
   ],
   "source": [
    "def get_confirmed():\n",
    "    con_casesnew = pd.read_csv(confirmed_url)\n",
    "    con_casesnew = con_casesnew.sum(axis=0)\n",
    "    con_casesnew.drop([\"Country/Region\",\"Lat\",\"Long\"], axis=0, inplace=True)\n",
    "    con_casesnew = pd.DataFrame(con_casesnew)\n",
    "    con_casesnew.rename(columns={0: \"Infected\"}, inplace=True)\n",
    "    return con_casesnew\n",
    "get_confirmed()"
   ]
  },
  {
   "cell_type": "markdown",
   "metadata": {},
   "source": [
    "### Function to get the number of deaths as a Dataframe"
   ]
  },
  {
   "cell_type": "code",
   "execution_count": 181,
   "metadata": {},
   "outputs": [
    {
     "data": {
      "text/html": [
       "<div>\n",
       "<style scoped>\n",
       "    .dataframe tbody tr th:only-of-type {\n",
       "        vertical-align: middle;\n",
       "    }\n",
       "\n",
       "    .dataframe tbody tr th {\n",
       "        vertical-align: top;\n",
       "    }\n",
       "\n",
       "    .dataframe thead th {\n",
       "        text-align: right;\n",
       "    }\n",
       "</style>\n",
       "<table border=\"1\" class=\"dataframe\">\n",
       "  <thead>\n",
       "    <tr style=\"text-align: right;\">\n",
       "      <th></th>\n",
       "      <th>Deaths</th>\n",
       "    </tr>\n",
       "  </thead>\n",
       "  <tbody>\n",
       "    <tr>\n",
       "      <th>1/22/20</th>\n",
       "      <td>17</td>\n",
       "    </tr>\n",
       "    <tr>\n",
       "      <th>1/23/20</th>\n",
       "      <td>18</td>\n",
       "    </tr>\n",
       "    <tr>\n",
       "      <th>1/24/20</th>\n",
       "      <td>26</td>\n",
       "    </tr>\n",
       "    <tr>\n",
       "      <th>1/25/20</th>\n",
       "      <td>42</td>\n",
       "    </tr>\n",
       "    <tr>\n",
       "      <th>1/26/20</th>\n",
       "      <td>56</td>\n",
       "    </tr>\n",
       "    <tr>\n",
       "      <th>...</th>\n",
       "      <td>...</td>\n",
       "    </tr>\n",
       "    <tr>\n",
       "      <th>5/19/20</th>\n",
       "      <td>323285</td>\n",
       "    </tr>\n",
       "    <tr>\n",
       "      <th>5/20/20</th>\n",
       "      <td>328115</td>\n",
       "    </tr>\n",
       "    <tr>\n",
       "      <th>5/21/20</th>\n",
       "      <td>332924</td>\n",
       "    </tr>\n",
       "    <tr>\n",
       "      <th>5/22/20</th>\n",
       "      <td>338160</td>\n",
       "    </tr>\n",
       "    <tr>\n",
       "      <th>5/23/20</th>\n",
       "      <td>342097</td>\n",
       "    </tr>\n",
       "  </tbody>\n",
       "</table>\n",
       "<p>123 rows × 1 columns</p>\n",
       "</div>"
      ],
      "text/plain": [
       "         Deaths\n",
       "1/22/20      17\n",
       "1/23/20      18\n",
       "1/24/20      26\n",
       "1/25/20      42\n",
       "1/26/20      56\n",
       "...         ...\n",
       "5/19/20  323285\n",
       "5/20/20  328115\n",
       "5/21/20  332924\n",
       "5/22/20  338160\n",
       "5/23/20  342097\n",
       "\n",
       "[123 rows x 1 columns]"
      ]
     },
     "execution_count": 181,
     "metadata": {},
     "output_type": "execute_result"
    }
   ],
   "source": [
    "def get_deaths():\n",
    "    deaths_new = pd.read_csv(deaths_url)\n",
    "    deaths_new = deaths_new.sum(axis=0)\n",
    "    deaths_new.drop([\"Country/Region\",\"Lat\",\"Long\"], axis=0, inplace=True)\n",
    "    deaths_new = pd.DataFrame(deaths_new)\n",
    "    deaths_new.rename(columns={0: \"Deaths\"}, inplace=True)\n",
    "    return deaths_new\n",
    "get_deaths()"
   ]
  },
  {
   "cell_type": "markdown",
   "metadata": {},
   "source": [
    "### Function to get the number of recoveries as a Dataframe"
   ]
  },
  {
   "cell_type": "code",
   "execution_count": 182,
   "metadata": {},
   "outputs": [
    {
     "data": {
      "text/html": [
       "<div>\n",
       "<style scoped>\n",
       "    .dataframe tbody tr th:only-of-type {\n",
       "        vertical-align: middle;\n",
       "    }\n",
       "\n",
       "    .dataframe tbody tr th {\n",
       "        vertical-align: top;\n",
       "    }\n",
       "\n",
       "    .dataframe thead th {\n",
       "        text-align: right;\n",
       "    }\n",
       "</style>\n",
       "<table border=\"1\" class=\"dataframe\">\n",
       "  <thead>\n",
       "    <tr style=\"text-align: right;\">\n",
       "      <th></th>\n",
       "      <th>Recovered</th>\n",
       "    </tr>\n",
       "  </thead>\n",
       "  <tbody>\n",
       "    <tr>\n",
       "      <th>1/22/20</th>\n",
       "      <td>28</td>\n",
       "    </tr>\n",
       "    <tr>\n",
       "      <th>1/23/20</th>\n",
       "      <td>30</td>\n",
       "    </tr>\n",
       "    <tr>\n",
       "      <th>1/24/20</th>\n",
       "      <td>36</td>\n",
       "    </tr>\n",
       "    <tr>\n",
       "      <th>1/25/20</th>\n",
       "      <td>39</td>\n",
       "    </tr>\n",
       "    <tr>\n",
       "      <th>1/26/20</th>\n",
       "      <td>52</td>\n",
       "    </tr>\n",
       "    <tr>\n",
       "      <th>...</th>\n",
       "      <td>...</td>\n",
       "    </tr>\n",
       "    <tr>\n",
       "      <th>5/19/20</th>\n",
       "      <td>1838995</td>\n",
       "    </tr>\n",
       "    <tr>\n",
       "      <th>5/20/20</th>\n",
       "      <td>1897466</td>\n",
       "    </tr>\n",
       "    <tr>\n",
       "      <th>5/21/20</th>\n",
       "      <td>1948739</td>\n",
       "    </tr>\n",
       "    <tr>\n",
       "      <th>5/22/20</th>\n",
       "      <td>2056643</td>\n",
       "    </tr>\n",
       "    <tr>\n",
       "      <th>5/23/20</th>\n",
       "      <td>2112185</td>\n",
       "    </tr>\n",
       "  </tbody>\n",
       "</table>\n",
       "<p>123 rows × 1 columns</p>\n",
       "</div>"
      ],
      "text/plain": [
       "        Recovered\n",
       "1/22/20        28\n",
       "1/23/20        30\n",
       "1/24/20        36\n",
       "1/25/20        39\n",
       "1/26/20        52\n",
       "...           ...\n",
       "5/19/20   1838995\n",
       "5/20/20   1897466\n",
       "5/21/20   1948739\n",
       "5/22/20   2056643\n",
       "5/23/20   2112185\n",
       "\n",
       "[123 rows x 1 columns]"
      ]
     },
     "execution_count": 182,
     "metadata": {},
     "output_type": "execute_result"
    }
   ],
   "source": [
    "def get_recovered():\n",
    "    rec_new = pd.read_csv(recovered_url)\n",
    "    rec_new = rec_new.sum(axis=0)\n",
    "    rec_new.drop([\"Country/Region\",\"Lat\",\"Long\"], axis=0, inplace=True)\n",
    "    rec_new = pd.DataFrame(rec_new)\n",
    "    rec_new.rename(columns={0: \"Recovered\"}, inplace=True)\n",
    "    \n",
    "    return rec_new\n",
    "get_recovered()"
   ]
  },
  {
   "cell_type": "markdown",
   "metadata": {},
   "source": [
    "### Scraper"
   ]
  },
  {
   "cell_type": "code",
   "execution_count": 183,
   "metadata": {},
   "outputs": [],
   "source": [
    "def get_newvals():\n",
    "    url_wminfo = \"https://www.worldometers.info/coronavirus/\"\n",
    "    page = requests.get(url_wminfo)\n",
    "    soup = BeautifulSoup(page.content, 'html.parser')\n",
    "    result = soup.find_all(\"div\", {\"id\":\"maincounter-wrap\"})\n",
    "    numbers = []\n",
    "    for r in result:\n",
    "        numbers.append(int(r.text.split(':')[-1].replace(',','').replace(' ','')))\n",
    "    return numbers"
   ]
  },
  {
   "cell_type": "code",
   "execution_count": 184,
   "metadata": {},
   "outputs": [
    {
     "data": {
      "text/plain": [
       "[5407378, 344019, 2247930]"
      ]
     },
     "execution_count": 184,
     "metadata": {},
     "output_type": "execute_result"
    }
   ],
   "source": [
    "numbers = get_newvals()\n",
    "numbers"
   ]
  },
  {
   "cell_type": "markdown",
   "metadata": {},
   "source": [
    "## Forecasting Confirmed Cases"
   ]
  },
  {
   "cell_type": "code",
   "execution_count": 185,
   "metadata": {},
   "outputs": [
    {
     "data": {
      "text/html": [
       "<div>\n",
       "<style scoped>\n",
       "    .dataframe tbody tr th:only-of-type {\n",
       "        vertical-align: middle;\n",
       "    }\n",
       "\n",
       "    .dataframe tbody tr th {\n",
       "        vertical-align: top;\n",
       "    }\n",
       "\n",
       "    .dataframe thead th {\n",
       "        text-align: right;\n",
       "    }\n",
       "</style>\n",
       "<table border=\"1\" class=\"dataframe\">\n",
       "  <thead>\n",
       "    <tr style=\"text-align: right;\">\n",
       "      <th></th>\n",
       "      <th>Infected</th>\n",
       "    </tr>\n",
       "  </thead>\n",
       "  <tbody>\n",
       "    <tr>\n",
       "      <th>5/19/20</th>\n",
       "      <td>4897492</td>\n",
       "    </tr>\n",
       "    <tr>\n",
       "      <th>5/20/20</th>\n",
       "      <td>4996472</td>\n",
       "    </tr>\n",
       "    <tr>\n",
       "      <th>5/21/20</th>\n",
       "      <td>5102424</td>\n",
       "    </tr>\n",
       "    <tr>\n",
       "      <th>5/22/20</th>\n",
       "      <td>5210817</td>\n",
       "    </tr>\n",
       "    <tr>\n",
       "      <th>5/23/20</th>\n",
       "      <td>5310362</td>\n",
       "    </tr>\n",
       "  </tbody>\n",
       "</table>\n",
       "</div>"
      ],
      "text/plain": [
       "        Infected\n",
       "5/19/20  4897492\n",
       "5/20/20  4996472\n",
       "5/21/20  5102424\n",
       "5/22/20  5210817\n",
       "5/23/20  5310362"
      ]
     },
     "execution_count": 185,
     "metadata": {},
     "output_type": "execute_result"
    }
   ],
   "source": [
    "df = get_confirmed()\n",
    "df.tail()"
   ]
  },
  {
   "cell_type": "code",
   "execution_count": 186,
   "metadata": {},
   "outputs": [],
   "source": [
    "close_data = df['Infected'].values\n",
    "close_data = close_data.reshape((-1,1))\n",
    "\n",
    "split_percent = 0.80\n",
    "split = int(split_percent*len(close_data))\n",
    "\n",
    "close_train = close_data[:split]\n",
    "close_test = close_data[split:]\n",
    "\n",
    "cclose = close_data"
   ]
  },
  {
   "cell_type": "code",
   "execution_count": 187,
   "metadata": {},
   "outputs": [],
   "source": [
    "look_back = 2\n",
    "\n",
    "train_generator = TimeseriesGenerator(cclose, cclose, length=look_back, batch_size=20)     \n",
    "test_generator = TimeseriesGenerator(close_test, close_test, length=look_back, batch_size=1)"
   ]
  },
  {
   "cell_type": "code",
   "execution_count": 188,
   "metadata": {},
   "outputs": [
    {
     "name": "stdout",
     "output_type": "stream",
     "text": [
      "Epoch 1/100\n",
      "7/7 [==============================] - 1s 108ms/step - loss: 7589563305917.2227\n",
      "Epoch 2/100\n",
      "7/7 [==============================] - 0s 7ms/step - loss: 7589563305143.4707\n",
      "Epoch 3/100\n",
      "7/7 [==============================] - 0s 20ms/step - loss: 7589563304984.9922\n",
      "Epoch 4/100\n",
      "7/7 [==============================] - 0s 19ms/step - loss: 7589563304360.3965\n",
      "Epoch 5/100\n",
      "7/7 [==============================] - 0s 17ms/step - loss: 7589563304090.0498\n",
      "Epoch 6/100\n",
      "7/7 [==============================] - 0s 20ms/step - loss: 7589563302878.1484\n",
      "Epoch 7/100\n",
      "7/7 [==============================] - 0s 20ms/step - loss: 7589563302775.6035\n",
      "Epoch 8/100\n",
      "7/7 [==============================] - 0s 18ms/step - loss: 7589563302449.3223\n",
      "Epoch 9/100\n",
      "7/7 [==============================] - 0s 23ms/step - loss: 7589563302430.6777\n",
      "Epoch 10/100\n",
      "7/7 [==============================] - 0s 19ms/step - loss: 7589563302160.3301\n",
      "Epoch 11/100\n",
      "7/7 [==============================] - 0s 19ms/step - loss: 7589563301461.1572\n",
      "Epoch 12/100\n",
      "7/7 [==============================] - 0s 21ms/step - loss: 7589563301442.5127\n",
      "Epoch 13/100\n",
      "7/7 [==============================] - 0s 19ms/step - loss: 7589563301172.1650\n",
      "Epoch 14/100\n",
      "7/7 [==============================] - 0s 17ms/step - loss: 7589563300995.0410\n",
      "Epoch 15/100\n",
      "7/7 [==============================] - 0s 19ms/step - loss: 7589563299783.1406\n",
      "Epoch 16/100\n",
      "7/7 [==============================] - 0s 21ms/step - loss: 7589563280411.3721\n",
      "Epoch 17/100\n",
      "7/7 [==============================] - 0s 17ms/step - loss: 7589563279796.0996\n",
      "Epoch 18/100\n",
      "7/7 [==============================] - 0s 13ms/step - loss: 7589563279609.6523\n",
      "Epoch 19/100\n",
      "7/7 [==============================] - 0s 14ms/step - loss: 7589563279591.0078\n",
      "Epoch 20/100\n",
      "7/7 [==============================] - 0s 15ms/step - loss: 7589563260312.4629\n",
      "Epoch 21/100\n",
      "7/7 [==============================] - 0s 9ms/step - loss: 7589563259473.4551\n",
      "Epoch 22/100\n",
      "7/7 [==============================] - 0s 10ms/step - loss: 7589563259370.9092\n",
      "Epoch 23/100\n",
      "7/7 [==============================] - 0s 8ms/step - loss: 7589563258671.7354\n",
      "Epoch 24/100\n",
      "7/7 [==============================] - 0s 20ms/step - loss: 7589563258420.0332\n",
      "Epoch 25/100\n",
      "7/7 [==============================] - 0s 19ms/step - loss: 7589563257804.7607\n",
      "Epoch 26/100\n",
      "7/7 [==============================] - 0s 22ms/step - loss: 7589563181315.1738\n",
      "Epoch 27/100\n",
      "7/7 [==============================] - 0s 18ms/step - loss: 7589563180476.1650\n",
      "Epoch 28/100\n",
      "7/7 [==============================] - 0s 20ms/step - loss: 7589563180448.1982\n",
      "Epoch 29/100\n",
      "7/7 [==============================] - 0s 18ms/step - loss: 7589563180121.9170\n",
      "Epoch 30/100\n",
      "7/7 [==============================] - 0s 20ms/step - loss: 7589563179478.6777\n",
      "Epoch 31/100\n",
      "7/7 [==============================] - 0s 20ms/step - loss: 7589563178770.1816\n",
      "Epoch 32/100\n",
      "7/7 [==============================] - 0s 19ms/step - loss: 7589563178154.9092\n",
      "Epoch 33/100\n",
      "7/7 [==============================] - 0s 18ms/step - loss: 7589563177912.5293\n",
      "Epoch 34/100\n",
      "7/7 [==============================] - 0s 22ms/step - loss: 7589563177716.7607\n",
      "Epoch 35/100\n",
      "7/7 [==============================] - 0s 21ms/step - loss: 7589563177707.4375\n",
      "Epoch 36/100\n",
      "7/7 [==============================] - 0s 11ms/step - loss: 7589563176943.0078\n",
      "Epoch 37/100\n",
      "7/7 [==============================] - 0s 11ms/step - loss: 7589563176663.3389\n",
      "Epoch 38/100\n",
      "7/7 [==============================] - 0s 10ms/step - loss: 7589563176635.3721\n",
      "Epoch 39/100\n",
      "7/7 [==============================] - 0s 17ms/step - loss: 7589563157375.4707\n",
      "Epoch 40/100\n",
      "7/7 [==============================] - 0s 20ms/step - loss: 7589563157133.0908\n",
      "Epoch 41/100\n",
      "7/7 [==============================] - 0s 10ms/step - loss: 7589563155911.8682\n",
      "Epoch 42/100\n",
      "7/7 [==============================] - 0s 8ms/step - loss: 7589563155790.6777\n",
      "Epoch 43/100\n",
      "7/7 [==============================] - 0s 19ms/step - loss: 7589563154942.3477\n",
      "Epoch 44/100\n",
      "7/7 [==============================] - 0s 19ms/step - loss: 7589563154317.7520\n",
      "Epoch 45/100\n",
      "7/7 [==============================] - 0s 14ms/step - loss: 7589563154075.3721\n",
      "Epoch 46/100\n",
      "7/7 [==============================] - 0s 20ms/step - loss: 7589563154038.0830\n",
      "Epoch 47/100\n",
      "7/7 [==============================] - 0s 19ms/step - loss: 7589563153879.6035\n",
      "Epoch 48/100\n",
      "7/7 [==============================] - 0s 21ms/step - loss: 7589563153609.2559\n",
      "Epoch 49/100\n",
      "7/7 [==============================] - 0s 20ms/step - loss: 7589563153590.6113\n",
      "Epoch 50/100\n",
      "7/7 [==============================] - 0s 21ms/step - loss: 7589563152210.9092\n",
      "Epoch 51/100\n",
      "7/7 [==============================] - 0s 16ms/step - loss: 7589563152043.1074\n",
      "Epoch 52/100\n",
      "7/7 [==============================] - 0s 12ms/step - loss: 7589562541058.6445\n",
      "Epoch 53/100\n",
      "7/7 [==============================] - 0s 10ms/step - loss: 7589562012167.3389\n",
      "Epoch 54/100\n",
      "7/7 [==============================] - 0s 8ms/step - loss: 7589562010815.6035\n",
      "Epoch 55/100\n",
      "7/7 [==============================] - 0s 16ms/step - loss: 7589562010778.3145\n",
      "Epoch 56/100\n",
      "7/7 [==============================] - 0s 17ms/step - loss: 7589562010507.9668\n",
      "Epoch 57/100\n",
      "7/7 [==============================] - 0s 18ms/step - loss: 7589562010480.0000\n",
      "Epoch 58/100\n",
      "7/7 [==============================] - 0s 16ms/step - loss: 7589562009780.8262\n",
      "Epoch 59/100\n",
      "7/7 [==============================] - 0s 16ms/step - loss: 7589562009547.7686\n",
      "Epoch 60/100\n",
      "7/7 [==============================] - 0s 23ms/step - loss: 7589562009510.4795\n",
      "Epoch 61/100\n",
      "7/7 [==============================] - 0s 12ms/step - loss: 7589562009249.4551\n",
      "Epoch 62/100\n",
      "7/7 [==============================] - 0s 10ms/step - loss: 7589562008056.1982\n",
      "Epoch 63/100\n",
      "7/7 [==============================] - 0s 8ms/step - loss: 7589562007851.1074\n",
      "Epoch 64/100\n",
      "7/7 [==============================] - 0s 10ms/step - loss: 7589562007086.6777\n",
      "Epoch 65/100\n",
      "7/7 [==============================] - 0s 11ms/step - loss: 7589561968874.5127\n",
      "Epoch 66/100\n",
      "7/7 [==============================] - 0s 20ms/step - loss: 7589561968613.4873\n",
      "Epoch 67/100\n",
      "7/7 [==============================] - 0s 17ms/step - loss: 7589561968585.5205\n",
      "Epoch 68/100\n",
      "7/7 [==============================] - 0s 18ms/step - loss: 7589561967793.1240\n",
      "Epoch 69/100\n",
      "7/7 [==============================] - 0s 13ms/step - loss: 7589561967765.1572\n",
      "Epoch 70/100\n",
      "7/7 [==============================] - 0s 11ms/step - loss: 7589561967019.3721\n",
      "Epoch 71/100\n",
      "7/7 [==============================] - 0s 13ms/step - loss: 7589561966143.0742\n",
      "Epoch 72/100\n",
      "7/7 [==============================] - 0s 14ms/step - loss: 7589561965900.6943\n",
      "Epoch 73/100\n",
      "7/7 [==============================] - 0s 9ms/step - loss: 7589561965882.0498\n",
      "Epoch 74/100\n",
      "7/7 [==============================] - 0s 17ms/step - loss: 7589561965686.2812\n",
      "Epoch 75/100\n",
      "7/7 [==============================] - 0s 22ms/step - loss: 7589561965052.3633\n",
      "Epoch 76/100\n",
      "7/7 [==============================] - 0s 19ms/step - loss: 7589561964903.2070\n",
      "Epoch 77/100\n",
      "7/7 [==============================] - 0s 17ms/step - loss: 7589561964726.0830\n",
      "Epoch 78/100\n",
      "7/7 [==============================] - 0s 17ms/step - loss: 7589561811952.0000\n",
      "Epoch 79/100\n",
      "7/7 [==============================] - 0s 11ms/step - loss: 7589561811718.9424\n",
      "Epoch 80/100\n",
      "7/7 [==============================] - 0s 8ms/step - loss: 7589561810479.0742\n",
      "Epoch 81/100\n",
      "7/7 [==============================] - 0s 9ms/step - loss: 7589561810227.3721\n",
      "Epoch 82/100\n",
      "7/7 [==============================] - 0s 8ms/step - loss: 7589561808996.8262\n",
      "Epoch 83/100\n",
      "7/7 [==============================] - 0s 9ms/step - loss: 7589561808819.7021\n",
      "Epoch 84/100\n",
      "7/7 [==============================] - 0s 18ms/step - loss: 7589561808633.2559\n",
      "Epoch 85/100\n",
      "7/7 [==============================] - 0s 17ms/step - loss: 7589561789298.7773\n",
      "Epoch 86/100\n",
      "7/7 [==============================] - 0s 10ms/step - loss: 7589561789280.1318\n",
      "Epoch 87/100\n",
      "7/7 [==============================] - 0s 8ms/step - loss: 7589561789177.5869\n",
      "Epoch 88/100\n",
      "7/7 [==============================] - 0s 22ms/step - loss: 7589561788552.9922\n",
      "Epoch 89/100\n",
      "7/7 [==============================] - 0s 17ms/step - loss: 7589561787611.4375\n",
      "Epoch 90/100\n"
     ]
    },
    {
     "name": "stdout",
     "output_type": "stream",
     "text": [
      "7/7 [==============================] - 0s 19ms/step - loss: 7589561786930.9092\n",
      "Epoch 91/100\n",
      "7/7 [==============================] - 0s 18ms/step - loss: 7589561767801.5205\n",
      "Epoch 92/100\n",
      "7/7 [==============================] - 0s 18ms/step - loss: 7589561767559.1406\n",
      "Epoch 93/100\n",
      "7/7 [==============================] - 0s 22ms/step - loss: 7589561766925.2227\n",
      "Epoch 94/100\n",
      "7/7 [==============================] - 0s 19ms/step - loss: 7589561766748.0996\n",
      "Epoch 95/100\n",
      "7/7 [==============================] - 0s 18ms/step - loss: 7589561766477.7520\n",
      "Epoch 96/100\n",
      "7/7 [==============================] - 0s 14ms/step - loss: 7589561766300.6279\n",
      "Epoch 97/100\n",
      "7/7 [==============================] - 0s 14ms/step - loss: 7589561765666.7109\n",
      "Epoch 98/100\n",
      "7/7 [==============================] - 0s 18ms/step - loss: 7589561764827.7021\n",
      "Epoch 99/100\n",
      "7/7 [==============================] - 0s 23ms/step - loss: 7589561764641.2559\n",
      "Epoch 100/100\n",
      "7/7 [==============================] - 0s 22ms/step - loss: 7589561763429.3555\n"
     ]
    },
    {
     "data": {
      "text/plain": [
       "<keras.callbacks.callbacks.History at 0x7f1ba45906d0>"
      ]
     },
     "execution_count": 188,
     "metadata": {},
     "output_type": "execute_result"
    }
   ],
   "source": [
    "from keras.models import Sequential\n",
    "from keras.layers import LSTM, Dense\n",
    "\n",
    "model = Sequential()\n",
    "model.add(\n",
    "    LSTM(10,\n",
    "        activation='relu',\n",
    "        input_shape=(look_back,1))\n",
    ")\n",
    "model.add(Dense(1))\n",
    "model.compile(optimizer='adam', loss='mse')\n",
    "\n",
    "num_epochs = 100\n",
    "model.fit_generator(train_generator, epochs=num_epochs, verbose=1)"
   ]
  },
  {
   "cell_type": "code",
   "execution_count": 189,
   "metadata": {},
   "outputs": [],
   "source": [
    "prediction = model.predict_generator(test_generator)\n",
    "\n",
    "cclose = cclose.reshape((-1))\n",
    "close_train = close_train.reshape((-1))\n",
    "close_test = close_test.reshape((-1))\n",
    "prediction = prediction.reshape((-1))"
   ]
  },
  {
   "cell_type": "code",
   "execution_count": 190,
   "metadata": {},
   "outputs": [],
   "source": [
    "close_data = close_data.reshape((-1))\n",
    "\n",
    "def predict(num_prediction, model):\n",
    "    prediction_list = close_data[-look_back:]\n",
    "    \n",
    "    for _ in range(num_prediction):\n",
    "        x = prediction_list[-look_back:]\n",
    "        x = x.reshape((1, look_back, 1))\n",
    "        out = model.predict(x)[0][0]\n",
    "        prediction_list = np.append(prediction_list, out)\n",
    "    prediction_list = prediction_list[look_back-1:]\n",
    "        \n",
    "    return prediction_list\n",
    "num_prediction = 1\n",
    "forecast = predict(num_prediction, model)\n",
    "forecast = numbers[0]"
   ]
  },
  {
   "cell_type": "code",
   "execution_count": 191,
   "metadata": {},
   "outputs": [
    {
     "data": {
      "text/plain": [
       "5407378"
      ]
     },
     "execution_count": 191,
     "metadata": {},
     "output_type": "execute_result"
    }
   ],
   "source": [
    "forecast"
   ]
  },
  {
   "cell_type": "code",
   "execution_count": 192,
   "metadata": {},
   "outputs": [
    {
     "data": {
      "text/html": [
       "<div>\n",
       "<style scoped>\n",
       "    .dataframe tbody tr th:only-of-type {\n",
       "        vertical-align: middle;\n",
       "    }\n",
       "\n",
       "    .dataframe tbody tr th {\n",
       "        vertical-align: top;\n",
       "    }\n",
       "\n",
       "    .dataframe thead th {\n",
       "        text-align: right;\n",
       "    }\n",
       "</style>\n",
       "<table border=\"1\" class=\"dataframe\">\n",
       "  <thead>\n",
       "    <tr style=\"text-align: right;\">\n",
       "      <th></th>\n",
       "      <th>Infected</th>\n",
       "    </tr>\n",
       "  </thead>\n",
       "  <tbody>\n",
       "    <tr>\n",
       "      <th>5/19/20</th>\n",
       "      <td>4897492</td>\n",
       "    </tr>\n",
       "    <tr>\n",
       "      <th>5/20/20</th>\n",
       "      <td>4996472</td>\n",
       "    </tr>\n",
       "    <tr>\n",
       "      <th>5/21/20</th>\n",
       "      <td>5102424</td>\n",
       "    </tr>\n",
       "    <tr>\n",
       "      <th>5/22/20</th>\n",
       "      <td>5210817</td>\n",
       "    </tr>\n",
       "    <tr>\n",
       "      <th>5/23/20</th>\n",
       "      <td>5310362</td>\n",
       "    </tr>\n",
       "  </tbody>\n",
       "</table>\n",
       "</div>"
      ],
      "text/plain": [
       "        Infected\n",
       "5/19/20  4897492\n",
       "5/20/20  4996472\n",
       "5/21/20  5102424\n",
       "5/22/20  5210817\n",
       "5/23/20  5310362"
      ]
     },
     "execution_count": 192,
     "metadata": {},
     "output_type": "execute_result"
    }
   ],
   "source": [
    "df.tail()"
   ]
  },
  {
   "cell_type": "code",
   "execution_count": 193,
   "metadata": {},
   "outputs": [
    {
     "data": {
      "text/plain": [
       "[<matplotlib.lines.Line2D at 0x7f1bf5252dd0>]"
      ]
     },
     "execution_count": 193,
     "metadata": {},
     "output_type": "execute_result"
    },
    {
     "data": {
      "image/png": "[encoded data removed]",
      "text/plain": [
       "<Figure size 960x720 with 1 Axes>"
      ]
     },
     "metadata": {},
     "output_type": "display_data"
    }
   ],
   "source": [
    "from matplotlib.pyplot import figure\n",
    "figure(num=None, figsize=(12, 9), dpi=80, facecolor='w', edgecolor='k')\n",
    "plt.plot(df)"
   ]
  },
  {
   "cell_type": "code",
   "execution_count": 194,
   "metadata": {},
   "outputs": [
    {
     "data": {
      "text/html": [
       "<div>\n",
       "<style scoped>\n",
       "    .dataframe tbody tr th:only-of-type {\n",
       "        vertical-align: middle;\n",
       "    }\n",
       "\n",
       "    .dataframe tbody tr th {\n",
       "        vertical-align: top;\n",
       "    }\n",
       "\n",
       "    .dataframe thead th {\n",
       "        text-align: right;\n",
       "    }\n",
       "</style>\n",
       "<table border=\"1\" class=\"dataframe\">\n",
       "  <thead>\n",
       "    <tr style=\"text-align: right;\">\n",
       "      <th></th>\n",
       "      <th>Infected</th>\n",
       "    </tr>\n",
       "  </thead>\n",
       "  <tbody>\n",
       "    <tr>\n",
       "      <th>1/22/20</th>\n",
       "      <td>555</td>\n",
       "    </tr>\n",
       "    <tr>\n",
       "      <th>1/23/20</th>\n",
       "      <td>654</td>\n",
       "    </tr>\n",
       "    <tr>\n",
       "      <th>1/24/20</th>\n",
       "      <td>941</td>\n",
       "    </tr>\n",
       "    <tr>\n",
       "      <th>1/25/20</th>\n",
       "      <td>1434</td>\n",
       "    </tr>\n",
       "    <tr>\n",
       "      <th>1/26/20</th>\n",
       "      <td>2118</td>\n",
       "    </tr>\n",
       "    <tr>\n",
       "      <th>...</th>\n",
       "      <td>...</td>\n",
       "    </tr>\n",
       "    <tr>\n",
       "      <th>5/20/20</th>\n",
       "      <td>4996472</td>\n",
       "    </tr>\n",
       "    <tr>\n",
       "      <th>5/21/20</th>\n",
       "      <td>5102424</td>\n",
       "    </tr>\n",
       "    <tr>\n",
       "      <th>5/22/20</th>\n",
       "      <td>5210817</td>\n",
       "    </tr>\n",
       "    <tr>\n",
       "      <th>5/23/20</th>\n",
       "      <td>5310362</td>\n",
       "    </tr>\n",
       "    <tr>\n",
       "      <th>5/24/20</th>\n",
       "      <td>5407378</td>\n",
       "    </tr>\n",
       "  </tbody>\n",
       "</table>\n",
       "<p>124 rows × 1 columns</p>\n",
       "</div>"
      ],
      "text/plain": [
       "        Infected\n",
       "1/22/20      555\n",
       "1/23/20      654\n",
       "1/24/20      941\n",
       "1/25/20     1434\n",
       "1/26/20     2118\n",
       "...          ...\n",
       "5/20/20  4996472\n",
       "5/21/20  5102424\n",
       "5/22/20  5210817\n",
       "5/23/20  5310362\n",
       "5/24/20  5407378\n",
       "\n",
       "[124 rows x 1 columns]"
      ]
     },
     "execution_count": 194,
     "metadata": {},
     "output_type": "execute_result"
    }
   ],
   "source": [
    "df_temp = df\n",
    "df_temp.loc[d1] = forecast\n",
    "df_temp"
   ]
  },
  {
   "cell_type": "code",
   "execution_count": 224,
   "metadata": {},
   "outputs": [
    {
     "data": {
      "text/plain": [
       "[<matplotlib.lines.Line2D at 0x7f1bf4f964d0>]"
      ]
     },
     "execution_count": 224,
     "metadata": {},
     "output_type": "execute_result"
    },
    {
     "data": {
      "image/png": "[encoded data removed]",
      "text/plain": [
       "<Figure size 960x720 with 1 Axes>"
      ]
     },
     "metadata": {},
     "output_type": "display_data"
    }
   ],
   "source": [
    "from matplotlib.pyplot import figure\n",
    "figure(num=None, figsize=(12,9), dpi=80, facecolor='w', edgecolor='k')\n",
    "plt.plot(df_temp[-7:], range(7), linestyle='--', marker='o', color='b')"
   ]
  },
  {
   "cell_type": "markdown",
   "metadata": {},
   "source": [
    "## Forecasting Recoveries"
   ]
  },
  {
   "cell_type": "code",
   "execution_count": 196,
   "metadata": {},
   "outputs": [
    {
     "data": {
      "text/html": [
       "<div>\n",
       "<style scoped>\n",
       "    .dataframe tbody tr th:only-of-type {\n",
       "        vertical-align: middle;\n",
       "    }\n",
       "\n",
       "    .dataframe tbody tr th {\n",
       "        vertical-align: top;\n",
       "    }\n",
       "\n",
       "    .dataframe thead th {\n",
       "        text-align: right;\n",
       "    }\n",
       "</style>\n",
       "<table border=\"1\" class=\"dataframe\">\n",
       "  <thead>\n",
       "    <tr style=\"text-align: right;\">\n",
       "      <th></th>\n",
       "      <th>Recovered</th>\n",
       "    </tr>\n",
       "  </thead>\n",
       "  <tbody>\n",
       "    <tr>\n",
       "      <th>5/19/20</th>\n",
       "      <td>1838995</td>\n",
       "    </tr>\n",
       "    <tr>\n",
       "      <th>5/20/20</th>\n",
       "      <td>1897466</td>\n",
       "    </tr>\n",
       "    <tr>\n",
       "      <th>5/21/20</th>\n",
       "      <td>1948739</td>\n",
       "    </tr>\n",
       "    <tr>\n",
       "      <th>5/22/20</th>\n",
       "      <td>2056643</td>\n",
       "    </tr>\n",
       "    <tr>\n",
       "      <th>5/23/20</th>\n",
       "      <td>2112185</td>\n",
       "    </tr>\n",
       "  </tbody>\n",
       "</table>\n",
       "</div>"
      ],
      "text/plain": [
       "        Recovered\n",
       "5/19/20   1838995\n",
       "5/20/20   1897466\n",
       "5/21/20   1948739\n",
       "5/22/20   2056643\n",
       "5/23/20   2112185"
      ]
     },
     "execution_count": 196,
     "metadata": {},
     "output_type": "execute_result"
    }
   ],
   "source": [
    "df_rec = get_recovered()\n",
    "df_rec.tail()"
   ]
  },
  {
   "cell_type": "code",
   "execution_count": 197,
   "metadata": {},
   "outputs": [],
   "source": [
    "close_data_rec = df_rec['Recovered'].values\n",
    "close_data_rec = close_data.reshape((-1,1))\n",
    "\n",
    "split_percent = 0.80\n",
    "split = int(split_percent*len(close_data_rec))\n",
    "\n",
    "close_train_rec = close_data_rec[:split]\n",
    "close_test_rec = close_data_rec[split:]\n",
    "\n",
    "cclose_rec = close_data_rec"
   ]
  },
  {
   "cell_type": "code",
   "execution_count": 198,
   "metadata": {},
   "outputs": [],
   "source": [
    "prediction_rec = model.predict_generator(test_generator_rec)\n",
    "\n",
    "cclose_rec = cclose_rec.reshape((-1))\n",
    "close_train_rec = close_train_rec.reshape((-1))\n",
    "close_test_rec = close_test_rec.reshape((-1))\n",
    "prediction_rec = prediction_rec.reshape((-1))"
   ]
  },
  {
   "cell_type": "code",
   "execution_count": 199,
   "metadata": {},
   "outputs": [],
   "source": [
    "look_back = 2\n",
    "\n",
    "train_generator_rec = TimeseriesGenerator(cclose_rec, cclose_rec, length=look_back, batch_size=20)     \n",
    "test_generator_rec = TimeseriesGenerator(close_test_rec, close_test_rec, length=look_back, batch_size=1)"
   ]
  },
  {
   "cell_type": "code",
   "execution_count": 200,
   "metadata": {},
   "outputs": [],
   "source": [
    "close_data_rec = close_data_rec.reshape((-1))\n",
    "\n",
    "def predict(num_prediction, model):\n",
    "    prediction_list = close_data_rec[-look_back:]\n",
    "    \n",
    "    for _ in range(num_prediction):\n",
    "        x = prediction_list[-look_back:]\n",
    "        x = x.reshape((1, look_back, 1))\n",
    "        out = model.predict(x)[0][0]\n",
    "        prediction_list = np.append(prediction_list, out)\n",
    "    prediction_list = prediction_list[look_back-1:]\n",
    "        \n",
    "    return prediction_list\n",
    "num_prediction = 1\n",
    "forecast_rec = predict(num_prediction, model)\n",
    "forecast_rec = numbers[2]"
   ]
  },
  {
   "cell_type": "code",
   "execution_count": 201,
   "metadata": {},
   "outputs": [
    {
     "data": {
      "text/plain": [
       "2247930"
      ]
     },
     "execution_count": 201,
     "metadata": {},
     "output_type": "execute_result"
    }
   ],
   "source": [
    "forecast_rec"
   ]
  },
  {
   "cell_type": "code",
   "execution_count": 202,
   "metadata": {},
   "outputs": [
    {
     "data": {
      "text/html": [
       "<div>\n",
       "<style scoped>\n",
       "    .dataframe tbody tr th:only-of-type {\n",
       "        vertical-align: middle;\n",
       "    }\n",
       "\n",
       "    .dataframe tbody tr th {\n",
       "        vertical-align: top;\n",
       "    }\n",
       "\n",
       "    .dataframe thead th {\n",
       "        text-align: right;\n",
       "    }\n",
       "</style>\n",
       "<table border=\"1\" class=\"dataframe\">\n",
       "  <thead>\n",
       "    <tr style=\"text-align: right;\">\n",
       "      <th></th>\n",
       "      <th>Recovered</th>\n",
       "    </tr>\n",
       "  </thead>\n",
       "  <tbody>\n",
       "    <tr>\n",
       "      <th>5/19/20</th>\n",
       "      <td>1838995</td>\n",
       "    </tr>\n",
       "    <tr>\n",
       "      <th>5/20/20</th>\n",
       "      <td>1897466</td>\n",
       "    </tr>\n",
       "    <tr>\n",
       "      <th>5/21/20</th>\n",
       "      <td>1948739</td>\n",
       "    </tr>\n",
       "    <tr>\n",
       "      <th>5/22/20</th>\n",
       "      <td>2056643</td>\n",
       "    </tr>\n",
       "    <tr>\n",
       "      <th>5/23/20</th>\n",
       "      <td>2112185</td>\n",
       "    </tr>\n",
       "  </tbody>\n",
       "</table>\n",
       "</div>"
      ],
      "text/plain": [
       "        Recovered\n",
       "5/19/20   1838995\n",
       "5/20/20   1897466\n",
       "5/21/20   1948739\n",
       "5/22/20   2056643\n",
       "5/23/20   2112185"
      ]
     },
     "execution_count": 202,
     "metadata": {},
     "output_type": "execute_result"
    }
   ],
   "source": [
    "df_rec.tail()"
   ]
  },
  {
   "cell_type": "code",
   "execution_count": 220,
   "metadata": {},
   "outputs": [
    {
     "data": {
      "text/plain": [
       "[<matplotlib.lines.Line2D at 0x7f1bf57e2bd0>]"
      ]
     },
     "execution_count": 220,
     "metadata": {},
     "output_type": "execute_result"
    },
    {
     "data": {
      "image/png": "[encoded data removed]",
      "text/plain": [
       "<Figure size 960x720 with 1 Axes>"
      ]
     },
     "metadata": {},
     "output_type": "display_data"
    }
   ],
   "source": [
    "from matplotlib.pyplot import figure\n",
    "figure(num=None, figsize=(12, 9), dpi=80, facecolor='w', edgecolor='k')\n",
    "plt.plot(df_rec, color='g')"
   ]
  },
  {
   "cell_type": "code",
   "execution_count": 204,
   "metadata": {},
   "outputs": [
    {
     "data": {
      "text/html": [
       "<div>\n",
       "<style scoped>\n",
       "    .dataframe tbody tr th:only-of-type {\n",
       "        vertical-align: middle;\n",
       "    }\n",
       "\n",
       "    .dataframe tbody tr th {\n",
       "        vertical-align: top;\n",
       "    }\n",
       "\n",
       "    .dataframe thead th {\n",
       "        text-align: right;\n",
       "    }\n",
       "</style>\n",
       "<table border=\"1\" class=\"dataframe\">\n",
       "  <thead>\n",
       "    <tr style=\"text-align: right;\">\n",
       "      <th></th>\n",
       "      <th>Recovered</th>\n",
       "    </tr>\n",
       "  </thead>\n",
       "  <tbody>\n",
       "    <tr>\n",
       "      <th>1/22/20</th>\n",
       "      <td>28</td>\n",
       "    </tr>\n",
       "    <tr>\n",
       "      <th>1/23/20</th>\n",
       "      <td>30</td>\n",
       "    </tr>\n",
       "    <tr>\n",
       "      <th>1/24/20</th>\n",
       "      <td>36</td>\n",
       "    </tr>\n",
       "    <tr>\n",
       "      <th>1/25/20</th>\n",
       "      <td>39</td>\n",
       "    </tr>\n",
       "    <tr>\n",
       "      <th>1/26/20</th>\n",
       "      <td>52</td>\n",
       "    </tr>\n",
       "    <tr>\n",
       "      <th>...</th>\n",
       "      <td>...</td>\n",
       "    </tr>\n",
       "    <tr>\n",
       "      <th>5/20/20</th>\n",
       "      <td>1897466</td>\n",
       "    </tr>\n",
       "    <tr>\n",
       "      <th>5/21/20</th>\n",
       "      <td>1948739</td>\n",
       "    </tr>\n",
       "    <tr>\n",
       "      <th>5/22/20</th>\n",
       "      <td>2056643</td>\n",
       "    </tr>\n",
       "    <tr>\n",
       "      <th>5/23/20</th>\n",
       "      <td>2112185</td>\n",
       "    </tr>\n",
       "    <tr>\n",
       "      <th>5/24/20</th>\n",
       "      <td>2247930</td>\n",
       "    </tr>\n",
       "  </tbody>\n",
       "</table>\n",
       "<p>124 rows × 1 columns</p>\n",
       "</div>"
      ],
      "text/plain": [
       "        Recovered\n",
       "1/22/20        28\n",
       "1/23/20        30\n",
       "1/24/20        36\n",
       "1/25/20        39\n",
       "1/26/20        52\n",
       "...           ...\n",
       "5/20/20   1897466\n",
       "5/21/20   1948739\n",
       "5/22/20   2056643\n",
       "5/23/20   2112185\n",
       "5/24/20   2247930\n",
       "\n",
       "[124 rows x 1 columns]"
      ]
     },
     "execution_count": 204,
     "metadata": {},
     "output_type": "execute_result"
    }
   ],
   "source": [
    "df_temp_rec = df_rec\n",
    "df_temp_rec.loc[d1] = forecast_rec\n",
    "df_temp_rec"
   ]
  },
  {
   "cell_type": "code",
   "execution_count": 219,
   "metadata": {},
   "outputs": [
    {
     "data": {
      "text/plain": [
       "[<matplotlib.lines.Line2D at 0x7f1bf580eb90>]"
      ]
     },
     "execution_count": 219,
     "metadata": {},
     "output_type": "execute_result"
    },
    {
     "data": {
      "image/png": "[encoded data removed]",
      "text/plain": [
       "<Figure size 960x720 with 1 Axes>"
      ]
     },
     "metadata": {},
     "output_type": "display_data"
    }
   ],
   "source": [
    "from matplotlib.pyplot import figure\n",
    "figure(num=None, figsize=(12,9), dpi=80, facecolor='w', edgecolor='k')\n",
    "plt.plot(df_temp_rec[-7:], range(7), linestyle='--', marker='o', color='g')"
   ]
  },
  {
   "cell_type": "markdown",
   "metadata": {},
   "source": [
    "## Forecasting Deaths"
   ]
  },
  {
   "cell_type": "code",
   "execution_count": 206,
   "metadata": {},
   "outputs": [
    {
     "data": {
      "text/html": [
       "<div>\n",
       "<style scoped>\n",
       "    .dataframe tbody tr th:only-of-type {\n",
       "        vertical-align: middle;\n",
       "    }\n",
       "\n",
       "    .dataframe tbody tr th {\n",
       "        vertical-align: top;\n",
       "    }\n",
       "\n",
       "    .dataframe thead th {\n",
       "        text-align: right;\n",
       "    }\n",
       "</style>\n",
       "<table border=\"1\" class=\"dataframe\">\n",
       "  <thead>\n",
       "    <tr style=\"text-align: right;\">\n",
       "      <th></th>\n",
       "      <th>Deaths</th>\n",
       "    </tr>\n",
       "  </thead>\n",
       "  <tbody>\n",
       "    <tr>\n",
       "      <th>5/19/20</th>\n",
       "      <td>323285</td>\n",
       "    </tr>\n",
       "    <tr>\n",
       "      <th>5/20/20</th>\n",
       "      <td>328115</td>\n",
       "    </tr>\n",
       "    <tr>\n",
       "      <th>5/21/20</th>\n",
       "      <td>332924</td>\n",
       "    </tr>\n",
       "    <tr>\n",
       "      <th>5/22/20</th>\n",
       "      <td>338160</td>\n",
       "    </tr>\n",
       "    <tr>\n",
       "      <th>5/23/20</th>\n",
       "      <td>342097</td>\n",
       "    </tr>\n",
       "  </tbody>\n",
       "</table>\n",
       "</div>"
      ],
      "text/plain": [
       "         Deaths\n",
       "5/19/20  323285\n",
       "5/20/20  328115\n",
       "5/21/20  332924\n",
       "5/22/20  338160\n",
       "5/23/20  342097"
      ]
     },
     "execution_count": 206,
     "metadata": {},
     "output_type": "execute_result"
    }
   ],
   "source": [
    "df_dea = get_deaths()\n",
    "df_dea.tail()"
   ]
  },
  {
   "cell_type": "code",
   "execution_count": 207,
   "metadata": {},
   "outputs": [],
   "source": [
    "close_data_dea = df_dea['Deaths'].values\n",
    "close_data_dea = close_data_dea.reshape((-1,1))\n",
    "\n",
    "split_percent = 0.80\n",
    "split = int(split_percent*len(close_data_dea))\n",
    "\n",
    "close_train_dea = close_data_dea[:split]\n",
    "close_test_dea = close_data_dea[split:]\n",
    "\n",
    "cclose_dea = close_data_dea"
   ]
  },
  {
   "cell_type": "code",
   "execution_count": 208,
   "metadata": {},
   "outputs": [],
   "source": [
    "look_back = 2\n",
    "\n",
    "train_generator_dea = TimeseriesGenerator(cclose_dea, cclose_dea, length=look_back, batch_size=20)     \n",
    "test_generator_dea = TimeseriesGenerator(close_test_dea, close_test_dea, length=look_back, batch_size=1)"
   ]
  },
  {
   "cell_type": "code",
   "execution_count": 209,
   "metadata": {},
   "outputs": [],
   "source": [
    "prediction_dea = model.predict_generator(test_generator_dea)\n",
    "\n",
    "cclose_dea = cclose_dea.reshape((-1))\n",
    "close_train_dea = close_train_dea.reshape((-1))\n",
    "close_test_dea = close_test_dea.reshape((-1))\n",
    "prediction_dea = prediction_dea.reshape((-1))"
   ]
  },
  {
   "cell_type": "code",
   "execution_count": 210,
   "metadata": {},
   "outputs": [],
   "source": [
    "close_data_dea = close_data_dea.reshape((-1))\n",
    "\n",
    "def predict(num_prediction, model):\n",
    "    prediction_list = close_data_dea[-look_back:]\n",
    "    \n",
    "    for _ in range(num_prediction):\n",
    "        x = prediction_list[-look_back:]\n",
    "        x = x.reshape((1, look_back, 1))\n",
    "        out = model.predict(x)[0][0]\n",
    "        prediction_list = np.append(prediction_list, out)\n",
    "    prediction_list = prediction_list[look_back-1:]\n",
    "        \n",
    "    return prediction_list\n",
    "num_prediction = 1\n",
    "forecast_dea = predict(num_prediction, model)\n",
    "forecast_dea = numbers[1]"
   ]
  },
  {
   "cell_type": "code",
   "execution_count": 211,
   "metadata": {},
   "outputs": [
    {
     "data": {
      "text/plain": [
       "344019"
      ]
     },
     "execution_count": 211,
     "metadata": {},
     "output_type": "execute_result"
    }
   ],
   "source": [
    "forecast_dea"
   ]
  },
  {
   "cell_type": "code",
   "execution_count": 212,
   "metadata": {},
   "outputs": [
    {
     "data": {
      "text/html": [
       "<div>\n",
       "<style scoped>\n",
       "    .dataframe tbody tr th:only-of-type {\n",
       "        vertical-align: middle;\n",
       "    }\n",
       "\n",
       "    .dataframe tbody tr th {\n",
       "        vertical-align: top;\n",
       "    }\n",
       "\n",
       "    .dataframe thead th {\n",
       "        text-align: right;\n",
       "    }\n",
       "</style>\n",
       "<table border=\"1\" class=\"dataframe\">\n",
       "  <thead>\n",
       "    <tr style=\"text-align: right;\">\n",
       "      <th></th>\n",
       "      <th>Deaths</th>\n",
       "    </tr>\n",
       "  </thead>\n",
       "  <tbody>\n",
       "    <tr>\n",
       "      <th>5/19/20</th>\n",
       "      <td>323285</td>\n",
       "    </tr>\n",
       "    <tr>\n",
       "      <th>5/20/20</th>\n",
       "      <td>328115</td>\n",
       "    </tr>\n",
       "    <tr>\n",
       "      <th>5/21/20</th>\n",
       "      <td>332924</td>\n",
       "    </tr>\n",
       "    <tr>\n",
       "      <th>5/22/20</th>\n",
       "      <td>338160</td>\n",
       "    </tr>\n",
       "    <tr>\n",
       "      <th>5/23/20</th>\n",
       "      <td>342097</td>\n",
       "    </tr>\n",
       "  </tbody>\n",
       "</table>\n",
       "</div>"
      ],
      "text/plain": [
       "         Deaths\n",
       "5/19/20  323285\n",
       "5/20/20  328115\n",
       "5/21/20  332924\n",
       "5/22/20  338160\n",
       "5/23/20  342097"
      ]
     },
     "execution_count": 212,
     "metadata": {},
     "output_type": "execute_result"
    }
   ],
   "source": [
    "df_dea.tail()"
   ]
  },
  {
   "cell_type": "code",
   "execution_count": 218,
   "metadata": {},
   "outputs": [
    {
     "data": {
      "text/plain": [
       "[<matplotlib.lines.Line2D at 0x7f1bf59c7e50>]"
      ]
     },
     "execution_count": 218,
     "metadata": {},
     "output_type": "execute_result"
    },
    {
     "data": {
      "image/png": "[encoded data removed]",
      "text/plain": [
       "<Figure size 960x720 with 1 Axes>"
      ]
     },
     "metadata": {},
     "output_type": "display_data"
    }
   ],
   "source": [
    "from matplotlib.pyplot import figure\n",
    "figure(num=None, figsize=(12, 9), dpi=80, facecolor='w', edgecolor='k')\n",
    "plt.plot(df_dea, color='r')"
   ]
  },
  {
   "cell_type": "code",
   "execution_count": 214,
   "metadata": {},
   "outputs": [
    {
     "data": {
      "text/html": [
       "<div>\n",
       "<style scoped>\n",
       "    .dataframe tbody tr th:only-of-type {\n",
       "        vertical-align: middle;\n",
       "    }\n",
       "\n",
       "    .dataframe tbody tr th {\n",
       "        vertical-align: top;\n",
       "    }\n",
       "\n",
       "    .dataframe thead th {\n",
       "        text-align: right;\n",
       "    }\n",
       "</style>\n",
       "<table border=\"1\" class=\"dataframe\">\n",
       "  <thead>\n",
       "    <tr style=\"text-align: right;\">\n",
       "      <th></th>\n",
       "      <th>Deaths</th>\n",
       "    </tr>\n",
       "  </thead>\n",
       "  <tbody>\n",
       "    <tr>\n",
       "      <th>1/22/20</th>\n",
       "      <td>17</td>\n",
       "    </tr>\n",
       "    <tr>\n",
       "      <th>1/23/20</th>\n",
       "      <td>18</td>\n",
       "    </tr>\n",
       "    <tr>\n",
       "      <th>1/24/20</th>\n",
       "      <td>26</td>\n",
       "    </tr>\n",
       "    <tr>\n",
       "      <th>1/25/20</th>\n",
       "      <td>42</td>\n",
       "    </tr>\n",
       "    <tr>\n",
       "      <th>1/26/20</th>\n",
       "      <td>56</td>\n",
       "    </tr>\n",
       "    <tr>\n",
       "      <th>...</th>\n",
       "      <td>...</td>\n",
       "    </tr>\n",
       "    <tr>\n",
       "      <th>5/20/20</th>\n",
       "      <td>328115</td>\n",
       "    </tr>\n",
       "    <tr>\n",
       "      <th>5/21/20</th>\n",
       "      <td>332924</td>\n",
       "    </tr>\n",
       "    <tr>\n",
       "      <th>5/22/20</th>\n",
       "      <td>338160</td>\n",
       "    </tr>\n",
       "    <tr>\n",
       "      <th>5/23/20</th>\n",
       "      <td>342097</td>\n",
       "    </tr>\n",
       "    <tr>\n",
       "      <th>5/24/20</th>\n",
       "      <td>344019</td>\n",
       "    </tr>\n",
       "  </tbody>\n",
       "</table>\n",
       "<p>124 rows × 1 columns</p>\n",
       "</div>"
      ],
      "text/plain": [
       "         Deaths\n",
       "1/22/20      17\n",
       "1/23/20      18\n",
       "1/24/20      26\n",
       "1/25/20      42\n",
       "1/26/20      56\n",
       "...         ...\n",
       "5/20/20  328115\n",
       "5/21/20  332924\n",
       "5/22/20  338160\n",
       "5/23/20  342097\n",
       "5/24/20  344019\n",
       "\n",
       "[124 rows x 1 columns]"
      ]
     },
     "execution_count": 214,
     "metadata": {},
     "output_type": "execute_result"
    }
   ],
   "source": [
    "df_temp_dea = df_dea\n",
    "df_temp_dea.loc[d1] = forecast_dea\n",
    "df_temp_dea"
   ]
  },
  {
   "cell_type": "code",
   "execution_count": 225,
   "metadata": {},
   "outputs": [
    {
     "data": {
      "text/plain": [
       "[<matplotlib.lines.Line2D at 0x7f1bf4805350>]"
      ]
     },
     "execution_count": 225,
     "metadata": {},
     "output_type": "execute_result"
    },
    {
     "data": {
      "image/png": "[encoded data removed]",
      "text/plain": [
       "<Figure size 960x720 with 1 Axes>"
      ]
     },
     "metadata": {},
     "output_type": "display_data"
    }
   ],
   "source": [
    "from matplotlib.pyplot import figure\n",
    "figure(num=None, figsize=(12,9), dpi=80, facecolor='w', edgecolor='k')\n",
    "plt.plot(df_temp_dea[-7:], range(7), linestyle='--', marker='o', color='r')"
   ]
  }
 ],
 "metadata": {
  "kernelspec": {
   "display_name": "Python 3",
   "language": "python",
   "name": "python3"
  },
  "language_info": {
   "codemirror_mode": {
    "name": "ipython",
    "version": 3
   },
   "file_extension": ".py",
   "mimetype": "text/x-python",
   "name": "python",
   "nbconvert_exporter": "python",
   "pygments_lexer": "ipython3",
   "version": "3.7.7"
  }
 },
 "nbformat": 4,
 "nbformat_minor": 4
}
