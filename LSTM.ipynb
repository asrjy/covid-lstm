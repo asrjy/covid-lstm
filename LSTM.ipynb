{
  "nbformat": 4,
  "nbformat_minor": 0,
  "metadata": {
    "colab": {
      "name": "lstm-imprv.ipynb",
      "provenance": [],
      "collapsed_sections": []
    },
    "kernelspec": {
      "display_name": "Python 3",
      "language": "python",
      "name": "python3"
    },
    "language_info": {
      "codemirror_mode": {
        "name": "ipython",
        "version": 3
      },
      "file_extension": ".py",
      "mimetype": "text/x-python",
      "name": "python",
      "nbconvert_exporter": "python",
      "pygments_lexer": "ipython3",
      "version": "3.8.3"
    }
  },
  "cells": [
    {
      "cell_type": "markdown",
      "metadata": {
        "colab_type": "text",
        "id": "YHe71IaEoh8C"
      },
      "source": [
        "## Part 1"
      ]
    },
    {
      "cell_type": "markdown",
      "metadata": {
        "colab_type": "text",
        "id": "IxOg8L6Poh8I"
      },
      "source": [
        "### Loading the datasets\n",
        "#### 1. Confirmed URL : https://github.com/CSSEGISandData/COVID-19/blob/master/csse_covid_19_data/csse_covid_19_time_series/time_series_19-covid-Confirmed.csv\n",
        "#### 2. Deaths URL: https://github.com/CSSEGISandData/COVID-19/blob/master/csse_covid_19_data/csse_covid_19_time_series/time_series_19-covid-Deaths.csv\n",
        "#### 3. Recovered URL: https://github.com/CSSEGISandData/COVID-19/blob/master/csse_covid_19_data/csse_covid_19_time_series/time_series_19-covid-Recovered.csv"
      ]
    },
    {
      "cell_type": "markdown",
      "metadata": {
        "colab_type": "text",
        "id": "GWgNqRjUoh8L"
      },
      "source": [
        "#### Starting date on all three datasets is 22/01/2020"
      ]
    },
    {
      "cell_type": "markdown",
      "metadata": {
        "colab_type": "text",
        "id": "i8gySPBkoh8O"
      },
      "source": [
        "Steps (Without BeautifulSoup):-\n",
        "1. Import the CSV \n",
        "2. Check if the last column title matches with the last date row in the cleaned dataset.\n",
        "3. If it matches, don't add it to the dataset. \n",
        "4. If it does not match, go back iteratively until it matches and save all of the data.\n"
      ]
    },
    {
      "cell_type": "code",
      "metadata": {
        "colab_type": "code",
        "id": "mPAOzOHcoh8R",
        "colab": {}
      },
      "source": [
        "import pandas as pd\n",
        "import numpy as np\n",
        "import matplotlib.pyplot as plt\n",
        "import sklearn\n",
        "from keras.preprocessing.sequence import TimeseriesGenerator\n",
        "from keras.models import Sequential\n",
        "from keras.layers import Dense\n",
        "from keras.layers import LSTM\n",
        "from keras.layers import Dropout\n",
        "from sklearn.preprocessing import MinMaxScaler\n",
        "import requests\n",
        "from bs4 import BeautifulSoup\n",
        "from datetime import date\n",
        "import warnings\n",
        "from matplotlib.pyplot import figure\n",
        "from matplotlib.ticker import ScalarFormatter\n",
        "warnings.filterwarnings(\"ignore\")\n",
        "today = date.today()"
      ],
      "execution_count": 2,
      "outputs": []
    },
    {
      "cell_type": "code",
      "metadata": {
        "colab_type": "code",
        "id": "4Jq2U2Cgoh8g",
        "colab": {}
      },
      "source": [
        "confirmed_url = \"https://github.com/CSSEGISandData/COVID-19/raw/master/csse_covid_19_data/csse_covid_19_time_series/time_series_covid19_confirmed_global.csv\"\n",
        "deaths_url = \"https://github.com/CSSEGISandData/COVID-19/raw/master/csse_covid_19_data/csse_covid_19_time_series/time_series_covid19_deaths_global.csv\"\n",
        "recovered_url = \"https://github.com/CSSEGISandData/COVID-19/raw/master/csse_covid_19_data/csse_covid_19_time_series/time_series_covid19_recovered_global.csv\""
      ],
      "execution_count": 3,
      "outputs": []
    },
    {
      "cell_type": "code",
      "metadata": {
        "colab_type": "code",
        "id": "ZKmZsa1voh8t",
        "colab": {
          "base_uri": "https://localhost:8080/",
          "height": 34
        },
        "outputId": "7b74df35-dd5c-48db-de1f-add865a3797e"
      },
      "source": [
        "d1 = today.strftime(\"%m/%d/%y\").replace(' 0', ' ')\n",
        "d1"
      ],
      "execution_count": 4,
      "outputs": [
        {
          "output_type": "execute_result",
          "data": {
            "text/plain": [
              "'06/19/20'"
            ]
          },
          "metadata": {
            "tags": []
          },
          "execution_count": 4
        }
      ]
    },
    {
      "cell_type": "markdown",
      "metadata": {
        "colab_type": "text",
        "id": "4ukNxfvhoh82"
      },
      "source": [
        "### Function to get the number of confirmed cases as a Dataframe"
      ]
    },
    {
      "cell_type": "code",
      "metadata": {
        "colab_type": "code",
        "id": "Gg0-k3ukoh83",
        "colab": {}
      },
      "source": [
        "def get_confirmed():\n",
        "    con_casesnew = pd.read_csv(confirmed_url)\n",
        "    con_casesnew = con_casesnew.sum(axis=0)\n",
        "    con_casesnew.drop([\"Country/Region\",\"Lat\",\"Long\"], axis=0, inplace=True)\n",
        "    con_casesnew = pd.DataFrame(con_casesnew)\n",
        "    con_casesnew.rename(columns={0: \"Infected\"}, inplace=True)\n",
        "    return con_casesnew"
      ],
      "execution_count": 5,
      "outputs": []
    },
    {
      "cell_type": "markdown",
      "metadata": {
        "colab_type": "text",
        "id": "mCdSibRzoh8-"
      },
      "source": [
        "### Function to get the number of deaths as a Dataframe"
      ]
    },
    {
      "cell_type": "code",
      "metadata": {
        "colab_type": "code",
        "id": "77wPIRnYoh8_",
        "colab": {}
      },
      "source": [
        "def get_deaths():\n",
        "    deaths_new = pd.read_csv(deaths_url)\n",
        "    deaths_new = deaths_new.sum(axis=0)\n",
        "    deaths_new.drop([\"Country/Region\",\"Lat\",\"Long\"], axis=0, inplace=True)\n",
        "    deaths_new = pd.DataFrame(deaths_new)\n",
        "    deaths_new.rename(columns={0: \"Deaths\"}, inplace=True)\n",
        "    return deaths_new"
      ],
      "execution_count": 6,
      "outputs": []
    },
    {
      "cell_type": "markdown",
      "metadata": {
        "colab_type": "text",
        "id": "LHkyQKXRoh9F"
      },
      "source": [
        "### Function to get the number of recoveries as a Dataframe"
      ]
    },
    {
      "cell_type": "code",
      "metadata": {
        "colab_type": "code",
        "id": "odqGaUCDoh9G",
        "colab": {}
      },
      "source": [
        "def get_recoveries():\n",
        "    rec_new = pd.read_csv(recovered_url)\n",
        "    rec_new = rec_new.sum(axis=0)\n",
        "    rec_new.drop([\"Country/Region\",\"Lat\",\"Long\"], axis=0, inplace=True)\n",
        "    rec_new = pd.DataFrame(rec_new)\n",
        "    rec_new.rename(columns={0: \"Recovered\"}, inplace=True)\n",
        "    \n",
        "    return rec_new"
      ],
      "execution_count": 7,
      "outputs": []
    },
    {
      "cell_type": "markdown",
      "metadata": {
        "colab_type": "text",
        "id": "IOWMLBkQoh9N"
      },
      "source": [
        "### Scraper"
      ]
    },
    {
      "cell_type": "code",
      "metadata": {
        "colab_type": "code",
        "id": "xUVFSBiIoh9O",
        "colab": {}
      },
      "source": [
        "def get_newvals():\n",
        "    url_wminfo = \"https://www.worldometers.info/coronavirus/\"\n",
        "    page = requests.get(url_wminfo)\n",
        "    soup = BeautifulSoup(page.content, 'html.parser')\n",
        "    result = soup.find_all(\"div\", {\"id\":\"maincounter-wrap\"})\n",
        "    numbers = []\n",
        "    for r in result:\n",
        "        numbers.append(int(r.text.split(':')[-1].replace(',','').replace(' ','')))\n",
        "    return numbers"
      ],
      "execution_count": 8,
      "outputs": []
    },
    {
      "cell_type": "code",
      "metadata": {
        "colab_type": "code",
        "id": "gBlzETJmoh9S",
        "colab": {
          "base_uri": "https://localhost:8080/",
          "height": 34
        },
        "outputId": "a6483392-31aa-4d69-8ade-1756bf9b2a56"
      },
      "source": [
        "numbers = get_newvals()\n",
        "numbers"
      ],
      "execution_count": 9,
      "outputs": [
        {
          "output_type": "execute_result",
          "data": {
            "text/plain": [
              "[8614675, 457025, 4562226]"
            ]
          },
          "metadata": {
            "tags": []
          },
          "execution_count": 9
        }
      ]
    },
    {
      "cell_type": "markdown",
      "metadata": {
        "colab_type": "text",
        "id": "R-Bppul_oh9W"
      },
      "source": [
        "## Forecasting Confirmed Cases"
      ]
    },
    {
      "cell_type": "code",
      "metadata": {
        "colab_type": "code",
        "id": "l5FbqJcHoh9W",
        "colab": {
          "base_uri": "https://localhost:8080/",
          "height": 195
        },
        "outputId": "042348d7-b6fb-477e-cfa6-296c2c1e2a9b"
      },
      "source": [
        "df_conf = get_confirmed()\n",
        "df_conf.tail()"
      ],
      "execution_count": 10,
      "outputs": [
        {
          "output_type": "execute_result",
          "data": {
            "text/html": [
              "<div>\n",
              "<style scoped>\n",
              "    .dataframe tbody tr th:only-of-type {\n",
              "        vertical-align: middle;\n",
              "    }\n",
              "\n",
              "    .dataframe tbody tr th {\n",
              "        vertical-align: top;\n",
              "    }\n",
              "\n",
              "    .dataframe thead th {\n",
              "        text-align: right;\n",
              "    }\n",
              "</style>\n",
              "<table border=\"1\" class=\"dataframe\">\n",
              "  <thead>\n",
              "    <tr style=\"text-align: right;\">\n",
              "      <th></th>\n",
              "      <th>Infected</th>\n",
              "    </tr>\n",
              "  </thead>\n",
              "  <tbody>\n",
              "    <tr>\n",
              "      <th>6/14/20</th>\n",
              "      <td>7912426</td>\n",
              "    </tr>\n",
              "    <tr>\n",
              "      <th>6/15/20</th>\n",
              "      <td>8034461</td>\n",
              "    </tr>\n",
              "    <tr>\n",
              "      <th>6/16/20</th>\n",
              "      <td>8173940</td>\n",
              "    </tr>\n",
              "    <tr>\n",
              "      <th>6/17/20</th>\n",
              "      <td>8349950</td>\n",
              "    </tr>\n",
              "    <tr>\n",
              "      <th>6/18/20</th>\n",
              "      <td>8488976</td>\n",
              "    </tr>\n",
              "  </tbody>\n",
              "</table>\n",
              "</div>"
            ],
            "text/plain": [
              "        Infected\n",
              "6/14/20  7912426\n",
              "6/15/20  8034461\n",
              "6/16/20  8173940\n",
              "6/17/20  8349950\n",
              "6/18/20  8488976"
            ]
          },
          "metadata": {
            "tags": []
          },
          "execution_count": 10
        }
      ]
    },
    {
      "cell_type": "code",
      "metadata": {
        "colab_type": "code",
        "id": "Tp03TYL7SIWy",
        "colab": {}
      },
      "source": [
        "scaler = MinMaxScaler()\n",
        "train_conf = df_conf\n",
        "scaler.fit(train_conf)\n",
        "train_conf = scaler.transform(train_conf)"
      ],
      "execution_count": 11,
      "outputs": []
    },
    {
      "cell_type": "code",
      "metadata": {
        "colab_type": "code",
        "id": "s2pPB-3bW6wE",
        "colab": {}
      },
      "source": [
        "n_input = 1\n",
        "n_features = 1\n",
        "generator_conf = TimeseriesGenerator(train_conf, train_conf, length=n_input, batch_size=6)\n",
        "model = Sequential()\n",
        "model.add(LSTM(200, activation='relu', input_shape=(n_input, n_features)))\n",
        "model.add(Dropout(0.15))\n",
        "model.add(Dense(1))\n",
        "model.compile(optimizer='adam', loss='mse')"
      ],
      "execution_count": 12,
      "outputs": []
    },
    {
      "cell_type": "code",
      "metadata": {
        "colab_type": "code",
        "id": "Fh2MZj2BYXWO",
        "colab": {
          "base_uri": "https://localhost:8080/",
          "height": 1000
        },
        "outputId": "0f7621e0-d395-4b1f-f86b-f9629a15e30f"
      },
      "source": [
        "model.fit_generator(generator_conf,epochs=150)"
      ],
      "execution_count": 13,
      "outputs": [
        {
          "output_type": "stream",
          "text": [
            "Epoch 1/150\n",
            "25/25 [==============================] - 1s 27ms/step - loss: 0.1622\n",
            "Epoch 2/150\n",
            "25/25 [==============================] - 0s 5ms/step - loss: 0.1245\n",
            "Epoch 3/150\n",
            "25/25 [==============================] - 0s 7ms/step - loss: 0.0983\n",
            "Epoch 4/150\n",
            "25/25 [==============================] - 0s 5ms/step - loss: 0.0762\n",
            "Epoch 5/150\n",
            "25/25 [==============================] - 0s 5ms/step - loss: 0.0597\n",
            "Epoch 6/150\n",
            "25/25 [==============================] - 0s 5ms/step - loss: 0.0517\n",
            "Epoch 7/150\n",
            "25/25 [==============================] - 0s 5ms/step - loss: 0.0433\n",
            "Epoch 8/150\n",
            "25/25 [==============================] - 0s 5ms/step - loss: 0.0399\n",
            "Epoch 9/150\n",
            "25/25 [==============================] - 0s 4ms/step - loss: 0.0344\n",
            "Epoch 10/150\n",
            "25/25 [==============================] - 0s 6ms/step - loss: 0.0304\n",
            "Epoch 11/150\n",
            "25/25 [==============================] - 0s 5ms/step - loss: 0.0276\n",
            "Epoch 12/150\n",
            "25/25 [==============================] - 0s 5ms/step - loss: 0.0216\n",
            "Epoch 13/150\n",
            "25/25 [==============================] - 0s 5ms/step - loss: 0.0178\n",
            "Epoch 14/150\n",
            "25/25 [==============================] - 0s 5ms/step - loss: 0.0149\n",
            "Epoch 15/150\n",
            "25/25 [==============================] - 0s 5ms/step - loss: 0.0121\n",
            "Epoch 16/150\n",
            "25/25 [==============================] - 0s 5ms/step - loss: 0.0100\n",
            "Epoch 17/150\n",
            "25/25 [==============================] - 0s 5ms/step - loss: 0.0075\n",
            "Epoch 18/150\n",
            "25/25 [==============================] - 0s 5ms/step - loss: 0.0056\n",
            "Epoch 19/150\n",
            "25/25 [==============================] - 0s 5ms/step - loss: 0.0044\n",
            "Epoch 20/150\n",
            "25/25 [==============================] - 0s 5ms/step - loss: 0.0033\n",
            "Epoch 21/150\n",
            "25/25 [==============================] - 0s 5ms/step - loss: 0.0025\n",
            "Epoch 22/150\n",
            "25/25 [==============================] - 0s 5ms/step - loss: 0.0018\n",
            "Epoch 23/150\n",
            "25/25 [==============================] - 0s 5ms/step - loss: 0.0017\n",
            "Epoch 24/150\n",
            "25/25 [==============================] - 0s 5ms/step - loss: 0.0012\n",
            "Epoch 25/150\n",
            "25/25 [==============================] - 0s 5ms/step - loss: 9.4247e-04\n",
            "Epoch 26/150\n",
            "25/25 [==============================] - 0s 5ms/step - loss: 0.0011\n",
            "Epoch 27/150\n",
            "25/25 [==============================] - 0s 6ms/step - loss: 9.6316e-04\n",
            "Epoch 28/150\n",
            "25/25 [==============================] - 0s 5ms/step - loss: 7.9064e-04\n",
            "Epoch 29/150\n",
            "25/25 [==============================] - 0s 5ms/step - loss: 8.6631e-04\n",
            "Epoch 30/150\n",
            "25/25 [==============================] - 0s 5ms/step - loss: 0.0011\n",
            "Epoch 31/150\n",
            "25/25 [==============================] - 0s 5ms/step - loss: 0.0013\n",
            "Epoch 32/150\n",
            "25/25 [==============================] - 0s 5ms/step - loss: 7.6702e-04\n",
            "Epoch 33/150\n",
            "25/25 [==============================] - 0s 5ms/step - loss: 7.4986e-04\n",
            "Epoch 34/150\n",
            "25/25 [==============================] - 0s 5ms/step - loss: 7.6806e-04\n",
            "Epoch 35/150\n",
            "25/25 [==============================] - 0s 5ms/step - loss: 7.6672e-04\n",
            "Epoch 36/150\n",
            "25/25 [==============================] - 0s 5ms/step - loss: 9.6271e-04\n",
            "Epoch 37/150\n",
            "25/25 [==============================] - 0s 5ms/step - loss: 7.6605e-04\n",
            "Epoch 38/150\n",
            "25/25 [==============================] - 0s 5ms/step - loss: 9.6615e-04\n",
            "Epoch 39/150\n",
            "25/25 [==============================] - 0s 5ms/step - loss: 8.3221e-04\n",
            "Epoch 40/150\n",
            "25/25 [==============================] - 0s 4ms/step - loss: 0.0010\n",
            "Epoch 41/150\n",
            "25/25 [==============================] - 0s 5ms/step - loss: 9.7019e-04\n",
            "Epoch 42/150\n",
            "25/25 [==============================] - 0s 4ms/step - loss: 5.9755e-04\n",
            "Epoch 43/150\n",
            "25/25 [==============================] - 0s 5ms/step - loss: 0.0011\n",
            "Epoch 44/150\n",
            "25/25 [==============================] - 0s 4ms/step - loss: 0.0011\n",
            "Epoch 45/150\n",
            "25/25 [==============================] - 0s 5ms/step - loss: 0.0010\n",
            "Epoch 46/150\n",
            "25/25 [==============================] - 0s 5ms/step - loss: 0.0013\n",
            "Epoch 47/150\n",
            "25/25 [==============================] - 0s 5ms/step - loss: 0.0010\n",
            "Epoch 48/150\n",
            "25/25 [==============================] - 0s 5ms/step - loss: 0.0011\n",
            "Epoch 49/150\n",
            "25/25 [==============================] - 0s 4ms/step - loss: 6.8553e-04\n",
            "Epoch 50/150\n",
            "25/25 [==============================] - 0s 5ms/step - loss: 9.6198e-04\n",
            "Epoch 51/150\n",
            "25/25 [==============================] - 0s 5ms/step - loss: 0.0011\n",
            "Epoch 52/150\n",
            "25/25 [==============================] - 0s 5ms/step - loss: 9.5905e-04\n",
            "Epoch 53/150\n",
            "25/25 [==============================] - 0s 5ms/step - loss: 7.2823e-04\n",
            "Epoch 54/150\n",
            "25/25 [==============================] - 0s 4ms/step - loss: 0.0011\n",
            "Epoch 55/150\n",
            "25/25 [==============================] - 0s 4ms/step - loss: 9.0887e-04\n",
            "Epoch 56/150\n",
            "25/25 [==============================] - 0s 6ms/step - loss: 9.6246e-04\n",
            "Epoch 57/150\n",
            "25/25 [==============================] - 0s 5ms/step - loss: 0.0013\n",
            "Epoch 58/150\n",
            "25/25 [==============================] - 0s 5ms/step - loss: 7.6217e-04\n",
            "Epoch 59/150\n",
            "25/25 [==============================] - 0s 5ms/step - loss: 8.4287e-04\n",
            "Epoch 60/150\n",
            "25/25 [==============================] - 0s 5ms/step - loss: 0.0011\n",
            "Epoch 61/150\n",
            "25/25 [==============================] - 0s 4ms/step - loss: 0.0011\n",
            "Epoch 62/150\n",
            "25/25 [==============================] - 0s 6ms/step - loss: 8.8936e-04\n",
            "Epoch 63/150\n",
            "25/25 [==============================] - 0s 5ms/step - loss: 9.6209e-04\n",
            "Epoch 64/150\n",
            "25/25 [==============================] - 0s 5ms/step - loss: 0.0011\n",
            "Epoch 65/150\n",
            "25/25 [==============================] - 0s 5ms/step - loss: 7.0775e-04\n",
            "Epoch 66/150\n",
            "25/25 [==============================] - 0s 5ms/step - loss: 9.5192e-04\n",
            "Epoch 67/150\n",
            "25/25 [==============================] - 0s 5ms/step - loss: 6.8730e-04\n",
            "Epoch 68/150\n",
            "25/25 [==============================] - 0s 5ms/step - loss: 0.0011\n",
            "Epoch 69/150\n",
            "25/25 [==============================] - 0s 5ms/step - loss: 7.6852e-04\n",
            "Epoch 70/150\n",
            "25/25 [==============================] - 0s 5ms/step - loss: 0.0011\n",
            "Epoch 71/150\n",
            "25/25 [==============================] - 0s 5ms/step - loss: 6.5852e-04\n",
            "Epoch 72/150\n",
            "25/25 [==============================] - 0s 4ms/step - loss: 9.0989e-04\n",
            "Epoch 73/150\n",
            "25/25 [==============================] - 0s 4ms/step - loss: 8.5755e-04\n",
            "Epoch 74/150\n",
            "25/25 [==============================] - 0s 5ms/step - loss: 8.6333e-04\n",
            "Epoch 75/150\n",
            "25/25 [==============================] - 0s 4ms/step - loss: 0.0011\n",
            "Epoch 76/150\n",
            "25/25 [==============================] - 0s 5ms/step - loss: 7.6989e-04\n",
            "Epoch 77/150\n",
            "25/25 [==============================] - 0s 4ms/step - loss: 6.8580e-04\n",
            "Epoch 78/150\n",
            "25/25 [==============================] - 0s 4ms/step - loss: 9.6253e-04\n",
            "Epoch 79/150\n",
            "25/25 [==============================] - 0s 5ms/step - loss: 0.0012\n",
            "Epoch 80/150\n",
            "25/25 [==============================] - 0s 4ms/step - loss: 8.2028e-04\n",
            "Epoch 81/150\n",
            "25/25 [==============================] - 0s 5ms/step - loss: 0.0011\n",
            "Epoch 82/150\n",
            "25/25 [==============================] - 0s 4ms/step - loss: 6.2122e-04\n",
            "Epoch 83/150\n",
            "25/25 [==============================] - 0s 4ms/step - loss: 7.8721e-04\n",
            "Epoch 84/150\n",
            "25/25 [==============================] - 0s 5ms/step - loss: 8.9956e-04\n",
            "Epoch 85/150\n",
            "25/25 [==============================] - 0s 6ms/step - loss: 9.1833e-04\n",
            "Epoch 86/150\n",
            "25/25 [==============================] - 0s 4ms/step - loss: 8.5659e-04\n",
            "Epoch 87/150\n",
            "25/25 [==============================] - 0s 5ms/step - loss: 8.0074e-04\n",
            "Epoch 88/150\n",
            "25/25 [==============================] - 0s 4ms/step - loss: 0.0010\n",
            "Epoch 89/150\n",
            "25/25 [==============================] - 0s 5ms/step - loss: 0.0011\n",
            "Epoch 90/150\n",
            "25/25 [==============================] - 0s 5ms/step - loss: 9.6755e-04\n",
            "Epoch 91/150\n",
            "25/25 [==============================] - 0s 6ms/step - loss: 7.3429e-04\n",
            "Epoch 92/150\n",
            "25/25 [==============================] - 0s 5ms/step - loss: 7.7911e-04\n",
            "Epoch 93/150\n",
            "25/25 [==============================] - 0s 5ms/step - loss: 8.0990e-04\n",
            "Epoch 94/150\n",
            "25/25 [==============================] - 0s 5ms/step - loss: 9.7129e-04\n",
            "Epoch 95/150\n",
            "25/25 [==============================] - 0s 5ms/step - loss: 6.6238e-04\n",
            "Epoch 96/150\n",
            "25/25 [==============================] - 0s 4ms/step - loss: 0.0011\n",
            "Epoch 97/150\n",
            "25/25 [==============================] - 0s 5ms/step - loss: 9.5354e-04\n",
            "Epoch 98/150\n",
            "25/25 [==============================] - 0s 5ms/step - loss: 6.6435e-04\n",
            "Epoch 99/150\n",
            "25/25 [==============================] - 0s 4ms/step - loss: 7.4936e-04\n",
            "Epoch 100/150\n",
            "25/25 [==============================] - 0s 5ms/step - loss: 7.9331e-04\n",
            "Epoch 101/150\n",
            "25/25 [==============================] - 0s 4ms/step - loss: 5.4515e-04\n",
            "Epoch 102/150\n",
            "25/25 [==============================] - 0s 5ms/step - loss: 7.9489e-04\n",
            "Epoch 103/150\n",
            "25/25 [==============================] - 0s 4ms/step - loss: 0.0011\n",
            "Epoch 104/150\n",
            "25/25 [==============================] - 0s 5ms/step - loss: 9.1097e-04\n",
            "Epoch 105/150\n",
            "25/25 [==============================] - 0s 5ms/step - loss: 0.0012\n",
            "Epoch 106/150\n",
            "25/25 [==============================] - 0s 5ms/step - loss: 6.3679e-04\n",
            "Epoch 107/150\n",
            "25/25 [==============================] - 0s 5ms/step - loss: 8.2118e-04\n",
            "Epoch 108/150\n",
            "25/25 [==============================] - 0s 5ms/step - loss: 8.7340e-04\n",
            "Epoch 109/150\n",
            "25/25 [==============================] - 0s 4ms/step - loss: 7.7639e-04\n",
            "Epoch 110/150\n",
            "25/25 [==============================] - 0s 5ms/step - loss: 7.2187e-04\n",
            "Epoch 111/150\n",
            "25/25 [==============================] - 0s 4ms/step - loss: 8.8118e-04\n",
            "Epoch 112/150\n",
            "25/25 [==============================] - 0s 5ms/step - loss: 6.2343e-04\n",
            "Epoch 113/150\n",
            "25/25 [==============================] - 0s 5ms/step - loss: 0.0010\n",
            "Epoch 114/150\n",
            "25/25 [==============================] - 0s 6ms/step - loss: 9.3371e-04\n",
            "Epoch 115/150\n",
            "25/25 [==============================] - 0s 4ms/step - loss: 6.5800e-04\n",
            "Epoch 116/150\n",
            "25/25 [==============================] - 0s 5ms/step - loss: 6.4908e-04\n",
            "Epoch 117/150\n",
            "25/25 [==============================] - 0s 5ms/step - loss: 7.9938e-04\n",
            "Epoch 118/150\n",
            "25/25 [==============================] - 0s 5ms/step - loss: 8.5072e-04\n",
            "Epoch 119/150\n",
            "25/25 [==============================] - 0s 5ms/step - loss: 6.2124e-04\n",
            "Epoch 120/150\n",
            "25/25 [==============================] - 0s 5ms/step - loss: 6.8162e-04\n",
            "Epoch 121/150\n",
            "25/25 [==============================] - 0s 6ms/step - loss: 8.8056e-04\n",
            "Epoch 122/150\n",
            "25/25 [==============================] - 0s 5ms/step - loss: 9.3714e-04\n",
            "Epoch 123/150\n",
            "25/25 [==============================] - 0s 5ms/step - loss: 0.0011\n",
            "Epoch 124/150\n",
            "25/25 [==============================] - 0s 5ms/step - loss: 7.2514e-04\n",
            "Epoch 125/150\n",
            "25/25 [==============================] - 0s 5ms/step - loss: 4.8745e-04\n",
            "Epoch 126/150\n",
            "25/25 [==============================] - 0s 4ms/step - loss: 6.7016e-04\n",
            "Epoch 127/150\n",
            "25/25 [==============================] - 0s 4ms/step - loss: 7.5995e-04\n",
            "Epoch 128/150\n",
            "25/25 [==============================] - 0s 5ms/step - loss: 6.1632e-04\n",
            "Epoch 129/150\n",
            "25/25 [==============================] - 0s 5ms/step - loss: 8.8384e-04\n",
            "Epoch 130/150\n",
            "25/25 [==============================] - 0s 5ms/step - loss: 0.0010\n",
            "Epoch 131/150\n",
            "25/25 [==============================] - 0s 5ms/step - loss: 8.2846e-04\n",
            "Epoch 132/150\n",
            "25/25 [==============================] - 0s 5ms/step - loss: 5.6315e-04\n",
            "Epoch 133/150\n",
            "25/25 [==============================] - 0s 5ms/step - loss: 5.5725e-04\n",
            "Epoch 134/150\n",
            "25/25 [==============================] - 0s 4ms/step - loss: 0.0012\n",
            "Epoch 135/150\n",
            "25/25 [==============================] - 0s 5ms/step - loss: 8.5187e-04\n",
            "Epoch 136/150\n",
            "25/25 [==============================] - 0s 4ms/step - loss: 7.1846e-04\n",
            "Epoch 137/150\n",
            "25/25 [==============================] - 0s 5ms/step - loss: 6.3867e-04\n",
            "Epoch 138/150\n",
            "25/25 [==============================] - 0s 5ms/step - loss: 6.6663e-04\n",
            "Epoch 139/150\n",
            "25/25 [==============================] - 0s 4ms/step - loss: 6.3922e-04\n",
            "Epoch 140/150\n",
            "25/25 [==============================] - 0s 5ms/step - loss: 6.7310e-04\n",
            "Epoch 141/150\n",
            "25/25 [==============================] - 0s 4ms/step - loss: 8.0959e-04\n",
            "Epoch 142/150\n",
            "25/25 [==============================] - 0s 5ms/step - loss: 8.6484e-04\n",
            "Epoch 143/150\n",
            "25/25 [==============================] - 0s 6ms/step - loss: 8.0849e-04\n",
            "Epoch 144/150\n",
            "25/25 [==============================] - 0s 5ms/step - loss: 9.8106e-04\n",
            "Epoch 145/150\n",
            "25/25 [==============================] - 0s 5ms/step - loss: 9.1030e-04\n",
            "Epoch 146/150\n",
            "25/25 [==============================] - 0s 5ms/step - loss: 8.3031e-04\n",
            "Epoch 147/150\n",
            "25/25 [==============================] - 0s 5ms/step - loss: 9.0110e-04\n",
            "Epoch 148/150\n",
            "25/25 [==============================] - 0s 5ms/step - loss: 9.0086e-04\n",
            "Epoch 149/150\n",
            "25/25 [==============================] - 0s 5ms/step - loss: 8.7060e-04\n",
            "Epoch 150/150\n",
            "25/25 [==============================] - 0s 5ms/step - loss: 8.3899e-04\n"
          ],
          "name": "stdout"
        },
        {
          "output_type": "execute_result",
          "data": {
            "text/plain": [
              "<keras.callbacks.callbacks.History at 0x7ff9f5cf6748>"
            ]
          },
          "metadata": {
            "tags": []
          },
          "execution_count": 13
        }
      ]
    },
    {
      "cell_type": "code",
      "metadata": {
        "colab_type": "code",
        "id": "a9mcgdNtYZuW",
        "colab": {}
      },
      "source": [
        "pred_list_conf = []\n",
        "batch = train_conf[-n_input:].reshape((1, n_input, n_features))\n",
        "for i in range(n_input):   \n",
        "    pred_list_conf.append(model.predict(batch)[0]) \n",
        "    batch = np.append(batch[:,1:,:],[[pred_list_conf[i]]],axis=1)"
      ],
      "execution_count": 14,
      "outputs": []
    },
    {
      "cell_type": "code",
      "metadata": {
        "colab_type": "code",
        "id": "GsIctJL-ZAeC",
        "colab": {
          "base_uri": "https://localhost:8080/",
          "height": 34
        },
        "outputId": "5fafb745-4cba-4c27-b2bd-c5b2f0b7e35b"
      },
      "source": [
        "pred_list_conf = scaler.inverse_transform(pred_list_conf)\n",
        "fc_conf = pred_list_conf[0][0]\n",
        "fc_conf"
      ],
      "execution_count": 15,
      "outputs": [
        {
          "output_type": "execute_result",
          "data": {
            "text/plain": [
              "8845797.76870656"
            ]
          },
          "metadata": {
            "tags": []
          },
          "execution_count": 15
        }
      ]
    },
    {
      "cell_type": "markdown",
      "metadata": {
        "colab_type": "text",
        "id": "kGmKY9nTkrWr"
      },
      "source": [
        "## Forecasting Deaths"
      ]
    },
    {
      "cell_type": "code",
      "metadata": {
        "colab_type": "code",
        "id": "0pi37oV8ctS7",
        "colab": {
          "base_uri": "https://localhost:8080/",
          "height": 195
        },
        "outputId": "7bdd7461-c287-41ca-a20b-f19e71092961"
      },
      "source": [
        "df_dea = get_deaths()\n",
        "df_dea.tail()"
      ],
      "execution_count": 16,
      "outputs": [
        {
          "output_type": "execute_result",
          "data": {
            "text/html": [
              "<div>\n",
              "<style scoped>\n",
              "    .dataframe tbody tr th:only-of-type {\n",
              "        vertical-align: middle;\n",
              "    }\n",
              "\n",
              "    .dataframe tbody tr th {\n",
              "        vertical-align: top;\n",
              "    }\n",
              "\n",
              "    .dataframe thead th {\n",
              "        text-align: right;\n",
              "    }\n",
              "</style>\n",
              "<table border=\"1\" class=\"dataframe\">\n",
              "  <thead>\n",
              "    <tr style=\"text-align: right;\">\n",
              "      <th></th>\n",
              "      <th>Deaths</th>\n",
              "    </tr>\n",
              "  </thead>\n",
              "  <tbody>\n",
              "    <tr>\n",
              "      <th>6/14/20</th>\n",
              "      <td>433391</td>\n",
              "    </tr>\n",
              "    <tr>\n",
              "      <th>6/15/20</th>\n",
              "      <td>436899</td>\n",
              "    </tr>\n",
              "    <tr>\n",
              "      <th>6/16/20</th>\n",
              "      <td>443685</td>\n",
              "    </tr>\n",
              "    <tr>\n",
              "      <th>6/17/20</th>\n",
              "      <td>448959</td>\n",
              "    </tr>\n",
              "    <tr>\n",
              "      <th>6/18/20</th>\n",
              "      <td>453981</td>\n",
              "    </tr>\n",
              "  </tbody>\n",
              "</table>\n",
              "</div>"
            ],
            "text/plain": [
              "         Deaths\n",
              "6/14/20  433391\n",
              "6/15/20  436899\n",
              "6/16/20  443685\n",
              "6/17/20  448959\n",
              "6/18/20  453981"
            ]
          },
          "metadata": {
            "tags": []
          },
          "execution_count": 16
        }
      ]
    },
    {
      "cell_type": "code",
      "metadata": {
        "colab_type": "code",
        "id": "XWVZ0CovdO1L",
        "colab": {}
      },
      "source": [
        "train_dea = df_dea\n",
        "scaler.fit(train_dea)\n",
        "train_dea = scaler.transform(train_dea)"
      ],
      "execution_count": 17,
      "outputs": []
    },
    {
      "cell_type": "code",
      "metadata": {
        "colab_type": "code",
        "id": "FbpKfzw1e1Rq",
        "colab": {}
      },
      "source": [
        "n_input = 1\n",
        "n_features = 1\n",
        "generator_dea = TimeseriesGenerator(train_dea, train_dea, length=n_input, batch_size=6)\n",
        "model = Sequential()\n",
        "model.add(LSTM(200, activation='relu', input_shape=(n_input, n_features)))\n",
        "model.add(Dropout(0.15))\n",
        "model.add(Dense(1))\n",
        "model.compile(optimizer='adam', loss='mse')"
      ],
      "execution_count": 18,
      "outputs": []
    },
    {
      "cell_type": "code",
      "metadata": {
        "colab_type": "code",
        "id": "35QFXIcXe8bw",
        "colab": {
          "base_uri": "https://localhost:8080/",
          "height": 1000
        },
        "outputId": "67c69d92-23cc-4911-d651-a343c50cd8ea"
      },
      "source": [
        "model.fit_generator(generator_dea,epochs=150)"
      ],
      "execution_count": 19,
      "outputs": [
        {
          "output_type": "stream",
          "text": [
            "Epoch 1/150\n",
            "25/25 [==============================] - 0s 16ms/step - loss: 0.2184\n",
            "Epoch 2/150\n",
            "25/25 [==============================] - 0s 4ms/step - loss: 0.1739\n",
            "Epoch 3/150\n",
            "25/25 [==============================] - 0s 5ms/step - loss: 0.1320\n",
            "Epoch 4/150\n",
            "25/25 [==============================] - 0s 5ms/step - loss: 0.1005\n",
            "Epoch 5/150\n",
            "25/25 [==============================] - 0s 4ms/step - loss: 0.0759\n",
            "Epoch 6/150\n",
            "25/25 [==============================] - 0s 5ms/step - loss: 0.0609\n",
            "Epoch 7/150\n",
            "25/25 [==============================] - 0s 5ms/step - loss: 0.0524\n",
            "Epoch 8/150\n",
            "25/25 [==============================] - 0s 4ms/step - loss: 0.0445\n",
            "Epoch 9/150\n",
            "25/25 [==============================] - 0s 5ms/step - loss: 0.0388\n",
            "Epoch 10/150\n",
            "25/25 [==============================] - 0s 5ms/step - loss: 0.0324\n",
            "Epoch 11/150\n",
            "25/25 [==============================] - 0s 5ms/step - loss: 0.0280\n",
            "Epoch 12/150\n",
            "25/25 [==============================] - 0s 4ms/step - loss: 0.0228\n",
            "Epoch 13/150\n",
            "25/25 [==============================] - 0s 5ms/step - loss: 0.0183\n",
            "Epoch 14/150\n",
            "25/25 [==============================] - 0s 4ms/step - loss: 0.0141\n",
            "Epoch 15/150\n",
            "25/25 [==============================] - 0s 5ms/step - loss: 0.0116\n",
            "Epoch 16/150\n",
            "25/25 [==============================] - 0s 4ms/step - loss: 0.0086\n",
            "Epoch 17/150\n",
            "25/25 [==============================] - 0s 5ms/step - loss: 0.0062\n",
            "Epoch 18/150\n",
            "25/25 [==============================] - 0s 5ms/step - loss: 0.0051\n",
            "Epoch 19/150\n",
            "25/25 [==============================] - 0s 5ms/step - loss: 0.0036\n",
            "Epoch 20/150\n",
            "25/25 [==============================] - 0s 4ms/step - loss: 0.0027\n",
            "Epoch 21/150\n",
            "25/25 [==============================] - 0s 6ms/step - loss: 0.0022\n",
            "Epoch 22/150\n",
            "25/25 [==============================] - 0s 5ms/step - loss: 0.0019\n",
            "Epoch 23/150\n",
            "25/25 [==============================] - 0s 4ms/step - loss: 0.0013\n",
            "Epoch 24/150\n",
            "25/25 [==============================] - 0s 5ms/step - loss: 0.0013\n",
            "Epoch 25/150\n",
            "25/25 [==============================] - 0s 5ms/step - loss: 0.0010\n",
            "Epoch 26/150\n",
            "25/25 [==============================] - 0s 5ms/step - loss: 0.0016\n",
            "Epoch 27/150\n",
            "25/25 [==============================] - 0s 5ms/step - loss: 0.0011\n",
            "Epoch 28/150\n",
            "25/25 [==============================] - 0s 4ms/step - loss: 0.0012\n",
            "Epoch 29/150\n",
            "25/25 [==============================] - 0s 5ms/step - loss: 0.0011\n",
            "Epoch 30/150\n",
            "25/25 [==============================] - 0s 5ms/step - loss: 8.3392e-04\n",
            "Epoch 31/150\n",
            "25/25 [==============================] - 0s 4ms/step - loss: 0.0011\n",
            "Epoch 32/150\n",
            "25/25 [==============================] - 0s 5ms/step - loss: 0.0011\n",
            "Epoch 33/150\n",
            "25/25 [==============================] - 0s 5ms/step - loss: 0.0012\n",
            "Epoch 34/150\n",
            "25/25 [==============================] - 0s 4ms/step - loss: 8.8635e-04\n",
            "Epoch 35/150\n",
            "25/25 [==============================] - 0s 4ms/step - loss: 0.0011\n",
            "Epoch 36/150\n",
            "25/25 [==============================] - 0s 5ms/step - loss: 0.0013\n",
            "Epoch 37/150\n",
            "25/25 [==============================] - 0s 5ms/step - loss: 9.6001e-04\n",
            "Epoch 38/150\n",
            "25/25 [==============================] - 0s 5ms/step - loss: 0.0011\n",
            "Epoch 39/150\n",
            "25/25 [==============================] - 0s 5ms/step - loss: 0.0013\n",
            "Epoch 40/150\n",
            "25/25 [==============================] - 0s 5ms/step - loss: 9.9745e-04\n",
            "Epoch 41/150\n",
            "25/25 [==============================] - 0s 5ms/step - loss: 9.5542e-04\n",
            "Epoch 42/150\n",
            "25/25 [==============================] - 0s 5ms/step - loss: 0.0012\n",
            "Epoch 43/150\n",
            "25/25 [==============================] - 0s 5ms/step - loss: 9.8344e-04\n",
            "Epoch 44/150\n",
            "25/25 [==============================] - 0s 5ms/step - loss: 0.0011\n",
            "Epoch 45/150\n",
            "25/25 [==============================] - 0s 5ms/step - loss: 8.0450e-04\n",
            "Epoch 46/150\n",
            "25/25 [==============================] - 0s 5ms/step - loss: 0.0012\n",
            "Epoch 47/150\n",
            "25/25 [==============================] - 0s 5ms/step - loss: 0.0013\n",
            "Epoch 48/150\n",
            "25/25 [==============================] - 0s 5ms/step - loss: 0.0010\n",
            "Epoch 49/150\n",
            "25/25 [==============================] - 0s 4ms/step - loss: 0.0012\n",
            "Epoch 50/150\n",
            "25/25 [==============================] - 0s 5ms/step - loss: 0.0015\n",
            "Epoch 51/150\n",
            "25/25 [==============================] - 0s 5ms/step - loss: 0.0010\n",
            "Epoch 52/150\n",
            "25/25 [==============================] - 0s 5ms/step - loss: 0.0012\n",
            "Epoch 53/150\n",
            "25/25 [==============================] - 0s 5ms/step - loss: 8.5422e-04\n",
            "Epoch 54/150\n",
            "25/25 [==============================] - 0s 5ms/step - loss: 0.0011\n",
            "Epoch 55/150\n",
            "25/25 [==============================] - 0s 5ms/step - loss: 9.4482e-04\n",
            "Epoch 56/150\n",
            "25/25 [==============================] - 0s 5ms/step - loss: 8.3578e-04\n",
            "Epoch 57/150\n",
            "25/25 [==============================] - 0s 4ms/step - loss: 9.0097e-04\n",
            "Epoch 58/150\n",
            "25/25 [==============================] - 0s 5ms/step - loss: 8.4384e-04\n",
            "Epoch 59/150\n",
            "25/25 [==============================] - 0s 5ms/step - loss: 0.0011\n",
            "Epoch 60/150\n",
            "25/25 [==============================] - 0s 4ms/step - loss: 0.0010\n",
            "Epoch 61/150\n",
            "25/25 [==============================] - 0s 5ms/step - loss: 0.0011\n",
            "Epoch 62/150\n",
            "25/25 [==============================] - 0s 4ms/step - loss: 0.0010\n",
            "Epoch 63/150\n",
            "25/25 [==============================] - 0s 4ms/step - loss: 8.5182e-04\n",
            "Epoch 64/150\n",
            "25/25 [==============================] - 0s 5ms/step - loss: 0.0012\n",
            "Epoch 65/150\n",
            "25/25 [==============================] - 0s 5ms/step - loss: 9.0850e-04\n",
            "Epoch 66/150\n",
            "25/25 [==============================] - 0s 4ms/step - loss: 0.0011\n",
            "Epoch 67/150\n",
            "25/25 [==============================] - 0s 5ms/step - loss: 9.6223e-04\n",
            "Epoch 68/150\n",
            "25/25 [==============================] - 0s 4ms/step - loss: 8.2080e-04\n",
            "Epoch 69/150\n",
            "25/25 [==============================] - 0s 4ms/step - loss: 8.7210e-04\n",
            "Epoch 70/150\n",
            "25/25 [==============================] - 0s 4ms/step - loss: 0.0010\n",
            "Epoch 71/150\n",
            "25/25 [==============================] - 0s 5ms/step - loss: 8.2284e-04\n",
            "Epoch 72/150\n",
            "25/25 [==============================] - 0s 5ms/step - loss: 9.1822e-04\n",
            "Epoch 73/150\n",
            "25/25 [==============================] - 0s 5ms/step - loss: 7.8204e-04\n",
            "Epoch 74/150\n",
            "25/25 [==============================] - 0s 5ms/step - loss: 8.2547e-04\n",
            "Epoch 75/150\n",
            "25/25 [==============================] - 0s 4ms/step - loss: 0.0013\n",
            "Epoch 76/150\n",
            "25/25 [==============================] - 0s 5ms/step - loss: 0.0011\n",
            "Epoch 77/150\n",
            "25/25 [==============================] - 0s 5ms/step - loss: 9.4064e-04\n",
            "Epoch 78/150\n",
            "25/25 [==============================] - 0s 4ms/step - loss: 0.0015\n",
            "Epoch 79/150\n",
            "25/25 [==============================] - 0s 4ms/step - loss: 9.1401e-04\n",
            "Epoch 80/150\n",
            "25/25 [==============================] - 0s 5ms/step - loss: 0.0011\n",
            "Epoch 81/150\n",
            "25/25 [==============================] - 0s 5ms/step - loss: 0.0011\n",
            "Epoch 82/150\n",
            "25/25 [==============================] - 0s 4ms/step - loss: 8.8332e-04\n",
            "Epoch 83/150\n",
            "25/25 [==============================] - 0s 4ms/step - loss: 8.7003e-04\n",
            "Epoch 84/150\n",
            "25/25 [==============================] - 0s 5ms/step - loss: 0.0011\n",
            "Epoch 85/150\n",
            "25/25 [==============================] - 0s 4ms/step - loss: 0.0011\n",
            "Epoch 86/150\n",
            "25/25 [==============================] - 0s 4ms/step - loss: 9.8604e-04\n",
            "Epoch 87/150\n",
            "25/25 [==============================] - 0s 5ms/step - loss: 9.0423e-04\n",
            "Epoch 88/150\n",
            "25/25 [==============================] - 0s 4ms/step - loss: 9.7150e-04\n",
            "Epoch 89/150\n",
            "25/25 [==============================] - 0s 4ms/step - loss: 0.0010\n",
            "Epoch 90/150\n",
            "25/25 [==============================] - 0s 5ms/step - loss: 0.0011\n",
            "Epoch 91/150\n",
            "25/25 [==============================] - 0s 5ms/step - loss: 0.0010\n",
            "Epoch 92/150\n",
            "25/25 [==============================] - 0s 5ms/step - loss: 0.0011\n",
            "Epoch 93/150\n",
            "25/25 [==============================] - 0s 6ms/step - loss: 0.0011\n",
            "Epoch 94/150\n",
            "25/25 [==============================] - 0s 6ms/step - loss: 8.7584e-04\n",
            "Epoch 95/150\n",
            "25/25 [==============================] - 0s 5ms/step - loss: 8.6458e-04\n",
            "Epoch 96/150\n",
            "25/25 [==============================] - 0s 5ms/step - loss: 9.9824e-04\n",
            "Epoch 97/150\n",
            "25/25 [==============================] - 0s 5ms/step - loss: 0.0011\n",
            "Epoch 98/150\n",
            "25/25 [==============================] - 0s 5ms/step - loss: 8.9251e-04\n",
            "Epoch 99/150\n",
            "25/25 [==============================] - 0s 5ms/step - loss: 7.2720e-04\n",
            "Epoch 100/150\n",
            "25/25 [==============================] - 0s 5ms/step - loss: 7.5473e-04\n",
            "Epoch 101/150\n",
            "25/25 [==============================] - 0s 5ms/step - loss: 8.7712e-04\n",
            "Epoch 102/150\n",
            "25/25 [==============================] - 0s 5ms/step - loss: 7.2504e-04\n",
            "Epoch 103/150\n",
            "25/25 [==============================] - 0s 6ms/step - loss: 0.0014\n",
            "Epoch 104/150\n",
            "25/25 [==============================] - 0s 5ms/step - loss: 7.1392e-04\n",
            "Epoch 105/150\n",
            "25/25 [==============================] - 0s 6ms/step - loss: 0.0013\n",
            "Epoch 106/150\n",
            "25/25 [==============================] - 0s 5ms/step - loss: 9.5418e-04\n",
            "Epoch 107/150\n",
            "25/25 [==============================] - 0s 5ms/step - loss: 8.6881e-04\n",
            "Epoch 108/150\n",
            "25/25 [==============================] - 0s 5ms/step - loss: 0.0010\n",
            "Epoch 109/150\n",
            "25/25 [==============================] - 0s 5ms/step - loss: 9.7306e-04\n",
            "Epoch 110/150\n",
            "25/25 [==============================] - 0s 5ms/step - loss: 0.0011\n",
            "Epoch 111/150\n",
            "25/25 [==============================] - 0s 6ms/step - loss: 9.5337e-04\n",
            "Epoch 112/150\n",
            "25/25 [==============================] - 0s 5ms/step - loss: 0.0013\n",
            "Epoch 113/150\n",
            "25/25 [==============================] - 0s 5ms/step - loss: 7.9275e-04\n",
            "Epoch 114/150\n",
            "25/25 [==============================] - 0s 5ms/step - loss: 0.0011\n",
            "Epoch 115/150\n",
            "25/25 [==============================] - 0s 5ms/step - loss: 8.9592e-04\n",
            "Epoch 116/150\n",
            "25/25 [==============================] - 0s 5ms/step - loss: 6.5084e-04\n",
            "Epoch 117/150\n",
            "25/25 [==============================] - 0s 5ms/step - loss: 0.0012\n",
            "Epoch 118/150\n",
            "25/25 [==============================] - 0s 5ms/step - loss: 0.0013\n",
            "Epoch 119/150\n",
            "25/25 [==============================] - 0s 5ms/step - loss: 7.9779e-04\n",
            "Epoch 120/150\n",
            "25/25 [==============================] - 0s 5ms/step - loss: 9.3698e-04\n",
            "Epoch 121/150\n",
            "25/25 [==============================] - 0s 5ms/step - loss: 0.0012\n",
            "Epoch 122/150\n",
            "25/25 [==============================] - 0s 5ms/step - loss: 8.8318e-04\n",
            "Epoch 123/150\n",
            "25/25 [==============================] - 0s 5ms/step - loss: 0.0012\n",
            "Epoch 124/150\n",
            "25/25 [==============================] - 0s 4ms/step - loss: 0.0011\n",
            "Epoch 125/150\n",
            "25/25 [==============================] - 0s 5ms/step - loss: 8.5081e-04\n",
            "Epoch 126/150\n",
            "25/25 [==============================] - 0s 5ms/step - loss: 0.0010\n",
            "Epoch 127/150\n",
            "25/25 [==============================] - 0s 5ms/step - loss: 0.0010\n",
            "Epoch 128/150\n",
            "25/25 [==============================] - 0s 4ms/step - loss: 8.0053e-04\n",
            "Epoch 129/150\n",
            "25/25 [==============================] - 0s 5ms/step - loss: 9.5879e-04\n",
            "Epoch 130/150\n",
            "25/25 [==============================] - 0s 5ms/step - loss: 0.0010\n",
            "Epoch 131/150\n",
            "25/25 [==============================] - 0s 4ms/step - loss: 0.0010\n",
            "Epoch 132/150\n",
            "25/25 [==============================] - 0s 5ms/step - loss: 0.0010\n",
            "Epoch 133/150\n",
            "25/25 [==============================] - 0s 5ms/step - loss: 9.9425e-04\n",
            "Epoch 134/150\n",
            "25/25 [==============================] - 0s 5ms/step - loss: 0.0010\n",
            "Epoch 135/150\n",
            "25/25 [==============================] - 0s 5ms/step - loss: 7.3965e-04\n",
            "Epoch 136/150\n",
            "25/25 [==============================] - 0s 5ms/step - loss: 8.8248e-04\n",
            "Epoch 137/150\n",
            "25/25 [==============================] - 0s 5ms/step - loss: 7.6416e-04\n",
            "Epoch 138/150\n",
            "25/25 [==============================] - 0s 5ms/step - loss: 7.8413e-04\n",
            "Epoch 139/150\n",
            "25/25 [==============================] - 0s 5ms/step - loss: 9.0765e-04\n",
            "Epoch 140/150\n",
            "25/25 [==============================] - 0s 6ms/step - loss: 0.0014\n",
            "Epoch 141/150\n",
            "25/25 [==============================] - 0s 5ms/step - loss: 0.0012\n",
            "Epoch 142/150\n",
            "25/25 [==============================] - 0s 5ms/step - loss: 7.5854e-04\n",
            "Epoch 143/150\n",
            "25/25 [==============================] - 0s 5ms/step - loss: 8.7240e-04\n",
            "Epoch 144/150\n",
            "25/25 [==============================] - 0s 5ms/step - loss: 0.0012\n",
            "Epoch 145/150\n",
            "25/25 [==============================] - 0s 5ms/step - loss: 0.0010\n",
            "Epoch 146/150\n",
            "25/25 [==============================] - 0s 5ms/step - loss: 8.2128e-04\n",
            "Epoch 147/150\n",
            "25/25 [==============================] - 0s 5ms/step - loss: 8.2833e-04\n",
            "Epoch 148/150\n",
            "25/25 [==============================] - 0s 5ms/step - loss: 8.0539e-04\n",
            "Epoch 149/150\n",
            "25/25 [==============================] - 0s 4ms/step - loss: 9.6759e-04\n",
            "Epoch 150/150\n",
            "25/25 [==============================] - 0s 5ms/step - loss: 7.2776e-04\n"
          ],
          "name": "stdout"
        },
        {
          "output_type": "execute_result",
          "data": {
            "text/plain": [
              "<keras.callbacks.callbacks.History at 0x7ff9f33e78d0>"
            ]
          },
          "metadata": {
            "tags": []
          },
          "execution_count": 19
        }
      ]
    },
    {
      "cell_type": "code",
      "metadata": {
        "colab_type": "code",
        "id": "m0TVDkFTfAyD",
        "colab": {}
      },
      "source": [
        "pred_list_dea = []\n",
        "batch = train_dea[-n_input:].reshape((1, n_input, n_features))\n",
        "for i in range(n_input):   \n",
        "    pred_list_dea.append(model.predict(batch)[0]) \n",
        "    batch = np.append(batch[:,1:,:],[[pred_list_dea[i]]],axis=1)"
      ],
      "execution_count": 20,
      "outputs": []
    },
    {
      "cell_type": "code",
      "metadata": {
        "colab_type": "code",
        "id": "dBxuOMa7fJ_E",
        "colab": {
          "base_uri": "https://localhost:8080/",
          "height": 34
        },
        "outputId": "c7b0c5e3-a41e-49ab-e86c-28de9f7b5259"
      },
      "source": [
        "pred_list_dea = scaler.inverse_transform(pred_list_dea)\n",
        "fc_dea = pred_list_dea[0][0]\n",
        "fc_dea"
      ],
      "execution_count": 21,
      "outputs": [
        {
          "output_type": "execute_result",
          "data": {
            "text/plain": [
              "467405.14091539383"
            ]
          },
          "metadata": {
            "tags": []
          },
          "execution_count": 21
        }
      ]
    },
    {
      "cell_type": "markdown",
      "metadata": {
        "colab_type": "text",
        "id": "xAEp8JEpku0c"
      },
      "source": [
        "## Forecasting Recoveries"
      ]
    },
    {
      "cell_type": "code",
      "metadata": {
        "colab_type": "code",
        "id": "IlqGLD-0fRvN",
        "colab": {
          "base_uri": "https://localhost:8080/",
          "height": 195
        },
        "outputId": "73b27dc0-480c-4646-97c7-66c623c7dacd"
      },
      "source": [
        "df_rec = get_recoveries()\n",
        "df_rec.tail()"
      ],
      "execution_count": 22,
      "outputs": [
        {
          "output_type": "execute_result",
          "data": {
            "text/html": [
              "<div>\n",
              "<style scoped>\n",
              "    .dataframe tbody tr th:only-of-type {\n",
              "        vertical-align: middle;\n",
              "    }\n",
              "\n",
              "    .dataframe tbody tr th {\n",
              "        vertical-align: top;\n",
              "    }\n",
              "\n",
              "    .dataframe thead th {\n",
              "        text-align: right;\n",
              "    }\n",
              "</style>\n",
              "<table border=\"1\" class=\"dataframe\">\n",
              "  <thead>\n",
              "    <tr style=\"text-align: right;\">\n",
              "      <th></th>\n",
              "      <th>Recovered</th>\n",
              "    </tr>\n",
              "  </thead>\n",
              "  <tbody>\n",
              "    <tr>\n",
              "      <th>6/14/20</th>\n",
              "      <td>3777131</td>\n",
              "    </tr>\n",
              "    <tr>\n",
              "      <th>6/15/20</th>\n",
              "      <td>3857338</td>\n",
              "    </tr>\n",
              "    <tr>\n",
              "      <th>6/16/20</th>\n",
              "      <td>3955169</td>\n",
              "    </tr>\n",
              "    <tr>\n",
              "      <th>6/17/20</th>\n",
              "      <td>4073955</td>\n",
              "    </tr>\n",
              "    <tr>\n",
              "      <th>6/18/20</th>\n",
              "      <td>4155099</td>\n",
              "    </tr>\n",
              "  </tbody>\n",
              "</table>\n",
              "</div>"
            ],
            "text/plain": [
              "        Recovered\n",
              "6/14/20   3777131\n",
              "6/15/20   3857338\n",
              "6/16/20   3955169\n",
              "6/17/20   4073955\n",
              "6/18/20   4155099"
            ]
          },
          "metadata": {
            "tags": []
          },
          "execution_count": 22
        }
      ]
    },
    {
      "cell_type": "code",
      "metadata": {
        "colab_type": "code",
        "id": "PYodefdbhOAE",
        "colab": {}
      },
      "source": [
        "train_rec = df_rec\n",
        "scaler.fit(train_rec)\n",
        "train_rec = scaler.transform(train_rec)"
      ],
      "execution_count": 23,
      "outputs": []
    },
    {
      "cell_type": "code",
      "metadata": {
        "colab_type": "code",
        "id": "TdmihegZiAtZ",
        "colab": {}
      },
      "source": [
        "n_input = 1\n",
        "n_features = 1\n",
        "generator_rec = TimeseriesGenerator(train_rec, train_rec, length=n_input, batch_size=6)\n",
        "model = Sequential()\n",
        "model.add(LSTM(200, activation='relu', input_shape=(n_input, n_features)))\n",
        "model.add(Dropout(0.15))\n",
        "model.add(Dense(1))\n",
        "model.compile(optimizer='adam', loss='mse')"
      ],
      "execution_count": 24,
      "outputs": []
    },
    {
      "cell_type": "code",
      "metadata": {
        "colab_type": "code",
        "id": "qag87o48iHvL",
        "colab": {
          "base_uri": "https://localhost:8080/",
          "height": 1000
        },
        "outputId": "503a1a52-e966-4858-d9cb-fb9104d31141"
      },
      "source": [
        "model.fit_generator(generator_rec,epochs=90)"
      ],
      "execution_count": 25,
      "outputs": [
        {
          "output_type": "stream",
          "text": [
            "Epoch 1/90\n",
            "25/25 [==============================] - 0s 16ms/step - loss: 0.1221\n",
            "Epoch 2/90\n",
            "25/25 [==============================] - 0s 5ms/step - loss: 0.1000\n",
            "Epoch 3/90\n",
            "25/25 [==============================] - 0s 5ms/step - loss: 0.0835\n",
            "Epoch 4/90\n",
            "25/25 [==============================] - 0s 5ms/step - loss: 0.0677\n",
            "Epoch 5/90\n",
            "25/25 [==============================] - 0s 5ms/step - loss: 0.0582\n",
            "Epoch 6/90\n",
            "25/25 [==============================] - 0s 5ms/step - loss: 0.0513\n",
            "Epoch 7/90\n",
            "25/25 [==============================] - 0s 5ms/step - loss: 0.0465\n",
            "Epoch 8/90\n",
            "25/25 [==============================] - 0s 5ms/step - loss: 0.0403\n",
            "Epoch 9/90\n",
            "25/25 [==============================] - 0s 5ms/step - loss: 0.0378\n",
            "Epoch 10/90\n",
            "25/25 [==============================] - 0s 5ms/step - loss: 0.0321\n",
            "Epoch 11/90\n",
            "25/25 [==============================] - 0s 5ms/step - loss: 0.0270\n",
            "Epoch 12/90\n",
            "25/25 [==============================] - 0s 5ms/step - loss: 0.0245\n",
            "Epoch 13/90\n",
            "25/25 [==============================] - 0s 5ms/step - loss: 0.0204\n",
            "Epoch 14/90\n",
            "25/25 [==============================] - 0s 4ms/step - loss: 0.0159\n",
            "Epoch 15/90\n",
            "25/25 [==============================] - 0s 5ms/step - loss: 0.0123\n",
            "Epoch 16/90\n",
            "25/25 [==============================] - 0s 5ms/step - loss: 0.0097\n",
            "Epoch 17/90\n",
            "25/25 [==============================] - 0s 5ms/step - loss: 0.0084\n",
            "Epoch 18/90\n",
            "25/25 [==============================] - 0s 5ms/step - loss: 0.0053\n",
            "Epoch 19/90\n",
            "25/25 [==============================] - 0s 5ms/step - loss: 0.0044\n",
            "Epoch 20/90\n",
            "25/25 [==============================] - 0s 5ms/step - loss: 0.0030\n",
            "Epoch 21/90\n",
            "25/25 [==============================] - 0s 5ms/step - loss: 0.0025\n",
            "Epoch 22/90\n",
            "25/25 [==============================] - 0s 5ms/step - loss: 0.0019\n",
            "Epoch 23/90\n",
            "25/25 [==============================] - 0s 5ms/step - loss: 0.0012\n",
            "Epoch 24/90\n",
            "25/25 [==============================] - 0s 5ms/step - loss: 9.1178e-04\n",
            "Epoch 25/90\n",
            "25/25 [==============================] - 0s 5ms/step - loss: 0.0011\n",
            "Epoch 26/90\n",
            "25/25 [==============================] - 0s 5ms/step - loss: 8.5436e-04\n",
            "Epoch 27/90\n",
            "25/25 [==============================] - 0s 5ms/step - loss: 8.4936e-04\n",
            "Epoch 28/90\n",
            "25/25 [==============================] - 0s 5ms/step - loss: 8.2516e-04\n",
            "Epoch 29/90\n",
            "25/25 [==============================] - 0s 5ms/step - loss: 0.0010\n",
            "Epoch 30/90\n",
            "25/25 [==============================] - 0s 5ms/step - loss: 6.3538e-04\n",
            "Epoch 31/90\n",
            "25/25 [==============================] - 0s 5ms/step - loss: 6.2705e-04\n",
            "Epoch 32/90\n",
            "25/25 [==============================] - 0s 5ms/step - loss: 5.4217e-04\n",
            "Epoch 33/90\n",
            "25/25 [==============================] - 0s 5ms/step - loss: 7.1798e-04\n",
            "Epoch 34/90\n",
            "25/25 [==============================] - 0s 5ms/step - loss: 6.4774e-04\n",
            "Epoch 35/90\n",
            "25/25 [==============================] - 0s 5ms/step - loss: 8.7586e-04\n",
            "Epoch 36/90\n",
            "25/25 [==============================] - 0s 4ms/step - loss: 7.0836e-04\n",
            "Epoch 37/90\n",
            "25/25 [==============================] - 0s 4ms/step - loss: 6.7594e-04\n",
            "Epoch 38/90\n",
            "25/25 [==============================] - 0s 5ms/step - loss: 8.5254e-04\n",
            "Epoch 39/90\n",
            "25/25 [==============================] - 0s 5ms/step - loss: 6.8270e-04\n",
            "Epoch 40/90\n",
            "25/25 [==============================] - 0s 4ms/step - loss: 6.5233e-04\n",
            "Epoch 41/90\n",
            "25/25 [==============================] - 0s 5ms/step - loss: 4.8630e-04\n",
            "Epoch 42/90\n",
            "25/25 [==============================] - 0s 5ms/step - loss: 5.8140e-04\n",
            "Epoch 43/90\n",
            "25/25 [==============================] - 0s 5ms/step - loss: 9.3457e-04\n",
            "Epoch 44/90\n",
            "25/25 [==============================] - 0s 5ms/step - loss: 7.4903e-04\n",
            "Epoch 45/90\n",
            "25/25 [==============================] - 0s 4ms/step - loss: 7.0331e-04\n",
            "Epoch 46/90\n",
            "25/25 [==============================] - 0s 5ms/step - loss: 6.3741e-04\n",
            "Epoch 47/90\n",
            "25/25 [==============================] - 0s 6ms/step - loss: 5.5041e-04\n",
            "Epoch 48/90\n",
            "25/25 [==============================] - 0s 5ms/step - loss: 4.5876e-04\n",
            "Epoch 49/90\n",
            "25/25 [==============================] - 0s 4ms/step - loss: 7.6256e-04\n",
            "Epoch 50/90\n",
            "25/25 [==============================] - 0s 5ms/step - loss: 5.4751e-04\n",
            "Epoch 51/90\n",
            "25/25 [==============================] - 0s 4ms/step - loss: 5.5903e-04\n",
            "Epoch 52/90\n",
            "25/25 [==============================] - 0s 4ms/step - loss: 5.2453e-04\n",
            "Epoch 53/90\n",
            "25/25 [==============================] - 0s 5ms/step - loss: 6.5198e-04\n",
            "Epoch 54/90\n",
            "25/25 [==============================] - 0s 5ms/step - loss: 4.6562e-04\n",
            "Epoch 55/90\n",
            "25/25 [==============================] - 0s 5ms/step - loss: 6.9337e-04\n",
            "Epoch 56/90\n",
            "25/25 [==============================] - 0s 5ms/step - loss: 7.7554e-04\n",
            "Epoch 57/90\n",
            "25/25 [==============================] - 0s 5ms/step - loss: 9.9308e-04\n",
            "Epoch 58/90\n",
            "25/25 [==============================] - 0s 5ms/step - loss: 5.1436e-04\n",
            "Epoch 59/90\n",
            "25/25 [==============================] - 0s 5ms/step - loss: 6.1595e-04\n",
            "Epoch 60/90\n",
            "25/25 [==============================] - 0s 5ms/step - loss: 7.6100e-04\n",
            "Epoch 61/90\n",
            "25/25 [==============================] - 0s 5ms/step - loss: 6.2382e-04\n",
            "Epoch 62/90\n",
            "25/25 [==============================] - 0s 5ms/step - loss: 5.9760e-04\n",
            "Epoch 63/90\n",
            "25/25 [==============================] - 0s 5ms/step - loss: 7.9579e-04\n",
            "Epoch 64/90\n",
            "25/25 [==============================] - 0s 5ms/step - loss: 6.2830e-04\n",
            "Epoch 65/90\n",
            "25/25 [==============================] - 0s 5ms/step - loss: 6.8725e-04\n",
            "Epoch 66/90\n",
            "25/25 [==============================] - 0s 5ms/step - loss: 7.4214e-04\n",
            "Epoch 67/90\n",
            "25/25 [==============================] - 0s 5ms/step - loss: 6.3136e-04\n",
            "Epoch 68/90\n",
            "25/25 [==============================] - 0s 5ms/step - loss: 5.8613e-04\n",
            "Epoch 69/90\n",
            "25/25 [==============================] - 0s 5ms/step - loss: 9.9350e-04\n",
            "Epoch 70/90\n",
            "25/25 [==============================] - 0s 5ms/step - loss: 9.2597e-04\n",
            "Epoch 71/90\n",
            "25/25 [==============================] - 0s 5ms/step - loss: 6.1023e-04\n",
            "Epoch 72/90\n",
            "25/25 [==============================] - 0s 5ms/step - loss: 7.8317e-04\n",
            "Epoch 73/90\n",
            "25/25 [==============================] - 0s 5ms/step - loss: 7.4080e-04\n",
            "Epoch 74/90\n",
            "25/25 [==============================] - 0s 5ms/step - loss: 7.4891e-04\n",
            "Epoch 75/90\n",
            "25/25 [==============================] - 0s 5ms/step - loss: 5.0297e-04\n",
            "Epoch 76/90\n",
            "25/25 [==============================] - 0s 5ms/step - loss: 5.0760e-04\n",
            "Epoch 77/90\n",
            "25/25 [==============================] - 0s 5ms/step - loss: 7.9566e-04\n",
            "Epoch 78/90\n",
            "25/25 [==============================] - 0s 5ms/step - loss: 6.3604e-04\n",
            "Epoch 79/90\n",
            "25/25 [==============================] - 0s 5ms/step - loss: 5.3304e-04\n",
            "Epoch 80/90\n",
            "25/25 [==============================] - 0s 5ms/step - loss: 4.5758e-04\n",
            "Epoch 81/90\n",
            "25/25 [==============================] - 0s 5ms/step - loss: 6.8590e-04\n",
            "Epoch 82/90\n",
            "25/25 [==============================] - 0s 5ms/step - loss: 6.3844e-04\n",
            "Epoch 83/90\n",
            "25/25 [==============================] - 0s 5ms/step - loss: 6.1328e-04\n",
            "Epoch 84/90\n",
            "25/25 [==============================] - 0s 5ms/step - loss: 4.8736e-04\n",
            "Epoch 85/90\n",
            "25/25 [==============================] - 0s 5ms/step - loss: 4.7572e-04\n",
            "Epoch 86/90\n",
            "25/25 [==============================] - 0s 4ms/step - loss: 7.3000e-04\n",
            "Epoch 87/90\n",
            "25/25 [==============================] - 0s 5ms/step - loss: 7.4675e-04\n",
            "Epoch 88/90\n",
            "25/25 [==============================] - 0s 5ms/step - loss: 6.0878e-04\n",
            "Epoch 89/90\n",
            "25/25 [==============================] - 0s 5ms/step - loss: 4.8961e-04\n",
            "Epoch 90/90\n",
            "25/25 [==============================] - 0s 5ms/step - loss: 8.4741e-04\n"
          ],
          "name": "stdout"
        },
        {
          "output_type": "execute_result",
          "data": {
            "text/plain": [
              "<keras.callbacks.callbacks.History at 0x7ff9f5984cf8>"
            ]
          },
          "metadata": {
            "tags": []
          },
          "execution_count": 25
        }
      ]
    },
    {
      "cell_type": "code",
      "metadata": {
        "colab_type": "code",
        "id": "PLwEVXd9iKps",
        "colab": {}
      },
      "source": [
        "pred_list_rec = []\n",
        "batch = train_rec[-n_input:].reshape((1, n_input, n_features))\n",
        "for i in range(n_input):   \n",
        "    pred_list_rec.append(model.predict(batch)[0]) \n",
        "    batch = np.append(batch[:,1:,:],[[pred_list_rec[i]]],axis=1)"
      ],
      "execution_count": 26,
      "outputs": []
    },
    {
      "cell_type": "code",
      "metadata": {
        "colab_type": "code",
        "id": "PRX2zP4Gidt7",
        "colab": {
          "base_uri": "https://localhost:8080/",
          "height": 34
        },
        "outputId": "e99f4217-d994-4b8e-bb5d-695f05b0d6f9"
      },
      "source": [
        "pred_list_rec = scaler.inverse_transform(pred_list_rec)\n",
        "fc_rec = pred_list_rec[0][0]\n",
        "fc_rec"
      ],
      "execution_count": 27,
      "outputs": [
        {
          "output_type": "execute_result",
          "data": {
            "text/plain": [
              "4355942.59515667"
            ]
          },
          "metadata": {
            "tags": []
          },
          "execution_count": 27
        }
      ]
    },
    {
      "cell_type": "markdown",
      "metadata": {
        "colab_type": "text",
        "id": "8ON8BPIBsTxG"
      },
      "source": [
        "## Summary"
      ]
    },
    {
      "cell_type": "code",
      "metadata": {
        "colab_type": "code",
        "id": "qfmCiHWxsVtG",
        "colab": {
          "base_uri": "https://localhost:8080/",
          "height": 260
        },
        "outputId": "e54a4e22-9a48-41d9-c2b7-c4515e399273"
      },
      "source": [
        "def get_summary():\n",
        "    print(\"Date\", d1, \"\\n\")\n",
        "    print(\"Confirmed cases Yesterday:\", df_conf.iloc[-1]['Infected'])\n",
        "    print(\"Current confirmed cases per Worldometers(LIVE)\", numbers[0])\n",
        "    print(\"Confirmed cases forecasted by model\", int(fc_conf), \"\\n\")\n",
        "    print(\"Deaths Yesterday:\", df_dea.iloc[-1]['Deaths'])\n",
        "    print(\"Current deaths per Worldometers(LIVE)\", numbers[1])\n",
        "    print(\"Deaths forecasted by model\", int(fc_dea), \"\\n\")\n",
        "    print(\"Recoveries Yesterday:\", df_rec.iloc[-1]['Recovered'])\n",
        "    print(\"Current recoveries per Worldometers\", numbers[2])\n",
        "    print(\"Recoveries forecasted by model\", int(fc_rec), \"\\n\")\n",
        "get_summary()"
      ],
      "execution_count": 28,
      "outputs": [
        {
          "output_type": "stream",
          "text": [
            "Date 06/19/20 \n",
            "\n",
            "Confirmed cases Yesterday: 8488976\n",
            "Current confirmed cases per Worldometers(LIVE) 8614675\n",
            "Confirmed cases forecasted by model 8845797 \n",
            "\n",
            "Deaths Yesterday: 453981\n",
            "Current deaths per Worldometers(LIVE) 457025\n",
            "Deaths forecasted by model 467405 \n",
            "\n",
            "Recoveries Yesterday: 4155099\n",
            "Current recoveries per Worldometers 4562226\n",
            "Recoveries forecasted by model 4355942 \n",
            "\n"
          ],
          "name": "stdout"
        }
      ]
    },
    {
      "cell_type": "code",
      "metadata": {
        "colab_type": "code",
        "id": "-w6p1a-bHN6L",
        "colab": {
          "base_uri": "https://localhost:8080/",
          "height": 136
        },
        "outputId": "49bfc161-f391-4352-c85e-295b310a54e6"
      },
      "source": [
        "summary_conf = pd.DataFrame(columns=['Date', 'Type', \"Previous Day\", 'Live Data', 'Forecasted Data'])\n",
        "summary_conf = summary_conf.append({'Date': d1, 'Type' : 'Infected', \"Previous Day\": df_conf.iloc[-1]['Infected'], 'Live Data': numbers[0], 'Forecasted Data': int(fc_conf)}, ignore_index=True)\n",
        "summary_conf = summary_conf.append({'Date': d1, 'Type' : 'Deaths', \"Previous Day\": df_dea.iloc[-1]['Deaths'], 'Live Data': numbers[1], 'Forecasted Data': int(fc_dea)}, ignore_index=True)\n",
        "summary_conf = summary_conf.append({'Date': d1, 'Type' : 'Recovered', \"Previous Day\": df_rec.iloc[-1]['Recovered'], 'Live Data': numbers[2], 'Forecasted Data': int(fc_rec)}, ignore_index=True)\n",
        "summary_conf"
      ],
      "execution_count": 29,
      "outputs": [
        {
          "output_type": "execute_result",
          "data": {
            "text/html": [
              "<div>\n",
              "<style scoped>\n",
              "    .dataframe tbody tr th:only-of-type {\n",
              "        vertical-align: middle;\n",
              "    }\n",
              "\n",
              "    .dataframe tbody tr th {\n",
              "        vertical-align: top;\n",
              "    }\n",
              "\n",
              "    .dataframe thead th {\n",
              "        text-align: right;\n",
              "    }\n",
              "</style>\n",
              "<table border=\"1\" class=\"dataframe\">\n",
              "  <thead>\n",
              "    <tr style=\"text-align: right;\">\n",
              "      <th></th>\n",
              "      <th>Date</th>\n",
              "      <th>Type</th>\n",
              "      <th>Previous Day</th>\n",
              "      <th>Live Data</th>\n",
              "      <th>Forecasted Data</th>\n",
              "    </tr>\n",
              "  </thead>\n",
              "  <tbody>\n",
              "    <tr>\n",
              "      <th>0</th>\n",
              "      <td>06/19/20</td>\n",
              "      <td>Infected</td>\n",
              "      <td>8488976</td>\n",
              "      <td>8614675</td>\n",
              "      <td>8845797</td>\n",
              "    </tr>\n",
              "    <tr>\n",
              "      <th>1</th>\n",
              "      <td>06/19/20</td>\n",
              "      <td>Deaths</td>\n",
              "      <td>453981</td>\n",
              "      <td>457025</td>\n",
              "      <td>467405</td>\n",
              "    </tr>\n",
              "    <tr>\n",
              "      <th>2</th>\n",
              "      <td>06/19/20</td>\n",
              "      <td>Recovered</td>\n",
              "      <td>4155099</td>\n",
              "      <td>4562226</td>\n",
              "      <td>4355942</td>\n",
              "    </tr>\n",
              "  </tbody>\n",
              "</table>\n",
              "</div>"
            ],
            "text/plain": [
              "       Date       Type Previous Day Live Data Forecasted Data\n",
              "0  06/19/20   Infected      8488976   8614675         8845797\n",
              "1  06/19/20     Deaths       453981    457025          467405\n",
              "2  06/19/20  Recovered      4155099   4562226         4355942"
            ]
          },
          "metadata": {
            "tags": []
          },
          "execution_count": 29
        }
      ]
    },
    {
      "cell_type": "code",
      "metadata": {
        "id": "3feS41b3qazK",
        "colab_type": "code",
        "colab": {
          "base_uri": "https://localhost:8080/",
          "height": 476
        },
        "outputId": "0b318f0b-cfc2-471e-f662-237a90a5a2da"
      },
      "source": [
        "plt.figure(figsize=(12, 2))\n",
        "plt.plot(df_conf[-10:], linestyle='--', marker='o', color='b', label='Confirmed')\n",
        "plt.scatter(d1, fc_conf, color='y', label='Forecasted Infections')\n",
        "plt.legend(loc=\"upper left\")\n",
        "plt.figure(figsize=(12, 2))\n",
        "plt.plot(df_rec[-10:], linestyle='--', marker='o', color='g', label='Recoveries')\n",
        "plt.scatter(d1, fc_rec, color='y', label='Forecasted Recoveries')\n",
        "plt.legend(loc=\"upper left\")\n",
        "plt.figure(figsize=(12, 2))\n",
        "plt.plot(df_dea[-10:], linestyle='--', marker='o', color='r', label='Deaths')\n",
        "plt.scatter(d1, fc_dea, color='y', label='Forecasted Deaths')\n",
        "plt.legend(loc=\"upper left\")"
      ],
      "execution_count": 30,
      "outputs": [
        {
          "output_type": "execute_result",
          "data": {
            "text/plain": [
              "<matplotlib.legend.Legend at 0x7ff9f58567b8>"
            ]
          },
          "metadata": {
            "tags": []
          },
          "execution_count": 30
        },
        {
          "output_type": "display_data",
          "data": {
            "image/png": "[encoded data removed]",
            "text/plain": [
              "<Figure size 864x144 with 1 Axes>"
            ]
          },
          "metadata": {
            "tags": [],
            "needs_background": "light"
          }
        },
        {
          "output_type": "display_data",
          "data": {
            "image/png": "[encoded data removed]",
            "text/plain": [
              "<Figure size 864x144 with 1 Axes>"
            ]
          },
          "metadata": {
            "tags": [],
            "needs_background": "light"
          }
        },
        {
          "output_type": "display_data",
          "data": {
            "image/png": "[encoded data removed]",
            "text/plain": [
              "<Figure size 864x144 with 1 Axes>"
            ]
          },
          "metadata": {
            "tags": [],
            "needs_background": "light"
          }
        }
      ]
    },
    {
      "cell_type": "code",
      "metadata": {
        "id": "bB01MbjUqazQ",
        "colab_type": "code",
        "colab": {}
      },
      "source": [
        ""
      ],
      "execution_count": 30,
      "outputs": []
    }
  ]
}