{
 "cells": [
  {
   "cell_type": "markdown",
   "metadata": {},
   "source": [
    "## Part 1"
   ]
  },
  {
   "cell_type": "markdown",
   "metadata": {},
   "source": [
    "### Loading the datasets\n",
    "#### 1. Confirmed URL : https://github.com/CSSEGISandData/COVID-19/blob/master/csse_covid_19_data/csse_covid_19_time_series/time_series_19-covid-Confirmed.csv\n",
    "#### 2. Deaths URL: https://github.com/CSSEGISandData/COVID-19/blob/master/csse_covid_19_data/csse_covid_19_time_series/time_series_19-covid-Deaths.csv\n",
    "#### 3. Recovered URL: https://github.com/CSSEGISandData/COVID-19/blob/master/csse_covid_19_data/csse_covid_19_time_series/time_series_19-covid-Recovered.csv"
   ]
  },
  {
   "cell_type": "markdown",
   "metadata": {},
   "source": [
    "#### Starting date on all three datasets is 22/01/2020"
   ]
  },
  {
   "cell_type": "markdown",
   "metadata": {},
   "source": [
    "Steps (Without BeautifulSoup):-\n",
    "1. Import the CSV \n",
    "2. Check if the last column title matches with the last date row in the cleaned dataset.\n",
    "3. If it matches, don't add it to the dataset. \n",
    "4. If it does not match, go back iteratively until it matches and save all of the data.\n"
   ]
  },
  {
   "cell_type": "code",
   "execution_count": 1,
   "metadata": {},
   "outputs": [
    {
     "name": "stderr",
     "output_type": "stream",
     "text": [
      "Using TensorFlow backend.\n"
     ]
    }
   ],
   "source": [
    "import pandas as pd\n",
    "import numpy as np\n",
    "import matplotlib.pyplot as plt\n",
    "import sklearn\n",
    "from keras.preprocessing.sequence import TimeseriesGenerator\n",
    "from sklearn.preprocessing import MinMaxScaler\n",
    "import requests\n",
    "from bs4 import BeautifulSoup\n",
    "from datetime import date\n",
    "today = date.today()"
   ]
  },
  {
   "cell_type": "code",
   "execution_count": 2,
   "metadata": {},
   "outputs": [],
   "source": [
    "confirmed_url = \"https://github.com/CSSEGISandData/COVID-19/raw/master/csse_covid_19_data/csse_covid_19_time_series/time_series_covid19_confirmed_global.csv\"\n",
    "deaths_url = \"https://github.com/CSSEGISandData/COVID-19/raw/master/csse_covid_19_data/csse_covid_19_time_series/time_series_covid19_deaths_global.csv\"\n",
    "recovered_url = \"https://github.com/CSSEGISandData/COVID-19/raw/master/csse_covid_19_data/csse_covid_19_time_series/time_series_covid19_recovered_global.csv\""
   ]
  },
  {
   "cell_type": "code",
   "execution_count": 3,
   "metadata": {},
   "outputs": [
    {
     "data": {
      "text/plain": [
       "'6/06/20'"
      ]
     },
     "execution_count": 3,
     "metadata": {},
     "output_type": "execute_result"
    }
   ],
   "source": [
    "d1 = today.strftime(\"%m/%d/%y\").replace(' 0', ' ')\n",
    "if(d1[0] == '0'):\n",
    "    d1 = d1[1:]\n",
    "d1"
   ]
  },
  {
   "cell_type": "markdown",
   "metadata": {},
   "source": [
    "### Function to get the number of confirmed cases as a Dataframe"
   ]
  },
  {
   "cell_type": "code",
   "execution_count": 4,
   "metadata": {},
   "outputs": [
    {
     "data": {
      "text/html": [
       "<div>\n",
       "<style scoped>\n",
       "    .dataframe tbody tr th:only-of-type {\n",
       "        vertical-align: middle;\n",
       "    }\n",
       "\n",
       "    .dataframe tbody tr th {\n",
       "        vertical-align: top;\n",
       "    }\n",
       "\n",
       "    .dataframe thead th {\n",
       "        text-align: right;\n",
       "    }\n",
       "</style>\n",
       "<table border=\"1\" class=\"dataframe\">\n",
       "  <thead>\n",
       "    <tr style=\"text-align: right;\">\n",
       "      <th></th>\n",
       "      <th>Infected</th>\n",
       "    </tr>\n",
       "  </thead>\n",
       "  <tbody>\n",
       "    <tr>\n",
       "      <th>1/22/20</th>\n",
       "      <td>555</td>\n",
       "    </tr>\n",
       "    <tr>\n",
       "      <th>1/23/20</th>\n",
       "      <td>654</td>\n",
       "    </tr>\n",
       "    <tr>\n",
       "      <th>1/24/20</th>\n",
       "      <td>941</td>\n",
       "    </tr>\n",
       "    <tr>\n",
       "      <th>1/25/20</th>\n",
       "      <td>1434</td>\n",
       "    </tr>\n",
       "    <tr>\n",
       "      <th>1/26/20</th>\n",
       "      <td>2118</td>\n",
       "    </tr>\n",
       "    <tr>\n",
       "      <th>...</th>\n",
       "      <td>...</td>\n",
       "    </tr>\n",
       "    <tr>\n",
       "      <th>6/1/20</th>\n",
       "      <td>6265852</td>\n",
       "    </tr>\n",
       "    <tr>\n",
       "      <th>6/2/20</th>\n",
       "      <td>6378237</td>\n",
       "    </tr>\n",
       "    <tr>\n",
       "      <th>6/3/20</th>\n",
       "      <td>6508635</td>\n",
       "    </tr>\n",
       "    <tr>\n",
       "      <th>6/4/20</th>\n",
       "      <td>6632985</td>\n",
       "    </tr>\n",
       "    <tr>\n",
       "      <th>6/5/20</th>\n",
       "      <td>6734088</td>\n",
       "    </tr>\n",
       "  </tbody>\n",
       "</table>\n",
       "<p>136 rows × 1 columns</p>\n",
       "</div>"
      ],
      "text/plain": [
       "        Infected\n",
       "1/22/20      555\n",
       "1/23/20      654\n",
       "1/24/20      941\n",
       "1/25/20     1434\n",
       "1/26/20     2118\n",
       "...          ...\n",
       "6/1/20   6265852\n",
       "6/2/20   6378237\n",
       "6/3/20   6508635\n",
       "6/4/20   6632985\n",
       "6/5/20   6734088\n",
       "\n",
       "[136 rows x 1 columns]"
      ]
     },
     "execution_count": 4,
     "metadata": {},
     "output_type": "execute_result"
    }
   ],
   "source": [
    "def get_confirmed():\n",
    "    con_casesnew = pd.read_csv(confirmed_url)\n",
    "    con_casesnew = con_casesnew.sum(axis=0)\n",
    "    con_casesnew.drop([\"Country/Region\",\"Lat\",\"Long\"], axis=0, inplace=True)\n",
    "    con_casesnew = pd.DataFrame(con_casesnew)\n",
    "    con_casesnew.rename(columns={0: \"Infected\"}, inplace=True)\n",
    "    return con_casesnew\n",
    "get_confirmed()"
   ]
  },
  {
   "cell_type": "markdown",
   "metadata": {},
   "source": [
    "### Function to get the number of deaths as a Dataframe"
   ]
  },
  {
   "cell_type": "code",
   "execution_count": 5,
   "metadata": {},
   "outputs": [
    {
     "data": {
      "text/html": [
       "<div>\n",
       "<style scoped>\n",
       "    .dataframe tbody tr th:only-of-type {\n",
       "        vertical-align: middle;\n",
       "    }\n",
       "\n",
       "    .dataframe tbody tr th {\n",
       "        vertical-align: top;\n",
       "    }\n",
       "\n",
       "    .dataframe thead th {\n",
       "        text-align: right;\n",
       "    }\n",
       "</style>\n",
       "<table border=\"1\" class=\"dataframe\">\n",
       "  <thead>\n",
       "    <tr style=\"text-align: right;\">\n",
       "      <th></th>\n",
       "      <th>Deaths</th>\n",
       "    </tr>\n",
       "  </thead>\n",
       "  <tbody>\n",
       "    <tr>\n",
       "      <th>1/22/20</th>\n",
       "      <td>17</td>\n",
       "    </tr>\n",
       "    <tr>\n",
       "      <th>1/23/20</th>\n",
       "      <td>18</td>\n",
       "    </tr>\n",
       "    <tr>\n",
       "      <th>1/24/20</th>\n",
       "      <td>26</td>\n",
       "    </tr>\n",
       "    <tr>\n",
       "      <th>1/25/20</th>\n",
       "      <td>42</td>\n",
       "    </tr>\n",
       "    <tr>\n",
       "      <th>1/26/20</th>\n",
       "      <td>56</td>\n",
       "    </tr>\n",
       "    <tr>\n",
       "      <th>...</th>\n",
       "      <td>...</td>\n",
       "    </tr>\n",
       "    <tr>\n",
       "      <th>6/1/20</th>\n",
       "      <td>375543</td>\n",
       "    </tr>\n",
       "    <tr>\n",
       "      <th>6/2/20</th>\n",
       "      <td>380249</td>\n",
       "    </tr>\n",
       "    <tr>\n",
       "      <th>6/3/20</th>\n",
       "      <td>385947</td>\n",
       "    </tr>\n",
       "    <tr>\n",
       "      <th>6/4/20</th>\n",
       "      <td>391136</td>\n",
       "    </tr>\n",
       "    <tr>\n",
       "      <th>6/5/20</th>\n",
       "      <td>394875</td>\n",
       "    </tr>\n",
       "  </tbody>\n",
       "</table>\n",
       "<p>136 rows × 1 columns</p>\n",
       "</div>"
      ],
      "text/plain": [
       "         Deaths\n",
       "1/22/20      17\n",
       "1/23/20      18\n",
       "1/24/20      26\n",
       "1/25/20      42\n",
       "1/26/20      56\n",
       "...         ...\n",
       "6/1/20   375543\n",
       "6/2/20   380249\n",
       "6/3/20   385947\n",
       "6/4/20   391136\n",
       "6/5/20   394875\n",
       "\n",
       "[136 rows x 1 columns]"
      ]
     },
     "execution_count": 5,
     "metadata": {},
     "output_type": "execute_result"
    }
   ],
   "source": [
    "def get_deaths():\n",
    "    deaths_new = pd.read_csv(deaths_url)\n",
    "    deaths_new = deaths_new.sum(axis=0)\n",
    "    deaths_new.drop([\"Country/Region\",\"Lat\",\"Long\"], axis=0, inplace=True)\n",
    "    deaths_new = pd.DataFrame(deaths_new)\n",
    "    deaths_new.rename(columns={0: \"Deaths\"}, inplace=True)\n",
    "    return deaths_new\n",
    "get_deaths()"
   ]
  },
  {
   "cell_type": "markdown",
   "metadata": {},
   "source": [
    "### Function to get the number of recoveries as a Dataframe"
   ]
  },
  {
   "cell_type": "code",
   "execution_count": 6,
   "metadata": {},
   "outputs": [
    {
     "data": {
      "text/html": [
       "<div>\n",
       "<style scoped>\n",
       "    .dataframe tbody tr th:only-of-type {\n",
       "        vertical-align: middle;\n",
       "    }\n",
       "\n",
       "    .dataframe tbody tr th {\n",
       "        vertical-align: top;\n",
       "    }\n",
       "\n",
       "    .dataframe thead th {\n",
       "        text-align: right;\n",
       "    }\n",
       "</style>\n",
       "<table border=\"1\" class=\"dataframe\">\n",
       "  <thead>\n",
       "    <tr style=\"text-align: right;\">\n",
       "      <th></th>\n",
       "      <th>Recovered</th>\n",
       "    </tr>\n",
       "  </thead>\n",
       "  <tbody>\n",
       "    <tr>\n",
       "      <th>1/22/20</th>\n",
       "      <td>28</td>\n",
       "    </tr>\n",
       "    <tr>\n",
       "      <th>1/23/20</th>\n",
       "      <td>30</td>\n",
       "    </tr>\n",
       "    <tr>\n",
       "      <th>1/24/20</th>\n",
       "      <td>36</td>\n",
       "    </tr>\n",
       "    <tr>\n",
       "      <th>1/25/20</th>\n",
       "      <td>39</td>\n",
       "    </tr>\n",
       "    <tr>\n",
       "      <th>1/26/20</th>\n",
       "      <td>52</td>\n",
       "    </tr>\n",
       "    <tr>\n",
       "      <th>...</th>\n",
       "      <td>...</td>\n",
       "    </tr>\n",
       "    <tr>\n",
       "      <th>6/1/20</th>\n",
       "      <td>2691038</td>\n",
       "    </tr>\n",
       "    <tr>\n",
       "      <th>6/2/20</th>\n",
       "      <td>2794375</td>\n",
       "    </tr>\n",
       "    <tr>\n",
       "      <th>6/3/20</th>\n",
       "      <td>2874125</td>\n",
       "    </tr>\n",
       "    <tr>\n",
       "      <th>6/4/20</th>\n",
       "      <td>2944289</td>\n",
       "    </tr>\n",
       "    <tr>\n",
       "      <th>6/5/20</th>\n",
       "      <td>2746192</td>\n",
       "    </tr>\n",
       "  </tbody>\n",
       "</table>\n",
       "<p>136 rows × 1 columns</p>\n",
       "</div>"
      ],
      "text/plain": [
       "        Recovered\n",
       "1/22/20        28\n",
       "1/23/20        30\n",
       "1/24/20        36\n",
       "1/25/20        39\n",
       "1/26/20        52\n",
       "...           ...\n",
       "6/1/20    2691038\n",
       "6/2/20    2794375\n",
       "6/3/20    2874125\n",
       "6/4/20    2944289\n",
       "6/5/20    2746192\n",
       "\n",
       "[136 rows x 1 columns]"
      ]
     },
     "execution_count": 6,
     "metadata": {},
     "output_type": "execute_result"
    }
   ],
   "source": [
    "def get_recovered():\n",
    "    rec_new = pd.read_csv(recovered_url)\n",
    "    rec_new = rec_new.sum(axis=0)\n",
    "    rec_new.drop([\"Country/Region\",\"Lat\",\"Long\"], axis=0, inplace=True)\n",
    "    rec_new = pd.DataFrame(rec_new)\n",
    "    rec_new.rename(columns={0: \"Recovered\"}, inplace=True)\n",
    "    \n",
    "    return rec_new\n",
    "get_recovered()"
   ]
  },
  {
   "cell_type": "markdown",
   "metadata": {},
   "source": [
    "### Scraper"
   ]
  },
  {
   "cell_type": "code",
   "execution_count": 7,
   "metadata": {},
   "outputs": [],
   "source": [
    "def get_newvals():\n",
    "    url_wminfo = \"https://www.worldometers.info/coronavirus/\"\n",
    "    page = requests.get(url_wminfo)\n",
    "    soup = BeautifulSoup(page.content, 'html.parser')\n",
    "    result = soup.find_all(\"div\", {\"id\":\"maincounter-wrap\"})\n",
    "    numbers = []\n",
    "    for r in result:\n",
    "        numbers.append(int(r.text.split(':')[-1].replace(',','').replace(' ','')))\n",
    "    return numbers"
   ]
  },
  {
   "cell_type": "code",
   "execution_count": 8,
   "metadata": {},
   "outputs": [
    {
     "data": {
      "text/plain": [
       "[6862700, 398496, 3361577]"
      ]
     },
     "execution_count": 8,
     "metadata": {},
     "output_type": "execute_result"
    }
   ],
   "source": [
    "numbers = get_newvals()\n",
    "numbers"
   ]
  },
  {
   "cell_type": "markdown",
   "metadata": {},
   "source": [
    "## Forecasting Confirmed Cases"
   ]
  },
  {
   "cell_type": "code",
   "execution_count": 9,
   "metadata": {},
   "outputs": [
    {
     "data": {
      "text/html": [
       "<div>\n",
       "<style scoped>\n",
       "    .dataframe tbody tr th:only-of-type {\n",
       "        vertical-align: middle;\n",
       "    }\n",
       "\n",
       "    .dataframe tbody tr th {\n",
       "        vertical-align: top;\n",
       "    }\n",
       "\n",
       "    .dataframe thead th {\n",
       "        text-align: right;\n",
       "    }\n",
       "</style>\n",
       "<table border=\"1\" class=\"dataframe\">\n",
       "  <thead>\n",
       "    <tr style=\"text-align: right;\">\n",
       "      <th></th>\n",
       "      <th>Infected</th>\n",
       "    </tr>\n",
       "  </thead>\n",
       "  <tbody>\n",
       "    <tr>\n",
       "      <th>6/1/20</th>\n",
       "      <td>6265852</td>\n",
       "    </tr>\n",
       "    <tr>\n",
       "      <th>6/2/20</th>\n",
       "      <td>6378237</td>\n",
       "    </tr>\n",
       "    <tr>\n",
       "      <th>6/3/20</th>\n",
       "      <td>6508635</td>\n",
       "    </tr>\n",
       "    <tr>\n",
       "      <th>6/4/20</th>\n",
       "      <td>6632985</td>\n",
       "    </tr>\n",
       "    <tr>\n",
       "      <th>6/5/20</th>\n",
       "      <td>6734088</td>\n",
       "    </tr>\n",
       "  </tbody>\n",
       "</table>\n",
       "</div>"
      ],
      "text/plain": [
       "       Infected\n",
       "6/1/20  6265852\n",
       "6/2/20  6378237\n",
       "6/3/20  6508635\n",
       "6/4/20  6632985\n",
       "6/5/20  6734088"
      ]
     },
     "execution_count": 9,
     "metadata": {},
     "output_type": "execute_result"
    }
   ],
   "source": [
    "df = get_confirmed()\n",
    "df.tail()"
   ]
  },
  {
   "cell_type": "code",
   "execution_count": 10,
   "metadata": {},
   "outputs": [],
   "source": [
    "close_data = df['Infected'].values\n",
    "close_data = close_data.reshape((-1,1))\n",
    "\n",
    "split_percent = 0.80\n",
    "split = int(split_percent*len(close_data))\n",
    "\n",
    "close_train = close_data[:split]\n",
    "close_test = close_data[split:]\n",
    "\n",
    "cclose = close_data"
   ]
  },
  {
   "cell_type": "code",
   "execution_count": 11,
   "metadata": {},
   "outputs": [],
   "source": [
    "look_back = 2\n",
    "\n",
    "train_generator = TimeseriesGenerator(cclose, cclose, length=look_back, batch_size=20)     \n",
    "test_generator = TimeseriesGenerator(close_test, close_test, length=look_back, batch_size=1)"
   ]
  },
  {
   "cell_type": "code",
   "execution_count": 12,
   "metadata": {},
   "outputs": [
    {
     "name": "stdout",
     "output_type": "stream",
     "text": [
      "Epoch 1/100\n",
      "7/7 [==============================] - 4s 579ms/step - loss: 8741307452575.2832\n",
      "Epoch 2/100\n",
      "7/7 [==============================] - 0s 45ms/step - loss: 8717084957931.7012\n",
      "Epoch 3/100\n",
      "7/7 [==============================] - 0s 50ms/step - loss: 8673864158385.6719\n",
      "Epoch 4/100\n",
      "7/7 [==============================] - 0s 39ms/step - loss: 8644456838677.7314\n",
      "Epoch 5/100\n",
      "7/7 [==============================] - 0s 26ms/step - loss: 8612677025596.6562\n",
      "Epoch 6/100\n",
      "7/7 [==============================] - 0s 34ms/step - loss: 8586467684961.6719\n",
      "Epoch 7/100\n",
      "7/7 [==============================] - 0s 27ms/step - loss: 8544865347460.7764\n",
      "Epoch 8/100\n",
      "7/7 [==============================] - 0s 41ms/step - loss: 8509461164400.5967\n",
      "Epoch 9/100\n",
      "7/7 [==============================] - 0s 27ms/step - loss: 8463283241770.5078\n",
      "Epoch 10/100\n",
      "7/7 [==============================] - 0s 35ms/step - loss: 8424766253920.7168\n",
      "Epoch 11/100\n",
      "7/7 [==============================] - 0s 24ms/step - loss: 8391263882298.5078\n",
      "Epoch 12/100\n",
      "7/7 [==============================] - 0s 36ms/step - loss: 8340422194562.9854\n",
      "Epoch 13/100\n",
      "7/7 [==============================] - 0s 45ms/step - loss: 8297490574540.0596\n",
      "Epoch 14/100\n",
      "7/7 [==============================] - 1s 80ms/step - loss: 8251948146650.2686\n",
      "Epoch 15/100\n",
      "7/7 [==============================] - 0s 43ms/step - loss: 8216665256158.4473\n",
      "Epoch 16/100\n",
      "7/7 [==============================] - 0s 47ms/step - loss: 8154392024031.5225\n",
      "Epoch 17/100\n",
      "7/7 [==============================] - 0s 38ms/step - loss: 8103066799696.2383\n",
      "Epoch 18/100\n",
      "7/7 [==============================] - 0s 49ms/step - loss: 8059664719469.0146\n",
      "Epoch 19/100\n",
      "7/7 [==============================] - 0s 49ms/step - loss: 8000481096555.2236\n",
      "Epoch 20/100\n",
      "7/7 [==============================] - 0s 48ms/step - loss: 7959904594154.7461\n",
      "Epoch 21/100\n",
      "7/7 [==============================] - 0s 44ms/step - loss: 7887536294301.6123\n",
      "Epoch 22/100\n",
      "7/7 [==============================] - 0s 61ms/step - loss: 7832675617772.4180\n",
      "Epoch 23/100\n",
      "7/7 [==============================] - 0s 45ms/step - loss: 7758103603462.6865\n",
      "Epoch 24/100\n",
      "7/7 [==============================] - 0s 32ms/step - loss: 7708366172304.4775\n",
      "Epoch 25/100\n",
      "7/7 [==============================] - 0s 34ms/step - loss: 7654962173002.1494\n",
      "Epoch 26/100\n",
      "7/7 [==============================] - 0s 34ms/step - loss: 7578131184855.7617\n",
      "Epoch 27/100\n",
      "7/7 [==============================] - 0s 31ms/step - loss: 7534809699014.5674\n",
      "Epoch 28/100\n",
      "7/7 [==============================] - 0s 36ms/step - loss: 7438592508165.8506\n",
      "Epoch 29/100\n",
      "7/7 [==============================] - 0s 34ms/step - loss: 7384957906824.7168\n",
      "Epoch 30/100\n",
      "7/7 [==============================] - 0s 20ms/step - loss: 7300670368330.6270\n",
      "Epoch 31/100\n",
      "7/7 [==============================] - 0s 66ms/step - loss: 7238678689893.7314\n",
      "Epoch 32/100\n",
      "7/7 [==============================] - 0s 45ms/step - loss: 7146725599724.7764\n",
      "Epoch 33/100\n",
      "7/7 [==============================] - 0s 34ms/step - loss: 7088702105608.8359\n",
      "Epoch 34/100\n",
      "7/7 [==============================] - 0s 40ms/step - loss: 6992592120125.5527\n",
      "Epoch 35/100\n",
      "7/7 [==============================] - 0s 40ms/step - loss: 6941750688840.7168\n",
      "Epoch 36/100\n",
      "7/7 [==============================] - 0s 38ms/step - loss: 6836461437975.8809\n",
      "Epoch 37/100\n",
      "7/7 [==============================] - 0s 30ms/step - loss: 6766214733294.2686\n",
      "Epoch 38/100\n",
      "7/7 [==============================] - 0s 27ms/step - loss: 6669684017430.4473\n",
      "Epoch 39/100\n",
      "7/7 [==============================] - 0s 27ms/step - loss: 6578651048182.9854\n",
      "Epoch 40/100\n",
      "7/7 [==============================] - 0s 42ms/step - loss: 6517676942138.2090\n",
      "Epoch 41/100\n",
      "7/7 [==============================] - 0s 18ms/step - loss: 6402906193263.3438\n",
      "Epoch 42/100\n",
      "7/7 [==============================] - 0s 18ms/step - loss: 6317944792045.2539\n",
      "Epoch 43/100\n",
      "7/7 [==============================] - 0s 23ms/step - loss: 6222919808076.4180\n",
      "Epoch 44/100\n",
      "7/7 [==============================] - 0s 30ms/step - loss: 6153830644380.2988\n",
      "Epoch 45/100\n",
      "7/7 [==============================] - 0s 43ms/step - loss: 6021235308545.8506\n",
      "Epoch 46/100\n",
      "7/7 [==============================] - 0s 44ms/step - loss: 5943115211234.3877\n",
      "Epoch 47/100\n",
      "7/7 [==============================] - 0s 36ms/step - loss: 5843360713253.7314\n",
      "Epoch 48/100\n",
      "7/7 [==============================] - 0s 15ms/step - loss: 5774066411715.2832\n",
      "Epoch 49/100\n",
      "7/7 [==============================] - 0s 23ms/step - loss: 5671824496251.8213\n",
      "Epoch 50/100\n",
      "7/7 [==============================] - 0s 21ms/step - loss: 5554801132639.8809\n",
      "Epoch 51/100\n",
      "7/7 [==============================] - 0s 35ms/step - loss: 5440160432922.6270\n",
      "Epoch 52/100\n",
      "7/7 [==============================] - 0s 52ms/step - loss: 5352680232806.5674\n",
      "Epoch 53/100\n",
      "7/7 [==============================] - 0s 23ms/step - loss: 5249206489670.8057\n",
      "Epoch 54/100\n",
      "7/7 [==============================] - 0s 44ms/step - loss: 5161120026899.8213\n",
      "Epoch 55/100\n",
      "7/7 [==============================] - 0s 53ms/step - loss: 5031122689321.5527\n",
      "Epoch 56/100\n",
      "7/7 [==============================] - 0s 44ms/step - loss: 4936831386020.7168\n",
      "Epoch 57/100\n",
      "7/7 [==============================] - 0s 42ms/step - loss: 4821189801540.6562\n",
      "Epoch 58/100\n",
      "7/7 [==============================] - 0s 42ms/step - loss: 4722544578536.5371\n",
      "Epoch 59/100\n",
      "7/7 [==============================] - 0s 43ms/step - loss: 4598518393483.3438\n",
      "Epoch 60/100\n",
      "7/7 [==============================] - 0s 59ms/step - loss: 4541169817856.8955\n",
      "Epoch 61/100\n",
      "7/7 [==============================] - 0s 30ms/step - loss: 4394746089359.7017\n",
      "Epoch 62/100\n",
      "7/7 [==============================] - 0s 47ms/step - loss: 4299175626128.2983\n",
      "Epoch 63/100\n",
      "7/7 [==============================] - 0s 34ms/step - loss: 4177539560140.0596\n",
      "Epoch 64/100\n",
      "7/7 [==============================] - 0s 29ms/step - loss: 4097544491101.6118\n",
      "Epoch 65/100\n",
      "7/7 [==============================] - 0s 41ms/step - loss: 3966637030924.7764\n",
      "Epoch 66/100\n",
      "7/7 [==============================] - 0s 65ms/step - loss: 3881678155648.5972\n",
      "Epoch 67/100\n",
      "7/7 [==============================] - 0s 40ms/step - loss: 3749810315030.5674\n",
      "Epoch 68/100\n",
      "7/7 [==============================] - 0s 46ms/step - loss: 3654877260669.0747\n",
      "Epoch 69/100\n",
      "7/7 [==============================] - 0s 38ms/step - loss: 3572401923987.0449\n",
      "Epoch 70/100\n",
      "7/7 [==============================] - 0s 54ms/step - loss: 3451048939800.3584\n",
      "Epoch 71/100\n",
      "7/7 [==============================] - 0s 41ms/step - loss: 3341749890965.0747\n",
      "Epoch 72/100\n",
      "7/7 [==============================] - 0s 51ms/step - loss: 3242963454276.7163\n",
      "Epoch 73/100\n",
      "7/7 [==============================] - 0s 45ms/step - loss: 3157202691169.1641\n",
      "Epoch 74/100\n",
      "7/7 [==============================] - 0s 42ms/step - loss: 3052095545422.8062\n",
      "Epoch 75/100\n",
      "7/7 [==============================] - 0s 43ms/step - loss: 2929092729834.2388\n",
      "Epoch 76/100\n",
      "7/7 [==============================] - 0s 39ms/step - loss: 2810730106342.4775\n",
      "Epoch 77/100\n",
      "7/7 [==============================] - 0s 57ms/step - loss: 2731481335997.5522\n",
      "Epoch 78/100\n",
      "7/7 [==============================] - 0s 46ms/step - loss: 2631217215644.8359\n",
      "Epoch 79/100\n",
      "7/7 [==============================] - 0s 46ms/step - loss: 2556778966844.1792\n",
      "Epoch 80/100\n",
      "7/7 [==============================] - 0s 48ms/step - loss: 2437746839764.9551\n",
      "Epoch 81/100\n",
      "7/7 [==============================] - 0s 43ms/step - loss: 2381527742691.6416\n",
      "Epoch 82/100\n",
      "7/7 [==============================] - 0s 36ms/step - loss: 2270454090511.7910\n",
      "Epoch 83/100\n",
      "7/7 [==============================] - 0s 43ms/step - loss: 2168570998800.6270\n",
      "Epoch 84/100\n",
      "7/7 [==============================] - 0s 64ms/step - loss: 2079469399306.0298\n",
      "Epoch 85/100\n",
      "7/7 [==============================] - 0s 45ms/step - loss: 2009932150664.7163\n",
      "Epoch 86/100\n",
      "7/7 [==============================] - 0s 59ms/step - loss: 1919869196659.3433\n",
      "Epoch 87/100\n",
      "7/7 [==============================] - 0s 53ms/step - loss: 1813002223633.2537\n",
      "Epoch 88/100\n",
      "7/7 [==============================] - 0s 43ms/step - loss: 1776517641950.8657\n",
      "Epoch 89/100\n",
      "7/7 [==============================] - 0s 48ms/step - loss: 1659693748617.4329\n",
      "Epoch 90/100\n"
     ]
    },
    {
     "name": "stdout",
     "output_type": "stream",
     "text": [
      "7/7 [==============================] - 0s 45ms/step - loss: 1593782654265.7314\n",
      "Epoch 91/100\n",
      "7/7 [==============================] - 0s 39ms/step - loss: 1507079767833.7910\n",
      "Epoch 92/100\n",
      "7/7 [==============================] - 0s 41ms/step - loss: 1460033149180.9851\n",
      "Epoch 93/100\n",
      "7/7 [==============================] - 0s 46ms/step - loss: 1393056941398.8955\n",
      "Epoch 94/100\n",
      "7/7 [==============================] - 0s 39ms/step - loss: 1299440046970.2837\n",
      "Epoch 95/100\n",
      "7/7 [==============================] - 0s 40ms/step - loss: 1235341683618.1492\n",
      "Epoch 96/100\n",
      "7/7 [==============================] - 0s 46ms/step - loss: 1164995276448.8208\n",
      "Epoch 97/100\n",
      "7/7 [==============================] - 0s 36ms/step - loss: 1118648609716.3882\n",
      "Epoch 98/100\n",
      "7/7 [==============================] - 0s 60ms/step - loss: 1060869867405.6119\n",
      "Epoch 99/100\n",
      "7/7 [==============================] - 1s 72ms/step - loss: 986207455597.0597\n",
      "Epoch 100/100\n",
      "7/7 [==============================] - 0s 53ms/step - loss: 924531876701.8059\n"
     ]
    },
    {
     "data": {
      "text/plain": [
       "<keras.callbacks.callbacks.History at 0x7fc7bc7d8950>"
      ]
     },
     "execution_count": 12,
     "metadata": {},
     "output_type": "execute_result"
    }
   ],
   "source": [
    "from keras.models import Sequential\n",
    "from keras.layers import LSTM, Dense\n",
    "\n",
    "model = Sequential()\n",
    "model.add(\n",
    "    LSTM(10,\n",
    "        activation='relu',\n",
    "        input_shape=(look_back,1))\n",
    ")\n",
    "model.add(Dense(1))\n",
    "model.compile(optimizer='adam', loss='mse')\n",
    "\n",
    "num_epochs = 100\n",
    "model.fit_generator(train_generator, epochs=num_epochs, verbose=1)"
   ]
  },
  {
   "cell_type": "code",
   "execution_count": 13,
   "metadata": {},
   "outputs": [],
   "source": [
    "prediction = model.predict_generator(test_generator)\n",
    "\n",
    "cclose = cclose.reshape((-1))\n",
    "close_train = close_train.reshape((-1))\n",
    "close_test = close_test.reshape((-1))\n",
    "prediction = prediction.reshape((-1))"
   ]
  },
  {
   "cell_type": "code",
   "execution_count": 14,
   "metadata": {},
   "outputs": [],
   "source": [
    "close_data = close_data.reshape((-1))\n",
    "\n",
    "def predict(num_prediction, model):\n",
    "    prediction_list = close_data[-look_back:]\n",
    "    \n",
    "    for _ in range(num_prediction):\n",
    "        x = prediction_list[-look_back:]\n",
    "        x = x.reshape((1, look_back, 1))\n",
    "        out = model.predict(x)[0][0]\n",
    "        prediction_list = np.append(prediction_list, out)\n",
    "    prediction_list = prediction_list[look_back-1:]\n",
    "        \n",
    "    return prediction_list\n",
    "num_prediction = 1\n",
    "forecast = predict(num_prediction, model)\n",
    "forecast = numbers[0]"
   ]
  },
  {
   "cell_type": "code",
   "execution_count": 15,
   "metadata": {},
   "outputs": [
    {
     "data": {
      "text/plain": [
       "6862700"
      ]
     },
     "execution_count": 15,
     "metadata": {},
     "output_type": "execute_result"
    }
   ],
   "source": [
    "forecast"
   ]
  },
  {
   "cell_type": "code",
   "execution_count": 16,
   "metadata": {},
   "outputs": [
    {
     "data": {
      "text/html": [
       "<div>\n",
       "<style scoped>\n",
       "    .dataframe tbody tr th:only-of-type {\n",
       "        vertical-align: middle;\n",
       "    }\n",
       "\n",
       "    .dataframe tbody tr th {\n",
       "        vertical-align: top;\n",
       "    }\n",
       "\n",
       "    .dataframe thead th {\n",
       "        text-align: right;\n",
       "    }\n",
       "</style>\n",
       "<table border=\"1\" class=\"dataframe\">\n",
       "  <thead>\n",
       "    <tr style=\"text-align: right;\">\n",
       "      <th></th>\n",
       "      <th>Infected</th>\n",
       "    </tr>\n",
       "  </thead>\n",
       "  <tbody>\n",
       "    <tr>\n",
       "      <th>6/1/20</th>\n",
       "      <td>6265852</td>\n",
       "    </tr>\n",
       "    <tr>\n",
       "      <th>6/2/20</th>\n",
       "      <td>6378237</td>\n",
       "    </tr>\n",
       "    <tr>\n",
       "      <th>6/3/20</th>\n",
       "      <td>6508635</td>\n",
       "    </tr>\n",
       "    <tr>\n",
       "      <th>6/4/20</th>\n",
       "      <td>6632985</td>\n",
       "    </tr>\n",
       "    <tr>\n",
       "      <th>6/5/20</th>\n",
       "      <td>6734088</td>\n",
       "    </tr>\n",
       "  </tbody>\n",
       "</table>\n",
       "</div>"
      ],
      "text/plain": [
       "       Infected\n",
       "6/1/20  6265852\n",
       "6/2/20  6378237\n",
       "6/3/20  6508635\n",
       "6/4/20  6632985\n",
       "6/5/20  6734088"
      ]
     },
     "execution_count": 16,
     "metadata": {},
     "output_type": "execute_result"
    }
   ],
   "source": [
    "df.tail()"
   ]
  },
  {
   "cell_type": "code",
   "execution_count": 17,
   "metadata": {},
   "outputs": [
    {
     "data": {
      "text/plain": [
       "<matplotlib.legend.Legend at 0x7fc7b06db650>"
      ]
     },
     "execution_count": 17,
     "metadata": {},
     "output_type": "execute_result"
    },
    {
     "data": {
      "image/png": "[encoded data removed]",
      "text/plain": [
       "<Figure size 960x720 with 1 Axes>"
      ]
     },
     "metadata": {},
     "output_type": "display_data"
    }
   ],
   "source": [
    "from matplotlib.pyplot import figure\n",
    "figure(num=None, figsize=(12, 9), dpi=80, facecolor='w', edgecolor='k')\n",
    "plt.plot(df, label='confirmed')\n",
    "plt.legend(loc=\"upper left\")"
   ]
  },
  {
   "cell_type": "code",
   "execution_count": 18,
   "metadata": {},
   "outputs": [
    {
     "data": {
      "text/html": [
       "<div>\n",
       "<style scoped>\n",
       "    .dataframe tbody tr th:only-of-type {\n",
       "        vertical-align: middle;\n",
       "    }\n",
       "\n",
       "    .dataframe tbody tr th {\n",
       "        vertical-align: top;\n",
       "    }\n",
       "\n",
       "    .dataframe thead th {\n",
       "        text-align: right;\n",
       "    }\n",
       "</style>\n",
       "<table border=\"1\" class=\"dataframe\">\n",
       "  <thead>\n",
       "    <tr style=\"text-align: right;\">\n",
       "      <th></th>\n",
       "      <th>Infected</th>\n",
       "    </tr>\n",
       "  </thead>\n",
       "  <tbody>\n",
       "    <tr>\n",
       "      <th>1/22/20</th>\n",
       "      <td>555</td>\n",
       "    </tr>\n",
       "    <tr>\n",
       "      <th>1/23/20</th>\n",
       "      <td>654</td>\n",
       "    </tr>\n",
       "    <tr>\n",
       "      <th>1/24/20</th>\n",
       "      <td>941</td>\n",
       "    </tr>\n",
       "    <tr>\n",
       "      <th>1/25/20</th>\n",
       "      <td>1434</td>\n",
       "    </tr>\n",
       "    <tr>\n",
       "      <th>1/26/20</th>\n",
       "      <td>2118</td>\n",
       "    </tr>\n",
       "    <tr>\n",
       "      <th>...</th>\n",
       "      <td>...</td>\n",
       "    </tr>\n",
       "    <tr>\n",
       "      <th>6/2/20</th>\n",
       "      <td>6378237</td>\n",
       "    </tr>\n",
       "    <tr>\n",
       "      <th>6/3/20</th>\n",
       "      <td>6508635</td>\n",
       "    </tr>\n",
       "    <tr>\n",
       "      <th>6/4/20</th>\n",
       "      <td>6632985</td>\n",
       "    </tr>\n",
       "    <tr>\n",
       "      <th>6/5/20</th>\n",
       "      <td>6734088</td>\n",
       "    </tr>\n",
       "    <tr>\n",
       "      <th>6/06/20</th>\n",
       "      <td>6862700</td>\n",
       "    </tr>\n",
       "  </tbody>\n",
       "</table>\n",
       "<p>137 rows × 1 columns</p>\n",
       "</div>"
      ],
      "text/plain": [
       "        Infected\n",
       "1/22/20      555\n",
       "1/23/20      654\n",
       "1/24/20      941\n",
       "1/25/20     1434\n",
       "1/26/20     2118\n",
       "...          ...\n",
       "6/2/20   6378237\n",
       "6/3/20   6508635\n",
       "6/4/20   6632985\n",
       "6/5/20   6734088\n",
       "6/06/20  6862700\n",
       "\n",
       "[137 rows x 1 columns]"
      ]
     },
     "execution_count": 18,
     "metadata": {},
     "output_type": "execute_result"
    }
   ],
   "source": [
    "df_temp = df\n",
    "df_temp.loc[d1] = forecast\n",
    "df_temp"
   ]
  },
  {
   "cell_type": "code",
   "execution_count": 19,
   "metadata": {},
   "outputs": [
    {
     "data": {
      "text/plain": [
       "<matplotlib.legend.Legend at 0x7fc7bab02a50>"
      ]
     },
     "execution_count": 19,
     "metadata": {},
     "output_type": "execute_result"
    },
    {
     "data": {
      "image/png": "[encoded data removed]",
      "text/plain": [
       "<Figure size 960x720 with 1 Axes>"
      ]
     },
     "metadata": {},
     "output_type": "display_data"
    }
   ],
   "source": [
    "from matplotlib.pyplot import figure\n",
    "figure(num=None, figsize=(12,9), dpi=80, facecolor='w', edgecolor='k')\n",
    "plt.plot(df_temp[-7:], range(7), linestyle='--', marker='o', color='b', label='confirmed')\n",
    "plt.legend(loc=\"upper left\")"
   ]
  },
  {
   "cell_type": "markdown",
   "metadata": {},
   "source": [
    "## Forecasting Recoveries"
   ]
  },
  {
   "cell_type": "code",
   "execution_count": 20,
   "metadata": {},
   "outputs": [
    {
     "data": {
      "text/html": [
       "<div>\n",
       "<style scoped>\n",
       "    .dataframe tbody tr th:only-of-type {\n",
       "        vertical-align: middle;\n",
       "    }\n",
       "\n",
       "    .dataframe tbody tr th {\n",
       "        vertical-align: top;\n",
       "    }\n",
       "\n",
       "    .dataframe thead th {\n",
       "        text-align: right;\n",
       "    }\n",
       "</style>\n",
       "<table border=\"1\" class=\"dataframe\">\n",
       "  <thead>\n",
       "    <tr style=\"text-align: right;\">\n",
       "      <th></th>\n",
       "      <th>Recovered</th>\n",
       "    </tr>\n",
       "  </thead>\n",
       "  <tbody>\n",
       "    <tr>\n",
       "      <th>6/1/20</th>\n",
       "      <td>2691038</td>\n",
       "    </tr>\n",
       "    <tr>\n",
       "      <th>6/2/20</th>\n",
       "      <td>2794375</td>\n",
       "    </tr>\n",
       "    <tr>\n",
       "      <th>6/3/20</th>\n",
       "      <td>2874125</td>\n",
       "    </tr>\n",
       "    <tr>\n",
       "      <th>6/4/20</th>\n",
       "      <td>2944289</td>\n",
       "    </tr>\n",
       "    <tr>\n",
       "      <th>6/5/20</th>\n",
       "      <td>2746192</td>\n",
       "    </tr>\n",
       "  </tbody>\n",
       "</table>\n",
       "</div>"
      ],
      "text/plain": [
       "       Recovered\n",
       "6/1/20   2691038\n",
       "6/2/20   2794375\n",
       "6/3/20   2874125\n",
       "6/4/20   2944289\n",
       "6/5/20   2746192"
      ]
     },
     "execution_count": 20,
     "metadata": {},
     "output_type": "execute_result"
    }
   ],
   "source": [
    "df_rec = get_recovered()\n",
    "df_rec.tail()"
   ]
  },
  {
   "cell_type": "code",
   "execution_count": 21,
   "metadata": {},
   "outputs": [],
   "source": [
    "close_data_rec = df_rec['Recovered'].values\n",
    "close_data_rec = close_data.reshape((-1,1))\n",
    "\n",
    "split_percent = 0.80\n",
    "split = int(split_percent*len(close_data_rec))\n",
    "\n",
    "close_train_rec = close_data_rec[:split]\n",
    "close_test_rec = close_data_rec[split:]\n",
    "\n",
    "cclose_rec = close_data_rec"
   ]
  },
  {
   "cell_type": "code",
   "execution_count": 22,
   "metadata": {},
   "outputs": [],
   "source": [
    "look_back = 2\n",
    "\n",
    "train_generator_rec = TimeseriesGenerator(cclose_rec, cclose_rec, length=look_back, batch_size=20)     \n",
    "test_generator_rec = TimeseriesGenerator(close_test_rec, close_test_rec, length=look_back, batch_size=1)"
   ]
  },
  {
   "cell_type": "code",
   "execution_count": 23,
   "metadata": {},
   "outputs": [],
   "source": [
    "prediction_rec = model.predict_generator(test_generator_rec)\n",
    "\n",
    "cclose_rec = cclose_rec.reshape((-1))\n",
    "close_train_rec = close_train_rec.reshape((-1))\n",
    "close_test_rec = close_test_rec.reshape((-1))\n",
    "prediction_rec = prediction_rec.reshape((-1))"
   ]
  },
  {
   "cell_type": "code",
   "execution_count": 24,
   "metadata": {},
   "outputs": [],
   "source": [
    "close_data_rec = close_data_rec.reshape((-1))\n",
    "\n",
    "def predict(num_prediction, model):\n",
    "    prediction_list = close_data_rec[-look_back:]\n",
    "    \n",
    "    for _ in range(num_prediction):\n",
    "        x = prediction_list[-look_back:]\n",
    "        x = x.reshape((1, look_back, 1))\n",
    "        out = model.predict(x)[0][0]\n",
    "        prediction_list = np.append(prediction_list, out)\n",
    "    prediction_list = prediction_list[look_back-1:]\n",
    "        \n",
    "    return prediction_list\n",
    "num_prediction = 1\n",
    "forecast_rec = predict(num_prediction, model)\n",
    "forecast_rec = numbers[2]"
   ]
  },
  {
   "cell_type": "code",
   "execution_count": 25,
   "metadata": {},
   "outputs": [
    {
     "data": {
      "text/plain": [
       "3361577"
      ]
     },
     "execution_count": 25,
     "metadata": {},
     "output_type": "execute_result"
    }
   ],
   "source": [
    "forecast_rec"
   ]
  },
  {
   "cell_type": "code",
   "execution_count": 26,
   "metadata": {},
   "outputs": [
    {
     "data": {
      "text/html": [
       "<div>\n",
       "<style scoped>\n",
       "    .dataframe tbody tr th:only-of-type {\n",
       "        vertical-align: middle;\n",
       "    }\n",
       "\n",
       "    .dataframe tbody tr th {\n",
       "        vertical-align: top;\n",
       "    }\n",
       "\n",
       "    .dataframe thead th {\n",
       "        text-align: right;\n",
       "    }\n",
       "</style>\n",
       "<table border=\"1\" class=\"dataframe\">\n",
       "  <thead>\n",
       "    <tr style=\"text-align: right;\">\n",
       "      <th></th>\n",
       "      <th>Recovered</th>\n",
       "    </tr>\n",
       "  </thead>\n",
       "  <tbody>\n",
       "    <tr>\n",
       "      <th>6/1/20</th>\n",
       "      <td>2691038</td>\n",
       "    </tr>\n",
       "    <tr>\n",
       "      <th>6/2/20</th>\n",
       "      <td>2794375</td>\n",
       "    </tr>\n",
       "    <tr>\n",
       "      <th>6/3/20</th>\n",
       "      <td>2874125</td>\n",
       "    </tr>\n",
       "    <tr>\n",
       "      <th>6/4/20</th>\n",
       "      <td>2944289</td>\n",
       "    </tr>\n",
       "    <tr>\n",
       "      <th>6/5/20</th>\n",
       "      <td>2746192</td>\n",
       "    </tr>\n",
       "  </tbody>\n",
       "</table>\n",
       "</div>"
      ],
      "text/plain": [
       "       Recovered\n",
       "6/1/20   2691038\n",
       "6/2/20   2794375\n",
       "6/3/20   2874125\n",
       "6/4/20   2944289\n",
       "6/5/20   2746192"
      ]
     },
     "execution_count": 26,
     "metadata": {},
     "output_type": "execute_result"
    }
   ],
   "source": [
    "df_rec.tail()"
   ]
  },
  {
   "cell_type": "code",
   "execution_count": 27,
   "metadata": {},
   "outputs": [
    {
     "data": {
      "text/plain": [
       "<matplotlib.legend.Legend at 0x7fc7bc7575d0>"
      ]
     },
     "execution_count": 27,
     "metadata": {},
     "output_type": "execute_result"
    },
    {
     "data": {
      "image/png": "[encoded data removed]",
      "text/plain": [
       "<Figure size 960x720 with 1 Axes>"
      ]
     },
     "metadata": {},
     "output_type": "display_data"
    }
   ],
   "source": [
    "from matplotlib.pyplot import figure\n",
    "figure(num=None, figsize=(12, 9), dpi=80, facecolor='w', edgecolor='k')\n",
    "plt.plot(df_rec, color='g', label='recoveries')\n",
    "plt.legend(loc=\"upper left\")"
   ]
  },
  {
   "cell_type": "code",
   "execution_count": 28,
   "metadata": {},
   "outputs": [
    {
     "data": {
      "text/html": [
       "<div>\n",
       "<style scoped>\n",
       "    .dataframe tbody tr th:only-of-type {\n",
       "        vertical-align: middle;\n",
       "    }\n",
       "\n",
       "    .dataframe tbody tr th {\n",
       "        vertical-align: top;\n",
       "    }\n",
       "\n",
       "    .dataframe thead th {\n",
       "        text-align: right;\n",
       "    }\n",
       "</style>\n",
       "<table border=\"1\" class=\"dataframe\">\n",
       "  <thead>\n",
       "    <tr style=\"text-align: right;\">\n",
       "      <th></th>\n",
       "      <th>Recovered</th>\n",
       "    </tr>\n",
       "  </thead>\n",
       "  <tbody>\n",
       "    <tr>\n",
       "      <th>1/22/20</th>\n",
       "      <td>28</td>\n",
       "    </tr>\n",
       "    <tr>\n",
       "      <th>1/23/20</th>\n",
       "      <td>30</td>\n",
       "    </tr>\n",
       "    <tr>\n",
       "      <th>1/24/20</th>\n",
       "      <td>36</td>\n",
       "    </tr>\n",
       "    <tr>\n",
       "      <th>1/25/20</th>\n",
       "      <td>39</td>\n",
       "    </tr>\n",
       "    <tr>\n",
       "      <th>1/26/20</th>\n",
       "      <td>52</td>\n",
       "    </tr>\n",
       "    <tr>\n",
       "      <th>...</th>\n",
       "      <td>...</td>\n",
       "    </tr>\n",
       "    <tr>\n",
       "      <th>6/2/20</th>\n",
       "      <td>2794375</td>\n",
       "    </tr>\n",
       "    <tr>\n",
       "      <th>6/3/20</th>\n",
       "      <td>2874125</td>\n",
       "    </tr>\n",
       "    <tr>\n",
       "      <th>6/4/20</th>\n",
       "      <td>2944289</td>\n",
       "    </tr>\n",
       "    <tr>\n",
       "      <th>6/5/20</th>\n",
       "      <td>2746192</td>\n",
       "    </tr>\n",
       "    <tr>\n",
       "      <th>6/06/20</th>\n",
       "      <td>3361577</td>\n",
       "    </tr>\n",
       "  </tbody>\n",
       "</table>\n",
       "<p>137 rows × 1 columns</p>\n",
       "</div>"
      ],
      "text/plain": [
       "        Recovered\n",
       "1/22/20        28\n",
       "1/23/20        30\n",
       "1/24/20        36\n",
       "1/25/20        39\n",
       "1/26/20        52\n",
       "...           ...\n",
       "6/2/20    2794375\n",
       "6/3/20    2874125\n",
       "6/4/20    2944289\n",
       "6/5/20    2746192\n",
       "6/06/20   3361577\n",
       "\n",
       "[137 rows x 1 columns]"
      ]
     },
     "execution_count": 28,
     "metadata": {},
     "output_type": "execute_result"
    }
   ],
   "source": [
    "df_temp_rec = df_rec\n",
    "df_temp_rec.loc[d1] = forecast_rec\n",
    "df_temp_rec"
   ]
  },
  {
   "cell_type": "code",
   "execution_count": 29,
   "metadata": {},
   "outputs": [
    {
     "data": {
      "text/plain": [
       "<matplotlib.legend.Legend at 0x7fc7bc185b50>"
      ]
     },
     "execution_count": 29,
     "metadata": {},
     "output_type": "execute_result"
    },
    {
     "data": {
      "image/png": "[encoded data removed]",
      "text/plain": [
       "<Figure size 960x720 with 1 Axes>"
      ]
     },
     "metadata": {},
     "output_type": "display_data"
    }
   ],
   "source": [
    "from matplotlib.pyplot import figure\n",
    "figure(num=None, figsize=(12,9), dpi=80, facecolor='w', edgecolor='k')\n",
    "plt.plot(df_temp_rec[-7:], range(7), linestyle='--', marker='o', color='g', label='recoveries')\n",
    "plt.legend(loc=\"upper left\")"
   ]
  },
  {
   "cell_type": "markdown",
   "metadata": {},
   "source": [
    "## Forecasting Deaths"
   ]
  },
  {
   "cell_type": "code",
   "execution_count": 30,
   "metadata": {},
   "outputs": [
    {
     "data": {
      "text/html": [
       "<div>\n",
       "<style scoped>\n",
       "    .dataframe tbody tr th:only-of-type {\n",
       "        vertical-align: middle;\n",
       "    }\n",
       "\n",
       "    .dataframe tbody tr th {\n",
       "        vertical-align: top;\n",
       "    }\n",
       "\n",
       "    .dataframe thead th {\n",
       "        text-align: right;\n",
       "    }\n",
       "</style>\n",
       "<table border=\"1\" class=\"dataframe\">\n",
       "  <thead>\n",
       "    <tr style=\"text-align: right;\">\n",
       "      <th></th>\n",
       "      <th>Deaths</th>\n",
       "    </tr>\n",
       "  </thead>\n",
       "  <tbody>\n",
       "    <tr>\n",
       "      <th>6/1/20</th>\n",
       "      <td>375543</td>\n",
       "    </tr>\n",
       "    <tr>\n",
       "      <th>6/2/20</th>\n",
       "      <td>380249</td>\n",
       "    </tr>\n",
       "    <tr>\n",
       "      <th>6/3/20</th>\n",
       "      <td>385947</td>\n",
       "    </tr>\n",
       "    <tr>\n",
       "      <th>6/4/20</th>\n",
       "      <td>391136</td>\n",
       "    </tr>\n",
       "    <tr>\n",
       "      <th>6/5/20</th>\n",
       "      <td>394875</td>\n",
       "    </tr>\n",
       "  </tbody>\n",
       "</table>\n",
       "</div>"
      ],
      "text/plain": [
       "        Deaths\n",
       "6/1/20  375543\n",
       "6/2/20  380249\n",
       "6/3/20  385947\n",
       "6/4/20  391136\n",
       "6/5/20  394875"
      ]
     },
     "execution_count": 30,
     "metadata": {},
     "output_type": "execute_result"
    }
   ],
   "source": [
    "df_dea = get_deaths()\n",
    "df_dea.tail()"
   ]
  },
  {
   "cell_type": "code",
   "execution_count": 31,
   "metadata": {},
   "outputs": [],
   "source": [
    "close_data_dea = df_dea['Deaths'].values\n",
    "close_data_dea = close_data_dea.reshape((-1,1))\n",
    "\n",
    "split_percent = 0.80\n",
    "split = int(split_percent*len(close_data_dea))\n",
    "\n",
    "close_train_dea = close_data_dea[:split]\n",
    "close_test_dea = close_data_dea[split:]\n",
    "\n",
    "cclose_dea = close_data_dea"
   ]
  },
  {
   "cell_type": "code",
   "execution_count": 32,
   "metadata": {},
   "outputs": [],
   "source": [
    "look_back = 2\n",
    "\n",
    "train_generator_dea = TimeseriesGenerator(cclose_dea, cclose_dea, length=look_back, batch_size=20)     \n",
    "test_generator_dea = TimeseriesGenerator(close_test_dea, close_test_dea, length=look_back, batch_size=1)"
   ]
  },
  {
   "cell_type": "code",
   "execution_count": 33,
   "metadata": {},
   "outputs": [],
   "source": [
    "prediction_dea = model.predict_generator(test_generator_dea)\n",
    "\n",
    "cclose_dea = cclose_dea.reshape((-1))\n",
    "close_train_dea = close_train_dea.reshape((-1))\n",
    "close_test_dea = close_test_dea.reshape((-1))\n",
    "prediction_dea = prediction_dea.reshape((-1))"
   ]
  },
  {
   "cell_type": "code",
   "execution_count": 34,
   "metadata": {},
   "outputs": [],
   "source": [
    "close_data_dea = close_data_dea.reshape((-1))\n",
    "\n",
    "def predict(num_prediction, model):\n",
    "    prediction_list = close_data_dea[-look_back:]\n",
    "    \n",
    "    for _ in range(num_prediction):\n",
    "        x = prediction_list[-look_back:]\n",
    "        x = x.reshape((1, look_back, 1))\n",
    "        out = model.predict(x)[0][0]\n",
    "        prediction_list = np.append(prediction_list, out)\n",
    "    prediction_list = prediction_list[look_back-1:]\n",
    "        \n",
    "    return prediction_list\n",
    "num_prediction = 1\n",
    "forecast_dea = predict(num_prediction, model)\n",
    "forecast_dea = numbers[1]"
   ]
  },
  {
   "cell_type": "code",
   "execution_count": 35,
   "metadata": {},
   "outputs": [
    {
     "data": {
      "text/plain": [
       "398496"
      ]
     },
     "execution_count": 35,
     "metadata": {},
     "output_type": "execute_result"
    }
   ],
   "source": [
    "forecast_dea"
   ]
  },
  {
   "cell_type": "code",
   "execution_count": 36,
   "metadata": {},
   "outputs": [
    {
     "data": {
      "text/html": [
       "<div>\n",
       "<style scoped>\n",
       "    .dataframe tbody tr th:only-of-type {\n",
       "        vertical-align: middle;\n",
       "    }\n",
       "\n",
       "    .dataframe tbody tr th {\n",
       "        vertical-align: top;\n",
       "    }\n",
       "\n",
       "    .dataframe thead th {\n",
       "        text-align: right;\n",
       "    }\n",
       "</style>\n",
       "<table border=\"1\" class=\"dataframe\">\n",
       "  <thead>\n",
       "    <tr style=\"text-align: right;\">\n",
       "      <th></th>\n",
       "      <th>Deaths</th>\n",
       "    </tr>\n",
       "  </thead>\n",
       "  <tbody>\n",
       "    <tr>\n",
       "      <th>6/1/20</th>\n",
       "      <td>375543</td>\n",
       "    </tr>\n",
       "    <tr>\n",
       "      <th>6/2/20</th>\n",
       "      <td>380249</td>\n",
       "    </tr>\n",
       "    <tr>\n",
       "      <th>6/3/20</th>\n",
       "      <td>385947</td>\n",
       "    </tr>\n",
       "    <tr>\n",
       "      <th>6/4/20</th>\n",
       "      <td>391136</td>\n",
       "    </tr>\n",
       "    <tr>\n",
       "      <th>6/5/20</th>\n",
       "      <td>394875</td>\n",
       "    </tr>\n",
       "  </tbody>\n",
       "</table>\n",
       "</div>"
      ],
      "text/plain": [
       "        Deaths\n",
       "6/1/20  375543\n",
       "6/2/20  380249\n",
       "6/3/20  385947\n",
       "6/4/20  391136\n",
       "6/5/20  394875"
      ]
     },
     "execution_count": 36,
     "metadata": {},
     "output_type": "execute_result"
    }
   ],
   "source": [
    "df_dea.tail()"
   ]
  },
  {
   "cell_type": "code",
   "execution_count": 37,
   "metadata": {},
   "outputs": [
    {
     "data": {
      "text/plain": [
       "<matplotlib.legend.Legend at 0x7fc7bc0f1290>"
      ]
     },
     "execution_count": 37,
     "metadata": {},
     "output_type": "execute_result"
    },
    {
     "data": {
      "image/png": "[encoded data removed]",
      "text/plain": [
       "<Figure size 960x720 with 1 Axes>"
      ]
     },
     "metadata": {},
     "output_type": "display_data"
    }
   ],
   "source": [
    "from matplotlib.pyplot import figure\n",
    "figure(num=None, figsize=(12, 9), dpi=80, facecolor='w', edgecolor='k')\n",
    "plt.plot(df_dea, color='r', label='deaths')\n",
    "plt.legend(loc=\"upper left\")"
   ]
  },
  {
   "cell_type": "code",
   "execution_count": 38,
   "metadata": {},
   "outputs": [
    {
     "data": {
      "text/html": [
       "<div>\n",
       "<style scoped>\n",
       "    .dataframe tbody tr th:only-of-type {\n",
       "        vertical-align: middle;\n",
       "    }\n",
       "\n",
       "    .dataframe tbody tr th {\n",
       "        vertical-align: top;\n",
       "    }\n",
       "\n",
       "    .dataframe thead th {\n",
       "        text-align: right;\n",
       "    }\n",
       "</style>\n",
       "<table border=\"1\" class=\"dataframe\">\n",
       "  <thead>\n",
       "    <tr style=\"text-align: right;\">\n",
       "      <th></th>\n",
       "      <th>Deaths</th>\n",
       "    </tr>\n",
       "  </thead>\n",
       "  <tbody>\n",
       "    <tr>\n",
       "      <th>1/22/20</th>\n",
       "      <td>17</td>\n",
       "    </tr>\n",
       "    <tr>\n",
       "      <th>1/23/20</th>\n",
       "      <td>18</td>\n",
       "    </tr>\n",
       "    <tr>\n",
       "      <th>1/24/20</th>\n",
       "      <td>26</td>\n",
       "    </tr>\n",
       "    <tr>\n",
       "      <th>1/25/20</th>\n",
       "      <td>42</td>\n",
       "    </tr>\n",
       "    <tr>\n",
       "      <th>1/26/20</th>\n",
       "      <td>56</td>\n",
       "    </tr>\n",
       "    <tr>\n",
       "      <th>...</th>\n",
       "      <td>...</td>\n",
       "    </tr>\n",
       "    <tr>\n",
       "      <th>6/2/20</th>\n",
       "      <td>380249</td>\n",
       "    </tr>\n",
       "    <tr>\n",
       "      <th>6/3/20</th>\n",
       "      <td>385947</td>\n",
       "    </tr>\n",
       "    <tr>\n",
       "      <th>6/4/20</th>\n",
       "      <td>391136</td>\n",
       "    </tr>\n",
       "    <tr>\n",
       "      <th>6/5/20</th>\n",
       "      <td>394875</td>\n",
       "    </tr>\n",
       "    <tr>\n",
       "      <th>6/06/20</th>\n",
       "      <td>398496</td>\n",
       "    </tr>\n",
       "  </tbody>\n",
       "</table>\n",
       "<p>137 rows × 1 columns</p>\n",
       "</div>"
      ],
      "text/plain": [
       "         Deaths\n",
       "1/22/20      17\n",
       "1/23/20      18\n",
       "1/24/20      26\n",
       "1/25/20      42\n",
       "1/26/20      56\n",
       "...         ...\n",
       "6/2/20   380249\n",
       "6/3/20   385947\n",
       "6/4/20   391136\n",
       "6/5/20   394875\n",
       "6/06/20  398496\n",
       "\n",
       "[137 rows x 1 columns]"
      ]
     },
     "execution_count": 38,
     "metadata": {},
     "output_type": "execute_result"
    }
   ],
   "source": [
    "df_temp_dea = df_dea\n",
    "df_temp_dea.loc[d1] = forecast_dea\n",
    "df_temp_dea"
   ]
  },
  {
   "cell_type": "code",
   "execution_count": 39,
   "metadata": {},
   "outputs": [
    {
     "data": {
      "text/plain": [
       "<matplotlib.legend.Legend at 0x7fc7bc0f11d0>"
      ]
     },
     "execution_count": 39,
     "metadata": {},
     "output_type": "execute_result"
    },
    {
     "data": {
      "image/png": "[encoded data removed]",
      "text/plain": [
       "<Figure size 960x720 with 1 Axes>"
      ]
     },
     "metadata": {},
     "output_type": "display_data"
    }
   ],
   "source": [
    "from matplotlib.pyplot import figure\n",
    "figure(num=None, figsize=(12,9), dpi=80, facecolor='w', edgecolor='k')\n",
    "plt.plot(df_temp_dea[-7:], range(7), linestyle='--', marker='o', color='r', label='deaths')\n",
    "plt.legend(loc=\"upper left\")"
   ]
  }
 ],
 "metadata": {
  "kernelspec": {
   "display_name": "Python 3",
   "language": "python",
   "name": "python3"
  },
  "language_info": {
   "codemirror_mode": {
    "name": "ipython",
    "version": 3
   },
   "file_extension": ".py",
   "mimetype": "text/x-python",
   "name": "python",
   "nbconvert_exporter": "python",
   "pygments_lexer": "ipython3",
   "version": "3.7.7"
  }
 },
 "nbformat": 4,
 "nbformat_minor": 4
}
